{
 "cells": [
  {
   "cell_type": "markdown",
   "id": "59f0a29f-5a98-47c8-8666-0f0079911d17",
   "metadata": {},
   "source": [
    "## Pandas 介紹\n",
    "\n",
    "- pandas overview\n",
    "- pandas DataFrame\n",
    "- how to create DataFrame\n",
    "- accessing and modifying data"
   ]
  },
  {
   "cell_type": "markdown",
   "id": "03a78158-bc2c-4dbf-84fb-c03937ea082b",
   "metadata": {},
   "source": [
    "Pandas是一個Python語言的程式庫，提供資料分析的能力。資料處理經常以表格型式處理資料，如sql的關聯表或Excel的表格。Pandas提供載入、處理、計算、及分析表格化的資料，與matplotlib及seaborn結合提供資料視覺化能力。 Pandas的主要資料結構為資料框(DataFrame)是二維表格化資料結構，每行包含相同型態資料。DataFrame的結構包括列標籤(row labels)、欄位標籤(column labels，可視為欄位名稱)、及資料項目(data items)。以下為一個典型的資料框範例，描述學生資料\n",
    "\n",
    "|   |sid | name | phone | AI | datastructure | python\n",
    "|----|----|----|-----|-----|-------|----\n",
    "101 | 11375001 | 李大明 | 0922555123 | 66 | 86 | 69\n",
    "102 | 11375010 | 陳傑憲 | 0919123456 | 96 | 88 | 77\n",
    "103 | 11375022 | 林玉明 | 0955235743 | 88 | 77 | 66\n",
    "104 | 11375055 | 姜昆雨 | 0931239097 | 77 | 87 | 98\n",
    "105 | 11375199 | 陳辰威 | 0932098543 | 67 | 78 | 89\n",
    "\n",
    "- row labels: 101, 102, 103, .., 105\n",
    "- column labels: sid, name, phone, AI, datastructure, pyhton\n",
    "- data items: 每一筆(row)資料的內容"
   ]
  },
  {
   "cell_type": "markdown",
   "id": "41642e73-609c-4447-a776-15a7658051a8",
   "metadata": {},
   "source": [
    "<img src=\"e:/teaching/classMaterial/dataEngeering/data/dataframe1.png\" width=\"600\" height=\"700\"/>"
   ]
  },
  {
   "cell_type": "code",
   "execution_count": 2,
   "id": "fb93e866-d33c-4afa-b980-97381a648fc6",
   "metadata": {},
   "outputs": [],
   "source": [
    "# create table with dictionary\n",
    "student = {\n",
    "    'sid': ['11375001', '11375010', '11375022', '11375055', '11375199'],\n",
    "    'name': [ '李大明', '陳傑憲', '林玉明', '姜昆雨', '陳辰威'],\n",
    "    'phone': ['0922555123', '0919123456', '0955235743', '0931239097', '0932098543'],\n",
    "    'AI': [66, 96, 88, 77, 67],\n",
    "    'datastructure': [86, 88, 77, 87, 78],\n",
    "    'python': [69, 77, 66, 98, 89]\n",
    "}\n",
    "row_labels = [101, 102, 103, 104, 105]"
   ]
  },
  {
   "cell_type": "code",
   "execution_count": 3,
   "id": "5c8f661a-bd56-4229-ae54-c2eec5c32916",
   "metadata": {},
   "outputs": [],
   "source": [
    "#work with pandas by importing pandas\n",
    "import pandas as pd"
   ]
  },
  {
   "cell_type": "code",
   "execution_count": 4,
   "id": "5593cd89-830c-49d2-9e35-024c96b14da8",
   "metadata": {},
   "outputs": [],
   "source": [
    "#create DataFrame with DataFrame()\n",
    "df = pd.DataFrame(student, index=row_labels)"
   ]
  },
  {
   "cell_type": "code",
   "execution_count": 5,
   "id": "371a778f-4548-47d5-90b3-de5c33881f37",
   "metadata": {},
   "outputs": [
    {
     "data": {
      "text/html": [
       "<div>\n",
       "<style scoped>\n",
       "    .dataframe tbody tr th:only-of-type {\n",
       "        vertical-align: middle;\n",
       "    }\n",
       "\n",
       "    .dataframe tbody tr th {\n",
       "        vertical-align: top;\n",
       "    }\n",
       "\n",
       "    .dataframe thead th {\n",
       "        text-align: right;\n",
       "    }\n",
       "</style>\n",
       "<table border=\"1\" class=\"dataframe\">\n",
       "  <thead>\n",
       "    <tr style=\"text-align: right;\">\n",
       "      <th></th>\n",
       "      <th>sid</th>\n",
       "      <th>name</th>\n",
       "      <th>phone</th>\n",
       "      <th>AI</th>\n",
       "      <th>datastructure</th>\n",
       "      <th>python</th>\n",
       "    </tr>\n",
       "  </thead>\n",
       "  <tbody>\n",
       "    <tr>\n",
       "      <th>101</th>\n",
       "      <td>11375001</td>\n",
       "      <td>李大明</td>\n",
       "      <td>0922555123</td>\n",
       "      <td>66</td>\n",
       "      <td>86</td>\n",
       "      <td>69</td>\n",
       "    </tr>\n",
       "    <tr>\n",
       "      <th>102</th>\n",
       "      <td>11375010</td>\n",
       "      <td>陳傑憲</td>\n",
       "      <td>0919123456</td>\n",
       "      <td>96</td>\n",
       "      <td>88</td>\n",
       "      <td>77</td>\n",
       "    </tr>\n",
       "    <tr>\n",
       "      <th>103</th>\n",
       "      <td>11375022</td>\n",
       "      <td>林玉明</td>\n",
       "      <td>0955235743</td>\n",
       "      <td>88</td>\n",
       "      <td>77</td>\n",
       "      <td>66</td>\n",
       "    </tr>\n",
       "    <tr>\n",
       "      <th>104</th>\n",
       "      <td>11375055</td>\n",
       "      <td>姜昆雨</td>\n",
       "      <td>0931239097</td>\n",
       "      <td>77</td>\n",
       "      <td>87</td>\n",
       "      <td>98</td>\n",
       "    </tr>\n",
       "    <tr>\n",
       "      <th>105</th>\n",
       "      <td>11375199</td>\n",
       "      <td>陳辰威</td>\n",
       "      <td>0932098543</td>\n",
       "      <td>67</td>\n",
       "      <td>78</td>\n",
       "      <td>89</td>\n",
       "    </tr>\n",
       "  </tbody>\n",
       "</table>\n",
       "</div>"
      ],
      "text/plain": [
       "          sid name       phone  AI  datastructure  python\n",
       "101  11375001  李大明  0922555123  66             86      69\n",
       "102  11375010  陳傑憲  0919123456  96             88      77\n",
       "103  11375022  林玉明  0955235743  88             77      66\n",
       "104  11375055  姜昆雨  0931239097  77             87      98\n",
       "105  11375199  陳辰威  0932098543  67             78      89"
      ]
     },
     "execution_count": 5,
     "metadata": {},
     "output_type": "execute_result"
    }
   ],
   "source": [
    "df"
   ]
  },
  {
   "cell_type": "code",
   "execution_count": 7,
   "id": "bdf3aa9b-14af-486d-af67-5889ff243601",
   "metadata": {},
   "outputs": [
    {
     "data": {
      "text/plain": [
       "101    李大明\n",
       "102    陳傑憲\n",
       "103    林玉明\n",
       "104    姜昆雨\n",
       "105    陳辰威\n",
       "Name: name, dtype: object"
      ]
     },
     "execution_count": 7,
     "metadata": {},
     "output_type": "execute_result"
    }
   ],
   "source": [
    "df['name'] #same as df.name"
   ]
  },
  {
   "cell_type": "markdown",
   "id": "e437b408-d1fc-4762-a700-27cd8cee5c1c",
   "metadata": {},
   "source": [
    "資料框中每一欄資料為一個 `pandas.Series` 的物件，包含一維資料及列標籤"
   ]
  },
  {
   "cell_type": "code",
   "execution_count": 8,
   "id": "b2d969c1-3195-48bd-8578-c7e69085370d",
   "metadata": {},
   "outputs": [
    {
     "data": {
      "text/plain": [
       "sid                11375022\n",
       "name                    林玉明\n",
       "phone            0955235743\n",
       "AI                       88\n",
       "datastructure            77\n",
       "python                   66\n",
       "Name: 103, dtype: object"
      ]
     },
     "execution_count": 8,
     "metadata": {},
     "output_type": "execute_result"
    }
   ],
   "source": [
    "df.loc[103]"
   ]
  },
  {
   "cell_type": "markdown",
   "id": "6be27654-f46a-445f-b422-d33ef417916f",
   "metadata": {},
   "source": [
    "資料框的 .loc[x] 方法可用來讀取列標籤為x的資料內容，其輸出結構為一個 `pandas.Series`，輸出資料包含所有欄位名稱（欄標籤）"
   ]
  },
  {
   "cell_type": "markdown",
   "id": "59037869-9845-4a5e-907c-76b7f65eae76",
   "metadata": {},
   "source": [
    "## 建立DataFrame\n",
    "- dictionary\n",
    "- list\n",
    "- Numpy Array\n",
    "- files"
   ]
  },
  {
   "cell_type": "markdown",
   "id": "74ff2961-3d7d-4cc8-8b2d-536f68e55c4a",
   "metadata": {},
   "source": [
    "**建立資料框時要注意欄標籤、列標籤、及資料項**"
   ]
  },
  {
   "cell_type": "code",
   "execution_count": 10,
   "id": "5eba142b-9312-41db-aacb-62f8eeb9a132",
   "metadata": {},
   "outputs": [],
   "source": [
    "#create dataframe with list\n",
    "l = [[1, 2, 100],\n",
    "     [2, 4, 200],\n",
    "     [3, 5, 300]]\n"
   ]
  },
  {
   "cell_type": "code",
   "execution_count": 11,
   "id": "b80e616a-0fc8-407f-ba8d-23b36d2de603",
   "metadata": {},
   "outputs": [],
   "source": [
    "df1 = pd.DataFrame(l, columns=['x', 'y', 'z']) #加入 x, y, z 的欄位名稱"
   ]
  },
  {
   "cell_type": "code",
   "execution_count": 12,
   "id": "e9a5ecbb-3079-4cb0-80b4-a784de6349bc",
   "metadata": {},
   "outputs": [
    {
     "data": {
      "text/html": [
       "<div>\n",
       "<style scoped>\n",
       "    .dataframe tbody tr th:only-of-type {\n",
       "        vertical-align: middle;\n",
       "    }\n",
       "\n",
       "    .dataframe tbody tr th {\n",
       "        vertical-align: top;\n",
       "    }\n",
       "\n",
       "    .dataframe thead th {\n",
       "        text-align: right;\n",
       "    }\n",
       "</style>\n",
       "<table border=\"1\" class=\"dataframe\">\n",
       "  <thead>\n",
       "    <tr style=\"text-align: right;\">\n",
       "      <th></th>\n",
       "      <th>x</th>\n",
       "      <th>y</th>\n",
       "      <th>z</th>\n",
       "    </tr>\n",
       "  </thead>\n",
       "  <tbody>\n",
       "    <tr>\n",
       "      <th>0</th>\n",
       "      <td>1</td>\n",
       "      <td>2</td>\n",
       "      <td>100</td>\n",
       "    </tr>\n",
       "    <tr>\n",
       "      <th>1</th>\n",
       "      <td>2</td>\n",
       "      <td>4</td>\n",
       "      <td>200</td>\n",
       "    </tr>\n",
       "    <tr>\n",
       "      <th>2</th>\n",
       "      <td>3</td>\n",
       "      <td>5</td>\n",
       "      <td>300</td>\n",
       "    </tr>\n",
       "  </tbody>\n",
       "</table>\n",
       "</div>"
      ],
      "text/plain": [
       "   x  y    z\n",
       "0  1  2  100\n",
       "1  2  4  200\n",
       "2  3  5  300"
      ]
     },
     "execution_count": 12,
     "metadata": {},
     "output_type": "execute_result"
    }
   ],
   "source": [
    "df1"
   ]
  },
  {
   "cell_type": "markdown",
   "id": "5020fa81-1636-4b3e-bfed-bff2b40c80ec",
   "metadata": {},
   "source": [
    "row labels = [0, 1, 2], column labels = ['x', 'y', 'z']"
   ]
  },
  {
   "cell_type": "code",
   "execution_count": 13,
   "id": "25685bd2-c4e6-4ec4-8c9b-4c0aa0379bbe",
   "metadata": {},
   "outputs": [],
   "source": [
    "#create dataframe with numpy arrays\n",
    "import numpy as np\n",
    "arr = np.array([[1, 2, 200],\n",
    "               [2, 4, 400],\n",
    "               [3, 5, 500]])               "
   ]
  },
  {
   "cell_type": "code",
   "execution_count": 14,
   "id": "79eb9ae0-c828-4c01-b23f-718c26985539",
   "metadata": {},
   "outputs": [],
   "source": [
    "df2 = pd.DataFrame(arr, columns=['x', 'y', 'z'])"
   ]
  },
  {
   "cell_type": "code",
   "execution_count": 15,
   "id": "efbc0632-09b1-4ae7-bac1-929c76271581",
   "metadata": {},
   "outputs": [
    {
     "data": {
      "text/html": [
       "<div>\n",
       "<style scoped>\n",
       "    .dataframe tbody tr th:only-of-type {\n",
       "        vertical-align: middle;\n",
       "    }\n",
       "\n",
       "    .dataframe tbody tr th {\n",
       "        vertical-align: top;\n",
       "    }\n",
       "\n",
       "    .dataframe thead th {\n",
       "        text-align: right;\n",
       "    }\n",
       "</style>\n",
       "<table border=\"1\" class=\"dataframe\">\n",
       "  <thead>\n",
       "    <tr style=\"text-align: right;\">\n",
       "      <th></th>\n",
       "      <th>x</th>\n",
       "      <th>y</th>\n",
       "      <th>z</th>\n",
       "    </tr>\n",
       "  </thead>\n",
       "  <tbody>\n",
       "    <tr>\n",
       "      <th>0</th>\n",
       "      <td>1</td>\n",
       "      <td>2</td>\n",
       "      <td>200</td>\n",
       "    </tr>\n",
       "    <tr>\n",
       "      <th>1</th>\n",
       "      <td>2</td>\n",
       "      <td>4</td>\n",
       "      <td>400</td>\n",
       "    </tr>\n",
       "    <tr>\n",
       "      <th>2</th>\n",
       "      <td>3</td>\n",
       "      <td>5</td>\n",
       "      <td>500</td>\n",
       "    </tr>\n",
       "  </tbody>\n",
       "</table>\n",
       "</div>"
      ],
      "text/plain": [
       "   x  y    z\n",
       "0  1  2  200\n",
       "1  2  4  400\n",
       "2  3  5  500"
      ]
     },
     "execution_count": 15,
     "metadata": {},
     "output_type": "execute_result"
    }
   ],
   "source": [
    "df2"
   ]
  },
  {
   "cell_type": "code",
   "execution_count": 16,
   "id": "9252ee03-1a8b-458a-aa00-b6418a98fd9a",
   "metadata": {},
   "outputs": [],
   "source": [
    "arr[0,0] = 999 #copy option is set to False, if you modify the array, then your DataFrame will change too"
   ]
  },
  {
   "cell_type": "code",
   "execution_count": 17,
   "id": "f1cb42ff-4b01-4a3a-823c-68c365efd34c",
   "metadata": {},
   "outputs": [
    {
     "data": {
      "text/html": [
       "<div>\n",
       "<style scoped>\n",
       "    .dataframe tbody tr th:only-of-type {\n",
       "        vertical-align: middle;\n",
       "    }\n",
       "\n",
       "    .dataframe tbody tr th {\n",
       "        vertical-align: top;\n",
       "    }\n",
       "\n",
       "    .dataframe thead th {\n",
       "        text-align: right;\n",
       "    }\n",
       "</style>\n",
       "<table border=\"1\" class=\"dataframe\">\n",
       "  <thead>\n",
       "    <tr style=\"text-align: right;\">\n",
       "      <th></th>\n",
       "      <th>x</th>\n",
       "      <th>y</th>\n",
       "      <th>z</th>\n",
       "    </tr>\n",
       "  </thead>\n",
       "  <tbody>\n",
       "    <tr>\n",
       "      <th>0</th>\n",
       "      <td>999</td>\n",
       "      <td>2</td>\n",
       "      <td>200</td>\n",
       "    </tr>\n",
       "    <tr>\n",
       "      <th>1</th>\n",
       "      <td>2</td>\n",
       "      <td>4</td>\n",
       "      <td>400</td>\n",
       "    </tr>\n",
       "    <tr>\n",
       "      <th>2</th>\n",
       "      <td>3</td>\n",
       "      <td>5</td>\n",
       "      <td>500</td>\n",
       "    </tr>\n",
       "  </tbody>\n",
       "</table>\n",
       "</div>"
      ],
      "text/plain": [
       "     x  y    z\n",
       "0  999  2  200\n",
       "1    2  4  400\n",
       "2    3  5  500"
      ]
     },
     "execution_count": 17,
     "metadata": {},
     "output_type": "execute_result"
    }
   ],
   "source": [
    "df2"
   ]
  },
  {
   "cell_type": "code",
   "execution_count": 26,
   "id": "f964e0bc-0640-4fba-9ea2-a351d2d30463",
   "metadata": {},
   "outputs": [],
   "source": [
    "l[0][0] = 99 #in list no copy "
   ]
  },
  {
   "cell_type": "code",
   "execution_count": 28,
   "id": "fa4d955d-b5e7-45d7-a494-b5bb561ff1c1",
   "metadata": {},
   "outputs": [
    {
     "data": {
      "text/html": [
       "<div>\n",
       "<style scoped>\n",
       "    .dataframe tbody tr th:only-of-type {\n",
       "        vertical-align: middle;\n",
       "    }\n",
       "\n",
       "    .dataframe tbody tr th {\n",
       "        vertical-align: top;\n",
       "    }\n",
       "\n",
       "    .dataframe thead th {\n",
       "        text-align: right;\n",
       "    }\n",
       "</style>\n",
       "<table border=\"1\" class=\"dataframe\">\n",
       "  <thead>\n",
       "    <tr style=\"text-align: right;\">\n",
       "      <th></th>\n",
       "      <th>x</th>\n",
       "      <th>y</th>\n",
       "      <th>z</th>\n",
       "    </tr>\n",
       "  </thead>\n",
       "  <tbody>\n",
       "    <tr>\n",
       "      <th>0</th>\n",
       "      <td>1</td>\n",
       "      <td>2</td>\n",
       "      <td>100</td>\n",
       "    </tr>\n",
       "    <tr>\n",
       "      <th>1</th>\n",
       "      <td>2</td>\n",
       "      <td>4</td>\n",
       "      <td>200</td>\n",
       "    </tr>\n",
       "    <tr>\n",
       "      <th>2</th>\n",
       "      <td>3</td>\n",
       "      <td>5</td>\n",
       "      <td>300</td>\n",
       "    </tr>\n",
       "  </tbody>\n",
       "</table>\n",
       "</div>"
      ],
      "text/plain": [
       "   x  y    z\n",
       "0  1  2  100\n",
       "1  2  4  200\n",
       "2  3  5  300"
      ]
     },
     "execution_count": 28,
     "metadata": {},
     "output_type": "execute_result"
    }
   ],
   "source": [
    "df1"
   ]
  },
  {
   "cell_type": "markdown",
   "id": "760ac41a-e524-4faf-993f-6eac1c1dce87",
   "metadata": {},
   "source": [
    " ### 由.csv檔案建立資料框"
   ]
  },
  {
   "cell_type": "code",
   "execution_count": 31,
   "id": "00cddc57-9202-4eba-8848-4af8a8453ade",
   "metadata": {},
   "outputs": [],
   "source": [
    "# save dataframe to a csv file\n",
    "df.to_csv('data.csv')"
   ]
  },
  {
   "cell_type": "markdown",
   "id": "56edeca6-d5d4-4923-bb94-2dfb5a2c2cd6",
   "metadata": {},
   "source": [
    "data.csv\n",
    "\n",
    ",sid,name,phone,AI,datastructure,python<br>\n",
    "101,11375001,李大明,0922555123,66,86,69<br>\n",
    "102,11375010,陳傑憲,0919123456,96,88,77<br>\n",
    "103,11375022,林玉明,0955235743,88,77,66<br>\n",
    "104,11375055,姜昆雨,0931239097,77,87,98<br>\n",
    "105,11375199,陳辰威,0932098543,67,78,89"
   ]
  },
  {
   "cell_type": "code",
   "execution_count": 33,
   "id": "689e29d8-c642-4c25-99ca-f9edfe4cc154",
   "metadata": {},
   "outputs": [
    {
     "data": {
      "text/html": [
       "<div>\n",
       "<style scoped>\n",
       "    .dataframe tbody tr th:only-of-type {\n",
       "        vertical-align: middle;\n",
       "    }\n",
       "\n",
       "    .dataframe tbody tr th {\n",
       "        vertical-align: top;\n",
       "    }\n",
       "\n",
       "    .dataframe thead th {\n",
       "        text-align: right;\n",
       "    }\n",
       "</style>\n",
       "<table border=\"1\" class=\"dataframe\">\n",
       "  <thead>\n",
       "    <tr style=\"text-align: right;\">\n",
       "      <th></th>\n",
       "      <th>Unnamed: 0</th>\n",
       "      <th>sid</th>\n",
       "      <th>name</th>\n",
       "      <th>phone</th>\n",
       "      <th>AI</th>\n",
       "      <th>datastructure</th>\n",
       "      <th>python</th>\n",
       "    </tr>\n",
       "  </thead>\n",
       "  <tbody>\n",
       "    <tr>\n",
       "      <th>0</th>\n",
       "      <td>101</td>\n",
       "      <td>11375001</td>\n",
       "      <td>李大明</td>\n",
       "      <td>922555123</td>\n",
       "      <td>66</td>\n",
       "      <td>86</td>\n",
       "      <td>69</td>\n",
       "    </tr>\n",
       "    <tr>\n",
       "      <th>1</th>\n",
       "      <td>102</td>\n",
       "      <td>11375010</td>\n",
       "      <td>陳傑憲</td>\n",
       "      <td>919123456</td>\n",
       "      <td>96</td>\n",
       "      <td>88</td>\n",
       "      <td>77</td>\n",
       "    </tr>\n",
       "    <tr>\n",
       "      <th>2</th>\n",
       "      <td>103</td>\n",
       "      <td>11375022</td>\n",
       "      <td>林玉明</td>\n",
       "      <td>955235743</td>\n",
       "      <td>88</td>\n",
       "      <td>77</td>\n",
       "      <td>66</td>\n",
       "    </tr>\n",
       "    <tr>\n",
       "      <th>3</th>\n",
       "      <td>104</td>\n",
       "      <td>11375055</td>\n",
       "      <td>姜昆雨</td>\n",
       "      <td>931239097</td>\n",
       "      <td>77</td>\n",
       "      <td>87</td>\n",
       "      <td>98</td>\n",
       "    </tr>\n",
       "    <tr>\n",
       "      <th>4</th>\n",
       "      <td>105</td>\n",
       "      <td>11375199</td>\n",
       "      <td>陳辰威</td>\n",
       "      <td>932098543</td>\n",
       "      <td>67</td>\n",
       "      <td>78</td>\n",
       "      <td>89</td>\n",
       "    </tr>\n",
       "  </tbody>\n",
       "</table>\n",
       "</div>"
      ],
      "text/plain": [
       "   Unnamed: 0       sid name      phone  AI  datastructure  python\n",
       "0         101  11375001  李大明  922555123  66             86      69\n",
       "1         102  11375010  陳傑憲  919123456  96             88      77\n",
       "2         103  11375022  林玉明  955235743  88             77      66\n",
       "3         104  11375055  姜昆雨  931239097  77             87      98\n",
       "4         105  11375199  陳辰威  932098543  67             78      89"
      ]
     },
     "execution_count": 33,
     "metadata": {},
     "output_type": "execute_result"
    }
   ],
   "source": [
    "pd.read_csv('data.csv')"
   ]
  },
  {
   "cell_type": "code",
   "execution_count": 34,
   "id": "043b0999-f75d-4a72-a9c2-1450cc4a8428",
   "metadata": {},
   "outputs": [
    {
     "data": {
      "text/html": [
       "<div>\n",
       "<style scoped>\n",
       "    .dataframe tbody tr th:only-of-type {\n",
       "        vertical-align: middle;\n",
       "    }\n",
       "\n",
       "    .dataframe tbody tr th {\n",
       "        vertical-align: top;\n",
       "    }\n",
       "\n",
       "    .dataframe thead th {\n",
       "        text-align: right;\n",
       "    }\n",
       "</style>\n",
       "<table border=\"1\" class=\"dataframe\">\n",
       "  <thead>\n",
       "    <tr style=\"text-align: right;\">\n",
       "      <th></th>\n",
       "      <th>sid</th>\n",
       "      <th>name</th>\n",
       "      <th>phone</th>\n",
       "      <th>AI</th>\n",
       "      <th>datastructure</th>\n",
       "      <th>python</th>\n",
       "    </tr>\n",
       "  </thead>\n",
       "  <tbody>\n",
       "    <tr>\n",
       "      <th>101</th>\n",
       "      <td>11375001</td>\n",
       "      <td>李大明</td>\n",
       "      <td>922555123</td>\n",
       "      <td>66</td>\n",
       "      <td>86</td>\n",
       "      <td>69</td>\n",
       "    </tr>\n",
       "    <tr>\n",
       "      <th>102</th>\n",
       "      <td>11375010</td>\n",
       "      <td>陳傑憲</td>\n",
       "      <td>919123456</td>\n",
       "      <td>96</td>\n",
       "      <td>88</td>\n",
       "      <td>77</td>\n",
       "    </tr>\n",
       "    <tr>\n",
       "      <th>103</th>\n",
       "      <td>11375022</td>\n",
       "      <td>林玉明</td>\n",
       "      <td>955235743</td>\n",
       "      <td>88</td>\n",
       "      <td>77</td>\n",
       "      <td>66</td>\n",
       "    </tr>\n",
       "    <tr>\n",
       "      <th>104</th>\n",
       "      <td>11375055</td>\n",
       "      <td>姜昆雨</td>\n",
       "      <td>931239097</td>\n",
       "      <td>77</td>\n",
       "      <td>87</td>\n",
       "      <td>98</td>\n",
       "    </tr>\n",
       "    <tr>\n",
       "      <th>105</th>\n",
       "      <td>11375199</td>\n",
       "      <td>陳辰威</td>\n",
       "      <td>932098543</td>\n",
       "      <td>67</td>\n",
       "      <td>78</td>\n",
       "      <td>89</td>\n",
       "    </tr>\n",
       "  </tbody>\n",
       "</table>\n",
       "</div>"
      ],
      "text/plain": [
       "          sid name      phone  AI  datastructure  python\n",
       "101  11375001  李大明  922555123  66             86      69\n",
       "102  11375010  陳傑憲  919123456  96             88      77\n",
       "103  11375022  林玉明  955235743  88             77      66\n",
       "104  11375055  姜昆雨  931239097  77             87      98\n",
       "105  11375199  陳辰威  932098543  67             78      89"
      ]
     },
     "execution_count": 34,
     "metadata": {},
     "output_type": "execute_result"
    }
   ],
   "source": [
    "pd.read_csv(\"data.csv\", index_col=0) #index_col=0 定義第一欄為row labels"
   ]
  },
  {
   "cell_type": "markdown",
   "id": "07fac25b-329c-43ee-9d22-65c6f3e680fc",
   "metadata": {},
   "source": [
    "### dataframe 屬性"
   ]
  },
  {
   "cell_type": "code",
   "execution_count": 35,
   "id": "1e3b0c90-1d16-40b9-8b38-588e763fa23f",
   "metadata": {},
   "outputs": [
    {
     "data": {
      "text/plain": [
       "Index([101, 102, 103, 104, 105], dtype='int64')"
      ]
     },
     "execution_count": 35,
     "metadata": {},
     "output_type": "execute_result"
    }
   ],
   "source": [
    "df.index"
   ]
  },
  {
   "cell_type": "code",
   "execution_count": 36,
   "id": "b96dab69-f992-44ed-9e45-812ae59cf575",
   "metadata": {},
   "outputs": [
    {
     "data": {
      "text/plain": [
       "Index(['sid', 'name', 'phone', 'AI', 'datastructure', 'python'], dtype='object')"
      ]
     },
     "execution_count": 36,
     "metadata": {},
     "output_type": "execute_result"
    }
   ],
   "source": [
    "df.columns"
   ]
  },
  {
   "cell_type": "code",
   "execution_count": 37,
   "id": "7e0e8fe9-e8a4-4560-bb42-954c74077e37",
   "metadata": {},
   "outputs": [
    {
     "data": {
      "text/plain": [
       "'name'"
      ]
     },
     "execution_count": 37,
     "metadata": {},
     "output_type": "execute_result"
    }
   ],
   "source": [
    "df.columns[1]"
   ]
  },
  {
   "cell_type": "code",
   "execution_count": 38,
   "id": "baa0ece8-3ebe-4959-8186-92e1f4f43b1c",
   "metadata": {},
   "outputs": [],
   "source": [
    "df.index = np.arange(10, 15)"
   ]
  },
  {
   "cell_type": "code",
   "execution_count": 40,
   "id": "2b9cf555-77e7-4f5a-abf3-bebd0be61bf6",
   "metadata": {},
   "outputs": [
    {
     "data": {
      "text/html": [
       "<div>\n",
       "<style scoped>\n",
       "    .dataframe tbody tr th:only-of-type {\n",
       "        vertical-align: middle;\n",
       "    }\n",
       "\n",
       "    .dataframe tbody tr th {\n",
       "        vertical-align: top;\n",
       "    }\n",
       "\n",
       "    .dataframe thead th {\n",
       "        text-align: right;\n",
       "    }\n",
       "</style>\n",
       "<table border=\"1\" class=\"dataframe\">\n",
       "  <thead>\n",
       "    <tr style=\"text-align: right;\">\n",
       "      <th></th>\n",
       "      <th>sid</th>\n",
       "      <th>name</th>\n",
       "      <th>phone</th>\n",
       "      <th>AI</th>\n",
       "      <th>datastructure</th>\n",
       "      <th>python</th>\n",
       "    </tr>\n",
       "  </thead>\n",
       "  <tbody>\n",
       "    <tr>\n",
       "      <th>10</th>\n",
       "      <td>11375001</td>\n",
       "      <td>李大明</td>\n",
       "      <td>0922555123</td>\n",
       "      <td>66</td>\n",
       "      <td>86</td>\n",
       "      <td>69</td>\n",
       "    </tr>\n",
       "    <tr>\n",
       "      <th>11</th>\n",
       "      <td>11375010</td>\n",
       "      <td>陳傑憲</td>\n",
       "      <td>0919123456</td>\n",
       "      <td>96</td>\n",
       "      <td>88</td>\n",
       "      <td>77</td>\n",
       "    </tr>\n",
       "    <tr>\n",
       "      <th>12</th>\n",
       "      <td>11375022</td>\n",
       "      <td>林玉明</td>\n",
       "      <td>0955235743</td>\n",
       "      <td>88</td>\n",
       "      <td>77</td>\n",
       "      <td>66</td>\n",
       "    </tr>\n",
       "    <tr>\n",
       "      <th>13</th>\n",
       "      <td>11375055</td>\n",
       "      <td>姜昆雨</td>\n",
       "      <td>0931239097</td>\n",
       "      <td>77</td>\n",
       "      <td>87</td>\n",
       "      <td>98</td>\n",
       "    </tr>\n",
       "    <tr>\n",
       "      <th>14</th>\n",
       "      <td>11375199</td>\n",
       "      <td>陳辰威</td>\n",
       "      <td>0932098543</td>\n",
       "      <td>67</td>\n",
       "      <td>78</td>\n",
       "      <td>89</td>\n",
       "    </tr>\n",
       "  </tbody>\n",
       "</table>\n",
       "</div>"
      ],
      "text/plain": [
       "         sid name       phone  AI  datastructure  python\n",
       "10  11375001  李大明  0922555123  66             86      69\n",
       "11  11375010  陳傑憲  0919123456  96             88      77\n",
       "12  11375022  林玉明  0955235743  88             77      66\n",
       "13  11375055  姜昆雨  0931239097  77             87      98\n",
       "14  11375199  陳辰威  0932098543  67             78      89"
      ]
     },
     "execution_count": 40,
     "metadata": {},
     "output_type": "execute_result"
    }
   ],
   "source": [
    "df #note that row labels of df change to 10, 11, 12, 13, 14"
   ]
  },
  {
   "cell_type": "code",
   "execution_count": 42,
   "id": "9a4a3e61-c03d-4af6-812d-f9ad216556f4",
   "metadata": {},
   "outputs": [
    {
     "data": {
      "text/plain": [
       "array([['11375001', '李大明', '0922555123', 66, 86, 69],\n",
       "       ['11375010', '陳傑憲', '0919123456', 96, 88, 77],\n",
       "       ['11375022', '林玉明', '0955235743', 88, 77, 66],\n",
       "       ['11375055', '姜昆雨', '0931239097', 77, 87, 98],\n",
       "       ['11375199', '陳辰威', '0932098543', 67, 78, 89]], dtype=object)"
      ]
     },
     "execution_count": 42,
     "metadata": {},
     "output_type": "execute_result"
    }
   ],
   "source": [
    "# save dataframe to numpy array\n",
    "df.to_numpy()"
   ]
  },
  {
   "cell_type": "code",
   "execution_count": 43,
   "id": "e089e711-ed24-4a5c-8b7e-62658f4f098d",
   "metadata": {},
   "outputs": [
    {
     "data": {
      "text/plain": [
       "array([['11375001', '李大明', '0922555123', 66, 86, 69],\n",
       "       ['11375010', '陳傑憲', '0919123456', 96, 88, 77],\n",
       "       ['11375022', '林玉明', '0955235743', 88, 77, 66],\n",
       "       ['11375055', '姜昆雨', '0931239097', 77, 87, 98],\n",
       "       ['11375199', '陳辰威', '0932098543', 67, 78, 89]], dtype=object)"
      ]
     },
     "execution_count": 43,
     "metadata": {},
     "output_type": "execute_result"
    }
   ],
   "source": [
    "df.values"
   ]
  },
  {
   "cell_type": "code",
   "execution_count": 44,
   "id": "0cdcb578-b64e-4f54-8d80-6e8805d9f1f9",
   "metadata": {},
   "outputs": [
    {
     "data": {
      "text/plain": [
       "sid              object\n",
       "name             object\n",
       "phone            object\n",
       "AI                int64\n",
       "datastructure     int64\n",
       "python            int64\n",
       "dtype: object"
      ]
     },
     "execution_count": 44,
     "metadata": {},
     "output_type": "execute_result"
    }
   ],
   "source": [
    "df.dtypes # read data type of each column"
   ]
  },
  {
   "cell_type": "code",
   "execution_count": 46,
   "id": "ef2eb404-1758-464b-962f-6cc039508a0e",
   "metadata": {},
   "outputs": [],
   "source": [
    "df3 = df.astype(dtype={'AI': np.int32})"
   ]
  },
  {
   "cell_type": "code",
   "execution_count": 48,
   "id": "16356b18-4f42-4206-8f4b-4881c1ee9fc4",
   "metadata": {},
   "outputs": [
    {
     "data": {
      "text/plain": [
       "sid              object\n",
       "name             object\n",
       "phone            object\n",
       "AI                int32\n",
       "datastructure     int64\n",
       "python            int64\n",
       "dtype: object"
      ]
     },
     "execution_count": 48,
     "metadata": {},
     "output_type": "execute_result"
    }
   ],
   "source": [
    "df3.dtypes #AI屬性資料型別轉為int32"
   ]
  },
  {
   "cell_type": "markdown",
   "id": "d501d6c1-99f8-4eb7-9e5b-bb870ed06524",
   "metadata": {},
   "source": [
    "### dataframe size"
   ]
  },
  {
   "cell_type": "code",
   "execution_count": 49,
   "id": "cf2c3115-dfd9-4a0a-bb6a-ecd0d7f6ac57",
   "metadata": {},
   "outputs": [
    {
     "data": {
      "text/plain": [
       "2"
      ]
     },
     "execution_count": 49,
     "metadata": {},
     "output_type": "execute_result"
    }
   ],
   "source": [
    "df.ndim"
   ]
  },
  {
   "cell_type": "code",
   "execution_count": 53,
   "id": "e791ec9d-d4a3-4720-a675-23b21ce88800",
   "metadata": {},
   "outputs": [
    {
     "data": {
      "text/plain": [
       "(5, 6)"
      ]
     },
     "execution_count": 53,
     "metadata": {},
     "output_type": "execute_result"
    }
   ],
   "source": [
    "df.shape # 5rows by 6columns "
   ]
  },
  {
   "cell_type": "code",
   "execution_count": 54,
   "id": "101eb5c8-8faa-44f3-9a26-4da4a96ec408",
   "metadata": {},
   "outputs": [
    {
     "data": {
      "text/plain": [
       "30"
      ]
     },
     "execution_count": 54,
     "metadata": {},
     "output_type": "execute_result"
    }
   ],
   "source": [
    "df.size #total number of elements"
   ]
  },
  {
   "cell_type": "code",
   "execution_count": 55,
   "id": "7e68b62a-889a-4fd8-8815-c6d8f1ad4dd3",
   "metadata": {},
   "outputs": [
    {
     "data": {
      "text/plain": [
       "1"
      ]
     },
     "execution_count": 55,
     "metadata": {},
     "output_type": "execute_result"
    }
   ],
   "source": [
    "df['name'].ndim"
   ]
  },
  {
   "cell_type": "code",
   "execution_count": 56,
   "id": "b4355aa5-e350-4fb0-a33c-78254881e34b",
   "metadata": {},
   "outputs": [
    {
     "data": {
      "text/html": [
       "<div>\n",
       "<style scoped>\n",
       "    .dataframe tbody tr th:only-of-type {\n",
       "        vertical-align: middle;\n",
       "    }\n",
       "\n",
       "    .dataframe tbody tr th {\n",
       "        vertical-align: top;\n",
       "    }\n",
       "\n",
       "    .dataframe thead th {\n",
       "        text-align: right;\n",
       "    }\n",
       "</style>\n",
       "<table border=\"1\" class=\"dataframe\">\n",
       "  <thead>\n",
       "    <tr style=\"text-align: right;\">\n",
       "      <th></th>\n",
       "      <th>sid</th>\n",
       "      <th>name</th>\n",
       "      <th>phone</th>\n",
       "      <th>AI</th>\n",
       "      <th>datastructure</th>\n",
       "      <th>python</th>\n",
       "    </tr>\n",
       "  </thead>\n",
       "  <tbody>\n",
       "    <tr>\n",
       "      <th>10</th>\n",
       "      <td>11375001</td>\n",
       "      <td>李大明</td>\n",
       "      <td>0922555123</td>\n",
       "      <td>66</td>\n",
       "      <td>86</td>\n",
       "      <td>69</td>\n",
       "    </tr>\n",
       "    <tr>\n",
       "      <th>11</th>\n",
       "      <td>11375010</td>\n",
       "      <td>陳傑憲</td>\n",
       "      <td>0919123456</td>\n",
       "      <td>96</td>\n",
       "      <td>88</td>\n",
       "      <td>77</td>\n",
       "    </tr>\n",
       "    <tr>\n",
       "      <th>12</th>\n",
       "      <td>11375022</td>\n",
       "      <td>林玉明</td>\n",
       "      <td>0955235743</td>\n",
       "      <td>88</td>\n",
       "      <td>77</td>\n",
       "      <td>66</td>\n",
       "    </tr>\n",
       "    <tr>\n",
       "      <th>13</th>\n",
       "      <td>11375055</td>\n",
       "      <td>姜昆雨</td>\n",
       "      <td>0931239097</td>\n",
       "      <td>77</td>\n",
       "      <td>87</td>\n",
       "      <td>98</td>\n",
       "    </tr>\n",
       "    <tr>\n",
       "      <th>14</th>\n",
       "      <td>11375199</td>\n",
       "      <td>陳辰威</td>\n",
       "      <td>0932098543</td>\n",
       "      <td>67</td>\n",
       "      <td>78</td>\n",
       "      <td>89</td>\n",
       "    </tr>\n",
       "  </tbody>\n",
       "</table>\n",
       "</div>"
      ],
      "text/plain": [
       "         sid name       phone  AI  datastructure  python\n",
       "10  11375001  李大明  0922555123  66             86      69\n",
       "11  11375010  陳傑憲  0919123456  96             88      77\n",
       "12  11375022  林玉明  0955235743  88             77      66\n",
       "13  11375055  姜昆雨  0931239097  77             87      98\n",
       "14  11375199  陳辰威  0932098543  67             78      89"
      ]
     },
     "execution_count": 56,
     "metadata": {},
     "output_type": "execute_result"
    }
   ],
   "source": [
    "df"
   ]
  },
  {
   "cell_type": "markdown",
   "id": "32aac6e3-e86d-4fc0-b34d-8d6d333decaf",
   "metadata": {},
   "source": [
    "### 資料框資料存取及修改"
   ]
  },
  {
   "cell_type": "code",
   "execution_count": 57,
   "id": "a9d5600e-59ab-44d0-b34a-b7a6d50891fe",
   "metadata": {},
   "outputs": [
    {
     "data": {
      "text/plain": [
       "10    李大明\n",
       "11    陳傑憲\n",
       "12    林玉明\n",
       "13    姜昆雨\n",
       "14    陳辰威\n",
       "Name: name, dtype: object"
      ]
     },
     "execution_count": 57,
     "metadata": {},
     "output_type": "execute_result"
    }
   ],
   "source": [
    "df['name'] #read column data"
   ]
  },
  {
   "cell_type": "code",
   "execution_count": 58,
   "id": "58c9e4a0-8df2-4bbb-bece-c1ec4d7086b3",
   "metadata": {},
   "outputs": [
    {
     "data": {
      "text/plain": [
       "sid                11375022\n",
       "name                    林玉明\n",
       "phone            0955235743\n",
       "AI                       88\n",
       "datastructure            77\n",
       "python                   66\n",
       "Name: 12, dtype: object"
      ]
     },
     "execution_count": 58,
     "metadata": {},
     "output_type": "execute_result"
    }
   ],
   "source": [
    "df.loc[12] #read row data"
   ]
  },
  {
   "cell_type": "code",
   "execution_count": null,
   "id": "dea93603-9c71-421e-bfe3-9c31192a47a6",
   "metadata": {},
   "outputs": [],
   "source": [
    "df.iloc[12] #IndexError: single positional indexer is out-of-bounds"
   ]
  },
  {
   "cell_type": "code",
   "execution_count": 60,
   "id": "6cad230f-82da-4a4e-b996-78b4f0ba0e56",
   "metadata": {},
   "outputs": [
    {
     "data": {
      "text/plain": [
       "sid                11375001\n",
       "name                    李大明\n",
       "phone            0922555123\n",
       "AI                       66\n",
       "datastructure            86\n",
       "python                   69\n",
       "Name: 10, dtype: object"
      ]
     },
     "execution_count": 60,
     "metadata": {},
     "output_type": "execute_result"
    }
   ],
   "source": [
    "df.iloc[0]"
   ]
  },
  {
   "cell_type": "markdown",
   "id": "dd04886c-b89c-44d7-9bc3-02387590d915",
   "metadata": {},
   "source": [
    "- **.loc[]**: accessing data with row label and column label\n",
    "- **.iloc[]**: accessing data with row index and column index\n",
    "- **.at[]**: find out single value with rows and columns labels\n",
    "- **.iat[]**: find out single values with indeics of row and column"
   ]
  },
  {
   "cell_type": "code",
   "execution_count": 62,
   "id": "18bfa620-b40f-42fb-aec9-541f46ab6d61",
   "metadata": {},
   "outputs": [
    {
     "data": {
      "text/plain": [
       "'0919123456'"
      ]
     },
     "execution_count": 62,
     "metadata": {},
     "output_type": "execute_result"
    }
   ],
   "source": [
    "df.loc[11, 'phone']"
   ]
  },
  {
   "cell_type": "code",
   "execution_count": 63,
   "id": "5ee9a9d3-ce75-43ca-a4ad-f65ba9c87044",
   "metadata": {},
   "outputs": [
    {
     "data": {
      "text/plain": [
       "name            林玉明\n",
       "phone    0955235743\n",
       "AI               88\n",
       "Name: 12, dtype: object"
      ]
     },
     "execution_count": 63,
     "metadata": {},
     "output_type": "execute_result"
    }
   ],
   "source": [
    "df.loc[12, ['name','phone','AI']]"
   ]
  },
  {
   "cell_type": "code",
   "execution_count": 65,
   "id": "7be5fb1b-0861-411a-a7d0-25bf5bac5058",
   "metadata": {},
   "outputs": [
    {
     "data": {
      "text/html": [
       "<div>\n",
       "<style scoped>\n",
       "    .dataframe tbody tr th:only-of-type {\n",
       "        vertical-align: middle;\n",
       "    }\n",
       "\n",
       "    .dataframe tbody tr th {\n",
       "        vertical-align: top;\n",
       "    }\n",
       "\n",
       "    .dataframe thead th {\n",
       "        text-align: right;\n",
       "    }\n",
       "</style>\n",
       "<table border=\"1\" class=\"dataframe\">\n",
       "  <thead>\n",
       "    <tr style=\"text-align: right;\">\n",
       "      <th></th>\n",
       "      <th>name</th>\n",
       "      <th>phone</th>\n",
       "      <th>AI</th>\n",
       "    </tr>\n",
       "  </thead>\n",
       "  <tbody>\n",
       "    <tr>\n",
       "      <th>12</th>\n",
       "      <td>林玉明</td>\n",
       "      <td>0955235743</td>\n",
       "      <td>88</td>\n",
       "    </tr>\n",
       "    <tr>\n",
       "      <th>14</th>\n",
       "      <td>陳辰威</td>\n",
       "      <td>0932098543</td>\n",
       "      <td>67</td>\n",
       "    </tr>\n",
       "  </tbody>\n",
       "</table>\n",
       "</div>"
      ],
      "text/plain": [
       "   name       phone  AI\n",
       "12  林玉明  0955235743  88\n",
       "14  陳辰威  0932098543  67"
      ]
     },
     "execution_count": 65,
     "metadata": {},
     "output_type": "execute_result"
    }
   ],
   "source": [
    "df.loc[[12, 14], ['name','phone','AI']]"
   ]
  },
  {
   "cell_type": "code",
   "execution_count": 67,
   "id": "d4171479-ed4f-4387-8639-8282211647e8",
   "metadata": {},
   "outputs": [
    {
     "data": {
      "text/html": [
       "<div>\n",
       "<style scoped>\n",
       "    .dataframe tbody tr th:only-of-type {\n",
       "        vertical-align: middle;\n",
       "    }\n",
       "\n",
       "    .dataframe tbody tr th {\n",
       "        vertical-align: top;\n",
       "    }\n",
       "\n",
       "    .dataframe thead th {\n",
       "        text-align: right;\n",
       "    }\n",
       "</style>\n",
       "<table border=\"1\" class=\"dataframe\">\n",
       "  <thead>\n",
       "    <tr style=\"text-align: right;\">\n",
       "      <th></th>\n",
       "      <th>name</th>\n",
       "      <th>phone</th>\n",
       "      <th>datastructure</th>\n",
       "    </tr>\n",
       "  </thead>\n",
       "  <tbody>\n",
       "    <tr>\n",
       "      <th>11</th>\n",
       "      <td>陳傑憲</td>\n",
       "      <td>0919123456</td>\n",
       "      <td>88</td>\n",
       "    </tr>\n",
       "    <tr>\n",
       "      <th>12</th>\n",
       "      <td>林玉明</td>\n",
       "      <td>0955235743</td>\n",
       "      <td>77</td>\n",
       "    </tr>\n",
       "  </tbody>\n",
       "</table>\n",
       "</div>"
      ],
      "text/plain": [
       "   name       phone  datastructure\n",
       "11  陳傑憲  0919123456             88\n",
       "12  林玉明  0955235743             77"
      ]
     },
     "execution_count": 67,
     "metadata": {},
     "output_type": "execute_result"
    }
   ],
   "source": [
    "df.iloc[1:3, [1,2,4]]"
   ]
  },
  {
   "cell_type": "code",
   "execution_count": 68,
   "id": "029d013c-26aa-4cd6-82f5-e1e35718c8ad",
   "metadata": {},
   "outputs": [
    {
     "data": {
      "text/html": [
       "<div>\n",
       "<style scoped>\n",
       "    .dataframe tbody tr th:only-of-type {\n",
       "        vertical-align: middle;\n",
       "    }\n",
       "\n",
       "    .dataframe tbody tr th {\n",
       "        vertical-align: top;\n",
       "    }\n",
       "\n",
       "    .dataframe thead th {\n",
       "        text-align: right;\n",
       "    }\n",
       "</style>\n",
       "<table border=\"1\" class=\"dataframe\">\n",
       "  <thead>\n",
       "    <tr style=\"text-align: right;\">\n",
       "      <th></th>\n",
       "      <th>name</th>\n",
       "      <th>AI</th>\n",
       "      <th>python</th>\n",
       "    </tr>\n",
       "  </thead>\n",
       "  <tbody>\n",
       "    <tr>\n",
       "      <th>10</th>\n",
       "      <td>李大明</td>\n",
       "      <td>66</td>\n",
       "      <td>69</td>\n",
       "    </tr>\n",
       "    <tr>\n",
       "      <th>11</th>\n",
       "      <td>陳傑憲</td>\n",
       "      <td>96</td>\n",
       "      <td>77</td>\n",
       "    </tr>\n",
       "    <tr>\n",
       "      <th>12</th>\n",
       "      <td>林玉明</td>\n",
       "      <td>88</td>\n",
       "      <td>66</td>\n",
       "    </tr>\n",
       "    <tr>\n",
       "      <th>13</th>\n",
       "      <td>姜昆雨</td>\n",
       "      <td>77</td>\n",
       "      <td>98</td>\n",
       "    </tr>\n",
       "    <tr>\n",
       "      <th>14</th>\n",
       "      <td>陳辰威</td>\n",
       "      <td>67</td>\n",
       "      <td>89</td>\n",
       "    </tr>\n",
       "  </tbody>\n",
       "</table>\n",
       "</div>"
      ],
      "text/plain": [
       "   name  AI  python\n",
       "10  李大明  66      69\n",
       "11  陳傑憲  96      77\n",
       "12  林玉明  88      66\n",
       "13  姜昆雨  77      98\n",
       "14  陳辰威  67      89"
      ]
     },
     "execution_count": 68,
     "metadata": {},
     "output_type": "execute_result"
    }
   ],
   "source": [
    "df.iloc[:, [1, 3, 5]]"
   ]
  },
  {
   "cell_type": "code",
   "execution_count": 69,
   "id": "5e7e51d6-4487-45da-a607-81217478cd88",
   "metadata": {},
   "outputs": [
    {
     "data": {
      "text/html": [
       "<div>\n",
       "<style scoped>\n",
       "    .dataframe tbody tr th:only-of-type {\n",
       "        vertical-align: middle;\n",
       "    }\n",
       "\n",
       "    .dataframe tbody tr th {\n",
       "        vertical-align: top;\n",
       "    }\n",
       "\n",
       "    .dataframe thead th {\n",
       "        text-align: right;\n",
       "    }\n",
       "</style>\n",
       "<table border=\"1\" class=\"dataframe\">\n",
       "  <thead>\n",
       "    <tr style=\"text-align: right;\">\n",
       "      <th></th>\n",
       "      <th>name</th>\n",
       "      <th>AI</th>\n",
       "    </tr>\n",
       "  </thead>\n",
       "  <tbody>\n",
       "    <tr>\n",
       "      <th>11</th>\n",
       "      <td>陳傑憲</td>\n",
       "      <td>96</td>\n",
       "    </tr>\n",
       "    <tr>\n",
       "      <th>13</th>\n",
       "      <td>姜昆雨</td>\n",
       "      <td>77</td>\n",
       "    </tr>\n",
       "  </tbody>\n",
       "</table>\n",
       "</div>"
      ],
      "text/plain": [
       "   name  AI\n",
       "11  陳傑憲  96\n",
       "13  姜昆雨  77"
      ]
     },
     "execution_count": 69,
     "metadata": {},
     "output_type": "execute_result"
    }
   ],
   "source": [
    "df.iloc[1:6:2, [1,3]]"
   ]
  },
  {
   "cell_type": "code",
   "execution_count": 76,
   "id": "94d00e4f-fa16-4959-92ca-658d8d884773",
   "metadata": {},
   "outputs": [
    {
     "data": {
      "text/plain": [
       "11    陳傑憲\n",
       "13    姜昆雨\n",
       "Name: name, dtype: object"
      ]
     },
     "execution_count": 76,
     "metadata": {},
     "output_type": "execute_result"
    }
   ],
   "source": [
    "df.iloc[slice(1,6,2), 1]"
   ]
  },
  {
   "cell_type": "code",
   "execution_count": 77,
   "id": "98152e9e-be40-4fae-841f-f521fcb37d72",
   "metadata": {},
   "outputs": [
    {
     "data": {
      "text/plain": [
       "11    陳傑憲\n",
       "13    姜昆雨\n",
       "Name: name, dtype: object"
      ]
     },
     "execution_count": 77,
     "metadata": {},
     "output_type": "execute_result"
    }
   ],
   "source": [
    "df.iloc[np.s_[1:6:2],1]"
   ]
  },
  {
   "cell_type": "code",
   "execution_count": 78,
   "id": "2fc56b22-a14d-448b-9216-09f7ff3e12fb",
   "metadata": {},
   "outputs": [
    {
     "data": {
      "text/plain": [
       "11    陳傑憲\n",
       "13    姜昆雨\n",
       "Name: name, dtype: object"
      ]
     },
     "execution_count": 78,
     "metadata": {},
     "output_type": "execute_result"
    }
   ],
   "source": [
    "df.iloc[pd.IndexSlice[1:6:2],1]"
   ]
  },
  {
   "cell_type": "code",
   "execution_count": 79,
   "id": "58dc5d3c-a4ef-4e25-9298-052232a4b9d7",
   "metadata": {},
   "outputs": [
    {
     "data": {
      "text/plain": [
       "'林玉明'"
      ]
     },
     "execution_count": 79,
     "metadata": {},
     "output_type": "execute_result"
    }
   ],
   "source": [
    "df.at[12, 'name']"
   ]
  },
  {
   "cell_type": "code",
   "execution_count": 81,
   "id": "61f04f26-5f86-4e14-9e94-0b13bafa0241",
   "metadata": {},
   "outputs": [
    {
     "data": {
      "text/plain": [
       "'林玉明'"
      ]
     },
     "execution_count": 81,
     "metadata": {},
     "output_type": "execute_result"
    }
   ],
   "source": [
    "df.iat[2, 1]"
   ]
  },
  {
   "cell_type": "code",
   "execution_count": null,
   "id": "048e823b-58f0-4932-ab56-cb1ff91959cb",
   "metadata": {},
   "outputs": [],
   "source": []
  }
 ],
 "metadata": {
  "kernelspec": {
   "display_name": "Python 3 (ipykernel)",
   "language": "python",
   "name": "python3"
  },
  "language_info": {
   "codemirror_mode": {
    "name": "ipython",
    "version": 3
   },
   "file_extension": ".py",
   "mimetype": "text/x-python",
   "name": "python",
   "nbconvert_exporter": "python",
   "pygments_lexer": "ipython3",
   "version": "3.8.20"
  }
 },
 "nbformat": 4,
 "nbformat_minor": 5
}
