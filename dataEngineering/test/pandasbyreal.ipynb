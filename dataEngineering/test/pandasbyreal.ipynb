{
 "cells": [
  {
   "cell_type": "markdown",
   "id": "59f0a29f-5a98-47c8-8666-0f0079911d17",
   "metadata": {},
   "source": [
    "## Pandas 介紹\n",
    "\n",
    "- pandas overview\n",
    "- pandas DataFrame\n",
    "- how to create DataFrame\n",
    "- accessing and modifying data"
   ]
  },
  {
   "cell_type": "markdown",
   "id": "03a78158-bc2c-4dbf-84fb-c03937ea082b",
   "metadata": {},
   "source": [
    "Pandas是一個Python語言的程式庫，提供資料分析的能力。資料處理經常以表格型式處理資料，如sql的關聯表或Excel的表格。Pandas提供載入、處理、計算、及分析表格化的資料，與matplotlib及seaborn結合提供資料視覺化能力。 Pandas的主要資料結構為資料框(DataFrame)是二維表格化資料結構，每行包含相同型態資料。DataFrame的結構包括列標籤(row labels)、欄位標籤(column labels，可視為欄位名稱)、及資料項目(data items)。以下為一個典型的資料框範例，描述學生資料\n",
    "\n",
    "|   |sid | name | phone | AI | datastructure | python\n",
    "|----|----|----|-----|-----:|-------:|----:\n",
    "101 | 11375001 | 李大明 | 0922555123 | 66 | 86 | 69\n",
    "102 | 11375010 | 陳傑憲 | 0919123456 | 96 | 88 | 77\n",
    "103 | 11375022 | 林玉明 | 0955235743 | 88 | 77 | 66\n",
    "104 | 11375055 | 姜昆雨 | 0931239097 | 77 | 87 | 98\n",
    "105 | 11375199 | 陳辰威 | 0932098543 | 67 | 78 | 89\n",
    "\n",
    "- row labels: 101, 102, 103, .., 105\n",
    "- column labels: sid, name, phone, AI, datastructure, pyhton\n",
    "- data items: 每一筆(row)資料的內容"
   ]
  },
  {
   "cell_type": "markdown",
   "id": "41642e73-609c-4447-a776-15a7658051a8",
   "metadata": {},
   "source": [
    "<img src=\"dataframe1.png\" width=\"600\" height=\"ˋ400\"/>"
   ]
  },
  {
   "cell_type": "markdown",
   "id": "ee680bb8",
   "metadata": {},
   "source": [
    "- pandas適用於處理表格化的資料(資料表)\n",
    "- pandas的表格由 row labels, column labels, 及 data items 所組成\n",
    "- dataframe可以由 dictionary, list, 或表格化的檔案讀入建立(如.csv, sql, excel, ...)"
   ]
  },
  {
   "cell_type": "code",
   "execution_count": 1,
   "id": "fb93e866-d33c-4afa-b980-97381a648fc6",
   "metadata": {},
   "outputs": [],
   "source": [
    "# create table with dictionary\n",
    "student = {\n",
    "    'sid': ['11375001', '11375010', '11375022', '11375055', '11375199'],\n",
    "    'name': [ '李大明', '陳傑憲', '林玉明', '姜昆雨', '陳辰威'],\n",
    "    'phone': ['0922555123', '0919123456', '0955235743', '0931239097', '0932098543'],\n",
    "    'AI': [66, 96, 88, 77, 67],\n",
    "    'datastructure': [86, 88, 77, 87, 78],\n",
    "    'python': [69, 77, 66, 98, 89]\n",
    "}\n",
    "row_labels = [101, 102, 103, 104, 105]"
   ]
  },
  {
   "cell_type": "code",
   "execution_count": 2,
   "id": "5c8f661a-bd56-4229-ae54-c2eec5c32916",
   "metadata": {},
   "outputs": [],
   "source": [
    "#work with pandas by importing pandas\n",
    "import pandas as pd"
   ]
  },
  {
   "cell_type": "code",
   "execution_count": 3,
   "id": "5593cd89-830c-49d2-9e35-024c96b14da8",
   "metadata": {},
   "outputs": [],
   "source": [
    "#create DataFrame with DataFrame()\n",
    "df = pd.DataFrame(student, index=row_labels)"
   ]
  },
  {
   "cell_type": "code",
   "execution_count": 4,
   "id": "371a778f-4548-47d5-90b3-de5c33881f37",
   "metadata": {},
   "outputs": [
    {
     "data": {
      "text/html": [
       "<div>\n",
       "<style scoped>\n",
       "    .dataframe tbody tr th:only-of-type {\n",
       "        vertical-align: middle;\n",
       "    }\n",
       "\n",
       "    .dataframe tbody tr th {\n",
       "        vertical-align: top;\n",
       "    }\n",
       "\n",
       "    .dataframe thead th {\n",
       "        text-align: right;\n",
       "    }\n",
       "</style>\n",
       "<table border=\"1\" class=\"dataframe\">\n",
       "  <thead>\n",
       "    <tr style=\"text-align: right;\">\n",
       "      <th></th>\n",
       "      <th>sid</th>\n",
       "      <th>name</th>\n",
       "      <th>phone</th>\n",
       "      <th>AI</th>\n",
       "      <th>datastructure</th>\n",
       "      <th>python</th>\n",
       "    </tr>\n",
       "  </thead>\n",
       "  <tbody>\n",
       "    <tr>\n",
       "      <th>101</th>\n",
       "      <td>11375001</td>\n",
       "      <td>李大明</td>\n",
       "      <td>0922555123</td>\n",
       "      <td>66</td>\n",
       "      <td>86</td>\n",
       "      <td>69</td>\n",
       "    </tr>\n",
       "    <tr>\n",
       "      <th>102</th>\n",
       "      <td>11375010</td>\n",
       "      <td>陳傑憲</td>\n",
       "      <td>0919123456</td>\n",
       "      <td>96</td>\n",
       "      <td>88</td>\n",
       "      <td>77</td>\n",
       "    </tr>\n",
       "    <tr>\n",
       "      <th>103</th>\n",
       "      <td>11375022</td>\n",
       "      <td>林玉明</td>\n",
       "      <td>0955235743</td>\n",
       "      <td>88</td>\n",
       "      <td>77</td>\n",
       "      <td>66</td>\n",
       "    </tr>\n",
       "    <tr>\n",
       "      <th>104</th>\n",
       "      <td>11375055</td>\n",
       "      <td>姜昆雨</td>\n",
       "      <td>0931239097</td>\n",
       "      <td>77</td>\n",
       "      <td>87</td>\n",
       "      <td>98</td>\n",
       "    </tr>\n",
       "    <tr>\n",
       "      <th>105</th>\n",
       "      <td>11375199</td>\n",
       "      <td>陳辰威</td>\n",
       "      <td>0932098543</td>\n",
       "      <td>67</td>\n",
       "      <td>78</td>\n",
       "      <td>89</td>\n",
       "    </tr>\n",
       "  </tbody>\n",
       "</table>\n",
       "</div>"
      ],
      "text/plain": [
       "          sid name       phone  AI  datastructure  python\n",
       "101  11375001  李大明  0922555123  66             86      69\n",
       "102  11375010  陳傑憲  0919123456  96             88      77\n",
       "103  11375022  林玉明  0955235743  88             77      66\n",
       "104  11375055  姜昆雨  0931239097  77             87      98\n",
       "105  11375199  陳辰威  0932098543  67             78      89"
      ]
     },
     "execution_count": 4,
     "metadata": {},
     "output_type": "execute_result"
    }
   ],
   "source": [
    "df"
   ]
  },
  {
   "cell_type": "code",
   "execution_count": 5,
   "id": "bdf3aa9b-14af-486d-af67-5889ff243601",
   "metadata": {},
   "outputs": [
    {
     "data": {
      "text/plain": [
       "101    李大明\n",
       "102    陳傑憲\n",
       "103    林玉明\n",
       "104    姜昆雨\n",
       "105    陳辰威\n",
       "Name: name, dtype: object"
      ]
     },
     "execution_count": 5,
     "metadata": {},
     "output_type": "execute_result"
    }
   ],
   "source": [
    "#讀取某一欄資料\n",
    "df['name'] #same as df.name"
   ]
  },
  {
   "cell_type": "markdown",
   "id": "e437b408-d1fc-4762-a700-27cd8cee5c1c",
   "metadata": {},
   "source": [
    "資料框中每一欄資料為一個 `pandas.Series` 的物件，包含一維資料及列標籤"
   ]
  },
  {
   "cell_type": "code",
   "execution_count": 6,
   "id": "b2d969c1-3195-48bd-8578-c7e69085370d",
   "metadata": {},
   "outputs": [
    {
     "data": {
      "text/plain": [
       "sid                11375022\n",
       "name                    林玉明\n",
       "phone            0955235743\n",
       "AI                       88\n",
       "datastructure            77\n",
       "python                   66\n",
       "Name: 103, dtype: object"
      ]
     },
     "execution_count": 6,
     "metadata": {},
     "output_type": "execute_result"
    }
   ],
   "source": [
    "#讀取某一列資料\n",
    "df.loc[103]"
   ]
  },
  {
   "cell_type": "markdown",
   "id": "6be27654-f46a-445f-b422-d33ef417916f",
   "metadata": {},
   "source": [
    "資料框的 .loc[x] 方法可用來讀取列標籤為x的資料內容，其輸出結構為一個 `pandas.Series`，輸出資料包含所有欄位名稱（欄標籤）"
   ]
  },
  {
   "cell_type": "markdown",
   "id": "59037869-9845-4a5e-907c-76b7f65eae76",
   "metadata": {},
   "source": [
    "## 建立DataFrame\n",
    "- dictionary\n",
    "- list\n",
    "- Numpy Array\n",
    "- files"
   ]
  },
  {
   "cell_type": "markdown",
   "id": "74ff2961-3d7d-4cc8-8b2d-536f68e55c4a",
   "metadata": {},
   "source": [
    "**建立資料框時要注意欄標籤、列標籤、及資料項**"
   ]
  },
  {
   "cell_type": "code",
   "execution_count": 7,
   "id": "5eba142b-9312-41db-aacb-62f8eeb9a132",
   "metadata": {},
   "outputs": [],
   "source": [
    "#create dataframe with list\n",
    "l = [[1, 2, 100],\n",
    "     [2, 4, 200],\n",
    "     [3, 5, 300]]\n"
   ]
  },
  {
   "cell_type": "code",
   "execution_count": 8,
   "id": "b80e616a-0fc8-407f-ba8d-23b36d2de603",
   "metadata": {},
   "outputs": [],
   "source": [
    "df1 = pd.DataFrame(l, columns=['x', 'y', 'z']) #加入 x, y, z 的欄位名稱"
   ]
  },
  {
   "cell_type": "code",
   "execution_count": 9,
   "id": "e9a5ecbb-3079-4cb0-80b4-a784de6349bc",
   "metadata": {},
   "outputs": [
    {
     "data": {
      "text/html": [
       "<div>\n",
       "<style scoped>\n",
       "    .dataframe tbody tr th:only-of-type {\n",
       "        vertical-align: middle;\n",
       "    }\n",
       "\n",
       "    .dataframe tbody tr th {\n",
       "        vertical-align: top;\n",
       "    }\n",
       "\n",
       "    .dataframe thead th {\n",
       "        text-align: right;\n",
       "    }\n",
       "</style>\n",
       "<table border=\"1\" class=\"dataframe\">\n",
       "  <thead>\n",
       "    <tr style=\"text-align: right;\">\n",
       "      <th></th>\n",
       "      <th>x</th>\n",
       "      <th>y</th>\n",
       "      <th>z</th>\n",
       "    </tr>\n",
       "  </thead>\n",
       "  <tbody>\n",
       "    <tr>\n",
       "      <th>0</th>\n",
       "      <td>1</td>\n",
       "      <td>2</td>\n",
       "      <td>100</td>\n",
       "    </tr>\n",
       "    <tr>\n",
       "      <th>1</th>\n",
       "      <td>2</td>\n",
       "      <td>4</td>\n",
       "      <td>200</td>\n",
       "    </tr>\n",
       "    <tr>\n",
       "      <th>2</th>\n",
       "      <td>3</td>\n",
       "      <td>5</td>\n",
       "      <td>300</td>\n",
       "    </tr>\n",
       "  </tbody>\n",
       "</table>\n",
       "</div>"
      ],
      "text/plain": [
       "   x  y    z\n",
       "0  1  2  100\n",
       "1  2  4  200\n",
       "2  3  5  300"
      ]
     },
     "execution_count": 9,
     "metadata": {},
     "output_type": "execute_result"
    }
   ],
   "source": [
    "df1"
   ]
  },
  {
   "cell_type": "markdown",
   "id": "5020fa81-1636-4b3e-bfed-bff2b40c80ec",
   "metadata": {},
   "source": [
    "row labels = [0, 1, 2], column labels = ['x', 'y', 'z']"
   ]
  },
  {
   "cell_type": "code",
   "execution_count": 10,
   "id": "25685bd2-c4e6-4ec4-8c9b-4c0aa0379bbe",
   "metadata": {},
   "outputs": [],
   "source": [
    "#create dataframe with numpy arrays\n",
    "import numpy as np\n",
    "arr = np.array([[1, 2, 200],\n",
    "               [2, 4, 400],\n",
    "               [3, 5, 500]])               "
   ]
  },
  {
   "cell_type": "code",
   "execution_count": 11,
   "id": "79eb9ae0-c828-4c01-b23f-718c26985539",
   "metadata": {},
   "outputs": [],
   "source": [
    "df2 = pd.DataFrame(arr, columns=['x', 'y', 'z'])"
   ]
  },
  {
   "cell_type": "code",
   "execution_count": 12,
   "id": "efbc0632-09b1-4ae7-bac1-929c76271581",
   "metadata": {},
   "outputs": [
    {
     "data": {
      "text/html": [
       "<div>\n",
       "<style scoped>\n",
       "    .dataframe tbody tr th:only-of-type {\n",
       "        vertical-align: middle;\n",
       "    }\n",
       "\n",
       "    .dataframe tbody tr th {\n",
       "        vertical-align: top;\n",
       "    }\n",
       "\n",
       "    .dataframe thead th {\n",
       "        text-align: right;\n",
       "    }\n",
       "</style>\n",
       "<table border=\"1\" class=\"dataframe\">\n",
       "  <thead>\n",
       "    <tr style=\"text-align: right;\">\n",
       "      <th></th>\n",
       "      <th>x</th>\n",
       "      <th>y</th>\n",
       "      <th>z</th>\n",
       "    </tr>\n",
       "  </thead>\n",
       "  <tbody>\n",
       "    <tr>\n",
       "      <th>0</th>\n",
       "      <td>1</td>\n",
       "      <td>2</td>\n",
       "      <td>200</td>\n",
       "    </tr>\n",
       "    <tr>\n",
       "      <th>1</th>\n",
       "      <td>2</td>\n",
       "      <td>4</td>\n",
       "      <td>400</td>\n",
       "    </tr>\n",
       "    <tr>\n",
       "      <th>2</th>\n",
       "      <td>3</td>\n",
       "      <td>5</td>\n",
       "      <td>500</td>\n",
       "    </tr>\n",
       "  </tbody>\n",
       "</table>\n",
       "</div>"
      ],
      "text/plain": [
       "   x  y    z\n",
       "0  1  2  200\n",
       "1  2  4  400\n",
       "2  3  5  500"
      ]
     },
     "execution_count": 12,
     "metadata": {},
     "output_type": "execute_result"
    }
   ],
   "source": [
    "df2"
   ]
  },
  {
   "cell_type": "code",
   "execution_count": 13,
   "id": "9252ee03-1a8b-458a-aa00-b6418a98fd9a",
   "metadata": {},
   "outputs": [],
   "source": [
    "arr[0,0] = 999 #copy option is set to False, if you modify the array, then your DataFrame will change too"
   ]
  },
  {
   "cell_type": "code",
   "execution_count": 14,
   "id": "f1cb42ff-4b01-4a3a-823c-68c365efd34c",
   "metadata": {},
   "outputs": [
    {
     "data": {
      "text/html": [
       "<div>\n",
       "<style scoped>\n",
       "    .dataframe tbody tr th:only-of-type {\n",
       "        vertical-align: middle;\n",
       "    }\n",
       "\n",
       "    .dataframe tbody tr th {\n",
       "        vertical-align: top;\n",
       "    }\n",
       "\n",
       "    .dataframe thead th {\n",
       "        text-align: right;\n",
       "    }\n",
       "</style>\n",
       "<table border=\"1\" class=\"dataframe\">\n",
       "  <thead>\n",
       "    <tr style=\"text-align: right;\">\n",
       "      <th></th>\n",
       "      <th>x</th>\n",
       "      <th>y</th>\n",
       "      <th>z</th>\n",
       "    </tr>\n",
       "  </thead>\n",
       "  <tbody>\n",
       "    <tr>\n",
       "      <th>0</th>\n",
       "      <td>999</td>\n",
       "      <td>2</td>\n",
       "      <td>200</td>\n",
       "    </tr>\n",
       "    <tr>\n",
       "      <th>1</th>\n",
       "      <td>2</td>\n",
       "      <td>4</td>\n",
       "      <td>400</td>\n",
       "    </tr>\n",
       "    <tr>\n",
       "      <th>2</th>\n",
       "      <td>3</td>\n",
       "      <td>5</td>\n",
       "      <td>500</td>\n",
       "    </tr>\n",
       "  </tbody>\n",
       "</table>\n",
       "</div>"
      ],
      "text/plain": [
       "     x  y    z\n",
       "0  999  2  200\n",
       "1    2  4  400\n",
       "2    3  5  500"
      ]
     },
     "execution_count": 14,
     "metadata": {},
     "output_type": "execute_result"
    }
   ],
   "source": [
    "df2"
   ]
  },
  {
   "cell_type": "code",
   "execution_count": 15,
   "id": "f964e0bc-0640-4fba-9ea2-a351d2d30463",
   "metadata": {},
   "outputs": [],
   "source": [
    "l[0][0] = 99 #in list no copy "
   ]
  },
  {
   "cell_type": "code",
   "execution_count": 16,
   "id": "fa4d955d-b5e7-45d7-a494-b5bb561ff1c1",
   "metadata": {},
   "outputs": [
    {
     "data": {
      "text/html": [
       "<div>\n",
       "<style scoped>\n",
       "    .dataframe tbody tr th:only-of-type {\n",
       "        vertical-align: middle;\n",
       "    }\n",
       "\n",
       "    .dataframe tbody tr th {\n",
       "        vertical-align: top;\n",
       "    }\n",
       "\n",
       "    .dataframe thead th {\n",
       "        text-align: right;\n",
       "    }\n",
       "</style>\n",
       "<table border=\"1\" class=\"dataframe\">\n",
       "  <thead>\n",
       "    <tr style=\"text-align: right;\">\n",
       "      <th></th>\n",
       "      <th>x</th>\n",
       "      <th>y</th>\n",
       "      <th>z</th>\n",
       "    </tr>\n",
       "  </thead>\n",
       "  <tbody>\n",
       "    <tr>\n",
       "      <th>0</th>\n",
       "      <td>1</td>\n",
       "      <td>2</td>\n",
       "      <td>100</td>\n",
       "    </tr>\n",
       "    <tr>\n",
       "      <th>1</th>\n",
       "      <td>2</td>\n",
       "      <td>4</td>\n",
       "      <td>200</td>\n",
       "    </tr>\n",
       "    <tr>\n",
       "      <th>2</th>\n",
       "      <td>3</td>\n",
       "      <td>5</td>\n",
       "      <td>300</td>\n",
       "    </tr>\n",
       "  </tbody>\n",
       "</table>\n",
       "</div>"
      ],
      "text/plain": [
       "   x  y    z\n",
       "0  1  2  100\n",
       "1  2  4  200\n",
       "2  3  5  300"
      ]
     },
     "execution_count": 16,
     "metadata": {},
     "output_type": "execute_result"
    }
   ],
   "source": [
    "df1"
   ]
  },
  {
   "cell_type": "markdown",
   "id": "760ac41a-e524-4faf-993f-6eac1c1dce87",
   "metadata": {},
   "source": [
    " ### 由.csv檔案建立資料框"
   ]
  },
  {
   "cell_type": "code",
   "execution_count": 17,
   "id": "00cddc57-9202-4eba-8848-4af8a8453ade",
   "metadata": {},
   "outputs": [],
   "source": [
    "# save dataframe to a csv file\n",
    "df.to_csv('data.csv')"
   ]
  },
  {
   "cell_type": "markdown",
   "id": "56edeca6-d5d4-4923-bb94-2dfb5a2c2cd6",
   "metadata": {},
   "source": [
    "data.csv\n",
    "\n",
    ",sid,name,phone,AI,datastructure,python<br>\n",
    "101,11375001,李大明,0922555123,66,86,69<br>\n",
    "102,11375010,陳傑憲,0919123456,96,88,77<br>\n",
    "103,11375022,林玉明,0955235743,88,77,66<br>\n",
    "104,11375055,姜昆雨,0931239097,77,87,98<br>\n",
    "105,11375199,陳辰威,0932098543,67,78,89"
   ]
  },
  {
   "cell_type": "code",
   "execution_count": 18,
   "id": "689e29d8-c642-4c25-99ca-f9edfe4cc154",
   "metadata": {},
   "outputs": [
    {
     "data": {
      "text/html": [
       "<div>\n",
       "<style scoped>\n",
       "    .dataframe tbody tr th:only-of-type {\n",
       "        vertical-align: middle;\n",
       "    }\n",
       "\n",
       "    .dataframe tbody tr th {\n",
       "        vertical-align: top;\n",
       "    }\n",
       "\n",
       "    .dataframe thead th {\n",
       "        text-align: right;\n",
       "    }\n",
       "</style>\n",
       "<table border=\"1\" class=\"dataframe\">\n",
       "  <thead>\n",
       "    <tr style=\"text-align: right;\">\n",
       "      <th></th>\n",
       "      <th>Unnamed: 0</th>\n",
       "      <th>sid</th>\n",
       "      <th>name</th>\n",
       "      <th>phone</th>\n",
       "      <th>AI</th>\n",
       "      <th>datastructure</th>\n",
       "      <th>python</th>\n",
       "    </tr>\n",
       "  </thead>\n",
       "  <tbody>\n",
       "    <tr>\n",
       "      <th>0</th>\n",
       "      <td>101</td>\n",
       "      <td>11375001</td>\n",
       "      <td>李大明</td>\n",
       "      <td>922555123</td>\n",
       "      <td>66</td>\n",
       "      <td>86</td>\n",
       "      <td>69</td>\n",
       "    </tr>\n",
       "    <tr>\n",
       "      <th>1</th>\n",
       "      <td>102</td>\n",
       "      <td>11375010</td>\n",
       "      <td>陳傑憲</td>\n",
       "      <td>919123456</td>\n",
       "      <td>96</td>\n",
       "      <td>88</td>\n",
       "      <td>77</td>\n",
       "    </tr>\n",
       "    <tr>\n",
       "      <th>2</th>\n",
       "      <td>103</td>\n",
       "      <td>11375022</td>\n",
       "      <td>林玉明</td>\n",
       "      <td>955235743</td>\n",
       "      <td>88</td>\n",
       "      <td>77</td>\n",
       "      <td>66</td>\n",
       "    </tr>\n",
       "    <tr>\n",
       "      <th>3</th>\n",
       "      <td>104</td>\n",
       "      <td>11375055</td>\n",
       "      <td>姜昆雨</td>\n",
       "      <td>931239097</td>\n",
       "      <td>77</td>\n",
       "      <td>87</td>\n",
       "      <td>98</td>\n",
       "    </tr>\n",
       "    <tr>\n",
       "      <th>4</th>\n",
       "      <td>105</td>\n",
       "      <td>11375199</td>\n",
       "      <td>陳辰威</td>\n",
       "      <td>932098543</td>\n",
       "      <td>67</td>\n",
       "      <td>78</td>\n",
       "      <td>89</td>\n",
       "    </tr>\n",
       "  </tbody>\n",
       "</table>\n",
       "</div>"
      ],
      "text/plain": [
       "   Unnamed: 0       sid name      phone  AI  datastructure  python\n",
       "0         101  11375001  李大明  922555123  66             86      69\n",
       "1         102  11375010  陳傑憲  919123456  96             88      77\n",
       "2         103  11375022  林玉明  955235743  88             77      66\n",
       "3         104  11375055  姜昆雨  931239097  77             87      98\n",
       "4         105  11375199  陳辰威  932098543  67             78      89"
      ]
     },
     "execution_count": 18,
     "metadata": {},
     "output_type": "execute_result"
    }
   ],
   "source": [
    "pd.read_csv('data.csv')"
   ]
  },
  {
   "cell_type": "code",
   "execution_count": 19,
   "id": "043b0999-f75d-4a72-a9c2-1450cc4a8428",
   "metadata": {},
   "outputs": [
    {
     "data": {
      "text/html": [
       "<div>\n",
       "<style scoped>\n",
       "    .dataframe tbody tr th:only-of-type {\n",
       "        vertical-align: middle;\n",
       "    }\n",
       "\n",
       "    .dataframe tbody tr th {\n",
       "        vertical-align: top;\n",
       "    }\n",
       "\n",
       "    .dataframe thead th {\n",
       "        text-align: right;\n",
       "    }\n",
       "</style>\n",
       "<table border=\"1\" class=\"dataframe\">\n",
       "  <thead>\n",
       "    <tr style=\"text-align: right;\">\n",
       "      <th></th>\n",
       "      <th>sid</th>\n",
       "      <th>name</th>\n",
       "      <th>phone</th>\n",
       "      <th>AI</th>\n",
       "      <th>datastructure</th>\n",
       "      <th>python</th>\n",
       "    </tr>\n",
       "  </thead>\n",
       "  <tbody>\n",
       "    <tr>\n",
       "      <th>101</th>\n",
       "      <td>11375001</td>\n",
       "      <td>李大明</td>\n",
       "      <td>922555123</td>\n",
       "      <td>66</td>\n",
       "      <td>86</td>\n",
       "      <td>69</td>\n",
       "    </tr>\n",
       "    <tr>\n",
       "      <th>102</th>\n",
       "      <td>11375010</td>\n",
       "      <td>陳傑憲</td>\n",
       "      <td>919123456</td>\n",
       "      <td>96</td>\n",
       "      <td>88</td>\n",
       "      <td>77</td>\n",
       "    </tr>\n",
       "    <tr>\n",
       "      <th>103</th>\n",
       "      <td>11375022</td>\n",
       "      <td>林玉明</td>\n",
       "      <td>955235743</td>\n",
       "      <td>88</td>\n",
       "      <td>77</td>\n",
       "      <td>66</td>\n",
       "    </tr>\n",
       "    <tr>\n",
       "      <th>104</th>\n",
       "      <td>11375055</td>\n",
       "      <td>姜昆雨</td>\n",
       "      <td>931239097</td>\n",
       "      <td>77</td>\n",
       "      <td>87</td>\n",
       "      <td>98</td>\n",
       "    </tr>\n",
       "    <tr>\n",
       "      <th>105</th>\n",
       "      <td>11375199</td>\n",
       "      <td>陳辰威</td>\n",
       "      <td>932098543</td>\n",
       "      <td>67</td>\n",
       "      <td>78</td>\n",
       "      <td>89</td>\n",
       "    </tr>\n",
       "  </tbody>\n",
       "</table>\n",
       "</div>"
      ],
      "text/plain": [
       "          sid name      phone  AI  datastructure  python\n",
       "101  11375001  李大明  922555123  66             86      69\n",
       "102  11375010  陳傑憲  919123456  96             88      77\n",
       "103  11375022  林玉明  955235743  88             77      66\n",
       "104  11375055  姜昆雨  931239097  77             87      98\n",
       "105  11375199  陳辰威  932098543  67             78      89"
      ]
     },
     "execution_count": 19,
     "metadata": {},
     "output_type": "execute_result"
    }
   ],
   "source": [
    "pd.read_csv(\"data.csv\", index_col=0) #index_col=0 定義第一欄為row labels"
   ]
  },
  {
   "cell_type": "markdown",
   "id": "07fac25b-329c-43ee-9d22-65c6f3e680fc",
   "metadata": {},
   "source": [
    "### dataframe 屬性"
   ]
  },
  {
   "cell_type": "code",
   "execution_count": 20,
   "id": "1e3b0c90-1d16-40b9-8b38-588e763fa23f",
   "metadata": {},
   "outputs": [
    {
     "data": {
      "text/plain": [
       "Index([101, 102, 103, 104, 105], dtype='int64')"
      ]
     },
     "execution_count": 20,
     "metadata": {},
     "output_type": "execute_result"
    }
   ],
   "source": [
    "df.index"
   ]
  },
  {
   "cell_type": "code",
   "execution_count": 21,
   "id": "b96dab69-f992-44ed-9e45-812ae59cf575",
   "metadata": {},
   "outputs": [
    {
     "data": {
      "text/plain": [
       "Index(['sid', 'name', 'phone', 'AI', 'datastructure', 'python'], dtype='object')"
      ]
     },
     "execution_count": 21,
     "metadata": {},
     "output_type": "execute_result"
    }
   ],
   "source": [
    "df.columns"
   ]
  },
  {
   "cell_type": "code",
   "execution_count": 22,
   "id": "7e0e8fe9-e8a4-4560-bb42-954c74077e37",
   "metadata": {},
   "outputs": [
    {
     "data": {
      "text/plain": [
       "'name'"
      ]
     },
     "execution_count": 22,
     "metadata": {},
     "output_type": "execute_result"
    }
   ],
   "source": [
    "df.columns[1]"
   ]
  },
  {
   "cell_type": "code",
   "execution_count": 23,
   "id": "baa0ece8-3ebe-4959-8186-92e1f4f43b1c",
   "metadata": {},
   "outputs": [],
   "source": [
    "df.index = np.arange(10, 15)"
   ]
  },
  {
   "cell_type": "code",
   "execution_count": 24,
   "id": "2b9cf555-77e7-4f5a-abf3-bebd0be61bf6",
   "metadata": {},
   "outputs": [
    {
     "data": {
      "text/html": [
       "<div>\n",
       "<style scoped>\n",
       "    .dataframe tbody tr th:only-of-type {\n",
       "        vertical-align: middle;\n",
       "    }\n",
       "\n",
       "    .dataframe tbody tr th {\n",
       "        vertical-align: top;\n",
       "    }\n",
       "\n",
       "    .dataframe thead th {\n",
       "        text-align: right;\n",
       "    }\n",
       "</style>\n",
       "<table border=\"1\" class=\"dataframe\">\n",
       "  <thead>\n",
       "    <tr style=\"text-align: right;\">\n",
       "      <th></th>\n",
       "      <th>sid</th>\n",
       "      <th>name</th>\n",
       "      <th>phone</th>\n",
       "      <th>AI</th>\n",
       "      <th>datastructure</th>\n",
       "      <th>python</th>\n",
       "    </tr>\n",
       "  </thead>\n",
       "  <tbody>\n",
       "    <tr>\n",
       "      <th>10</th>\n",
       "      <td>11375001</td>\n",
       "      <td>李大明</td>\n",
       "      <td>0922555123</td>\n",
       "      <td>66</td>\n",
       "      <td>86</td>\n",
       "      <td>69</td>\n",
       "    </tr>\n",
       "    <tr>\n",
       "      <th>11</th>\n",
       "      <td>11375010</td>\n",
       "      <td>陳傑憲</td>\n",
       "      <td>0919123456</td>\n",
       "      <td>96</td>\n",
       "      <td>88</td>\n",
       "      <td>77</td>\n",
       "    </tr>\n",
       "    <tr>\n",
       "      <th>12</th>\n",
       "      <td>11375022</td>\n",
       "      <td>林玉明</td>\n",
       "      <td>0955235743</td>\n",
       "      <td>88</td>\n",
       "      <td>77</td>\n",
       "      <td>66</td>\n",
       "    </tr>\n",
       "    <tr>\n",
       "      <th>13</th>\n",
       "      <td>11375055</td>\n",
       "      <td>姜昆雨</td>\n",
       "      <td>0931239097</td>\n",
       "      <td>77</td>\n",
       "      <td>87</td>\n",
       "      <td>98</td>\n",
       "    </tr>\n",
       "    <tr>\n",
       "      <th>14</th>\n",
       "      <td>11375199</td>\n",
       "      <td>陳辰威</td>\n",
       "      <td>0932098543</td>\n",
       "      <td>67</td>\n",
       "      <td>78</td>\n",
       "      <td>89</td>\n",
       "    </tr>\n",
       "  </tbody>\n",
       "</table>\n",
       "</div>"
      ],
      "text/plain": [
       "         sid name       phone  AI  datastructure  python\n",
       "10  11375001  李大明  0922555123  66             86      69\n",
       "11  11375010  陳傑憲  0919123456  96             88      77\n",
       "12  11375022  林玉明  0955235743  88             77      66\n",
       "13  11375055  姜昆雨  0931239097  77             87      98\n",
       "14  11375199  陳辰威  0932098543  67             78      89"
      ]
     },
     "execution_count": 24,
     "metadata": {},
     "output_type": "execute_result"
    }
   ],
   "source": [
    "df #note that row labels of df change to 10, 11, 12, 13, 14"
   ]
  },
  {
   "cell_type": "code",
   "execution_count": 25,
   "id": "9a4a3e61-c03d-4af6-812d-f9ad216556f4",
   "metadata": {},
   "outputs": [
    {
     "data": {
      "text/plain": [
       "array([['11375001', '李大明', '0922555123', 66, 86, 69],\n",
       "       ['11375010', '陳傑憲', '0919123456', 96, 88, 77],\n",
       "       ['11375022', '林玉明', '0955235743', 88, 77, 66],\n",
       "       ['11375055', '姜昆雨', '0931239097', 77, 87, 98],\n",
       "       ['11375199', '陳辰威', '0932098543', 67, 78, 89]], dtype=object)"
      ]
     },
     "execution_count": 25,
     "metadata": {},
     "output_type": "execute_result"
    }
   ],
   "source": [
    "# save dataframe to numpy array\n",
    "df.to_numpy()"
   ]
  },
  {
   "cell_type": "code",
   "execution_count": 26,
   "id": "e089e711-ed24-4a5c-8b7e-62658f4f098d",
   "metadata": {},
   "outputs": [
    {
     "data": {
      "text/plain": [
       "array([['11375001', '李大明', '0922555123', 66, 86, 69],\n",
       "       ['11375010', '陳傑憲', '0919123456', 96, 88, 77],\n",
       "       ['11375022', '林玉明', '0955235743', 88, 77, 66],\n",
       "       ['11375055', '姜昆雨', '0931239097', 77, 87, 98],\n",
       "       ['11375199', '陳辰威', '0932098543', 67, 78, 89]], dtype=object)"
      ]
     },
     "execution_count": 26,
     "metadata": {},
     "output_type": "execute_result"
    }
   ],
   "source": [
    "df.values"
   ]
  },
  {
   "cell_type": "code",
   "execution_count": 27,
   "id": "0cdcb578-b64e-4f54-8d80-6e8805d9f1f9",
   "metadata": {},
   "outputs": [
    {
     "data": {
      "text/plain": [
       "sid              object\n",
       "name             object\n",
       "phone            object\n",
       "AI                int64\n",
       "datastructure     int64\n",
       "python            int64\n",
       "dtype: object"
      ]
     },
     "execution_count": 27,
     "metadata": {},
     "output_type": "execute_result"
    }
   ],
   "source": [
    "df.dtypes # read data type of each column"
   ]
  },
  {
   "cell_type": "code",
   "execution_count": 28,
   "id": "ef2eb404-1758-464b-962f-6cc039508a0e",
   "metadata": {},
   "outputs": [],
   "source": [
    "df3 = df.astype(dtype={'AI': np.int32})"
   ]
  },
  {
   "cell_type": "code",
   "execution_count": 29,
   "id": "16356b18-4f42-4206-8f4b-4881c1ee9fc4",
   "metadata": {},
   "outputs": [
    {
     "data": {
      "text/plain": [
       "sid              object\n",
       "name             object\n",
       "phone            object\n",
       "AI                int32\n",
       "datastructure     int64\n",
       "python            int64\n",
       "dtype: object"
      ]
     },
     "execution_count": 29,
     "metadata": {},
     "output_type": "execute_result"
    }
   ],
   "source": [
    "df3.dtypes #AI屬性資料型別轉為int32"
   ]
  },
  {
   "cell_type": "markdown",
   "id": "d501d6c1-99f8-4eb7-9e5b-bb870ed06524",
   "metadata": {},
   "source": [
    "### dataframe size"
   ]
  },
  {
   "cell_type": "code",
   "execution_count": 30,
   "id": "cf2c3115-dfd9-4a0a-bb6a-ecd0d7f6ac57",
   "metadata": {},
   "outputs": [
    {
     "data": {
      "text/plain": [
       "2"
      ]
     },
     "execution_count": 30,
     "metadata": {},
     "output_type": "execute_result"
    }
   ],
   "source": [
    "df.ndim"
   ]
  },
  {
   "cell_type": "code",
   "execution_count": 31,
   "id": "e791ec9d-d4a3-4720-a675-23b21ce88800",
   "metadata": {},
   "outputs": [
    {
     "data": {
      "text/plain": [
       "(5, 6)"
      ]
     },
     "execution_count": 31,
     "metadata": {},
     "output_type": "execute_result"
    }
   ],
   "source": [
    "df.shape # 5rows by 6columns "
   ]
  },
  {
   "cell_type": "code",
   "execution_count": 32,
   "id": "101eb5c8-8faa-44f3-9a26-4da4a96ec408",
   "metadata": {},
   "outputs": [
    {
     "data": {
      "text/plain": [
       "30"
      ]
     },
     "execution_count": 32,
     "metadata": {},
     "output_type": "execute_result"
    }
   ],
   "source": [
    "df.size #total number of elements"
   ]
  },
  {
   "cell_type": "code",
   "execution_count": 33,
   "id": "7e68b62a-889a-4fd8-8815-c6d8f1ad4dd3",
   "metadata": {},
   "outputs": [
    {
     "data": {
      "text/plain": [
       "1"
      ]
     },
     "execution_count": 33,
     "metadata": {},
     "output_type": "execute_result"
    }
   ],
   "source": [
    "df['name'].ndim"
   ]
  },
  {
   "cell_type": "code",
   "execution_count": 34,
   "id": "b4355aa5-e350-4fb0-a33c-78254881e34b",
   "metadata": {},
   "outputs": [
    {
     "data": {
      "text/html": [
       "<div>\n",
       "<style scoped>\n",
       "    .dataframe tbody tr th:only-of-type {\n",
       "        vertical-align: middle;\n",
       "    }\n",
       "\n",
       "    .dataframe tbody tr th {\n",
       "        vertical-align: top;\n",
       "    }\n",
       "\n",
       "    .dataframe thead th {\n",
       "        text-align: right;\n",
       "    }\n",
       "</style>\n",
       "<table border=\"1\" class=\"dataframe\">\n",
       "  <thead>\n",
       "    <tr style=\"text-align: right;\">\n",
       "      <th></th>\n",
       "      <th>sid</th>\n",
       "      <th>name</th>\n",
       "      <th>phone</th>\n",
       "      <th>AI</th>\n",
       "      <th>datastructure</th>\n",
       "      <th>python</th>\n",
       "    </tr>\n",
       "  </thead>\n",
       "  <tbody>\n",
       "    <tr>\n",
       "      <th>10</th>\n",
       "      <td>11375001</td>\n",
       "      <td>李大明</td>\n",
       "      <td>0922555123</td>\n",
       "      <td>66</td>\n",
       "      <td>86</td>\n",
       "      <td>69</td>\n",
       "    </tr>\n",
       "    <tr>\n",
       "      <th>11</th>\n",
       "      <td>11375010</td>\n",
       "      <td>陳傑憲</td>\n",
       "      <td>0919123456</td>\n",
       "      <td>96</td>\n",
       "      <td>88</td>\n",
       "      <td>77</td>\n",
       "    </tr>\n",
       "    <tr>\n",
       "      <th>12</th>\n",
       "      <td>11375022</td>\n",
       "      <td>林玉明</td>\n",
       "      <td>0955235743</td>\n",
       "      <td>88</td>\n",
       "      <td>77</td>\n",
       "      <td>66</td>\n",
       "    </tr>\n",
       "    <tr>\n",
       "      <th>13</th>\n",
       "      <td>11375055</td>\n",
       "      <td>姜昆雨</td>\n",
       "      <td>0931239097</td>\n",
       "      <td>77</td>\n",
       "      <td>87</td>\n",
       "      <td>98</td>\n",
       "    </tr>\n",
       "    <tr>\n",
       "      <th>14</th>\n",
       "      <td>11375199</td>\n",
       "      <td>陳辰威</td>\n",
       "      <td>0932098543</td>\n",
       "      <td>67</td>\n",
       "      <td>78</td>\n",
       "      <td>89</td>\n",
       "    </tr>\n",
       "  </tbody>\n",
       "</table>\n",
       "</div>"
      ],
      "text/plain": [
       "         sid name       phone  AI  datastructure  python\n",
       "10  11375001  李大明  0922555123  66             86      69\n",
       "11  11375010  陳傑憲  0919123456  96             88      77\n",
       "12  11375022  林玉明  0955235743  88             77      66\n",
       "13  11375055  姜昆雨  0931239097  77             87      98\n",
       "14  11375199  陳辰威  0932098543  67             78      89"
      ]
     },
     "execution_count": 34,
     "metadata": {},
     "output_type": "execute_result"
    }
   ],
   "source": [
    "df"
   ]
  },
  {
   "cell_type": "markdown",
   "id": "32aac6e3-e86d-4fc0-b34d-8d6d333decaf",
   "metadata": {},
   "source": [
    "### 資料框資料讀取及修改"
   ]
  },
  {
   "cell_type": "code",
   "execution_count": 35,
   "id": "a9d5600e-59ab-44d0-b34a-b7a6d50891fe",
   "metadata": {},
   "outputs": [
    {
     "data": {
      "text/plain": [
       "10    李大明\n",
       "11    陳傑憲\n",
       "12    林玉明\n",
       "13    姜昆雨\n",
       "14    陳辰威\n",
       "Name: name, dtype: object"
      ]
     },
     "execution_count": 35,
     "metadata": {},
     "output_type": "execute_result"
    }
   ],
   "source": [
    "df['name'] #read column data"
   ]
  },
  {
   "cell_type": "code",
   "execution_count": 36,
   "id": "58c9e4a0-8df2-4bbb-bece-c1ec4d7086b3",
   "metadata": {},
   "outputs": [
    {
     "data": {
      "text/plain": [
       "sid                11375022\n",
       "name                    林玉明\n",
       "phone            0955235743\n",
       "AI                       88\n",
       "datastructure            77\n",
       "python                   66\n",
       "Name: 12, dtype: object"
      ]
     },
     "execution_count": 36,
     "metadata": {},
     "output_type": "execute_result"
    }
   ],
   "source": [
    "df.loc[12] #read row data"
   ]
  },
  {
   "cell_type": "markdown",
   "id": "dea93603-9c71-421e-bfe3-9c31192a47a6",
   "metadata": {},
   "source": [
    "`df.iloc[12]` #IndexError: single positional indexer is out-of-bounds"
   ]
  },
  {
   "cell_type": "code",
   "execution_count": 37,
   "id": "6cad230f-82da-4a4e-b996-78b4f0ba0e56",
   "metadata": {},
   "outputs": [
    {
     "data": {
      "text/plain": [
       "sid                11375001\n",
       "name                    李大明\n",
       "phone            0922555123\n",
       "AI                       66\n",
       "datastructure            86\n",
       "python                   69\n",
       "Name: 10, dtype: object"
      ]
     },
     "execution_count": 37,
     "metadata": {},
     "output_type": "execute_result"
    }
   ],
   "source": [
    "df.iloc[0]"
   ]
  },
  {
   "cell_type": "markdown",
   "id": "dd04886c-b89c-44d7-9bc3-02387590d915",
   "metadata": {},
   "source": [
    "- **.loc[]**: accessing data with row label and column label\n",
    "- **.iloc[]**: accessing data with row index and column index\n",
    "- **.at[]**: find out single value with rows and columns labels\n",
    "- **.iat[]**: find out single values with indeics of row and column"
   ]
  },
  {
   "cell_type": "code",
   "execution_count": 38,
   "id": "18bfa620-b40f-42fb-aec9-541f46ab6d61",
   "metadata": {},
   "outputs": [
    {
     "data": {
      "text/plain": [
       "'0919123456'"
      ]
     },
     "execution_count": 38,
     "metadata": {},
     "output_type": "execute_result"
    }
   ],
   "source": [
    "df.loc[11, 'phone']"
   ]
  },
  {
   "cell_type": "code",
   "execution_count": 39,
   "id": "5ee9a9d3-ce75-43ca-a4ad-f65ba9c87044",
   "metadata": {},
   "outputs": [
    {
     "data": {
      "text/plain": [
       "name            林玉明\n",
       "phone    0955235743\n",
       "AI               88\n",
       "Name: 12, dtype: object"
      ]
     },
     "execution_count": 39,
     "metadata": {},
     "output_type": "execute_result"
    }
   ],
   "source": [
    "df.loc[12, ['name','phone','AI']]"
   ]
  },
  {
   "cell_type": "code",
   "execution_count": 40,
   "id": "7be5fb1b-0861-411a-a7d0-25bf5bac5058",
   "metadata": {},
   "outputs": [
    {
     "data": {
      "text/html": [
       "<div>\n",
       "<style scoped>\n",
       "    .dataframe tbody tr th:only-of-type {\n",
       "        vertical-align: middle;\n",
       "    }\n",
       "\n",
       "    .dataframe tbody tr th {\n",
       "        vertical-align: top;\n",
       "    }\n",
       "\n",
       "    .dataframe thead th {\n",
       "        text-align: right;\n",
       "    }\n",
       "</style>\n",
       "<table border=\"1\" class=\"dataframe\">\n",
       "  <thead>\n",
       "    <tr style=\"text-align: right;\">\n",
       "      <th></th>\n",
       "      <th>name</th>\n",
       "      <th>phone</th>\n",
       "      <th>AI</th>\n",
       "    </tr>\n",
       "  </thead>\n",
       "  <tbody>\n",
       "    <tr>\n",
       "      <th>12</th>\n",
       "      <td>林玉明</td>\n",
       "      <td>0955235743</td>\n",
       "      <td>88</td>\n",
       "    </tr>\n",
       "    <tr>\n",
       "      <th>14</th>\n",
       "      <td>陳辰威</td>\n",
       "      <td>0932098543</td>\n",
       "      <td>67</td>\n",
       "    </tr>\n",
       "  </tbody>\n",
       "</table>\n",
       "</div>"
      ],
      "text/plain": [
       "   name       phone  AI\n",
       "12  林玉明  0955235743  88\n",
       "14  陳辰威  0932098543  67"
      ]
     },
     "execution_count": 40,
     "metadata": {},
     "output_type": "execute_result"
    }
   ],
   "source": [
    "df.loc[[12, 14], ['name','phone','AI']]"
   ]
  },
  {
   "cell_type": "code",
   "execution_count": 41,
   "id": "d4171479-ed4f-4387-8639-8282211647e8",
   "metadata": {},
   "outputs": [
    {
     "data": {
      "text/html": [
       "<div>\n",
       "<style scoped>\n",
       "    .dataframe tbody tr th:only-of-type {\n",
       "        vertical-align: middle;\n",
       "    }\n",
       "\n",
       "    .dataframe tbody tr th {\n",
       "        vertical-align: top;\n",
       "    }\n",
       "\n",
       "    .dataframe thead th {\n",
       "        text-align: right;\n",
       "    }\n",
       "</style>\n",
       "<table border=\"1\" class=\"dataframe\">\n",
       "  <thead>\n",
       "    <tr style=\"text-align: right;\">\n",
       "      <th></th>\n",
       "      <th>name</th>\n",
       "      <th>phone</th>\n",
       "      <th>datastructure</th>\n",
       "    </tr>\n",
       "  </thead>\n",
       "  <tbody>\n",
       "    <tr>\n",
       "      <th>11</th>\n",
       "      <td>陳傑憲</td>\n",
       "      <td>0919123456</td>\n",
       "      <td>88</td>\n",
       "    </tr>\n",
       "    <tr>\n",
       "      <th>12</th>\n",
       "      <td>林玉明</td>\n",
       "      <td>0955235743</td>\n",
       "      <td>77</td>\n",
       "    </tr>\n",
       "  </tbody>\n",
       "</table>\n",
       "</div>"
      ],
      "text/plain": [
       "   name       phone  datastructure\n",
       "11  陳傑憲  0919123456             88\n",
       "12  林玉明  0955235743             77"
      ]
     },
     "execution_count": 41,
     "metadata": {},
     "output_type": "execute_result"
    }
   ],
   "source": [
    "df.iloc[1:3, [1,2,4]]"
   ]
  },
  {
   "cell_type": "code",
   "execution_count": 42,
   "id": "029d013c-26aa-4cd6-82f5-e1e35718c8ad",
   "metadata": {},
   "outputs": [
    {
     "data": {
      "text/html": [
       "<div>\n",
       "<style scoped>\n",
       "    .dataframe tbody tr th:only-of-type {\n",
       "        vertical-align: middle;\n",
       "    }\n",
       "\n",
       "    .dataframe tbody tr th {\n",
       "        vertical-align: top;\n",
       "    }\n",
       "\n",
       "    .dataframe thead th {\n",
       "        text-align: right;\n",
       "    }\n",
       "</style>\n",
       "<table border=\"1\" class=\"dataframe\">\n",
       "  <thead>\n",
       "    <tr style=\"text-align: right;\">\n",
       "      <th></th>\n",
       "      <th>name</th>\n",
       "      <th>AI</th>\n",
       "      <th>python</th>\n",
       "    </tr>\n",
       "  </thead>\n",
       "  <tbody>\n",
       "    <tr>\n",
       "      <th>10</th>\n",
       "      <td>李大明</td>\n",
       "      <td>66</td>\n",
       "      <td>69</td>\n",
       "    </tr>\n",
       "    <tr>\n",
       "      <th>11</th>\n",
       "      <td>陳傑憲</td>\n",
       "      <td>96</td>\n",
       "      <td>77</td>\n",
       "    </tr>\n",
       "    <tr>\n",
       "      <th>12</th>\n",
       "      <td>林玉明</td>\n",
       "      <td>88</td>\n",
       "      <td>66</td>\n",
       "    </tr>\n",
       "    <tr>\n",
       "      <th>13</th>\n",
       "      <td>姜昆雨</td>\n",
       "      <td>77</td>\n",
       "      <td>98</td>\n",
       "    </tr>\n",
       "    <tr>\n",
       "      <th>14</th>\n",
       "      <td>陳辰威</td>\n",
       "      <td>67</td>\n",
       "      <td>89</td>\n",
       "    </tr>\n",
       "  </tbody>\n",
       "</table>\n",
       "</div>"
      ],
      "text/plain": [
       "   name  AI  python\n",
       "10  李大明  66      69\n",
       "11  陳傑憲  96      77\n",
       "12  林玉明  88      66\n",
       "13  姜昆雨  77      98\n",
       "14  陳辰威  67      89"
      ]
     },
     "execution_count": 42,
     "metadata": {},
     "output_type": "execute_result"
    }
   ],
   "source": [
    "df.iloc[:, [1, 3, 5]]"
   ]
  },
  {
   "cell_type": "code",
   "execution_count": 43,
   "id": "5e7e51d6-4487-45da-a607-81217478cd88",
   "metadata": {},
   "outputs": [
    {
     "data": {
      "text/html": [
       "<div>\n",
       "<style scoped>\n",
       "    .dataframe tbody tr th:only-of-type {\n",
       "        vertical-align: middle;\n",
       "    }\n",
       "\n",
       "    .dataframe tbody tr th {\n",
       "        vertical-align: top;\n",
       "    }\n",
       "\n",
       "    .dataframe thead th {\n",
       "        text-align: right;\n",
       "    }\n",
       "</style>\n",
       "<table border=\"1\" class=\"dataframe\">\n",
       "  <thead>\n",
       "    <tr style=\"text-align: right;\">\n",
       "      <th></th>\n",
       "      <th>name</th>\n",
       "      <th>AI</th>\n",
       "    </tr>\n",
       "  </thead>\n",
       "  <tbody>\n",
       "    <tr>\n",
       "      <th>11</th>\n",
       "      <td>陳傑憲</td>\n",
       "      <td>96</td>\n",
       "    </tr>\n",
       "    <tr>\n",
       "      <th>13</th>\n",
       "      <td>姜昆雨</td>\n",
       "      <td>77</td>\n",
       "    </tr>\n",
       "  </tbody>\n",
       "</table>\n",
       "</div>"
      ],
      "text/plain": [
       "   name  AI\n",
       "11  陳傑憲  96\n",
       "13  姜昆雨  77"
      ]
     },
     "execution_count": 43,
     "metadata": {},
     "output_type": "execute_result"
    }
   ],
   "source": [
    "df.iloc[1:6:2, [1,3]]"
   ]
  },
  {
   "cell_type": "code",
   "execution_count": 44,
   "id": "94d00e4f-fa16-4959-92ca-658d8d884773",
   "metadata": {},
   "outputs": [
    {
     "data": {
      "text/plain": [
       "11    陳傑憲\n",
       "13    姜昆雨\n",
       "Name: name, dtype: object"
      ]
     },
     "execution_count": 44,
     "metadata": {},
     "output_type": "execute_result"
    }
   ],
   "source": [
    "df.iloc[slice(1,6,2), 1]"
   ]
  },
  {
   "cell_type": "code",
   "execution_count": 45,
   "id": "98152e9e-be40-4fae-841f-f521fcb37d72",
   "metadata": {},
   "outputs": [
    {
     "data": {
      "text/plain": [
       "11    陳傑憲\n",
       "13    姜昆雨\n",
       "Name: name, dtype: object"
      ]
     },
     "execution_count": 45,
     "metadata": {},
     "output_type": "execute_result"
    }
   ],
   "source": [
    "df.iloc[np.s_[1:6:2],1]"
   ]
  },
  {
   "cell_type": "code",
   "execution_count": 46,
   "id": "2fc56b22-a14d-448b-9216-09f7ff3e12fb",
   "metadata": {},
   "outputs": [
    {
     "data": {
      "text/plain": [
       "11    陳傑憲\n",
       "13    姜昆雨\n",
       "Name: name, dtype: object"
      ]
     },
     "execution_count": 46,
     "metadata": {},
     "output_type": "execute_result"
    }
   ],
   "source": [
    "df.iloc[pd.IndexSlice[1:6:2],1]"
   ]
  },
  {
   "cell_type": "code",
   "execution_count": 47,
   "id": "58dc5d3c-a4ef-4e25-9298-052232a4b9d7",
   "metadata": {},
   "outputs": [
    {
     "data": {
      "text/plain": [
       "'林玉明'"
      ]
     },
     "execution_count": 47,
     "metadata": {},
     "output_type": "execute_result"
    }
   ],
   "source": [
    "df.at[12, 'name']"
   ]
  },
  {
   "cell_type": "code",
   "execution_count": 48,
   "id": "61f04f26-5f86-4e14-9e94-0b13bafa0241",
   "metadata": {},
   "outputs": [
    {
     "data": {
      "text/plain": [
       "'林玉明'"
      ]
     },
     "execution_count": 48,
     "metadata": {},
     "output_type": "execute_result"
    }
   ],
   "source": [
    "df.iat[2, 1]"
   ]
  },
  {
   "cell_type": "code",
   "execution_count": 49,
   "id": "048e823b-58f0-4932-ab56-cb1ff91959cb",
   "metadata": {},
   "outputs": [
    {
     "data": {
      "text/html": [
       "<div>\n",
       "<style scoped>\n",
       "    .dataframe tbody tr th:only-of-type {\n",
       "        vertical-align: middle;\n",
       "    }\n",
       "\n",
       "    .dataframe tbody tr th {\n",
       "        vertical-align: top;\n",
       "    }\n",
       "\n",
       "    .dataframe thead th {\n",
       "        text-align: right;\n",
       "    }\n",
       "</style>\n",
       "<table border=\"1\" class=\"dataframe\">\n",
       "  <thead>\n",
       "    <tr style=\"text-align: right;\">\n",
       "      <th></th>\n",
       "      <th>sid</th>\n",
       "      <th>name</th>\n",
       "      <th>phone</th>\n",
       "      <th>AI</th>\n",
       "      <th>datastructure</th>\n",
       "      <th>python</th>\n",
       "    </tr>\n",
       "  </thead>\n",
       "  <tbody>\n",
       "    <tr>\n",
       "      <th>10</th>\n",
       "      <td>11375001</td>\n",
       "      <td>李大明</td>\n",
       "      <td>0922555123</td>\n",
       "      <td>66</td>\n",
       "      <td>86</td>\n",
       "      <td>69</td>\n",
       "    </tr>\n",
       "    <tr>\n",
       "      <th>11</th>\n",
       "      <td>11375010</td>\n",
       "      <td>陳傑憲</td>\n",
       "      <td>0919123456</td>\n",
       "      <td>96</td>\n",
       "      <td>88</td>\n",
       "      <td>77</td>\n",
       "    </tr>\n",
       "    <tr>\n",
       "      <th>12</th>\n",
       "      <td>11375022</td>\n",
       "      <td>林玉明</td>\n",
       "      <td>0955235743</td>\n",
       "      <td>88</td>\n",
       "      <td>77</td>\n",
       "      <td>66</td>\n",
       "    </tr>\n",
       "    <tr>\n",
       "      <th>13</th>\n",
       "      <td>11375055</td>\n",
       "      <td>姜昆雨</td>\n",
       "      <td>0931239097</td>\n",
       "      <td>77</td>\n",
       "      <td>87</td>\n",
       "      <td>98</td>\n",
       "    </tr>\n",
       "    <tr>\n",
       "      <th>14</th>\n",
       "      <td>11375199</td>\n",
       "      <td>陳辰威</td>\n",
       "      <td>0932098543</td>\n",
       "      <td>67</td>\n",
       "      <td>78</td>\n",
       "      <td>89</td>\n",
       "    </tr>\n",
       "  </tbody>\n",
       "</table>\n",
       "</div>"
      ],
      "text/plain": [
       "         sid name       phone  AI  datastructure  python\n",
       "10  11375001  李大明  0922555123  66             86      69\n",
       "11  11375010  陳傑憲  0919123456  96             88      77\n",
       "12  11375022  林玉明  0955235743  88             77      66\n",
       "13  11375055  姜昆雨  0931239097  77             87      98\n",
       "14  11375199  陳辰威  0932098543  67             78      89"
      ]
     },
     "execution_count": 49,
     "metadata": {},
     "output_type": "execute_result"
    }
   ],
   "source": [
    "df"
   ]
  },
  {
   "cell_type": "code",
   "execution_count": 50,
   "id": "801cbdfc",
   "metadata": {},
   "outputs": [
    {
     "data": {
      "text/html": [
       "<div>\n",
       "<style scoped>\n",
       "    .dataframe tbody tr th:only-of-type {\n",
       "        vertical-align: middle;\n",
       "    }\n",
       "\n",
       "    .dataframe tbody tr th {\n",
       "        vertical-align: top;\n",
       "    }\n",
       "\n",
       "    .dataframe thead th {\n",
       "        text-align: right;\n",
       "    }\n",
       "</style>\n",
       "<table border=\"1\" class=\"dataframe\">\n",
       "  <thead>\n",
       "    <tr style=\"text-align: right;\">\n",
       "      <th></th>\n",
       "      <th>sid</th>\n",
       "      <th>name</th>\n",
       "      <th>phone</th>\n",
       "      <th>AI</th>\n",
       "      <th>datastructure</th>\n",
       "      <th>python</th>\n",
       "    </tr>\n",
       "  </thead>\n",
       "  <tbody>\n",
       "    <tr>\n",
       "      <th>10</th>\n",
       "      <td>11375001</td>\n",
       "      <td>李大明</td>\n",
       "      <td>0922555123</td>\n",
       "      <td>66</td>\n",
       "      <td>86</td>\n",
       "      <td>69</td>\n",
       "    </tr>\n",
       "    <tr>\n",
       "      <th>11</th>\n",
       "      <td>11375010</td>\n",
       "      <td>陳傑憲</td>\n",
       "      <td>0919123456</td>\n",
       "      <td>96</td>\n",
       "      <td>88</td>\n",
       "      <td>77</td>\n",
       "    </tr>\n",
       "    <tr>\n",
       "      <th>12</th>\n",
       "      <td>11375022</td>\n",
       "      <td>林玉明</td>\n",
       "      <td>0955235743</td>\n",
       "      <td>88</td>\n",
       "      <td>77</td>\n",
       "      <td>66</td>\n",
       "    </tr>\n",
       "    <tr>\n",
       "      <th>13</th>\n",
       "      <td>11375055</td>\n",
       "      <td>姜昆雨</td>\n",
       "      <td>0931239097</td>\n",
       "      <td>77</td>\n",
       "      <td>87</td>\n",
       "      <td>98</td>\n",
       "    </tr>\n",
       "    <tr>\n",
       "      <th>14</th>\n",
       "      <td>11375199</td>\n",
       "      <td>陳辰威</td>\n",
       "      <td>0932098543</td>\n",
       "      <td>67</td>\n",
       "      <td>78</td>\n",
       "      <td>89</td>\n",
       "    </tr>\n",
       "  </tbody>\n",
       "</table>\n",
       "</div>"
      ],
      "text/plain": [
       "         sid name       phone  AI  datastructure  python\n",
       "10  11375001  李大明  0922555123  66             86      69\n",
       "11  11375010  陳傑憲  0919123456  96             88      77\n",
       "12  11375022  林玉明  0955235743  88             77      66\n",
       "13  11375055  姜昆雨  0931239097  77             87      98\n",
       "14  11375199  陳辰威  0932098543  67             78      89"
      ]
     },
     "execution_count": 50,
     "metadata": {},
     "output_type": "execute_result"
    }
   ],
   "source": [
    "df"
   ]
  },
  {
   "cell_type": "markdown",
   "id": "65dfd142",
   "metadata": {},
   "source": [
    "### 新增row及欄"
   ]
  },
  {
   "cell_type": "code",
   "execution_count": 51,
   "id": "4a243797",
   "metadata": {},
   "outputs": [],
   "source": [
    "#新增一個欄位名為'game'預設值=0\n",
    "df['game']=0"
   ]
  },
  {
   "cell_type": "code",
   "execution_count": 52,
   "id": "c2423d7b",
   "metadata": {},
   "outputs": [
    {
     "data": {
      "text/html": [
       "<div>\n",
       "<style scoped>\n",
       "    .dataframe tbody tr th:only-of-type {\n",
       "        vertical-align: middle;\n",
       "    }\n",
       "\n",
       "    .dataframe tbody tr th {\n",
       "        vertical-align: top;\n",
       "    }\n",
       "\n",
       "    .dataframe thead th {\n",
       "        text-align: right;\n",
       "    }\n",
       "</style>\n",
       "<table border=\"1\" class=\"dataframe\">\n",
       "  <thead>\n",
       "    <tr style=\"text-align: right;\">\n",
       "      <th></th>\n",
       "      <th>sid</th>\n",
       "      <th>name</th>\n",
       "      <th>phone</th>\n",
       "      <th>AI</th>\n",
       "      <th>datastructure</th>\n",
       "      <th>python</th>\n",
       "      <th>game</th>\n",
       "    </tr>\n",
       "  </thead>\n",
       "  <tbody>\n",
       "    <tr>\n",
       "      <th>10</th>\n",
       "      <td>11375001</td>\n",
       "      <td>李大明</td>\n",
       "      <td>0922555123</td>\n",
       "      <td>66</td>\n",
       "      <td>86</td>\n",
       "      <td>69</td>\n",
       "      <td>0</td>\n",
       "    </tr>\n",
       "    <tr>\n",
       "      <th>11</th>\n",
       "      <td>11375010</td>\n",
       "      <td>陳傑憲</td>\n",
       "      <td>0919123456</td>\n",
       "      <td>96</td>\n",
       "      <td>88</td>\n",
       "      <td>77</td>\n",
       "      <td>0</td>\n",
       "    </tr>\n",
       "    <tr>\n",
       "      <th>12</th>\n",
       "      <td>11375022</td>\n",
       "      <td>林玉明</td>\n",
       "      <td>0955235743</td>\n",
       "      <td>88</td>\n",
       "      <td>77</td>\n",
       "      <td>66</td>\n",
       "      <td>0</td>\n",
       "    </tr>\n",
       "    <tr>\n",
       "      <th>13</th>\n",
       "      <td>11375055</td>\n",
       "      <td>姜昆雨</td>\n",
       "      <td>0931239097</td>\n",
       "      <td>77</td>\n",
       "      <td>87</td>\n",
       "      <td>98</td>\n",
       "      <td>0</td>\n",
       "    </tr>\n",
       "    <tr>\n",
       "      <th>14</th>\n",
       "      <td>11375199</td>\n",
       "      <td>陳辰威</td>\n",
       "      <td>0932098543</td>\n",
       "      <td>67</td>\n",
       "      <td>78</td>\n",
       "      <td>89</td>\n",
       "      <td>0</td>\n",
       "    </tr>\n",
       "  </tbody>\n",
       "</table>\n",
       "</div>"
      ],
      "text/plain": [
       "         sid name       phone  AI  datastructure  python  game\n",
       "10  11375001  李大明  0922555123  66             86      69     0\n",
       "11  11375010  陳傑憲  0919123456  96             88      77     0\n",
       "12  11375022  林玉明  0955235743  88             77      66     0\n",
       "13  11375055  姜昆雨  0931239097  77             87      98     0\n",
       "14  11375199  陳辰威  0932098543  67             78      89     0"
      ]
     },
     "execution_count": 52,
     "metadata": {},
     "output_type": "execute_result"
    }
   ],
   "source": [
    "df"
   ]
  },
  {
   "cell_type": "code",
   "execution_count": 53,
   "id": "c63d0ff8",
   "metadata": {},
   "outputs": [
    {
     "data": {
      "text/html": [
       "<div>\n",
       "<style scoped>\n",
       "    .dataframe tbody tr th:only-of-type {\n",
       "        vertical-align: middle;\n",
       "    }\n",
       "\n",
       "    .dataframe tbody tr th {\n",
       "        vertical-align: top;\n",
       "    }\n",
       "\n",
       "    .dataframe thead th {\n",
       "        text-align: right;\n",
       "    }\n",
       "</style>\n",
       "<table border=\"1\" class=\"dataframe\">\n",
       "  <thead>\n",
       "    <tr style=\"text-align: right;\">\n",
       "      <th></th>\n",
       "      <th>sid</th>\n",
       "      <th>name</th>\n",
       "      <th>phone</th>\n",
       "      <th>AI</th>\n",
       "      <th>datastructure</th>\n",
       "      <th>python</th>\n",
       "      <th>game</th>\n",
       "    </tr>\n",
       "  </thead>\n",
       "  <tbody>\n",
       "    <tr>\n",
       "      <th>10</th>\n",
       "      <td>11375001</td>\n",
       "      <td>李大明</td>\n",
       "      <td>0922555123</td>\n",
       "      <td>66</td>\n",
       "      <td>86</td>\n",
       "      <td>69</td>\n",
       "      <td>0</td>\n",
       "    </tr>\n",
       "    <tr>\n",
       "      <th>11</th>\n",
       "      <td>11375010</td>\n",
       "      <td>陳傑憲</td>\n",
       "      <td>0919123456</td>\n",
       "      <td>96</td>\n",
       "      <td>88</td>\n",
       "      <td>77</td>\n",
       "      <td>0</td>\n",
       "    </tr>\n",
       "    <tr>\n",
       "      <th>12</th>\n",
       "      <td>11375022</td>\n",
       "      <td>林玉明</td>\n",
       "      <td>0955235743</td>\n",
       "      <td>88</td>\n",
       "      <td>77</td>\n",
       "      <td>66</td>\n",
       "      <td>0</td>\n",
       "    </tr>\n",
       "    <tr>\n",
       "      <th>13</th>\n",
       "      <td>11375055</td>\n",
       "      <td>姜昆雨</td>\n",
       "      <td>0931239097</td>\n",
       "      <td>77</td>\n",
       "      <td>87</td>\n",
       "      <td>98</td>\n",
       "      <td>0</td>\n",
       "    </tr>\n",
       "    <tr>\n",
       "      <th>14</th>\n",
       "      <td>11375199</td>\n",
       "      <td>陳辰威</td>\n",
       "      <td>0932098543</td>\n",
       "      <td>67</td>\n",
       "      <td>78</td>\n",
       "      <td>89</td>\n",
       "      <td>0</td>\n",
       "    </tr>\n",
       "    <tr>\n",
       "      <th>5</th>\n",
       "      <td>11075005</td>\n",
       "      <td>何偉宏</td>\n",
       "      <td>0955456852</td>\n",
       "      <td>80</td>\n",
       "      <td>85</td>\n",
       "      <td>90</td>\n",
       "      <td>85</td>\n",
       "    </tr>\n",
       "  </tbody>\n",
       "</table>\n",
       "</div>"
      ],
      "text/plain": [
       "         sid name       phone  AI  datastructure  python  game\n",
       "10  11375001  李大明  0922555123  66             86      69     0\n",
       "11  11375010  陳傑憲  0919123456  96             88      77     0\n",
       "12  11375022  林玉明  0955235743  88             77      66     0\n",
       "13  11375055  姜昆雨  0931239097  77             87      98     0\n",
       "14  11375199  陳辰威  0932098543  67             78      89     0\n",
       "5   11075005  何偉宏  0955456852  80             85      90    85"
      ]
     },
     "execution_count": 53,
     "metadata": {},
     "output_type": "execute_result"
    }
   ],
   "source": [
    "#在df最後新增一筆資料 with list\n",
    "df.loc[len(df)]=['11075005', '何偉宏', '0955456852', 80, 85, 90, 85]\n",
    "df\n"
   ]
  },
  {
   "cell_type": "code",
   "execution_count": 54,
   "id": "5d864382",
   "metadata": {},
   "outputs": [],
   "source": [
    "#修改dataframe element\n",
    "df.loc[5, 'name']='何大發'\n"
   ]
  },
  {
   "cell_type": "code",
   "execution_count": 55,
   "id": "17dd6eb8",
   "metadata": {},
   "outputs": [
    {
     "name": "stdout",
     "output_type": "stream",
     "text": [
      "        sid name       phone  AI  datastructure  python  game\n",
      "0  11375001  李大明  0922555123  66             86      69     0\n",
      "1  11375010  陳傑憲  0919123456  96             88      77     0\n",
      "2  11375022  林玉明  0955235743  88             77      66     0\n",
      "3  11375055  姜昆雨  0931239097  77             87      98     0\n",
      "4  11375199  陳辰威  0932098543  67             78      89     0\n",
      "5  11075005  何大發  0955456852  80             85      90    85\n",
      "6  10975001  安瑪莉  0920562000  86             77      80    90\n"
     ]
    }
   ],
   "source": [
    "#adding row using concat() two dataframes\n",
    "mary = {'sid': '10975001', 'name': '安瑪莉', 'phone': '0920562000', 'AI': 86, 'datastructure': 77, 'python': 80, 'game': 90}\n",
    "mary_df = pd.DataFrame(mary, index=[20])\n",
    "df = pd.concat([df, mary_df], ignore_index=True)\n",
    "print(df)"
   ]
  },
  {
   "cell_type": "code",
   "execution_count": 56,
   "id": "a49d902f",
   "metadata": {},
   "outputs": [],
   "source": [
    "df['total']=0 #insert a new column with default value = 0"
   ]
  },
  {
   "cell_type": "code",
   "execution_count": 57,
   "id": "fbae048d",
   "metadata": {},
   "outputs": [
    {
     "data": {
      "text/html": [
       "<div>\n",
       "<style scoped>\n",
       "    .dataframe tbody tr th:only-of-type {\n",
       "        vertical-align: middle;\n",
       "    }\n",
       "\n",
       "    .dataframe tbody tr th {\n",
       "        vertical-align: top;\n",
       "    }\n",
       "\n",
       "    .dataframe thead th {\n",
       "        text-align: right;\n",
       "    }\n",
       "</style>\n",
       "<table border=\"1\" class=\"dataframe\">\n",
       "  <thead>\n",
       "    <tr style=\"text-align: right;\">\n",
       "      <th></th>\n",
       "      <th>sid</th>\n",
       "      <th>name</th>\n",
       "      <th>phone</th>\n",
       "      <th>AI</th>\n",
       "      <th>datastructure</th>\n",
       "      <th>python</th>\n",
       "      <th>game</th>\n",
       "      <th>total</th>\n",
       "    </tr>\n",
       "  </thead>\n",
       "  <tbody>\n",
       "    <tr>\n",
       "      <th>0</th>\n",
       "      <td>11375001</td>\n",
       "      <td>李大明</td>\n",
       "      <td>0922555123</td>\n",
       "      <td>66</td>\n",
       "      <td>86</td>\n",
       "      <td>69</td>\n",
       "      <td>0</td>\n",
       "      <td>0</td>\n",
       "    </tr>\n",
       "    <tr>\n",
       "      <th>1</th>\n",
       "      <td>11375010</td>\n",
       "      <td>陳傑憲</td>\n",
       "      <td>0919123456</td>\n",
       "      <td>96</td>\n",
       "      <td>88</td>\n",
       "      <td>77</td>\n",
       "      <td>0</td>\n",
       "      <td>0</td>\n",
       "    </tr>\n",
       "    <tr>\n",
       "      <th>2</th>\n",
       "      <td>11375022</td>\n",
       "      <td>林玉明</td>\n",
       "      <td>0955235743</td>\n",
       "      <td>88</td>\n",
       "      <td>77</td>\n",
       "      <td>66</td>\n",
       "      <td>0</td>\n",
       "      <td>0</td>\n",
       "    </tr>\n",
       "    <tr>\n",
       "      <th>3</th>\n",
       "      <td>11375055</td>\n",
       "      <td>姜昆雨</td>\n",
       "      <td>0931239097</td>\n",
       "      <td>77</td>\n",
       "      <td>87</td>\n",
       "      <td>98</td>\n",
       "      <td>0</td>\n",
       "      <td>0</td>\n",
       "    </tr>\n",
       "    <tr>\n",
       "      <th>4</th>\n",
       "      <td>11375199</td>\n",
       "      <td>陳辰威</td>\n",
       "      <td>0932098543</td>\n",
       "      <td>67</td>\n",
       "      <td>78</td>\n",
       "      <td>89</td>\n",
       "      <td>0</td>\n",
       "      <td>0</td>\n",
       "    </tr>\n",
       "    <tr>\n",
       "      <th>5</th>\n",
       "      <td>11075005</td>\n",
       "      <td>何大發</td>\n",
       "      <td>0955456852</td>\n",
       "      <td>80</td>\n",
       "      <td>85</td>\n",
       "      <td>90</td>\n",
       "      <td>85</td>\n",
       "      <td>0</td>\n",
       "    </tr>\n",
       "    <tr>\n",
       "      <th>6</th>\n",
       "      <td>10975001</td>\n",
       "      <td>安瑪莉</td>\n",
       "      <td>0920562000</td>\n",
       "      <td>86</td>\n",
       "      <td>77</td>\n",
       "      <td>80</td>\n",
       "      <td>90</td>\n",
       "      <td>0</td>\n",
       "    </tr>\n",
       "  </tbody>\n",
       "</table>\n",
       "</div>"
      ],
      "text/plain": [
       "        sid name       phone  AI  datastructure  python  game  total\n",
       "0  11375001  李大明  0922555123  66             86      69     0      0\n",
       "1  11375010  陳傑憲  0919123456  96             88      77     0      0\n",
       "2  11375022  林玉明  0955235743  88             77      66     0      0\n",
       "3  11375055  姜昆雨  0931239097  77             87      98     0      0\n",
       "4  11375199  陳辰威  0932098543  67             78      89     0      0\n",
       "5  11075005  何大發  0955456852  80             85      90    85      0\n",
       "6  10975001  安瑪莉  0920562000  86             77      80    90      0"
      ]
     },
     "execution_count": 57,
     "metadata": {},
     "output_type": "execute_result"
    }
   ],
   "source": [
    "df"
   ]
  },
  {
   "cell_type": "code",
   "execution_count": 58,
   "id": "54c3df1d",
   "metadata": {},
   "outputs": [],
   "source": [
    "df.drop(labels=[5], inplace=True) #刪除紀錄，labels定義列號(List)，inplace=True代表改變原有dataframe"
   ]
  },
  {
   "cell_type": "code",
   "execution_count": 59,
   "id": "c293363f",
   "metadata": {},
   "outputs": [
    {
     "data": {
      "text/html": [
       "<div>\n",
       "<style scoped>\n",
       "    .dataframe tbody tr th:only-of-type {\n",
       "        vertical-align: middle;\n",
       "    }\n",
       "\n",
       "    .dataframe tbody tr th {\n",
       "        vertical-align: top;\n",
       "    }\n",
       "\n",
       "    .dataframe thead th {\n",
       "        text-align: right;\n",
       "    }\n",
       "</style>\n",
       "<table border=\"1\" class=\"dataframe\">\n",
       "  <thead>\n",
       "    <tr style=\"text-align: right;\">\n",
       "      <th></th>\n",
       "      <th>sid</th>\n",
       "      <th>name</th>\n",
       "      <th>phone</th>\n",
       "      <th>AI</th>\n",
       "      <th>datastructure</th>\n",
       "      <th>python</th>\n",
       "      <th>game</th>\n",
       "      <th>total</th>\n",
       "    </tr>\n",
       "  </thead>\n",
       "  <tbody>\n",
       "    <tr>\n",
       "      <th>0</th>\n",
       "      <td>11375001</td>\n",
       "      <td>李大明</td>\n",
       "      <td>0922555123</td>\n",
       "      <td>66</td>\n",
       "      <td>86</td>\n",
       "      <td>69</td>\n",
       "      <td>0</td>\n",
       "      <td>0</td>\n",
       "    </tr>\n",
       "    <tr>\n",
       "      <th>1</th>\n",
       "      <td>11375010</td>\n",
       "      <td>陳傑憲</td>\n",
       "      <td>0919123456</td>\n",
       "      <td>96</td>\n",
       "      <td>88</td>\n",
       "      <td>77</td>\n",
       "      <td>0</td>\n",
       "      <td>0</td>\n",
       "    </tr>\n",
       "    <tr>\n",
       "      <th>2</th>\n",
       "      <td>11375022</td>\n",
       "      <td>林玉明</td>\n",
       "      <td>0955235743</td>\n",
       "      <td>88</td>\n",
       "      <td>77</td>\n",
       "      <td>66</td>\n",
       "      <td>0</td>\n",
       "      <td>0</td>\n",
       "    </tr>\n",
       "    <tr>\n",
       "      <th>3</th>\n",
       "      <td>11375055</td>\n",
       "      <td>姜昆雨</td>\n",
       "      <td>0931239097</td>\n",
       "      <td>77</td>\n",
       "      <td>87</td>\n",
       "      <td>98</td>\n",
       "      <td>0</td>\n",
       "      <td>0</td>\n",
       "    </tr>\n",
       "    <tr>\n",
       "      <th>4</th>\n",
       "      <td>11375199</td>\n",
       "      <td>陳辰威</td>\n",
       "      <td>0932098543</td>\n",
       "      <td>67</td>\n",
       "      <td>78</td>\n",
       "      <td>89</td>\n",
       "      <td>0</td>\n",
       "      <td>0</td>\n",
       "    </tr>\n",
       "    <tr>\n",
       "      <th>6</th>\n",
       "      <td>10975001</td>\n",
       "      <td>安瑪莉</td>\n",
       "      <td>0920562000</td>\n",
       "      <td>86</td>\n",
       "      <td>77</td>\n",
       "      <td>80</td>\n",
       "      <td>90</td>\n",
       "      <td>0</td>\n",
       "    </tr>\n",
       "  </tbody>\n",
       "</table>\n",
       "</div>"
      ],
      "text/plain": [
       "        sid name       phone  AI  datastructure  python  game  total\n",
       "0  11375001  李大明  0922555123  66             86      69     0      0\n",
       "1  11375010  陳傑憲  0919123456  96             88      77     0      0\n",
       "2  11375022  林玉明  0955235743  88             77      66     0      0\n",
       "3  11375055  姜昆雨  0931239097  77             87      98     0      0\n",
       "4  11375199  陳辰威  0932098543  67             78      89     0      0\n",
       "6  10975001  安瑪莉  0920562000  86             77      80    90      0"
      ]
     },
     "execution_count": 59,
     "metadata": {},
     "output_type": "execute_result"
    }
   ],
   "source": [
    "df"
   ]
  },
  {
   "cell_type": "code",
   "execution_count": 60,
   "id": "07e29ae7",
   "metadata": {},
   "outputs": [],
   "source": [
    "del df['game'] #刪除game欄"
   ]
  },
  {
   "cell_type": "code",
   "execution_count": 61,
   "id": "aa5ff6f7",
   "metadata": {},
   "outputs": [
    {
     "data": {
      "text/html": [
       "<div>\n",
       "<style scoped>\n",
       "    .dataframe tbody tr th:only-of-type {\n",
       "        vertical-align: middle;\n",
       "    }\n",
       "\n",
       "    .dataframe tbody tr th {\n",
       "        vertical-align: top;\n",
       "    }\n",
       "\n",
       "    .dataframe thead th {\n",
       "        text-align: right;\n",
       "    }\n",
       "</style>\n",
       "<table border=\"1\" class=\"dataframe\">\n",
       "  <thead>\n",
       "    <tr style=\"text-align: right;\">\n",
       "      <th></th>\n",
       "      <th>sid</th>\n",
       "      <th>name</th>\n",
       "      <th>phone</th>\n",
       "      <th>AI</th>\n",
       "      <th>datastructure</th>\n",
       "      <th>python</th>\n",
       "      <th>total</th>\n",
       "    </tr>\n",
       "  </thead>\n",
       "  <tbody>\n",
       "    <tr>\n",
       "      <th>0</th>\n",
       "      <td>11375001</td>\n",
       "      <td>李大明</td>\n",
       "      <td>0922555123</td>\n",
       "      <td>66</td>\n",
       "      <td>86</td>\n",
       "      <td>69</td>\n",
       "      <td>0</td>\n",
       "    </tr>\n",
       "    <tr>\n",
       "      <th>1</th>\n",
       "      <td>11375010</td>\n",
       "      <td>陳傑憲</td>\n",
       "      <td>0919123456</td>\n",
       "      <td>96</td>\n",
       "      <td>88</td>\n",
       "      <td>77</td>\n",
       "      <td>0</td>\n",
       "    </tr>\n",
       "    <tr>\n",
       "      <th>2</th>\n",
       "      <td>11375022</td>\n",
       "      <td>林玉明</td>\n",
       "      <td>0955235743</td>\n",
       "      <td>88</td>\n",
       "      <td>77</td>\n",
       "      <td>66</td>\n",
       "      <td>0</td>\n",
       "    </tr>\n",
       "    <tr>\n",
       "      <th>3</th>\n",
       "      <td>11375055</td>\n",
       "      <td>姜昆雨</td>\n",
       "      <td>0931239097</td>\n",
       "      <td>77</td>\n",
       "      <td>87</td>\n",
       "      <td>98</td>\n",
       "      <td>0</td>\n",
       "    </tr>\n",
       "    <tr>\n",
       "      <th>4</th>\n",
       "      <td>11375199</td>\n",
       "      <td>陳辰威</td>\n",
       "      <td>0932098543</td>\n",
       "      <td>67</td>\n",
       "      <td>78</td>\n",
       "      <td>89</td>\n",
       "      <td>0</td>\n",
       "    </tr>\n",
       "    <tr>\n",
       "      <th>6</th>\n",
       "      <td>10975001</td>\n",
       "      <td>安瑪莉</td>\n",
       "      <td>0920562000</td>\n",
       "      <td>86</td>\n",
       "      <td>77</td>\n",
       "      <td>80</td>\n",
       "      <td>0</td>\n",
       "    </tr>\n",
       "  </tbody>\n",
       "</table>\n",
       "</div>"
      ],
      "text/plain": [
       "        sid name       phone  AI  datastructure  python  total\n",
       "0  11375001  李大明  0922555123  66             86      69      0\n",
       "1  11375010  陳傑憲  0919123456  96             88      77      0\n",
       "2  11375022  林玉明  0955235743  88             77      66      0\n",
       "3  11375055  姜昆雨  0931239097  77             87      98      0\n",
       "4  11375199  陳辰威  0932098543  67             78      89      0\n",
       "6  10975001  安瑪莉  0920562000  86             77      80      0"
      ]
     },
     "execution_count": 61,
     "metadata": {},
     "output_type": "execute_result"
    }
   ],
   "source": [
    "df"
   ]
  },
  {
   "cell_type": "code",
   "execution_count": null,
   "id": "009f78c6",
   "metadata": {},
   "outputs": [],
   "source": [
    "# .insert()插入一行資料，loc=4定義插入位置，column設定欄位名稱，value定義數值(np.array or list 都可)\n",
    "df.insert(loc=4, column='django-score', value=np.array([89.0, 81.0, 78.0, 88.0, 74.0, 70.0]))\n",
    "df"
   ]
  },
  {
   "cell_type": "code",
   "execution_count": 65,
   "id": "1cf8782a",
   "metadata": {},
   "outputs": [],
   "source": [
    "del df['total']"
   ]
  },
  {
   "cell_type": "code",
   "execution_count": 66,
   "id": "99013813",
   "metadata": {},
   "outputs": [
    {
     "data": {
      "text/html": [
       "<div>\n",
       "<style scoped>\n",
       "    .dataframe tbody tr th:only-of-type {\n",
       "        vertical-align: middle;\n",
       "    }\n",
       "\n",
       "    .dataframe tbody tr th {\n",
       "        vertical-align: top;\n",
       "    }\n",
       "\n",
       "    .dataframe thead th {\n",
       "        text-align: right;\n",
       "    }\n",
       "</style>\n",
       "<table border=\"1\" class=\"dataframe\">\n",
       "  <thead>\n",
       "    <tr style=\"text-align: right;\">\n",
       "      <th></th>\n",
       "      <th>sid</th>\n",
       "      <th>name</th>\n",
       "      <th>phone</th>\n",
       "      <th>AI</th>\n",
       "      <th>django-score</th>\n",
       "      <th>datastructure</th>\n",
       "      <th>python</th>\n",
       "    </tr>\n",
       "  </thead>\n",
       "  <tbody>\n",
       "    <tr>\n",
       "      <th>0</th>\n",
       "      <td>11375001</td>\n",
       "      <td>李大明</td>\n",
       "      <td>0922555123</td>\n",
       "      <td>66</td>\n",
       "      <td>89.0</td>\n",
       "      <td>86</td>\n",
       "      <td>69</td>\n",
       "    </tr>\n",
       "    <tr>\n",
       "      <th>1</th>\n",
       "      <td>11375010</td>\n",
       "      <td>陳傑憲</td>\n",
       "      <td>0919123456</td>\n",
       "      <td>96</td>\n",
       "      <td>81.0</td>\n",
       "      <td>88</td>\n",
       "      <td>77</td>\n",
       "    </tr>\n",
       "    <tr>\n",
       "      <th>2</th>\n",
       "      <td>11375022</td>\n",
       "      <td>林玉明</td>\n",
       "      <td>0955235743</td>\n",
       "      <td>88</td>\n",
       "      <td>78.0</td>\n",
       "      <td>77</td>\n",
       "      <td>66</td>\n",
       "    </tr>\n",
       "    <tr>\n",
       "      <th>3</th>\n",
       "      <td>11375055</td>\n",
       "      <td>姜昆雨</td>\n",
       "      <td>0931239097</td>\n",
       "      <td>77</td>\n",
       "      <td>88.0</td>\n",
       "      <td>87</td>\n",
       "      <td>98</td>\n",
       "    </tr>\n",
       "    <tr>\n",
       "      <th>4</th>\n",
       "      <td>11375199</td>\n",
       "      <td>陳辰威</td>\n",
       "      <td>0932098543</td>\n",
       "      <td>67</td>\n",
       "      <td>74.0</td>\n",
       "      <td>78</td>\n",
       "      <td>89</td>\n",
       "    </tr>\n",
       "    <tr>\n",
       "      <th>6</th>\n",
       "      <td>10975001</td>\n",
       "      <td>安瑪莉</td>\n",
       "      <td>0920562000</td>\n",
       "      <td>86</td>\n",
       "      <td>70.0</td>\n",
       "      <td>77</td>\n",
       "      <td>80</td>\n",
       "    </tr>\n",
       "  </tbody>\n",
       "</table>\n",
       "</div>"
      ],
      "text/plain": [
       "        sid name       phone  AI  django-score  datastructure  python\n",
       "0  11375001  李大明  0922555123  66          89.0             86      69\n",
       "1  11375010  陳傑憲  0919123456  96          81.0             88      77\n",
       "2  11375022  林玉明  0955235743  88          78.0             77      66\n",
       "3  11375055  姜昆雨  0931239097  77          88.0             87      98\n",
       "4  11375199  陳辰威  0932098543  67          74.0             78      89\n",
       "6  10975001  安瑪莉  0920562000  86          70.0             77      80"
      ]
     },
     "execution_count": 66,
     "metadata": {},
     "output_type": "execute_result"
    }
   ],
   "source": [
    "df"
   ]
  },
  {
   "cell_type": "code",
   "execution_count": 67,
   "id": "981d6734",
   "metadata": {},
   "outputs": [
    {
     "data": {
      "text/html": [
       "<div>\n",
       "<style scoped>\n",
       "    .dataframe tbody tr th:only-of-type {\n",
       "        vertical-align: middle;\n",
       "    }\n",
       "\n",
       "    .dataframe tbody tr th {\n",
       "        vertical-align: top;\n",
       "    }\n",
       "\n",
       "    .dataframe thead th {\n",
       "        text-align: right;\n",
       "    }\n",
       "</style>\n",
       "<table border=\"1\" class=\"dataframe\">\n",
       "  <thead>\n",
       "    <tr style=\"text-align: right;\">\n",
       "      <th></th>\n",
       "      <th>sid</th>\n",
       "      <th>name</th>\n",
       "      <th>phone</th>\n",
       "      <th>django-score</th>\n",
       "      <th>datastructure</th>\n",
       "      <th>python</th>\n",
       "    </tr>\n",
       "  </thead>\n",
       "  <tbody>\n",
       "    <tr>\n",
       "      <th>0</th>\n",
       "      <td>11375001</td>\n",
       "      <td>李大明</td>\n",
       "      <td>0922555123</td>\n",
       "      <td>89.0</td>\n",
       "      <td>86</td>\n",
       "      <td>69</td>\n",
       "    </tr>\n",
       "    <tr>\n",
       "      <th>1</th>\n",
       "      <td>11375010</td>\n",
       "      <td>陳傑憲</td>\n",
       "      <td>0919123456</td>\n",
       "      <td>81.0</td>\n",
       "      <td>88</td>\n",
       "      <td>77</td>\n",
       "    </tr>\n",
       "    <tr>\n",
       "      <th>2</th>\n",
       "      <td>11375022</td>\n",
       "      <td>林玉明</td>\n",
       "      <td>0955235743</td>\n",
       "      <td>78.0</td>\n",
       "      <td>77</td>\n",
       "      <td>66</td>\n",
       "    </tr>\n",
       "    <tr>\n",
       "      <th>3</th>\n",
       "      <td>11375055</td>\n",
       "      <td>姜昆雨</td>\n",
       "      <td>0931239097</td>\n",
       "      <td>88.0</td>\n",
       "      <td>87</td>\n",
       "      <td>98</td>\n",
       "    </tr>\n",
       "    <tr>\n",
       "      <th>4</th>\n",
       "      <td>11375199</td>\n",
       "      <td>陳辰威</td>\n",
       "      <td>0932098543</td>\n",
       "      <td>74.0</td>\n",
       "      <td>78</td>\n",
       "      <td>89</td>\n",
       "    </tr>\n",
       "    <tr>\n",
       "      <th>6</th>\n",
       "      <td>10975001</td>\n",
       "      <td>安瑪莉</td>\n",
       "      <td>0920562000</td>\n",
       "      <td>70.0</td>\n",
       "      <td>77</td>\n",
       "      <td>80</td>\n",
       "    </tr>\n",
       "  </tbody>\n",
       "</table>\n",
       "</div>"
      ],
      "text/plain": [
       "        sid name       phone  django-score  datastructure  python\n",
       "0  11375001  李大明  0922555123          89.0             86      69\n",
       "1  11375010  陳傑憲  0919123456          81.0             88      77\n",
       "2  11375022  林玉明  0955235743          78.0             77      66\n",
       "3  11375055  姜昆雨  0931239097          88.0             87      98\n",
       "4  11375199  陳辰威  0932098543          74.0             78      89\n",
       "6  10975001  安瑪莉  0920562000          70.0             77      80"
      ]
     },
     "execution_count": 67,
     "metadata": {},
     "output_type": "execute_result"
    }
   ],
   "source": [
    "df=df.drop(labels='AI', axis=1) #del column with .drop(), axis=1 for column\n",
    "df"
   ]
  },
  {
   "cell_type": "code",
   "execution_count": 68,
   "id": "3518f114",
   "metadata": {},
   "outputs": [
    {
     "data": {
      "text/html": [
       "<div>\n",
       "<style scoped>\n",
       "    .dataframe tbody tr th:only-of-type {\n",
       "        vertical-align: middle;\n",
       "    }\n",
       "\n",
       "    .dataframe tbody tr th {\n",
       "        vertical-align: top;\n",
       "    }\n",
       "\n",
       "    .dataframe thead th {\n",
       "        text-align: right;\n",
       "    }\n",
       "</style>\n",
       "<table border=\"1\" class=\"dataframe\">\n",
       "  <thead>\n",
       "    <tr style=\"text-align: right;\">\n",
       "      <th></th>\n",
       "      <th>sid</th>\n",
       "      <th>name</th>\n",
       "      <th>phone</th>\n",
       "      <th>django-score</th>\n",
       "      <th>datastructure</th>\n",
       "      <th>python</th>\n",
       "      <th>total</th>\n",
       "    </tr>\n",
       "  </thead>\n",
       "  <tbody>\n",
       "    <tr>\n",
       "      <th>0</th>\n",
       "      <td>11375001</td>\n",
       "      <td>李大明</td>\n",
       "      <td>0922555123</td>\n",
       "      <td>89.0</td>\n",
       "      <td>86</td>\n",
       "      <td>69</td>\n",
       "      <td>82.1</td>\n",
       "    </tr>\n",
       "    <tr>\n",
       "      <th>1</th>\n",
       "      <td>11375010</td>\n",
       "      <td>陳傑憲</td>\n",
       "      <td>0919123456</td>\n",
       "      <td>81.0</td>\n",
       "      <td>88</td>\n",
       "      <td>77</td>\n",
       "      <td>81.9</td>\n",
       "    </tr>\n",
       "    <tr>\n",
       "      <th>2</th>\n",
       "      <td>11375022</td>\n",
       "      <td>林玉明</td>\n",
       "      <td>0955235743</td>\n",
       "      <td>78.0</td>\n",
       "      <td>77</td>\n",
       "      <td>66</td>\n",
       "      <td>74.1</td>\n",
       "    </tr>\n",
       "    <tr>\n",
       "      <th>3</th>\n",
       "      <td>11375055</td>\n",
       "      <td>姜昆雨</td>\n",
       "      <td>0931239097</td>\n",
       "      <td>88.0</td>\n",
       "      <td>87</td>\n",
       "      <td>98</td>\n",
       "      <td>90.7</td>\n",
       "    </tr>\n",
       "    <tr>\n",
       "      <th>4</th>\n",
       "      <td>11375199</td>\n",
       "      <td>陳辰威</td>\n",
       "      <td>0932098543</td>\n",
       "      <td>74.0</td>\n",
       "      <td>78</td>\n",
       "      <td>89</td>\n",
       "      <td>79.7</td>\n",
       "    </tr>\n",
       "    <tr>\n",
       "      <th>6</th>\n",
       "      <td>10975001</td>\n",
       "      <td>安瑪莉</td>\n",
       "      <td>0920562000</td>\n",
       "      <td>70.0</td>\n",
       "      <td>77</td>\n",
       "      <td>80</td>\n",
       "      <td>75.1</td>\n",
       "    </tr>\n",
       "  </tbody>\n",
       "</table>\n",
       "</div>"
      ],
      "text/plain": [
       "        sid name       phone  django-score  datastructure  python  total\n",
       "0  11375001  李大明  0922555123          89.0             86      69   82.1\n",
       "1  11375010  陳傑憲  0919123456          81.0             88      77   81.9\n",
       "2  11375022  林玉明  0955235743          78.0             77      66   74.1\n",
       "3  11375055  姜昆雨  0931239097          88.0             87      98   90.7\n",
       "4  11375199  陳辰威  0932098543          74.0             78      89   79.7\n",
       "6  10975001  安瑪莉  0920562000          70.0             77      80   75.1"
      ]
     },
     "execution_count": 68,
     "metadata": {},
     "output_type": "execute_result"
    }
   ],
   "source": [
    "#arithmatic operations for columns\n",
    "df['total']=0.4*df['django-score']+0.3*df['datastructure']+0.3*df['python']\n",
    "df"
   ]
  },
  {
   "cell_type": "code",
   "execution_count": 69,
   "id": "74ee018c",
   "metadata": {},
   "outputs": [
    {
     "data": {
      "text/html": [
       "<div>\n",
       "<style scoped>\n",
       "    .dataframe tbody tr th:only-of-type {\n",
       "        vertical-align: middle;\n",
       "    }\n",
       "\n",
       "    .dataframe tbody tr th {\n",
       "        vertical-align: top;\n",
       "    }\n",
       "\n",
       "    .dataframe thead th {\n",
       "        text-align: right;\n",
       "    }\n",
       "</style>\n",
       "<table border=\"1\" class=\"dataframe\">\n",
       "  <thead>\n",
       "    <tr style=\"text-align: right;\">\n",
       "      <th></th>\n",
       "      <th>django-score</th>\n",
       "      <th>datastructure</th>\n",
       "      <th>python</th>\n",
       "    </tr>\n",
       "  </thead>\n",
       "  <tbody>\n",
       "    <tr>\n",
       "      <th>0</th>\n",
       "      <td>89.0</td>\n",
       "      <td>86</td>\n",
       "      <td>69</td>\n",
       "    </tr>\n",
       "    <tr>\n",
       "      <th>1</th>\n",
       "      <td>81.0</td>\n",
       "      <td>88</td>\n",
       "      <td>77</td>\n",
       "    </tr>\n",
       "    <tr>\n",
       "      <th>2</th>\n",
       "      <td>78.0</td>\n",
       "      <td>77</td>\n",
       "      <td>66</td>\n",
       "    </tr>\n",
       "    <tr>\n",
       "      <th>3</th>\n",
       "      <td>88.0</td>\n",
       "      <td>87</td>\n",
       "      <td>98</td>\n",
       "    </tr>\n",
       "    <tr>\n",
       "      <th>4</th>\n",
       "      <td>74.0</td>\n",
       "      <td>78</td>\n",
       "      <td>89</td>\n",
       "    </tr>\n",
       "    <tr>\n",
       "      <th>6</th>\n",
       "      <td>70.0</td>\n",
       "      <td>77</td>\n",
       "      <td>80</td>\n",
       "    </tr>\n",
       "  </tbody>\n",
       "</table>\n",
       "</div>"
      ],
      "text/plain": [
       "   django-score  datastructure  python\n",
       "0          89.0             86      69\n",
       "1          81.0             88      77\n",
       "2          78.0             77      66\n",
       "3          88.0             87      98\n",
       "4          74.0             78      89\n",
       "6          70.0             77      80"
      ]
     },
     "execution_count": 69,
     "metadata": {},
     "output_type": "execute_result"
    }
   ],
   "source": [
    "score = df.iloc[:, 3:6]\n",
    "score"
   ]
  },
  {
   "cell_type": "code",
   "execution_count": 70,
   "id": "0eddd39e",
   "metadata": {},
   "outputs": [
    {
     "data": {
      "text/plain": [
       "array([82.4, 81.2, 74.2, 90.8, 79.3, 74.4])"
      ]
     },
     "execution_count": 70,
     "metadata": {},
     "output_type": "execute_result"
    }
   ],
   "source": [
    "import numpy as np\n",
    "np.average(score, axis=1, weights=[0.5, 0.2, 0.3]) # can also use np.average() function"
   ]
  },
  {
   "cell_type": "code",
   "execution_count": 71,
   "id": "aa09891a",
   "metadata": {},
   "outputs": [
    {
     "data": {
      "text/html": [
       "<div>\n",
       "<style scoped>\n",
       "    .dataframe tbody tr th:only-of-type {\n",
       "        vertical-align: middle;\n",
       "    }\n",
       "\n",
       "    .dataframe tbody tr th {\n",
       "        vertical-align: top;\n",
       "    }\n",
       "\n",
       "    .dataframe thead th {\n",
       "        text-align: right;\n",
       "    }\n",
       "</style>\n",
       "<table border=\"1\" class=\"dataframe\">\n",
       "  <thead>\n",
       "    <tr style=\"text-align: right;\">\n",
       "      <th></th>\n",
       "      <th>sid</th>\n",
       "      <th>name</th>\n",
       "      <th>phone</th>\n",
       "      <th>django-score</th>\n",
       "      <th>datastructure</th>\n",
       "      <th>python</th>\n",
       "      <th>total</th>\n",
       "    </tr>\n",
       "  </thead>\n",
       "  <tbody>\n",
       "    <tr>\n",
       "      <th>1</th>\n",
       "      <td>11375010</td>\n",
       "      <td>陳傑憲</td>\n",
       "      <td>0919123456</td>\n",
       "      <td>81.0</td>\n",
       "      <td>88</td>\n",
       "      <td>77</td>\n",
       "      <td>81.9</td>\n",
       "    </tr>\n",
       "    <tr>\n",
       "      <th>3</th>\n",
       "      <td>11375055</td>\n",
       "      <td>姜昆雨</td>\n",
       "      <td>0931239097</td>\n",
       "      <td>88.0</td>\n",
       "      <td>87</td>\n",
       "      <td>98</td>\n",
       "      <td>90.7</td>\n",
       "    </tr>\n",
       "    <tr>\n",
       "      <th>0</th>\n",
       "      <td>11375001</td>\n",
       "      <td>李大明</td>\n",
       "      <td>0922555123</td>\n",
       "      <td>89.0</td>\n",
       "      <td>86</td>\n",
       "      <td>69</td>\n",
       "      <td>82.1</td>\n",
       "    </tr>\n",
       "    <tr>\n",
       "      <th>4</th>\n",
       "      <td>11375199</td>\n",
       "      <td>陳辰威</td>\n",
       "      <td>0932098543</td>\n",
       "      <td>74.0</td>\n",
       "      <td>78</td>\n",
       "      <td>89</td>\n",
       "      <td>79.7</td>\n",
       "    </tr>\n",
       "    <tr>\n",
       "      <th>2</th>\n",
       "      <td>11375022</td>\n",
       "      <td>林玉明</td>\n",
       "      <td>0955235743</td>\n",
       "      <td>78.0</td>\n",
       "      <td>77</td>\n",
       "      <td>66</td>\n",
       "      <td>74.1</td>\n",
       "    </tr>\n",
       "    <tr>\n",
       "      <th>6</th>\n",
       "      <td>10975001</td>\n",
       "      <td>安瑪莉</td>\n",
       "      <td>0920562000</td>\n",
       "      <td>70.0</td>\n",
       "      <td>77</td>\n",
       "      <td>80</td>\n",
       "      <td>75.1</td>\n",
       "    </tr>\n",
       "  </tbody>\n",
       "</table>\n",
       "</div>"
      ],
      "text/plain": [
       "        sid name       phone  django-score  datastructure  python  total\n",
       "1  11375010  陳傑憲  0919123456          81.0             88      77   81.9\n",
       "3  11375055  姜昆雨  0931239097          88.0             87      98   90.7\n",
       "0  11375001  李大明  0922555123          89.0             86      69   82.1\n",
       "4  11375199  陳辰威  0932098543          74.0             78      89   79.7\n",
       "2  11375022  林玉明  0955235743          78.0             77      66   74.1\n",
       "6  10975001  安瑪莉  0920562000          70.0             77      80   75.1"
      ]
     },
     "execution_count": 71,
     "metadata": {},
     "output_type": "execute_result"
    }
   ],
   "source": [
    "#排序 .sort_values()\n",
    "df.sort_values(by='datastructure', ascending=False)"
   ]
  },
  {
   "cell_type": "code",
   "execution_count": 72,
   "id": "d3831dc1",
   "metadata": {},
   "outputs": [
    {
     "data": {
      "text/html": [
       "<div>\n",
       "<style scoped>\n",
       "    .dataframe tbody tr th:only-of-type {\n",
       "        vertical-align: middle;\n",
       "    }\n",
       "\n",
       "    .dataframe tbody tr th {\n",
       "        vertical-align: top;\n",
       "    }\n",
       "\n",
       "    .dataframe thead th {\n",
       "        text-align: right;\n",
       "    }\n",
       "</style>\n",
       "<table border=\"1\" class=\"dataframe\">\n",
       "  <thead>\n",
       "    <tr style=\"text-align: right;\">\n",
       "      <th></th>\n",
       "      <th>sid</th>\n",
       "      <th>name</th>\n",
       "      <th>phone</th>\n",
       "      <th>django-score</th>\n",
       "      <th>datastructure</th>\n",
       "      <th>python</th>\n",
       "      <th>total</th>\n",
       "    </tr>\n",
       "  </thead>\n",
       "  <tbody>\n",
       "    <tr>\n",
       "      <th>1</th>\n",
       "      <td>11375010</td>\n",
       "      <td>陳傑憲</td>\n",
       "      <td>0919123456</td>\n",
       "      <td>81.0</td>\n",
       "      <td>88</td>\n",
       "      <td>77</td>\n",
       "      <td>81.9</td>\n",
       "    </tr>\n",
       "    <tr>\n",
       "      <th>3</th>\n",
       "      <td>11375055</td>\n",
       "      <td>姜昆雨</td>\n",
       "      <td>0931239097</td>\n",
       "      <td>88.0</td>\n",
       "      <td>87</td>\n",
       "      <td>98</td>\n",
       "      <td>90.7</td>\n",
       "    </tr>\n",
       "    <tr>\n",
       "      <th>0</th>\n",
       "      <td>11375001</td>\n",
       "      <td>李大明</td>\n",
       "      <td>0922555123</td>\n",
       "      <td>89.0</td>\n",
       "      <td>86</td>\n",
       "      <td>69</td>\n",
       "      <td>82.1</td>\n",
       "    </tr>\n",
       "    <tr>\n",
       "      <th>4</th>\n",
       "      <td>11375199</td>\n",
       "      <td>陳辰威</td>\n",
       "      <td>0932098543</td>\n",
       "      <td>74.0</td>\n",
       "      <td>78</td>\n",
       "      <td>89</td>\n",
       "      <td>79.7</td>\n",
       "    </tr>\n",
       "    <tr>\n",
       "      <th>6</th>\n",
       "      <td>10975001</td>\n",
       "      <td>安瑪莉</td>\n",
       "      <td>0920562000</td>\n",
       "      <td>70.0</td>\n",
       "      <td>77</td>\n",
       "      <td>80</td>\n",
       "      <td>75.1</td>\n",
       "    </tr>\n",
       "    <tr>\n",
       "      <th>2</th>\n",
       "      <td>11375022</td>\n",
       "      <td>林玉明</td>\n",
       "      <td>0955235743</td>\n",
       "      <td>78.0</td>\n",
       "      <td>77</td>\n",
       "      <td>66</td>\n",
       "      <td>74.1</td>\n",
       "    </tr>\n",
       "  </tbody>\n",
       "</table>\n",
       "</div>"
      ],
      "text/plain": [
       "        sid name       phone  django-score  datastructure  python  total\n",
       "1  11375010  陳傑憲  0919123456          81.0             88      77   81.9\n",
       "3  11375055  姜昆雨  0931239097          88.0             87      98   90.7\n",
       "0  11375001  李大明  0922555123          89.0             86      69   82.1\n",
       "4  11375199  陳辰威  0932098543          74.0             78      89   79.7\n",
       "6  10975001  安瑪莉  0920562000          70.0             77      80   75.1\n",
       "2  11375022  林玉明  0955235743          78.0             77      66   74.1"
      ]
     },
     "execution_count": 72,
     "metadata": {},
     "output_type": "execute_result"
    }
   ],
   "source": [
    "df.sort_values(by=['datastructure', 'python'], ascending=[False, False])"
   ]
  },
  {
   "cell_type": "markdown",
   "id": "9d41f958",
   "metadata": {},
   "source": [
    "### 過濾資料"
   ]
  },
  {
   "cell_type": "code",
   "execution_count": 73,
   "id": "e7a474ab",
   "metadata": {},
   "outputs": [
    {
     "data": {
      "text/plain": [
       "0    False\n",
       "1    False\n",
       "2    False\n",
       "3     True\n",
       "4     True\n",
       "6     True\n",
       "Name: python, dtype: bool"
      ]
     },
     "execution_count": 73,
     "metadata": {},
     "output_type": "execute_result"
    }
   ],
   "source": [
    "#利用boolean運算式過濾資料\n",
    "filter = df['python'] >= 80\n",
    "filter"
   ]
  },
  {
   "cell_type": "code",
   "execution_count": 74,
   "id": "5c23b101",
   "metadata": {},
   "outputs": [
    {
     "data": {
      "text/html": [
       "<div>\n",
       "<style scoped>\n",
       "    .dataframe tbody tr th:only-of-type {\n",
       "        vertical-align: middle;\n",
       "    }\n",
       "\n",
       "    .dataframe tbody tr th {\n",
       "        vertical-align: top;\n",
       "    }\n",
       "\n",
       "    .dataframe thead th {\n",
       "        text-align: right;\n",
       "    }\n",
       "</style>\n",
       "<table border=\"1\" class=\"dataframe\">\n",
       "  <thead>\n",
       "    <tr style=\"text-align: right;\">\n",
       "      <th></th>\n",
       "      <th>sid</th>\n",
       "      <th>name</th>\n",
       "      <th>phone</th>\n",
       "      <th>django-score</th>\n",
       "      <th>datastructure</th>\n",
       "      <th>python</th>\n",
       "      <th>total</th>\n",
       "    </tr>\n",
       "  </thead>\n",
       "  <tbody>\n",
       "    <tr>\n",
       "      <th>3</th>\n",
       "      <td>11375055</td>\n",
       "      <td>姜昆雨</td>\n",
       "      <td>0931239097</td>\n",
       "      <td>88.0</td>\n",
       "      <td>87</td>\n",
       "      <td>98</td>\n",
       "      <td>90.7</td>\n",
       "    </tr>\n",
       "    <tr>\n",
       "      <th>4</th>\n",
       "      <td>11375199</td>\n",
       "      <td>陳辰威</td>\n",
       "      <td>0932098543</td>\n",
       "      <td>74.0</td>\n",
       "      <td>78</td>\n",
       "      <td>89</td>\n",
       "      <td>79.7</td>\n",
       "    </tr>\n",
       "    <tr>\n",
       "      <th>6</th>\n",
       "      <td>10975001</td>\n",
       "      <td>安瑪莉</td>\n",
       "      <td>0920562000</td>\n",
       "      <td>70.0</td>\n",
       "      <td>77</td>\n",
       "      <td>80</td>\n",
       "      <td>75.1</td>\n",
       "    </tr>\n",
       "  </tbody>\n",
       "</table>\n",
       "</div>"
      ],
      "text/plain": [
       "        sid name       phone  django-score  datastructure  python  total\n",
       "3  11375055  姜昆雨  0931239097          88.0             87      98   90.7\n",
       "4  11375199  陳辰威  0932098543          74.0             78      89   79.7\n",
       "6  10975001  安瑪莉  0920562000          70.0             77      80   75.1"
      ]
     },
     "execution_count": 74,
     "metadata": {},
     "output_type": "execute_result"
    }
   ],
   "source": [
    "df[filter]"
   ]
  },
  {
   "cell_type": "code",
   "execution_count": 75,
   "id": "cb66b923",
   "metadata": {},
   "outputs": [
    {
     "data": {
      "text/html": [
       "<div>\n",
       "<style scoped>\n",
       "    .dataframe tbody tr th:only-of-type {\n",
       "        vertical-align: middle;\n",
       "    }\n",
       "\n",
       "    .dataframe tbody tr th {\n",
       "        vertical-align: top;\n",
       "    }\n",
       "\n",
       "    .dataframe thead th {\n",
       "        text-align: right;\n",
       "    }\n",
       "</style>\n",
       "<table border=\"1\" class=\"dataframe\">\n",
       "  <thead>\n",
       "    <tr style=\"text-align: right;\">\n",
       "      <th></th>\n",
       "      <th>sid</th>\n",
       "      <th>name</th>\n",
       "      <th>phone</th>\n",
       "      <th>django-score</th>\n",
       "      <th>datastructure</th>\n",
       "      <th>python</th>\n",
       "      <th>total</th>\n",
       "    </tr>\n",
       "  </thead>\n",
       "  <tbody>\n",
       "    <tr>\n",
       "      <th>3</th>\n",
       "      <td>11375055</td>\n",
       "      <td>姜昆雨</td>\n",
       "      <td>0931239097</td>\n",
       "      <td>88.0</td>\n",
       "      <td>87</td>\n",
       "      <td>98</td>\n",
       "      <td>90.7</td>\n",
       "    </tr>\n",
       "  </tbody>\n",
       "</table>\n",
       "</div>"
      ],
      "text/plain": [
       "        sid name       phone  django-score  datastructure  python  total\n",
       "3  11375055  姜昆雨  0931239097          88.0             87      98   90.7"
      ]
     },
     "execution_count": 75,
     "metadata": {},
     "output_type": "execute_result"
    }
   ],
   "source": [
    "df[(df['django-score']>=80) & (df['python']>80)] #每個不林運算式用小括號定義"
   ]
  },
  {
   "cell_type": "markdown",
   "id": "552f652f",
   "metadata": {},
   "source": [
    "### 統計資料"
   ]
  },
  {
   "cell_type": "code",
   "execution_count": 76,
   "id": "db5ac3bd",
   "metadata": {},
   "outputs": [
    {
     "data": {
      "text/html": [
       "<div>\n",
       "<style scoped>\n",
       "    .dataframe tbody tr th:only-of-type {\n",
       "        vertical-align: middle;\n",
       "    }\n",
       "\n",
       "    .dataframe tbody tr th {\n",
       "        vertical-align: top;\n",
       "    }\n",
       "\n",
       "    .dataframe thead th {\n",
       "        text-align: right;\n",
       "    }\n",
       "</style>\n",
       "<table border=\"1\" class=\"dataframe\">\n",
       "  <thead>\n",
       "    <tr style=\"text-align: right;\">\n",
       "      <th></th>\n",
       "      <th>django-score</th>\n",
       "      <th>datastructure</th>\n",
       "      <th>python</th>\n",
       "      <th>total</th>\n",
       "    </tr>\n",
       "  </thead>\n",
       "  <tbody>\n",
       "    <tr>\n",
       "      <th>count</th>\n",
       "      <td>6.000000</td>\n",
       "      <td>6.000000</td>\n",
       "      <td>6.000000</td>\n",
       "      <td>6.000000</td>\n",
       "    </tr>\n",
       "    <tr>\n",
       "      <th>mean</th>\n",
       "      <td>80.000000</td>\n",
       "      <td>82.166667</td>\n",
       "      <td>79.833333</td>\n",
       "      <td>80.600000</td>\n",
       "    </tr>\n",
       "    <tr>\n",
       "      <th>std</th>\n",
       "      <td>7.563068</td>\n",
       "      <td>5.344779</td>\n",
       "      <td>12.089941</td>\n",
       "      <td>5.987654</td>\n",
       "    </tr>\n",
       "    <tr>\n",
       "      <th>min</th>\n",
       "      <td>70.000000</td>\n",
       "      <td>77.000000</td>\n",
       "      <td>66.000000</td>\n",
       "      <td>74.100000</td>\n",
       "    </tr>\n",
       "    <tr>\n",
       "      <th>25%</th>\n",
       "      <td>75.000000</td>\n",
       "      <td>77.250000</td>\n",
       "      <td>71.000000</td>\n",
       "      <td>76.250000</td>\n",
       "    </tr>\n",
       "    <tr>\n",
       "      <th>50%</th>\n",
       "      <td>79.500000</td>\n",
       "      <td>82.000000</td>\n",
       "      <td>78.500000</td>\n",
       "      <td>80.800000</td>\n",
       "    </tr>\n",
       "    <tr>\n",
       "      <th>75%</th>\n",
       "      <td>86.250000</td>\n",
       "      <td>86.750000</td>\n",
       "      <td>86.750000</td>\n",
       "      <td>82.050000</td>\n",
       "    </tr>\n",
       "    <tr>\n",
       "      <th>max</th>\n",
       "      <td>89.000000</td>\n",
       "      <td>88.000000</td>\n",
       "      <td>98.000000</td>\n",
       "      <td>90.700000</td>\n",
       "    </tr>\n",
       "  </tbody>\n",
       "</table>\n",
       "</div>"
      ],
      "text/plain": [
       "       django-score  datastructure     python      total\n",
       "count      6.000000       6.000000   6.000000   6.000000\n",
       "mean      80.000000      82.166667  79.833333  80.600000\n",
       "std        7.563068       5.344779  12.089941   5.987654\n",
       "min       70.000000      77.000000  66.000000  74.100000\n",
       "25%       75.000000      77.250000  71.000000  76.250000\n",
       "50%       79.500000      82.000000  78.500000  80.800000\n",
       "75%       86.250000      86.750000  86.750000  82.050000\n",
       "max       89.000000      88.000000  98.000000  90.700000"
      ]
     },
     "execution_count": 76,
     "metadata": {},
     "output_type": "execute_result"
    }
   ],
   "source": [
    "df.describe() #顯示數值資料的統計值"
   ]
  },
  {
   "cell_type": "code",
   "execution_count": 77,
   "id": "8cc33aca",
   "metadata": {},
   "outputs": [
    {
     "data": {
      "text/plain": [
       "django-score     80.000000\n",
       "datastructure    82.166667\n",
       "python           79.833333\n",
       "dtype: float64"
      ]
     },
     "execution_count": 77,
     "metadata": {},
     "output_type": "execute_result"
    }
   ],
   "source": [
    "score.mean()"
   ]
  },
  {
   "cell_type": "code",
   "execution_count": 78,
   "id": "bf9416ab",
   "metadata": {},
   "outputs": [
    {
     "data": {
      "text/plain": [
       "django-score      7.563068\n",
       "datastructure     5.344779\n",
       "python           12.089941\n",
       "dtype: float64"
      ]
     },
     "execution_count": 78,
     "metadata": {},
     "output_type": "execute_result"
    }
   ],
   "source": [
    "score.std()"
   ]
  },
  {
   "cell_type": "code",
   "execution_count": 79,
   "id": "aa644641",
   "metadata": {},
   "outputs": [
    {
     "data": {
      "text/plain": [
       "django-score      57.200000\n",
       "datastructure     28.566667\n",
       "python           146.166667\n",
       "dtype: float64"
      ]
     },
     "execution_count": 79,
     "metadata": {},
     "output_type": "execute_result"
    }
   ],
   "source": [
    "score.var()"
   ]
  },
  {
   "cell_type": "code",
   "execution_count": 80,
   "id": "252164c0",
   "metadata": {},
   "outputs": [
    {
     "data": {
      "text/plain": [
       "82.16666666666667"
      ]
     },
     "execution_count": 80,
     "metadata": {},
     "output_type": "execute_result"
    }
   ],
   "source": [
    "df['datastructure'].mean()"
   ]
  },
  {
   "cell_type": "markdown",
   "id": "6a8c9376",
   "metadata": {},
   "source": [
    "### 處理遺失值"
   ]
  },
  {
   "cell_type": "code",
   "execution_count": 81,
   "id": "5108418b",
   "metadata": {},
   "outputs": [],
   "source": [
    "joe = ['10275111', '張喬一', '0911982654', 77, np.NaN, 98, np.NaN]"
   ]
  },
  {
   "cell_type": "code",
   "execution_count": 82,
   "id": "cf46c870",
   "metadata": {},
   "outputs": [],
   "source": [
    "df.loc[len(df)] = joe"
   ]
  },
  {
   "cell_type": "code",
   "execution_count": 83,
   "id": "6af08fa6",
   "metadata": {},
   "outputs": [
    {
     "data": {
      "text/html": [
       "<div>\n",
       "<style scoped>\n",
       "    .dataframe tbody tr th:only-of-type {\n",
       "        vertical-align: middle;\n",
       "    }\n",
       "\n",
       "    .dataframe tbody tr th {\n",
       "        vertical-align: top;\n",
       "    }\n",
       "\n",
       "    .dataframe thead th {\n",
       "        text-align: right;\n",
       "    }\n",
       "</style>\n",
       "<table border=\"1\" class=\"dataframe\">\n",
       "  <thead>\n",
       "    <tr style=\"text-align: right;\">\n",
       "      <th></th>\n",
       "      <th>sid</th>\n",
       "      <th>name</th>\n",
       "      <th>phone</th>\n",
       "      <th>django-score</th>\n",
       "      <th>datastructure</th>\n",
       "      <th>python</th>\n",
       "      <th>total</th>\n",
       "    </tr>\n",
       "  </thead>\n",
       "  <tbody>\n",
       "    <tr>\n",
       "      <th>0</th>\n",
       "      <td>11375001</td>\n",
       "      <td>李大明</td>\n",
       "      <td>0922555123</td>\n",
       "      <td>89.0</td>\n",
       "      <td>86.0</td>\n",
       "      <td>69</td>\n",
       "      <td>82.1</td>\n",
       "    </tr>\n",
       "    <tr>\n",
       "      <th>1</th>\n",
       "      <td>11375010</td>\n",
       "      <td>陳傑憲</td>\n",
       "      <td>0919123456</td>\n",
       "      <td>81.0</td>\n",
       "      <td>88.0</td>\n",
       "      <td>77</td>\n",
       "      <td>81.9</td>\n",
       "    </tr>\n",
       "    <tr>\n",
       "      <th>2</th>\n",
       "      <td>11375022</td>\n",
       "      <td>林玉明</td>\n",
       "      <td>0955235743</td>\n",
       "      <td>78.0</td>\n",
       "      <td>77.0</td>\n",
       "      <td>66</td>\n",
       "      <td>74.1</td>\n",
       "    </tr>\n",
       "    <tr>\n",
       "      <th>3</th>\n",
       "      <td>11375055</td>\n",
       "      <td>姜昆雨</td>\n",
       "      <td>0931239097</td>\n",
       "      <td>88.0</td>\n",
       "      <td>87.0</td>\n",
       "      <td>98</td>\n",
       "      <td>90.7</td>\n",
       "    </tr>\n",
       "    <tr>\n",
       "      <th>4</th>\n",
       "      <td>11375199</td>\n",
       "      <td>陳辰威</td>\n",
       "      <td>0932098543</td>\n",
       "      <td>74.0</td>\n",
       "      <td>78.0</td>\n",
       "      <td>89</td>\n",
       "      <td>79.7</td>\n",
       "    </tr>\n",
       "    <tr>\n",
       "      <th>6</th>\n",
       "      <td>10275111</td>\n",
       "      <td>張喬一</td>\n",
       "      <td>0911982654</td>\n",
       "      <td>77.0</td>\n",
       "      <td>NaN</td>\n",
       "      <td>98</td>\n",
       "      <td>NaN</td>\n",
       "    </tr>\n",
       "  </tbody>\n",
       "</table>\n",
       "</div>"
      ],
      "text/plain": [
       "        sid name       phone  django-score  datastructure  python  total\n",
       "0  11375001  李大明  0922555123          89.0           86.0      69   82.1\n",
       "1  11375010  陳傑憲  0919123456          81.0           88.0      77   81.9\n",
       "2  11375022  林玉明  0955235743          78.0           77.0      66   74.1\n",
       "3  11375055  姜昆雨  0931239097          88.0           87.0      98   90.7\n",
       "4  11375199  陳辰威  0932098543          74.0           78.0      89   79.7\n",
       "6  10275111  張喬一  0911982654          77.0            NaN      98    NaN"
      ]
     },
     "execution_count": 83,
     "metadata": {},
     "output_type": "execute_result"
    }
   ],
   "source": [
    "df"
   ]
  },
  {
   "cell_type": "code",
   "execution_count": 84,
   "id": "ff6db2a0",
   "metadata": {},
   "outputs": [
    {
     "data": {
      "text/plain": [
       "83.2"
      ]
     },
     "execution_count": 84,
     "metadata": {},
     "output_type": "execute_result"
    }
   ],
   "source": [
    "df['datastructure'].mean()"
   ]
  },
  {
   "cell_type": "code",
   "execution_count": 85,
   "id": "2b5508b4",
   "metadata": {},
   "outputs": [
    {
     "data": {
      "text/plain": [
       "nan"
      ]
     },
     "execution_count": 85,
     "metadata": {},
     "output_type": "execute_result"
    }
   ],
   "source": [
    "# if you instruct .mean() not to skip nan values with skipna=False, then it will consider them and return nan if there’s any missing value among the data.\n",
    "df['datastructure'].mean(skipna=False) "
   ]
  },
  {
   "cell_type": "code",
   "execution_count": 86,
   "id": "2ba3505c",
   "metadata": {},
   "outputs": [
    {
     "data": {
      "text/html": [
       "<div>\n",
       "<style scoped>\n",
       "    .dataframe tbody tr th:only-of-type {\n",
       "        vertical-align: middle;\n",
       "    }\n",
       "\n",
       "    .dataframe tbody tr th {\n",
       "        vertical-align: top;\n",
       "    }\n",
       "\n",
       "    .dataframe thead th {\n",
       "        text-align: right;\n",
       "    }\n",
       "</style>\n",
       "<table border=\"1\" class=\"dataframe\">\n",
       "  <thead>\n",
       "    <tr style=\"text-align: right;\">\n",
       "      <th></th>\n",
       "      <th>sid</th>\n",
       "      <th>name</th>\n",
       "      <th>phone</th>\n",
       "      <th>django-score</th>\n",
       "      <th>datastructure</th>\n",
       "      <th>python</th>\n",
       "      <th>total</th>\n",
       "    </tr>\n",
       "  </thead>\n",
       "  <tbody>\n",
       "    <tr>\n",
       "      <th>0</th>\n",
       "      <td>11375001</td>\n",
       "      <td>李大明</td>\n",
       "      <td>0922555123</td>\n",
       "      <td>89.0</td>\n",
       "      <td>86.0</td>\n",
       "      <td>69</td>\n",
       "      <td>82.1</td>\n",
       "    </tr>\n",
       "    <tr>\n",
       "      <th>1</th>\n",
       "      <td>11375010</td>\n",
       "      <td>陳傑憲</td>\n",
       "      <td>0919123456</td>\n",
       "      <td>81.0</td>\n",
       "      <td>88.0</td>\n",
       "      <td>77</td>\n",
       "      <td>81.9</td>\n",
       "    </tr>\n",
       "    <tr>\n",
       "      <th>2</th>\n",
       "      <td>11375022</td>\n",
       "      <td>林玉明</td>\n",
       "      <td>0955235743</td>\n",
       "      <td>78.0</td>\n",
       "      <td>77.0</td>\n",
       "      <td>66</td>\n",
       "      <td>74.1</td>\n",
       "    </tr>\n",
       "    <tr>\n",
       "      <th>3</th>\n",
       "      <td>11375055</td>\n",
       "      <td>姜昆雨</td>\n",
       "      <td>0931239097</td>\n",
       "      <td>88.0</td>\n",
       "      <td>87.0</td>\n",
       "      <td>98</td>\n",
       "      <td>90.7</td>\n",
       "    </tr>\n",
       "    <tr>\n",
       "      <th>4</th>\n",
       "      <td>11375199</td>\n",
       "      <td>陳辰威</td>\n",
       "      <td>0932098543</td>\n",
       "      <td>74.0</td>\n",
       "      <td>78.0</td>\n",
       "      <td>89</td>\n",
       "      <td>79.7</td>\n",
       "    </tr>\n",
       "    <tr>\n",
       "      <th>6</th>\n",
       "      <td>10275111</td>\n",
       "      <td>張喬一</td>\n",
       "      <td>0911982654</td>\n",
       "      <td>77.0</td>\n",
       "      <td>0.0</td>\n",
       "      <td>98</td>\n",
       "      <td>0.0</td>\n",
       "    </tr>\n",
       "  </tbody>\n",
       "</table>\n",
       "</div>"
      ],
      "text/plain": [
       "        sid name       phone  django-score  datastructure  python  total\n",
       "0  11375001  李大明  0922555123          89.0           86.0      69   82.1\n",
       "1  11375010  陳傑憲  0919123456          81.0           88.0      77   81.9\n",
       "2  11375022  林玉明  0955235743          78.0           77.0      66   74.1\n",
       "3  11375055  姜昆雨  0931239097          88.0           87.0      98   90.7\n",
       "4  11375199  陳辰威  0932098543          74.0           78.0      89   79.7\n",
       "6  10275111  張喬一  0911982654          77.0            0.0      98    0.0"
      ]
     },
     "execution_count": 86,
     "metadata": {},
     "output_type": "execute_result"
    }
   ],
   "source": [
    "df.fillna(value=0)"
   ]
  },
  {
   "cell_type": "code",
   "execution_count": 87,
   "id": "2040e3e8",
   "metadata": {},
   "outputs": [
    {
     "name": "stderr",
     "output_type": "stream",
     "text": [
      "C:\\Users\\User\\AppData\\Local\\Temp\\ipykernel_11224\\1193302488.py:1: FutureWarning: DataFrame.fillna with 'method' is deprecated and will raise in a future version. Use obj.ffill() or obj.bfill() instead.\n",
      "  df.fillna(method='ffill')\n"
     ]
    },
    {
     "data": {
      "text/html": [
       "<div>\n",
       "<style scoped>\n",
       "    .dataframe tbody tr th:only-of-type {\n",
       "        vertical-align: middle;\n",
       "    }\n",
       "\n",
       "    .dataframe tbody tr th {\n",
       "        vertical-align: top;\n",
       "    }\n",
       "\n",
       "    .dataframe thead th {\n",
       "        text-align: right;\n",
       "    }\n",
       "</style>\n",
       "<table border=\"1\" class=\"dataframe\">\n",
       "  <thead>\n",
       "    <tr style=\"text-align: right;\">\n",
       "      <th></th>\n",
       "      <th>sid</th>\n",
       "      <th>name</th>\n",
       "      <th>phone</th>\n",
       "      <th>django-score</th>\n",
       "      <th>datastructure</th>\n",
       "      <th>python</th>\n",
       "      <th>total</th>\n",
       "    </tr>\n",
       "  </thead>\n",
       "  <tbody>\n",
       "    <tr>\n",
       "      <th>0</th>\n",
       "      <td>11375001</td>\n",
       "      <td>李大明</td>\n",
       "      <td>0922555123</td>\n",
       "      <td>89.0</td>\n",
       "      <td>86.0</td>\n",
       "      <td>69</td>\n",
       "      <td>82.1</td>\n",
       "    </tr>\n",
       "    <tr>\n",
       "      <th>1</th>\n",
       "      <td>11375010</td>\n",
       "      <td>陳傑憲</td>\n",
       "      <td>0919123456</td>\n",
       "      <td>81.0</td>\n",
       "      <td>88.0</td>\n",
       "      <td>77</td>\n",
       "      <td>81.9</td>\n",
       "    </tr>\n",
       "    <tr>\n",
       "      <th>2</th>\n",
       "      <td>11375022</td>\n",
       "      <td>林玉明</td>\n",
       "      <td>0955235743</td>\n",
       "      <td>78.0</td>\n",
       "      <td>77.0</td>\n",
       "      <td>66</td>\n",
       "      <td>74.1</td>\n",
       "    </tr>\n",
       "    <tr>\n",
       "      <th>3</th>\n",
       "      <td>11375055</td>\n",
       "      <td>姜昆雨</td>\n",
       "      <td>0931239097</td>\n",
       "      <td>88.0</td>\n",
       "      <td>87.0</td>\n",
       "      <td>98</td>\n",
       "      <td>90.7</td>\n",
       "    </tr>\n",
       "    <tr>\n",
       "      <th>4</th>\n",
       "      <td>11375199</td>\n",
       "      <td>陳辰威</td>\n",
       "      <td>0932098543</td>\n",
       "      <td>74.0</td>\n",
       "      <td>78.0</td>\n",
       "      <td>89</td>\n",
       "      <td>79.7</td>\n",
       "    </tr>\n",
       "    <tr>\n",
       "      <th>6</th>\n",
       "      <td>10275111</td>\n",
       "      <td>張喬一</td>\n",
       "      <td>0911982654</td>\n",
       "      <td>77.0</td>\n",
       "      <td>78.0</td>\n",
       "      <td>98</td>\n",
       "      <td>79.7</td>\n",
       "    </tr>\n",
       "  </tbody>\n",
       "</table>\n",
       "</div>"
      ],
      "text/plain": [
       "        sid name       phone  django-score  datastructure  python  total\n",
       "0  11375001  李大明  0922555123          89.0           86.0      69   82.1\n",
       "1  11375010  陳傑憲  0919123456          81.0           88.0      77   81.9\n",
       "2  11375022  林玉明  0955235743          78.0           77.0      66   74.1\n",
       "3  11375055  姜昆雨  0931239097          88.0           87.0      98   90.7\n",
       "4  11375199  陳辰威  0932098543          74.0           78.0      89   79.7\n",
       "6  10275111  張喬一  0911982654          77.0           78.0      98   79.7"
      ]
     },
     "execution_count": 87,
     "metadata": {},
     "output_type": "execute_result"
    }
   ],
   "source": [
    "df.fillna(method='ffill')"
   ]
  },
  {
   "cell_type": "code",
   "execution_count": 88,
   "id": "08b12d9d",
   "metadata": {},
   "outputs": [
    {
     "name": "stderr",
     "output_type": "stream",
     "text": [
      "C:\\Users\\User\\AppData\\Local\\Temp\\ipykernel_11224\\2831856154.py:1: FutureWarning: DataFrame.fillna with 'method' is deprecated and will raise in a future version. Use obj.ffill() or obj.bfill() instead.\n",
      "  df.fillna(method='bfill')\n"
     ]
    },
    {
     "data": {
      "text/html": [
       "<div>\n",
       "<style scoped>\n",
       "    .dataframe tbody tr th:only-of-type {\n",
       "        vertical-align: middle;\n",
       "    }\n",
       "\n",
       "    .dataframe tbody tr th {\n",
       "        vertical-align: top;\n",
       "    }\n",
       "\n",
       "    .dataframe thead th {\n",
       "        text-align: right;\n",
       "    }\n",
       "</style>\n",
       "<table border=\"1\" class=\"dataframe\">\n",
       "  <thead>\n",
       "    <tr style=\"text-align: right;\">\n",
       "      <th></th>\n",
       "      <th>sid</th>\n",
       "      <th>name</th>\n",
       "      <th>phone</th>\n",
       "      <th>django-score</th>\n",
       "      <th>datastructure</th>\n",
       "      <th>python</th>\n",
       "      <th>total</th>\n",
       "    </tr>\n",
       "  </thead>\n",
       "  <tbody>\n",
       "    <tr>\n",
       "      <th>0</th>\n",
       "      <td>11375001</td>\n",
       "      <td>李大明</td>\n",
       "      <td>0922555123</td>\n",
       "      <td>89.0</td>\n",
       "      <td>86.0</td>\n",
       "      <td>69</td>\n",
       "      <td>82.1</td>\n",
       "    </tr>\n",
       "    <tr>\n",
       "      <th>1</th>\n",
       "      <td>11375010</td>\n",
       "      <td>陳傑憲</td>\n",
       "      <td>0919123456</td>\n",
       "      <td>81.0</td>\n",
       "      <td>88.0</td>\n",
       "      <td>77</td>\n",
       "      <td>81.9</td>\n",
       "    </tr>\n",
       "    <tr>\n",
       "      <th>2</th>\n",
       "      <td>11375022</td>\n",
       "      <td>林玉明</td>\n",
       "      <td>0955235743</td>\n",
       "      <td>78.0</td>\n",
       "      <td>77.0</td>\n",
       "      <td>66</td>\n",
       "      <td>74.1</td>\n",
       "    </tr>\n",
       "    <tr>\n",
       "      <th>3</th>\n",
       "      <td>11375055</td>\n",
       "      <td>姜昆雨</td>\n",
       "      <td>0931239097</td>\n",
       "      <td>88.0</td>\n",
       "      <td>87.0</td>\n",
       "      <td>98</td>\n",
       "      <td>90.7</td>\n",
       "    </tr>\n",
       "    <tr>\n",
       "      <th>4</th>\n",
       "      <td>11375199</td>\n",
       "      <td>陳辰威</td>\n",
       "      <td>0932098543</td>\n",
       "      <td>74.0</td>\n",
       "      <td>78.0</td>\n",
       "      <td>89</td>\n",
       "      <td>79.7</td>\n",
       "    </tr>\n",
       "    <tr>\n",
       "      <th>6</th>\n",
       "      <td>10275111</td>\n",
       "      <td>張喬一</td>\n",
       "      <td>0911982654</td>\n",
       "      <td>77.0</td>\n",
       "      <td>NaN</td>\n",
       "      <td>98</td>\n",
       "      <td>NaN</td>\n",
       "    </tr>\n",
       "  </tbody>\n",
       "</table>\n",
       "</div>"
      ],
      "text/plain": [
       "        sid name       phone  django-score  datastructure  python  total\n",
       "0  11375001  李大明  0922555123          89.0           86.0      69   82.1\n",
       "1  11375010  陳傑憲  0919123456          81.0           88.0      77   81.9\n",
       "2  11375022  林玉明  0955235743          78.0           77.0      66   74.1\n",
       "3  11375055  姜昆雨  0931239097          88.0           87.0      98   90.7\n",
       "4  11375199  陳辰威  0932098543          74.0           78.0      89   79.7\n",
       "6  10275111  張喬一  0911982654          77.0            NaN      98    NaN"
      ]
     },
     "execution_count": 88,
     "metadata": {},
     "output_type": "execute_result"
    }
   ],
   "source": [
    "df.fillna(method='bfill')"
   ]
  },
  {
   "cell_type": "code",
   "execution_count": 89,
   "id": "b6ca275c",
   "metadata": {},
   "outputs": [
    {
     "name": "stderr",
     "output_type": "stream",
     "text": [
      "C:\\Users\\User\\AppData\\Local\\Temp\\ipykernel_11224\\4002874584.py:1: FutureWarning: DataFrame.interpolate with object dtype is deprecated and will raise in a future version. Call obj.infer_objects(copy=False) before interpolating instead.\n",
      "  df.interpolate()\n"
     ]
    },
    {
     "data": {
      "text/html": [
       "<div>\n",
       "<style scoped>\n",
       "    .dataframe tbody tr th:only-of-type {\n",
       "        vertical-align: middle;\n",
       "    }\n",
       "\n",
       "    .dataframe tbody tr th {\n",
       "        vertical-align: top;\n",
       "    }\n",
       "\n",
       "    .dataframe thead th {\n",
       "        text-align: right;\n",
       "    }\n",
       "</style>\n",
       "<table border=\"1\" class=\"dataframe\">\n",
       "  <thead>\n",
       "    <tr style=\"text-align: right;\">\n",
       "      <th></th>\n",
       "      <th>sid</th>\n",
       "      <th>name</th>\n",
       "      <th>phone</th>\n",
       "      <th>django-score</th>\n",
       "      <th>datastructure</th>\n",
       "      <th>python</th>\n",
       "      <th>total</th>\n",
       "    </tr>\n",
       "  </thead>\n",
       "  <tbody>\n",
       "    <tr>\n",
       "      <th>0</th>\n",
       "      <td>11375001</td>\n",
       "      <td>李大明</td>\n",
       "      <td>0922555123</td>\n",
       "      <td>89.0</td>\n",
       "      <td>86.0</td>\n",
       "      <td>69</td>\n",
       "      <td>82.1</td>\n",
       "    </tr>\n",
       "    <tr>\n",
       "      <th>1</th>\n",
       "      <td>11375010</td>\n",
       "      <td>陳傑憲</td>\n",
       "      <td>0919123456</td>\n",
       "      <td>81.0</td>\n",
       "      <td>88.0</td>\n",
       "      <td>77</td>\n",
       "      <td>81.9</td>\n",
       "    </tr>\n",
       "    <tr>\n",
       "      <th>2</th>\n",
       "      <td>11375022</td>\n",
       "      <td>林玉明</td>\n",
       "      <td>0955235743</td>\n",
       "      <td>78.0</td>\n",
       "      <td>77.0</td>\n",
       "      <td>66</td>\n",
       "      <td>74.1</td>\n",
       "    </tr>\n",
       "    <tr>\n",
       "      <th>3</th>\n",
       "      <td>11375055</td>\n",
       "      <td>姜昆雨</td>\n",
       "      <td>0931239097</td>\n",
       "      <td>88.0</td>\n",
       "      <td>87.0</td>\n",
       "      <td>98</td>\n",
       "      <td>90.7</td>\n",
       "    </tr>\n",
       "    <tr>\n",
       "      <th>4</th>\n",
       "      <td>11375199</td>\n",
       "      <td>陳辰威</td>\n",
       "      <td>0932098543</td>\n",
       "      <td>74.0</td>\n",
       "      <td>78.0</td>\n",
       "      <td>89</td>\n",
       "      <td>79.7</td>\n",
       "    </tr>\n",
       "    <tr>\n",
       "      <th>6</th>\n",
       "      <td>10275111</td>\n",
       "      <td>張喬一</td>\n",
       "      <td>0911982654</td>\n",
       "      <td>77.0</td>\n",
       "      <td>78.0</td>\n",
       "      <td>98</td>\n",
       "      <td>79.7</td>\n",
       "    </tr>\n",
       "  </tbody>\n",
       "</table>\n",
       "</div>"
      ],
      "text/plain": [
       "        sid name       phone  django-score  datastructure  python  total\n",
       "0  11375001  李大明  0922555123          89.0           86.0      69   82.1\n",
       "1  11375010  陳傑憲  0919123456          81.0           88.0      77   81.9\n",
       "2  11375022  林玉明  0955235743          78.0           77.0      66   74.1\n",
       "3  11375055  姜昆雨  0931239097          88.0           87.0      98   90.7\n",
       "4  11375199  陳辰威  0932098543          74.0           78.0      89   79.7\n",
       "6  10275111  張喬一  0911982654          77.0           78.0      98   79.7"
      ]
     },
     "execution_count": 89,
     "metadata": {},
     "output_type": "execute_result"
    }
   ],
   "source": [
    "df.interpolate()"
   ]
  },
  {
   "cell_type": "code",
   "execution_count": 90,
   "id": "6af960a7",
   "metadata": {},
   "outputs": [
    {
     "data": {
      "text/html": [
       "<div>\n",
       "<style scoped>\n",
       "    .dataframe tbody tr th:only-of-type {\n",
       "        vertical-align: middle;\n",
       "    }\n",
       "\n",
       "    .dataframe tbody tr th {\n",
       "        vertical-align: top;\n",
       "    }\n",
       "\n",
       "    .dataframe thead th {\n",
       "        text-align: right;\n",
       "    }\n",
       "</style>\n",
       "<table border=\"1\" class=\"dataframe\">\n",
       "  <thead>\n",
       "    <tr style=\"text-align: right;\">\n",
       "      <th></th>\n",
       "      <th>sid</th>\n",
       "      <th>name</th>\n",
       "      <th>phone</th>\n",
       "      <th>django-score</th>\n",
       "      <th>datastructure</th>\n",
       "      <th>python</th>\n",
       "      <th>total</th>\n",
       "    </tr>\n",
       "  </thead>\n",
       "  <tbody>\n",
       "    <tr>\n",
       "      <th>0</th>\n",
       "      <td>11375001</td>\n",
       "      <td>李大明</td>\n",
       "      <td>0922555123</td>\n",
       "      <td>89.0</td>\n",
       "      <td>86.0</td>\n",
       "      <td>69</td>\n",
       "      <td>82.1</td>\n",
       "    </tr>\n",
       "    <tr>\n",
       "      <th>1</th>\n",
       "      <td>11375010</td>\n",
       "      <td>陳傑憲</td>\n",
       "      <td>0919123456</td>\n",
       "      <td>81.0</td>\n",
       "      <td>88.0</td>\n",
       "      <td>77</td>\n",
       "      <td>81.9</td>\n",
       "    </tr>\n",
       "    <tr>\n",
       "      <th>2</th>\n",
       "      <td>11375022</td>\n",
       "      <td>林玉明</td>\n",
       "      <td>0955235743</td>\n",
       "      <td>78.0</td>\n",
       "      <td>77.0</td>\n",
       "      <td>66</td>\n",
       "      <td>74.1</td>\n",
       "    </tr>\n",
       "    <tr>\n",
       "      <th>3</th>\n",
       "      <td>11375055</td>\n",
       "      <td>姜昆雨</td>\n",
       "      <td>0931239097</td>\n",
       "      <td>88.0</td>\n",
       "      <td>87.0</td>\n",
       "      <td>98</td>\n",
       "      <td>90.7</td>\n",
       "    </tr>\n",
       "    <tr>\n",
       "      <th>4</th>\n",
       "      <td>11375199</td>\n",
       "      <td>陳辰威</td>\n",
       "      <td>0932098543</td>\n",
       "      <td>74.0</td>\n",
       "      <td>78.0</td>\n",
       "      <td>89</td>\n",
       "      <td>79.7</td>\n",
       "    </tr>\n",
       "    <tr>\n",
       "      <th>6</th>\n",
       "      <td>10275111</td>\n",
       "      <td>張喬一</td>\n",
       "      <td>0911982654</td>\n",
       "      <td>77.0</td>\n",
       "      <td>NaN</td>\n",
       "      <td>98</td>\n",
       "      <td>NaN</td>\n",
       "    </tr>\n",
       "  </tbody>\n",
       "</table>\n",
       "</div>"
      ],
      "text/plain": [
       "        sid name       phone  django-score  datastructure  python  total\n",
       "0  11375001  李大明  0922555123          89.0           86.0      69   82.1\n",
       "1  11375010  陳傑憲  0919123456          81.0           88.0      77   81.9\n",
       "2  11375022  林玉明  0955235743          78.0           77.0      66   74.1\n",
       "3  11375055  姜昆雨  0931239097          88.0           87.0      98   90.7\n",
       "4  11375199  陳辰威  0932098543          74.0           78.0      89   79.7\n",
       "6  10275111  張喬一  0911982654          77.0            NaN      98    NaN"
      ]
     },
     "execution_count": 90,
     "metadata": {},
     "output_type": "execute_result"
    }
   ],
   "source": [
    "df"
   ]
  },
  {
   "cell_type": "code",
   "execution_count": 92,
   "id": "8b5fcb72",
   "metadata": {},
   "outputs": [
    {
     "data": {
      "text/html": [
       "<div>\n",
       "<style scoped>\n",
       "    .dataframe tbody tr th:only-of-type {\n",
       "        vertical-align: middle;\n",
       "    }\n",
       "\n",
       "    .dataframe tbody tr th {\n",
       "        vertical-align: top;\n",
       "    }\n",
       "\n",
       "    .dataframe thead th {\n",
       "        text-align: right;\n",
       "    }\n",
       "</style>\n",
       "<table border=\"1\" class=\"dataframe\">\n",
       "  <thead>\n",
       "    <tr style=\"text-align: right;\">\n",
       "      <th></th>\n",
       "      <th>sid</th>\n",
       "      <th>name</th>\n",
       "      <th>phone</th>\n",
       "      <th>django-score</th>\n",
       "      <th>datastructure</th>\n",
       "      <th>python</th>\n",
       "      <th>total</th>\n",
       "    </tr>\n",
       "  </thead>\n",
       "  <tbody>\n",
       "    <tr>\n",
       "      <th>0</th>\n",
       "      <td>11375001</td>\n",
       "      <td>李大明</td>\n",
       "      <td>0922555123</td>\n",
       "      <td>89.0</td>\n",
       "      <td>86.0</td>\n",
       "      <td>69</td>\n",
       "      <td>82.1</td>\n",
       "    </tr>\n",
       "    <tr>\n",
       "      <th>1</th>\n",
       "      <td>11375010</td>\n",
       "      <td>陳傑憲</td>\n",
       "      <td>0919123456</td>\n",
       "      <td>81.0</td>\n",
       "      <td>88.0</td>\n",
       "      <td>77</td>\n",
       "      <td>81.9</td>\n",
       "    </tr>\n",
       "    <tr>\n",
       "      <th>2</th>\n",
       "      <td>11375022</td>\n",
       "      <td>林玉明</td>\n",
       "      <td>0955235743</td>\n",
       "      <td>78.0</td>\n",
       "      <td>77.0</td>\n",
       "      <td>66</td>\n",
       "      <td>74.1</td>\n",
       "    </tr>\n",
       "    <tr>\n",
       "      <th>3</th>\n",
       "      <td>11375055</td>\n",
       "      <td>姜昆雨</td>\n",
       "      <td>0931239097</td>\n",
       "      <td>88.0</td>\n",
       "      <td>87.0</td>\n",
       "      <td>98</td>\n",
       "      <td>90.7</td>\n",
       "    </tr>\n",
       "    <tr>\n",
       "      <th>4</th>\n",
       "      <td>11375199</td>\n",
       "      <td>陳辰威</td>\n",
       "      <td>0932098543</td>\n",
       "      <td>74.0</td>\n",
       "      <td>78.0</td>\n",
       "      <td>89</td>\n",
       "      <td>79.7</td>\n",
       "    </tr>\n",
       "  </tbody>\n",
       "</table>\n",
       "</div>"
      ],
      "text/plain": [
       "        sid name       phone  django-score  datastructure  python  total\n",
       "0  11375001  李大明  0922555123          89.0           86.0      69   82.1\n",
       "1  11375010  陳傑憲  0919123456          81.0           88.0      77   81.9\n",
       "2  11375022  林玉明  0955235743          78.0           77.0      66   74.1\n",
       "3  11375055  姜昆雨  0931239097          88.0           87.0      98   90.7\n",
       "4  11375199  陳辰威  0932098543          74.0           78.0      89   79.7"
      ]
     },
     "execution_count": 92,
     "metadata": {},
     "output_type": "execute_result"
    }
   ],
   "source": [
    "df.dropna() #刪除資料中有NaN的哪一筆資料"
   ]
  },
  {
   "cell_type": "code",
   "execution_count": 93,
   "id": "5f4835f4",
   "metadata": {},
   "outputs": [
    {
     "name": "stdout",
     "output_type": "stream",
     "text": [
      "0\n",
      "sid                11375001\n",
      "name                    李大明\n",
      "phone            0922555123\n",
      "django-score           89.0\n",
      "datastructure          86.0\n",
      "python                   69\n",
      "total                  82.1\n",
      "Name: 0, dtype: object\n",
      "\n",
      "1\n",
      "sid                11375010\n",
      "name                    陳傑憲\n",
      "phone            0919123456\n",
      "django-score           81.0\n",
      "datastructure          88.0\n",
      "python                   77\n",
      "total                  81.9\n",
      "Name: 1, dtype: object\n",
      "\n",
      "2\n",
      "sid                11375022\n",
      "name                    林玉明\n",
      "phone            0955235743\n",
      "django-score           78.0\n",
      "datastructure          77.0\n",
      "python                   66\n",
      "total                  74.1\n",
      "Name: 2, dtype: object\n",
      "\n",
      "3\n",
      "sid                11375055\n",
      "name                    姜昆雨\n",
      "phone            0931239097\n",
      "django-score           88.0\n",
      "datastructure          87.0\n",
      "python                   98\n",
      "total                  90.7\n",
      "Name: 3, dtype: object\n",
      "\n",
      "4\n",
      "sid                11375199\n",
      "name                    陳辰威\n",
      "phone            0932098543\n",
      "django-score           74.0\n",
      "datastructure          78.0\n",
      "python                   89\n",
      "total                  79.7\n",
      "Name: 4, dtype: object\n",
      "\n",
      "6\n",
      "sid                10275111\n",
      "name                    張喬一\n",
      "phone            0911982654\n",
      "django-score           77.0\n",
      "datastructure           NaN\n",
      "python                   98\n",
      "total                   NaN\n",
      "Name: 6, dtype: object\n",
      "\n"
     ]
    }
   ],
   "source": [
    "for row_label, row in df.iterrows():\n",
    "    print(row_label, row, sep='\\n', end='\\n\\n')"
   ]
  },
  {
   "cell_type": "code",
   "execution_count": 97,
   "id": "5155f298",
   "metadata": {},
   "outputs": [
    {
     "name": "stdout",
     "output_type": "stream",
     "text": [
      "Pandas(Index=0, sid='11375001', name='李大明', phone='0922555123')\n",
      "Pandas(Index=1, sid='11375010', name='陳傑憲', phone='0919123456')\n",
      "Pandas(Index=2, sid='11375022', name='林玉明', phone='0955235743')\n",
      "Pandas(Index=3, sid='11375055', name='姜昆雨', phone='0931239097')\n",
      "Pandas(Index=4, sid='11375199', name='陳辰威', phone='0932098543')\n",
      "Pandas(Index=6, sid='10275111', name='張喬一', phone='0911982654')\n"
     ]
    }
   ],
   "source": [
    "for rr in df.loc[:, ['sid', 'name', 'phone']].itertuples():\n",
    "    print(rr)"
   ]
  },
  {
   "cell_type": "code",
   "execution_count": 95,
   "id": "00c77780",
   "metadata": {},
   "outputs": [
    {
     "data": {
      "text/html": [
       "<div>\n",
       "<style scoped>\n",
       "    .dataframe tbody tr th:only-of-type {\n",
       "        vertical-align: middle;\n",
       "    }\n",
       "\n",
       "    .dataframe tbody tr th {\n",
       "        vertical-align: top;\n",
       "    }\n",
       "\n",
       "    .dataframe thead th {\n",
       "        text-align: right;\n",
       "    }\n",
       "</style>\n",
       "<table border=\"1\" class=\"dataframe\">\n",
       "  <thead>\n",
       "    <tr style=\"text-align: right;\">\n",
       "      <th></th>\n",
       "      <th>sid</th>\n",
       "      <th>name</th>\n",
       "      <th>phone</th>\n",
       "      <th>django-score</th>\n",
       "      <th>datastructure</th>\n",
       "      <th>python</th>\n",
       "      <th>total</th>\n",
       "    </tr>\n",
       "  </thead>\n",
       "  <tbody>\n",
       "    <tr>\n",
       "      <th>0</th>\n",
       "      <td>11375001</td>\n",
       "      <td>李大明</td>\n",
       "      <td>0922555123</td>\n",
       "      <td>89.0</td>\n",
       "      <td>86.0</td>\n",
       "      <td>69</td>\n",
       "      <td>82.1</td>\n",
       "    </tr>\n",
       "    <tr>\n",
       "      <th>1</th>\n",
       "      <td>11375010</td>\n",
       "      <td>陳傑憲</td>\n",
       "      <td>0919123456</td>\n",
       "      <td>81.0</td>\n",
       "      <td>88.0</td>\n",
       "      <td>77</td>\n",
       "      <td>81.9</td>\n",
       "    </tr>\n",
       "    <tr>\n",
       "      <th>2</th>\n",
       "      <td>11375022</td>\n",
       "      <td>林玉明</td>\n",
       "      <td>0955235743</td>\n",
       "      <td>78.0</td>\n",
       "      <td>77.0</td>\n",
       "      <td>66</td>\n",
       "      <td>74.1</td>\n",
       "    </tr>\n",
       "    <tr>\n",
       "      <th>3</th>\n",
       "      <td>11375055</td>\n",
       "      <td>姜昆雨</td>\n",
       "      <td>0931239097</td>\n",
       "      <td>88.0</td>\n",
       "      <td>87.0</td>\n",
       "      <td>98</td>\n",
       "      <td>90.7</td>\n",
       "    </tr>\n",
       "    <tr>\n",
       "      <th>4</th>\n",
       "      <td>11375199</td>\n",
       "      <td>陳辰威</td>\n",
       "      <td>0932098543</td>\n",
       "      <td>74.0</td>\n",
       "      <td>78.0</td>\n",
       "      <td>89</td>\n",
       "      <td>79.7</td>\n",
       "    </tr>\n",
       "    <tr>\n",
       "      <th>6</th>\n",
       "      <td>10275111</td>\n",
       "      <td>張喬一</td>\n",
       "      <td>0911982654</td>\n",
       "      <td>77.0</td>\n",
       "      <td>NaN</td>\n",
       "      <td>98</td>\n",
       "      <td>NaN</td>\n",
       "    </tr>\n",
       "  </tbody>\n",
       "</table>\n",
       "</div>"
      ],
      "text/plain": [
       "        sid name       phone  django-score  datastructure  python  total\n",
       "0  11375001  李大明  0922555123          89.0           86.0      69   82.1\n",
       "1  11375010  陳傑憲  0919123456          81.0           88.0      77   81.9\n",
       "2  11375022  林玉明  0955235743          78.0           77.0      66   74.1\n",
       "3  11375055  姜昆雨  0931239097          88.0           87.0      98   90.7\n",
       "4  11375199  陳辰威  0932098543          74.0           78.0      89   79.7\n",
       "6  10275111  張喬一  0911982654          77.0            NaN      98    NaN"
      ]
     },
     "execution_count": 95,
     "metadata": {},
     "output_type": "execute_result"
    }
   ],
   "source": [
    "df"
   ]
  },
  {
   "cell_type": "code",
   "execution_count": 96,
   "id": "42ccbb29",
   "metadata": {},
   "outputs": [
    {
     "data": {
      "text/html": [
       "<div>\n",
       "<style scoped>\n",
       "    .dataframe tbody tr th:only-of-type {\n",
       "        vertical-align: middle;\n",
       "    }\n",
       "\n",
       "    .dataframe tbody tr th {\n",
       "        vertical-align: top;\n",
       "    }\n",
       "\n",
       "    .dataframe thead th {\n",
       "        text-align: right;\n",
       "    }\n",
       "</style>\n",
       "<table border=\"1\" class=\"dataframe\">\n",
       "  <thead>\n",
       "    <tr style=\"text-align: right;\">\n",
       "      <th></th>\n",
       "      <th>sid</th>\n",
       "      <th>name</th>\n",
       "      <th>phone</th>\n",
       "    </tr>\n",
       "  </thead>\n",
       "  <tbody>\n",
       "    <tr>\n",
       "      <th>0</th>\n",
       "      <td>11375001</td>\n",
       "      <td>李大明</td>\n",
       "      <td>0922555123</td>\n",
       "    </tr>\n",
       "    <tr>\n",
       "      <th>1</th>\n",
       "      <td>11375010</td>\n",
       "      <td>陳傑憲</td>\n",
       "      <td>0919123456</td>\n",
       "    </tr>\n",
       "    <tr>\n",
       "      <th>2</th>\n",
       "      <td>11375022</td>\n",
       "      <td>林玉明</td>\n",
       "      <td>0955235743</td>\n",
       "    </tr>\n",
       "    <tr>\n",
       "      <th>3</th>\n",
       "      <td>11375055</td>\n",
       "      <td>姜昆雨</td>\n",
       "      <td>0931239097</td>\n",
       "    </tr>\n",
       "    <tr>\n",
       "      <th>4</th>\n",
       "      <td>11375199</td>\n",
       "      <td>陳辰威</td>\n",
       "      <td>0932098543</td>\n",
       "    </tr>\n",
       "    <tr>\n",
       "      <th>6</th>\n",
       "      <td>10275111</td>\n",
       "      <td>張喬一</td>\n",
       "      <td>0911982654</td>\n",
       "    </tr>\n",
       "  </tbody>\n",
       "</table>\n",
       "</div>"
      ],
      "text/plain": [
       "        sid name       phone\n",
       "0  11375001  李大明  0922555123\n",
       "1  11375010  陳傑憲  0919123456\n",
       "2  11375022  林玉明  0955235743\n",
       "3  11375055  姜昆雨  0931239097\n",
       "4  11375199  陳辰威  0932098543\n",
       "6  10275111  張喬一  0911982654"
      ]
     },
     "execution_count": 96,
     "metadata": {},
     "output_type": "execute_result"
    }
   ],
   "source": [
    "df.loc[:, ['sid', 'name', 'phone']]"
   ]
  },
  {
   "cell_type": "code",
   "execution_count": null,
   "id": "62e63d1d",
   "metadata": {},
   "outputs": [],
   "source": []
  }
 ],
 "metadata": {
  "kernelspec": {
   "display_name": "Python 3 (ipykernel)",
   "language": "python",
   "name": "python3"
  },
  "language_info": {
   "codemirror_mode": {
    "name": "ipython",
    "version": 3
   },
   "file_extension": ".py",
   "mimetype": "text/x-python",
   "name": "python",
   "nbconvert_exporter": "python",
   "pygments_lexer": "ipython3",
   "version": "3.11.3"
  }
 },
 "nbformat": 4,
 "nbformat_minor": 5
}
