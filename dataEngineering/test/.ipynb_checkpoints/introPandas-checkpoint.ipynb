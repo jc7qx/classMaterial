{
 "cells": [
  {
   "cell_type": "markdown",
   "id": "59f0a29f-5a98-47c8-8666-0f0079911d17",
   "metadata": {},
   "source": [
    "# Pandas 101\n",
    "\n",
    "## Pandas 簡介\n",
    "\n",
    "Pandas是一個Python語言的程式庫，提供資料分析的能力。資料處理經常以表格型式處理資料，如sql的關聯表或Excel的表格。Pandas提供載入、處理、計算、及分析表格化的資料，與matplotlib及seaborn結合提供資料視覺化能力。 以下為一個典型的資料框範例，描述學生資料\n",
    "\n",
    "## DataFrame 資料框\n",
    "\n",
    "Pandas的主要資料結構為資料框(DataFrame)是二維表格化資料結構，每行包含相同型態資料。DataFrame的結構包括列標籤(row labels)、欄位標籤(column labels，可視為欄位名稱)、及資料項目(data items)。\n",
    "\n",
    "以下為一個典型的資料框範例，描述學生資料\n",
    "\n",
    "|   |sid | name | phone | AI | datastructure | python\n",
    "|----|----|----|-----|-----|-------|----\n",
    "101 | 11375001 | 李大明 | 0922555123 | 66 | 86 | 69\n",
    "102 | 11375010 | 陳傑憲 | 0919123456 | 96 | 88 | 77\n",
    "103 | 11375022 | 林玉明 | 0955235743 | 88 | 77 | 66\n",
    "104 | 11375055 | 姜昆雨 | 0931239097 | 77 | 87 | 98\n",
    "105 | 11375199 | 陳辰威 | 0932098543 | 67 | 78 | 89\n",
    "\n",
    "列標籤(row labels)包含 101, 102, 103, .., 105，欄標籤(column labels)包括 sid, name, phone, AI, datastructure, pyhton，資料項目(data items)為每一筆(row)資料的內容"
   ]
  },
  {
   "cell_type": "markdown",
   "id": "41642e73-609c-4447-a776-15a7658051a8",
   "metadata": {},
   "source": [
    "<img src=\"dataframe1.png\" width=\"600\" height=\"700\"/>"
   ]
  },
  {
   "cell_type": "markdown",
   "id": "68481d40",
   "metadata": {},
   "source": [
    "## 導入 Pandas 程式庫\n",
    "\n",
    "為後續使用便利性，導入 pandas 後將其設定 pd 縮寫"
   ]
  },
  {
   "cell_type": "code",
   "execution_count": 2,
   "id": "314bc009",
   "metadata": {},
   "outputs": [],
   "source": [
    "import pandas as pd"
   ]
  },
  {
   "cell_type": "markdown",
   "id": "89c1e1d9",
   "metadata": {},
   "source": [
    "## 建立DataFrame\n",
    "\n",
    "DataFrame是一種表格式的資料結構，如同Excel的資料表。建立資料框可以經由「字典」(dictionary)、「串列」(List)、或直接讀取檔案後轉換，可賺患的檔案種類包括逗號分隔值（Comma-Separated Values，CSV)格式檔，SQL 關聯式檔案，JavaScript Object Notation (json)格式檔...等。"
   ]
  },
  {
   "cell_type": "markdown",
   "id": "7f1e5edc",
   "metadata": {},
   "source": [
    "### 以字典(Dictionary)結構建立DataFrame\n",
    "\n",
    "dataframe的組成包含row labels，column labels，及 data values。row labels代表列標籤，即識別每一筆資料，column labels代表欄標籤，即每一個欄位名稱。\n",
    "\n",
    "Python的dictionary資料型別是以`key:value`方式組成，在以下學生成績範例中，\"sid\": \\['11375001', '11375010', '11375022', '11375055', '11375199'\\]表示一字典中一筆資料，經由pandas的函式 `pd.DataFrame()` 轉換為dataframe後，'sid'成為一個欄標籤，串列內容成為欄內容，表示有5個學號值。因此，以下python程式碼將建立6個欄位，分別為 sid, name, phone, AI, datastructure, python。"
   ]
  },
  {
   "cell_type": "code",
   "execution_count": 3,
   "id": "fb93e866-d33c-4afa-b980-97381a648fc6",
   "metadata": {},
   "outputs": [],
   "source": [
    "# 建立一個學生成績字典資料結構\n",
    "student = {\n",
    "    'sid': ['11375001', '11375010', '11375022', '11375055', '11375199'],\n",
    "    'name': [ '李居明', '陳傑憲', '林玉明', '姜昆雨', '陳辰威'],\n",
    "    'phone': ['0922555123', '0919123456', '0955235743', '0931239097', '0932098543'],\n",
    "    'AI': [66, 96, 88, 77, 67],\n",
    "    'datastructure': [86, 88, 77, 87, 78],\n",
    "    'python': [69, 77, 66, 98, 89]\n",
    "}"
   ]
  },
  {
   "cell_type": "code",
   "execution_count": 4,
   "id": "5593cd89-830c-49d2-9e35-024c96b14da8",
   "metadata": {},
   "outputs": [],
   "source": [
    "# 利用 DataFrame() 建立\n",
    "df = pd.DataFrame(student)"
   ]
  },
  {
   "cell_type": "code",
   "execution_count": 5,
   "id": "371a778f-4548-47d5-90b3-de5c33881f37",
   "metadata": {},
   "outputs": [
    {
     "data": {
      "text/html": [
       "<div>\n",
       "<style scoped>\n",
       "    .dataframe tbody tr th:only-of-type {\n",
       "        vertical-align: middle;\n",
       "    }\n",
       "\n",
       "    .dataframe tbody tr th {\n",
       "        vertical-align: top;\n",
       "    }\n",
       "\n",
       "    .dataframe thead th {\n",
       "        text-align: right;\n",
       "    }\n",
       "</style>\n",
       "<table border=\"1\" class=\"dataframe\">\n",
       "  <thead>\n",
       "    <tr style=\"text-align: right;\">\n",
       "      <th></th>\n",
       "      <th>sid</th>\n",
       "      <th>name</th>\n",
       "      <th>phone</th>\n",
       "      <th>AI</th>\n",
       "      <th>datastructure</th>\n",
       "      <th>python</th>\n",
       "    </tr>\n",
       "  </thead>\n",
       "  <tbody>\n",
       "    <tr>\n",
       "      <th>0</th>\n",
       "      <td>11375001</td>\n",
       "      <td>李居明</td>\n",
       "      <td>0922555123</td>\n",
       "      <td>66</td>\n",
       "      <td>86</td>\n",
       "      <td>69</td>\n",
       "    </tr>\n",
       "    <tr>\n",
       "      <th>1</th>\n",
       "      <td>11375010</td>\n",
       "      <td>陳傑憲</td>\n",
       "      <td>0919123456</td>\n",
       "      <td>96</td>\n",
       "      <td>88</td>\n",
       "      <td>77</td>\n",
       "    </tr>\n",
       "    <tr>\n",
       "      <th>2</th>\n",
       "      <td>11375022</td>\n",
       "      <td>林玉明</td>\n",
       "      <td>0955235743</td>\n",
       "      <td>88</td>\n",
       "      <td>77</td>\n",
       "      <td>66</td>\n",
       "    </tr>\n",
       "    <tr>\n",
       "      <th>3</th>\n",
       "      <td>11375055</td>\n",
       "      <td>姜昆雨</td>\n",
       "      <td>0931239097</td>\n",
       "      <td>77</td>\n",
       "      <td>87</td>\n",
       "      <td>98</td>\n",
       "    </tr>\n",
       "    <tr>\n",
       "      <th>4</th>\n",
       "      <td>11375199</td>\n",
       "      <td>陳辰威</td>\n",
       "      <td>0932098543</td>\n",
       "      <td>67</td>\n",
       "      <td>78</td>\n",
       "      <td>89</td>\n",
       "    </tr>\n",
       "  </tbody>\n",
       "</table>\n",
       "</div>"
      ],
      "text/plain": [
       "        sid name       phone  AI  datastructure  python\n",
       "0  11375001  李居明  0922555123  66             86      69\n",
       "1  11375010  陳傑憲  0919123456  96             88      77\n",
       "2  11375022  林玉明  0955235743  88             77      66\n",
       "3  11375055  姜昆雨  0931239097  77             87      98\n",
       "4  11375199  陳辰威  0932098543  67             78      89"
      ]
     },
     "metadata": {},
     "output_type": "display_data"
    }
   ],
   "source": [
    "display(df) # 注意此時建立的 dataframe 的 row 以 0 ~ n 數列為標籤"
   ]
  },
  {
   "cell_type": "code",
   "execution_count": 6,
   "id": "bdf3aa9b-14af-486d-af67-5889ff243601",
   "metadata": {},
   "outputs": [],
   "source": [
    "# 建立dataframe並設定列標籤 row labels\n",
    "\n",
    "row_labels = [101, 102, 103, 104, 105]\n",
    "df1 = pd.DataFrame(student, index=row_labels)"
   ]
  },
  {
   "cell_type": "code",
   "execution_count": 7,
   "id": "bad195f7",
   "metadata": {},
   "outputs": [
    {
     "data": {
      "text/html": [
       "<div>\n",
       "<style scoped>\n",
       "    .dataframe tbody tr th:only-of-type {\n",
       "        vertical-align: middle;\n",
       "    }\n",
       "\n",
       "    .dataframe tbody tr th {\n",
       "        vertical-align: top;\n",
       "    }\n",
       "\n",
       "    .dataframe thead th {\n",
       "        text-align: right;\n",
       "    }\n",
       "</style>\n",
       "<table border=\"1\" class=\"dataframe\">\n",
       "  <thead>\n",
       "    <tr style=\"text-align: right;\">\n",
       "      <th></th>\n",
       "      <th>sid</th>\n",
       "      <th>name</th>\n",
       "      <th>phone</th>\n",
       "      <th>AI</th>\n",
       "      <th>datastructure</th>\n",
       "      <th>python</th>\n",
       "    </tr>\n",
       "  </thead>\n",
       "  <tbody>\n",
       "    <tr>\n",
       "      <th>101</th>\n",
       "      <td>11375001</td>\n",
       "      <td>李居明</td>\n",
       "      <td>0922555123</td>\n",
       "      <td>66</td>\n",
       "      <td>86</td>\n",
       "      <td>69</td>\n",
       "    </tr>\n",
       "    <tr>\n",
       "      <th>102</th>\n",
       "      <td>11375010</td>\n",
       "      <td>陳傑憲</td>\n",
       "      <td>0919123456</td>\n",
       "      <td>96</td>\n",
       "      <td>88</td>\n",
       "      <td>77</td>\n",
       "    </tr>\n",
       "    <tr>\n",
       "      <th>103</th>\n",
       "      <td>11375022</td>\n",
       "      <td>林玉明</td>\n",
       "      <td>0955235743</td>\n",
       "      <td>88</td>\n",
       "      <td>77</td>\n",
       "      <td>66</td>\n",
       "    </tr>\n",
       "    <tr>\n",
       "      <th>104</th>\n",
       "      <td>11375055</td>\n",
       "      <td>姜昆雨</td>\n",
       "      <td>0931239097</td>\n",
       "      <td>77</td>\n",
       "      <td>87</td>\n",
       "      <td>98</td>\n",
       "    </tr>\n",
       "    <tr>\n",
       "      <th>105</th>\n",
       "      <td>11375199</td>\n",
       "      <td>陳辰威</td>\n",
       "      <td>0932098543</td>\n",
       "      <td>67</td>\n",
       "      <td>78</td>\n",
       "      <td>89</td>\n",
       "    </tr>\n",
       "  </tbody>\n",
       "</table>\n",
       "</div>"
      ],
      "text/plain": [
       "          sid name       phone  AI  datastructure  python\n",
       "101  11375001  李居明  0922555123  66             86      69\n",
       "102  11375010  陳傑憲  0919123456  96             88      77\n",
       "103  11375022  林玉明  0955235743  88             77      66\n",
       "104  11375055  姜昆雨  0931239097  77             87      98\n",
       "105  11375199  陳辰威  0932098543  67             78      89"
      ]
     },
     "metadata": {},
     "output_type": "display_data"
    }
   ],
   "source": [
    "display(df1) # 注意此時建立的 dataframe 的 row 以 [101, 102, ..., 105]數列為標籤"
   ]
  },
  {
   "cell_type": "markdown",
   "id": "cb360001",
   "metadata": {},
   "source": [
    "### 以串列(list)建立DataFrame\n",
    "\n",
    "串列資料以dataframe的資料內容為主，並不包含「欄位名稱」及「列標籤」，因此建立dataframe時需要補充資料。"
   ]
  },
  {
   "cell_type": "code",
   "execution_count": 8,
   "id": "5eba142b-9312-41db-aacb-62f8eeb9a132",
   "metadata": {},
   "outputs": [],
   "source": [
    "# 建立一個串列 (ll)\n",
    "ll = [[1, 2, 100],\n",
    "     [2, 4, 200],\n",
    "     [3, 5, 300]]\n",
    "df_list = pd.DataFrame(ll)"
   ]
  },
  {
   "cell_type": "code",
   "execution_count": 9,
   "id": "869361d6",
   "metadata": {},
   "outputs": [
    {
     "data": {
      "text/html": [
       "<div>\n",
       "<style scoped>\n",
       "    .dataframe tbody tr th:only-of-type {\n",
       "        vertical-align: middle;\n",
       "    }\n",
       "\n",
       "    .dataframe tbody tr th {\n",
       "        vertical-align: top;\n",
       "    }\n",
       "\n",
       "    .dataframe thead th {\n",
       "        text-align: right;\n",
       "    }\n",
       "</style>\n",
       "<table border=\"1\" class=\"dataframe\">\n",
       "  <thead>\n",
       "    <tr style=\"text-align: right;\">\n",
       "      <th></th>\n",
       "      <th>0</th>\n",
       "      <th>1</th>\n",
       "      <th>2</th>\n",
       "    </tr>\n",
       "  </thead>\n",
       "  <tbody>\n",
       "    <tr>\n",
       "      <th>0</th>\n",
       "      <td>1</td>\n",
       "      <td>2</td>\n",
       "      <td>100</td>\n",
       "    </tr>\n",
       "    <tr>\n",
       "      <th>1</th>\n",
       "      <td>2</td>\n",
       "      <td>4</td>\n",
       "      <td>200</td>\n",
       "    </tr>\n",
       "    <tr>\n",
       "      <th>2</th>\n",
       "      <td>3</td>\n",
       "      <td>5</td>\n",
       "      <td>300</td>\n",
       "    </tr>\n",
       "  </tbody>\n",
       "</table>\n",
       "</div>"
      ],
      "text/plain": [
       "   0  1    2\n",
       "0  1  2  100\n",
       "1  2  4  200\n",
       "2  3  5  300"
      ]
     },
     "metadata": {},
     "output_type": "display_data"
    }
   ],
   "source": [
    "display(df_list)"
   ]
  },
  {
   "cell_type": "markdown",
   "id": "81e35bd1",
   "metadata": {},
   "source": [
    "以上dataframe並無列標籤及欄標籤，可以利用 `columns` 參數加入欄位名稱。"
   ]
  },
  {
   "cell_type": "code",
   "execution_count": 10,
   "id": "eae5eaf9",
   "metadata": {},
   "outputs": [],
   "source": [
    "df_list_1 = pd.DataFrame(ll, columns=['x', 'y', 'z'])"
   ]
  },
  {
   "cell_type": "code",
   "execution_count": 11,
   "id": "51a8eb26",
   "metadata": {},
   "outputs": [
    {
     "data": {
      "text/html": [
       "<div>\n",
       "<style scoped>\n",
       "    .dataframe tbody tr th:only-of-type {\n",
       "        vertical-align: middle;\n",
       "    }\n",
       "\n",
       "    .dataframe tbody tr th {\n",
       "        vertical-align: top;\n",
       "    }\n",
       "\n",
       "    .dataframe thead th {\n",
       "        text-align: right;\n",
       "    }\n",
       "</style>\n",
       "<table border=\"1\" class=\"dataframe\">\n",
       "  <thead>\n",
       "    <tr style=\"text-align: right;\">\n",
       "      <th></th>\n",
       "      <th>x</th>\n",
       "      <th>y</th>\n",
       "      <th>z</th>\n",
       "    </tr>\n",
       "  </thead>\n",
       "  <tbody>\n",
       "    <tr>\n",
       "      <th>0</th>\n",
       "      <td>1</td>\n",
       "      <td>2</td>\n",
       "      <td>100</td>\n",
       "    </tr>\n",
       "    <tr>\n",
       "      <th>1</th>\n",
       "      <td>2</td>\n",
       "      <td>4</td>\n",
       "      <td>200</td>\n",
       "    </tr>\n",
       "    <tr>\n",
       "      <th>2</th>\n",
       "      <td>3</td>\n",
       "      <td>5</td>\n",
       "      <td>300</td>\n",
       "    </tr>\n",
       "  </tbody>\n",
       "</table>\n",
       "</div>"
      ],
      "text/plain": [
       "   x  y    z\n",
       "0  1  2  100\n",
       "1  2  4  200\n",
       "2  3  5  300"
      ]
     },
     "metadata": {},
     "output_type": "display_data"
    }
   ],
   "source": [
    "display(df_list_1)"
   ]
  },
  {
   "cell_type": "markdown",
   "id": "af45dee7",
   "metadata": {},
   "source": [
    "### 讀取 csv 格式檔案建立DataFrame\n",
    "\n",
    "csv檔是以「逗點(,)」分隔資料項目的文字檔，在pandas中可以用 `pd.read_csv(\"fielname.csv\")` 讀取資料料，例如以下瑜珈課程資料檔以csv的格式儲存(f1p1.csv)。\n",
    "\n",
    "學員姓名, 年齡層, 課程編號, 課程, 開課日期, 課程時數, 鐘點費, 講師費總額, 教室, 課程時段, 講師 <br>\n",
    "蔡岳軒, 26-40歲, ST02, 流瑜珈-中級, 2021/3/1, 6, 1000, 6000, R204, 8:00 AM, 王鈺舒 <br>\n",
    "邱柏霖,\"51-65歲\",AT02,香薰瑜珈-中級,2021/3/2,12,900,1800,R306,10:00 AM,鄭雅心 <br>\n",
    "潘俊銘,\"26-40歲\",AT01,香薰瑜珈-入門,2021/3/25,9,800,7200,R305,11:00 AM,林頴婕 <br>\n",
    "戴航儀,\"16-25歲\",HT01,熱瑜珈-入門,2021/3/15,3,800,2400,R308,2:00 PM,朱姿怡 <br>\n",
    "吳泰廷,\"26-40歲\",ET01,伸展瑜珈-入門,2021/3/27,6,700,4200,R206,8:00 AM,邱憶涵 <br>\n",
    "葉盈慧,\"16-25歲\",ET03,伸展瑜珈-高階,2021/3/22,9,900,8100,R202,9:00 AM,陳莉瑩 <br>\n",
    "莊庭軒,\"26-40歲\",ET03,伸展瑜珈-高階,2021/3/17,9,900,8100,R201,10:00 AM,陳莉瑩 <br>\n",
    "陳家蓁,\"26-40歲\",AT02,香薰瑜珈-中級,2021/3/26,12,900,1800,R303,11:00 AM,鄭雅心\n"
   ]
  },
  {
   "cell_type": "code",
   "execution_count": 12,
   "id": "5a867410",
   "metadata": {},
   "outputs": [],
   "source": [
    "df_csv = pd.read_csv(\"f1p1.csv\")"
   ]
  },
  {
   "cell_type": "code",
   "execution_count": 13,
   "id": "d8dd7927",
   "metadata": {},
   "outputs": [
    {
     "data": {
      "text/html": [
       "<div>\n",
       "<style scoped>\n",
       "    .dataframe tbody tr th:only-of-type {\n",
       "        vertical-align: middle;\n",
       "    }\n",
       "\n",
       "    .dataframe tbody tr th {\n",
       "        vertical-align: top;\n",
       "    }\n",
       "\n",
       "    .dataframe thead th {\n",
       "        text-align: right;\n",
       "    }\n",
       "</style>\n",
       "<table border=\"1\" class=\"dataframe\">\n",
       "  <thead>\n",
       "    <tr style=\"text-align: right;\">\n",
       "      <th></th>\n",
       "      <th>學員姓名</th>\n",
       "      <th>年齡層</th>\n",
       "      <th>課程編號</th>\n",
       "      <th>課程</th>\n",
       "      <th>開課日期</th>\n",
       "      <th>課程時數</th>\n",
       "      <th>鐘點費</th>\n",
       "      <th>講師費總額</th>\n",
       "      <th>教室</th>\n",
       "      <th>課程時段</th>\n",
       "      <th>講師</th>\n",
       "    </tr>\n",
       "  </thead>\n",
       "  <tbody>\n",
       "    <tr>\n",
       "      <th>0</th>\n",
       "      <td>蔡岳軒</td>\n",
       "      <td>26~40歲</td>\n",
       "      <td>ST02</td>\n",
       "      <td>流瑜珈-中級</td>\n",
       "      <td>2021/3/1</td>\n",
       "      <td>6</td>\n",
       "      <td>$1,000</td>\n",
       "      <td>$6,000</td>\n",
       "      <td>R204</td>\n",
       "      <td>8:00 AM</td>\n",
       "      <td>王鈺舒</td>\n",
       "    </tr>\n",
       "    <tr>\n",
       "      <th>1</th>\n",
       "      <td>邱柏霖</td>\n",
       "      <td>51~65歲</td>\n",
       "      <td>AT02</td>\n",
       "      <td>香薰瑜珈-中級</td>\n",
       "      <td>2021/3/2</td>\n",
       "      <td>12</td>\n",
       "      <td>$900</td>\n",
       "      <td>$10,800</td>\n",
       "      <td>R306</td>\n",
       "      <td>10:00 AM</td>\n",
       "      <td>鄭雅心</td>\n",
       "    </tr>\n",
       "    <tr>\n",
       "      <th>2</th>\n",
       "      <td>潘俊銘</td>\n",
       "      <td>26~40歲</td>\n",
       "      <td>AT01</td>\n",
       "      <td>香薰瑜珈-入門</td>\n",
       "      <td>2021/3/25</td>\n",
       "      <td>9</td>\n",
       "      <td>$800</td>\n",
       "      <td>$7,200</td>\n",
       "      <td>R305</td>\n",
       "      <td>11:00 AM</td>\n",
       "      <td>林頴婕</td>\n",
       "    </tr>\n",
       "    <tr>\n",
       "      <th>3</th>\n",
       "      <td>戴航儀</td>\n",
       "      <td>16~25歲</td>\n",
       "      <td>HT01</td>\n",
       "      <td>熱瑜珈-入門</td>\n",
       "      <td>2021/3/15</td>\n",
       "      <td>3</td>\n",
       "      <td>$800</td>\n",
       "      <td>$2,400</td>\n",
       "      <td>R308</td>\n",
       "      <td>2:00 PM</td>\n",
       "      <td>朱姿怡</td>\n",
       "    </tr>\n",
       "    <tr>\n",
       "      <th>4</th>\n",
       "      <td>吳泰廷</td>\n",
       "      <td>26~40歲</td>\n",
       "      <td>ET01</td>\n",
       "      <td>伸展瑜珈-入門</td>\n",
       "      <td>2021/3/27</td>\n",
       "      <td>6</td>\n",
       "      <td>$700</td>\n",
       "      <td>$4,200</td>\n",
       "      <td>R206</td>\n",
       "      <td>8:00 AM</td>\n",
       "      <td>邱憶涵</td>\n",
       "    </tr>\n",
       "    <tr>\n",
       "      <th>5</th>\n",
       "      <td>葉盈慧</td>\n",
       "      <td>16~25歲</td>\n",
       "      <td>ET03</td>\n",
       "      <td>伸展瑜珈-高階</td>\n",
       "      <td>2021/3/22</td>\n",
       "      <td>9</td>\n",
       "      <td>$900</td>\n",
       "      <td>$8,100</td>\n",
       "      <td>R202</td>\n",
       "      <td>9:00 AM</td>\n",
       "      <td>陳莉瑩</td>\n",
       "    </tr>\n",
       "    <tr>\n",
       "      <th>6</th>\n",
       "      <td>莊庭軒</td>\n",
       "      <td>26~40歲</td>\n",
       "      <td>ET03</td>\n",
       "      <td>伸展瑜珈-高階</td>\n",
       "      <td>2021/3/17</td>\n",
       "      <td>9</td>\n",
       "      <td>$900</td>\n",
       "      <td>$8,100</td>\n",
       "      <td>R201</td>\n",
       "      <td>10:00 AM</td>\n",
       "      <td>陳莉瑩</td>\n",
       "    </tr>\n",
       "    <tr>\n",
       "      <th>7</th>\n",
       "      <td>陳家蓁</td>\n",
       "      <td>26~40歲</td>\n",
       "      <td>AT02</td>\n",
       "      <td>香薰瑜珈-中級</td>\n",
       "      <td>2021/3/26</td>\n",
       "      <td>12</td>\n",
       "      <td>$900</td>\n",
       "      <td>$10,800</td>\n",
       "      <td>R303</td>\n",
       "      <td>11:00 AM</td>\n",
       "      <td>鄭雅心</td>\n",
       "    </tr>\n",
       "  </tbody>\n",
       "</table>\n",
       "</div>"
      ],
      "text/plain": [
       "  學員姓名     年齡層  課程編號       課程       開課日期  課程時數     鐘點費    講師費總額    教室  \\\n",
       "0  蔡岳軒  26~40歲  ST02   流瑜珈-中級   2021/3/1     6  $1,000   $6,000  R204   \n",
       "1  邱柏霖  51~65歲  AT02  香薰瑜珈-中級   2021/3/2    12    $900  $10,800  R306   \n",
       "2  潘俊銘  26~40歲  AT01  香薰瑜珈-入門  2021/3/25     9    $800   $7,200  R305   \n",
       "3  戴航儀  16~25歲  HT01   熱瑜珈-入門  2021/3/15     3    $800   $2,400  R308   \n",
       "4  吳泰廷  26~40歲  ET01  伸展瑜珈-入門  2021/3/27     6    $700   $4,200  R206   \n",
       "5  葉盈慧  16~25歲  ET03  伸展瑜珈-高階  2021/3/22     9    $900   $8,100  R202   \n",
       "6  莊庭軒  26~40歲  ET03  伸展瑜珈-高階  2021/3/17     9    $900   $8,100  R201   \n",
       "7  陳家蓁  26~40歲  AT02  香薰瑜珈-中級  2021/3/26    12    $900  $10,800  R303   \n",
       "\n",
       "       課程時段   講師  \n",
       "0   8:00 AM  王鈺舒  \n",
       "1  10:00 AM  鄭雅心  \n",
       "2  11:00 AM  林頴婕  \n",
       "3   2:00 PM  朱姿怡  \n",
       "4   8:00 AM  邱憶涵  \n",
       "5   9:00 AM  陳莉瑩  \n",
       "6  10:00 AM  陳莉瑩  \n",
       "7  11:00 AM  鄭雅心  "
      ]
     },
     "execution_count": 13,
     "metadata": {},
     "output_type": "execute_result"
    }
   ],
   "source": [
    "df_csv"
   ]
  },
  {
   "cell_type": "markdown",
   "id": "1c20c477",
   "metadata": {},
   "source": [
    "`pd.read_csv(filepath, sep=\",\", header=\"infer\", ...)`"
   ]
  },
  {
   "cell_type": "markdown",
   "id": "80ac4267",
   "metadata": {},
   "source": [
    "### 讀取 xlsx 格式檔案建立DataFrame\n",
    "\n",
    "利用 `pd.read_excel()`讀取 excel檔案"
   ]
  },
  {
   "cell_type": "markdown",
   "id": "e437b408-d1fc-4762-a700-27cd8cee5c1c",
   "metadata": {},
   "source": [
    "資料框中每一欄資料為一個 `pandas.Series` 的物件，包含一維資料及列標籤"
   ]
  },
  {
   "cell_type": "markdown",
   "id": "07fac25b-329c-43ee-9d22-65c6f3e680fc",
   "metadata": {},
   "source": [
    "## DataFrame 屬性\n",
    "\n",
    "屬性名稱 | 功能\n",
    ":----------|:-------|\n",
    "df.columns`| dataframe的欄位名稱列表\n",
    "df.index` | dataframe的列標籤\n",
    "df.values | dataframe的資料內容\n",
    "df.dtypes | dataframe的欄位資料型別\n",
    "df.ndim | dataframe的維度\n",
    "df.shape | dataframe的資料維度(資料數量，欄位數量)\n",
    "df.size | dataframe的資料數量"
   ]
  },
  {
   "cell_type": "code",
   "execution_count": 14,
   "id": "b96dab69-f992-44ed-9e45-812ae59cf575",
   "metadata": {},
   "outputs": [
    {
     "data": {
      "text/plain": [
       "Index(['學員姓名', '年齡層', '課程編號', '課程', '開課日期', '課程時數', '鐘點費', '講師費總額', '教室',\n",
       "       '課程時段', '講師'],\n",
       "      dtype='object')"
      ]
     },
     "execution_count": 14,
     "metadata": {},
     "output_type": "execute_result"
    }
   ],
   "source": [
    "df_csv.columns"
   ]
  },
  {
   "cell_type": "code",
   "execution_count": 15,
   "id": "1e3b0c90-1d16-40b9-8b38-588e763fa23f",
   "metadata": {},
   "outputs": [
    {
     "data": {
      "text/plain": [
       "RangeIndex(start=0, stop=8, step=1)"
      ]
     },
     "execution_count": 15,
     "metadata": {},
     "output_type": "execute_result"
    }
   ],
   "source": [
    "df_csv.index"
   ]
  },
  {
   "cell_type": "code",
   "execution_count": 16,
   "id": "e089e711-ed24-4a5c-8b7e-62658f4f098d",
   "metadata": {},
   "outputs": [
    {
     "data": {
      "text/plain": [
       "array([['蔡岳軒', '26~40歲', 'ST02', '流瑜珈-中級', '2021/3/1', 6, '$1,000',\n",
       "        '$6,000', 'R204', '8:00 AM', '王鈺舒'],\n",
       "       ['邱柏霖', '51~65歲', 'AT02', '香薰瑜珈-中級', '2021/3/2', 12, '$900',\n",
       "        '$10,800', 'R306', '10:00 AM', '鄭雅心'],\n",
       "       ['潘俊銘', '26~40歲', 'AT01', '香薰瑜珈-入門', '2021/3/25', 9, '$800',\n",
       "        '$7,200', 'R305', '11:00 AM', '林頴婕'],\n",
       "       ['戴航儀', '16~25歲', 'HT01', '熱瑜珈-入門', '2021/3/15', 3, '$800',\n",
       "        '$2,400', 'R308', '2:00 PM', '朱姿怡'],\n",
       "       ['吳泰廷', '26~40歲', 'ET01', '伸展瑜珈-入門', '2021/3/27', 6, '$700',\n",
       "        '$4,200', 'R206', '8:00 AM', '邱憶涵'],\n",
       "       ['葉盈慧', '16~25歲', 'ET03', '伸展瑜珈-高階', '2021/3/22', 9, '$900',\n",
       "        '$8,100', 'R202', '9:00 AM', '陳莉瑩'],\n",
       "       ['莊庭軒', '26~40歲', 'ET03', '伸展瑜珈-高階', '2021/3/17', 9, '$900',\n",
       "        '$8,100', 'R201', '10:00 AM', '陳莉瑩'],\n",
       "       ['陳家蓁', '26~40歲', 'AT02', '香薰瑜珈-中級', '2021/3/26', 12, '$900',\n",
       "        '$10,800', 'R303', '11:00 AM', '鄭雅心']], dtype=object)"
      ]
     },
     "execution_count": 16,
     "metadata": {},
     "output_type": "execute_result"
    }
   ],
   "source": [
    "df_csv.values"
   ]
  },
  {
   "cell_type": "code",
   "execution_count": 17,
   "id": "0cdcb578-b64e-4f54-8d80-6e8805d9f1f9",
   "metadata": {},
   "outputs": [
    {
     "data": {
      "text/plain": [
       "學員姓名     object\n",
       "年齡層      object\n",
       "課程編號     object\n",
       "課程       object\n",
       "開課日期     object\n",
       "課程時數      int64\n",
       "鐘點費      object\n",
       "講師費總額    object\n",
       "教室       object\n",
       "課程時段     object\n",
       "講師       object\n",
       "dtype: object"
      ]
     },
     "execution_count": 17,
     "metadata": {},
     "output_type": "execute_result"
    }
   ],
   "source": [
    "df_csv.dtypes # read data type of each column"
   ]
  },
  {
   "cell_type": "code",
   "execution_count": 18,
   "id": "cf2c3115-dfd9-4a0a-bb6a-ecd0d7f6ac57",
   "metadata": {},
   "outputs": [
    {
     "data": {
      "text/plain": [
       "2"
      ]
     },
     "execution_count": 18,
     "metadata": {},
     "output_type": "execute_result"
    }
   ],
   "source": [
    "df_csv.ndim"
   ]
  },
  {
   "cell_type": "code",
   "execution_count": 19,
   "id": "e791ec9d-d4a3-4720-a675-23b21ce88800",
   "metadata": {},
   "outputs": [
    {
     "data": {
      "text/plain": [
       "(8, 11)"
      ]
     },
     "execution_count": 19,
     "metadata": {},
     "output_type": "execute_result"
    }
   ],
   "source": [
    "df_csv.shape # 5rows by 6columns "
   ]
  },
  {
   "cell_type": "code",
   "execution_count": 20,
   "id": "101eb5c8-8faa-44f3-9a26-4da4a96ec408",
   "metadata": {},
   "outputs": [
    {
     "data": {
      "text/plain": [
       "88"
      ]
     },
     "execution_count": 20,
     "metadata": {},
     "output_type": "execute_result"
    }
   ],
   "source": [
    "df_csv.size #total number of elements"
   ]
  },
  {
   "cell_type": "markdown",
   "id": "7e8bf7e7",
   "metadata": {},
   "source": [
    "## DataFrame操作方法\n",
    "\n",
    "| 方法名稱 | 功能 |\n",
    "|:-----|:-----|\n",
    "|df.head() | 顯示dataframe前5項資料|\n",
    "|df.tail() | 顯示dataframe後5項資料|\n",
    "|df.describe() | 資料表中數值欄位的統計量|\n",
    "|df.info() | 顯示dataframe的資訊，包括列標籤型別，欄位名稱，非空值數量，記憶體使用 |\n",
    "|df.read_csv() | 讀取csv檔建立dataframe\n",
    "|df.read_excel() | 讀取excel檔建立dataframe\n",
    "|df.to_csv() | 將dataframe儲存為csv檔|\n",
    "|df.to_numpy() | 將dataframe儲存為numpy array檔|\n",
    "|df.astype() | 改變欄位資料型別 |\n"
   ]
  },
  {
   "cell_type": "code",
   "execution_count": 21,
   "id": "7e0e8fe9-e8a4-4560-bb42-954c74077e37",
   "metadata": {},
   "outputs": [
    {
     "data": {
      "text/html": [
       "<div>\n",
       "<style scoped>\n",
       "    .dataframe tbody tr th:only-of-type {\n",
       "        vertical-align: middle;\n",
       "    }\n",
       "\n",
       "    .dataframe tbody tr th {\n",
       "        vertical-align: top;\n",
       "    }\n",
       "\n",
       "    .dataframe thead th {\n",
       "        text-align: right;\n",
       "    }\n",
       "</style>\n",
       "<table border=\"1\" class=\"dataframe\">\n",
       "  <thead>\n",
       "    <tr style=\"text-align: right;\">\n",
       "      <th></th>\n",
       "      <th>學員姓名</th>\n",
       "      <th>年齡層</th>\n",
       "      <th>課程編號</th>\n",
       "      <th>課程</th>\n",
       "      <th>開課日期</th>\n",
       "      <th>課程時數</th>\n",
       "      <th>鐘點費</th>\n",
       "      <th>講師費總額</th>\n",
       "      <th>教室</th>\n",
       "      <th>課程時段</th>\n",
       "      <th>講師</th>\n",
       "    </tr>\n",
       "  </thead>\n",
       "  <tbody>\n",
       "    <tr>\n",
       "      <th>0</th>\n",
       "      <td>蔡岳軒</td>\n",
       "      <td>26~40歲</td>\n",
       "      <td>ST02</td>\n",
       "      <td>流瑜珈-中級</td>\n",
       "      <td>2021/3/1</td>\n",
       "      <td>6</td>\n",
       "      <td>$1,000</td>\n",
       "      <td>$6,000</td>\n",
       "      <td>R204</td>\n",
       "      <td>8:00 AM</td>\n",
       "      <td>王鈺舒</td>\n",
       "    </tr>\n",
       "    <tr>\n",
       "      <th>1</th>\n",
       "      <td>邱柏霖</td>\n",
       "      <td>51~65歲</td>\n",
       "      <td>AT02</td>\n",
       "      <td>香薰瑜珈-中級</td>\n",
       "      <td>2021/3/2</td>\n",
       "      <td>12</td>\n",
       "      <td>$900</td>\n",
       "      <td>$10,800</td>\n",
       "      <td>R306</td>\n",
       "      <td>10:00 AM</td>\n",
       "      <td>鄭雅心</td>\n",
       "    </tr>\n",
       "    <tr>\n",
       "      <th>2</th>\n",
       "      <td>潘俊銘</td>\n",
       "      <td>26~40歲</td>\n",
       "      <td>AT01</td>\n",
       "      <td>香薰瑜珈-入門</td>\n",
       "      <td>2021/3/25</td>\n",
       "      <td>9</td>\n",
       "      <td>$800</td>\n",
       "      <td>$7,200</td>\n",
       "      <td>R305</td>\n",
       "      <td>11:00 AM</td>\n",
       "      <td>林頴婕</td>\n",
       "    </tr>\n",
       "    <tr>\n",
       "      <th>3</th>\n",
       "      <td>戴航儀</td>\n",
       "      <td>16~25歲</td>\n",
       "      <td>HT01</td>\n",
       "      <td>熱瑜珈-入門</td>\n",
       "      <td>2021/3/15</td>\n",
       "      <td>3</td>\n",
       "      <td>$800</td>\n",
       "      <td>$2,400</td>\n",
       "      <td>R308</td>\n",
       "      <td>2:00 PM</td>\n",
       "      <td>朱姿怡</td>\n",
       "    </tr>\n",
       "    <tr>\n",
       "      <th>4</th>\n",
       "      <td>吳泰廷</td>\n",
       "      <td>26~40歲</td>\n",
       "      <td>ET01</td>\n",
       "      <td>伸展瑜珈-入門</td>\n",
       "      <td>2021/3/27</td>\n",
       "      <td>6</td>\n",
       "      <td>$700</td>\n",
       "      <td>$4,200</td>\n",
       "      <td>R206</td>\n",
       "      <td>8:00 AM</td>\n",
       "      <td>邱憶涵</td>\n",
       "    </tr>\n",
       "  </tbody>\n",
       "</table>\n",
       "</div>"
      ],
      "text/plain": [
       "  學員姓名     年齡層  課程編號       課程       開課日期  課程時數     鐘點費    講師費總額    教室  \\\n",
       "0  蔡岳軒  26~40歲  ST02   流瑜珈-中級   2021/3/1     6  $1,000   $6,000  R204   \n",
       "1  邱柏霖  51~65歲  AT02  香薰瑜珈-中級   2021/3/2    12    $900  $10,800  R306   \n",
       "2  潘俊銘  26~40歲  AT01  香薰瑜珈-入門  2021/3/25     9    $800   $7,200  R305   \n",
       "3  戴航儀  16~25歲  HT01   熱瑜珈-入門  2021/3/15     3    $800   $2,400  R308   \n",
       "4  吳泰廷  26~40歲  ET01  伸展瑜珈-入門  2021/3/27     6    $700   $4,200  R206   \n",
       "\n",
       "       課程時段   講師  \n",
       "0   8:00 AM  王鈺舒  \n",
       "1  10:00 AM  鄭雅心  \n",
       "2  11:00 AM  林頴婕  \n",
       "3   2:00 PM  朱姿怡  \n",
       "4   8:00 AM  邱憶涵  "
      ]
     },
     "execution_count": 21,
     "metadata": {},
     "output_type": "execute_result"
    }
   ],
   "source": [
    "df_csv.head()"
   ]
  },
  {
   "cell_type": "code",
   "execution_count": 22,
   "id": "0c3fb43a",
   "metadata": {},
   "outputs": [
    {
     "data": {
      "text/html": [
       "<div>\n",
       "<style scoped>\n",
       "    .dataframe tbody tr th:only-of-type {\n",
       "        vertical-align: middle;\n",
       "    }\n",
       "\n",
       "    .dataframe tbody tr th {\n",
       "        vertical-align: top;\n",
       "    }\n",
       "\n",
       "    .dataframe thead th {\n",
       "        text-align: right;\n",
       "    }\n",
       "</style>\n",
       "<table border=\"1\" class=\"dataframe\">\n",
       "  <thead>\n",
       "    <tr style=\"text-align: right;\">\n",
       "      <th></th>\n",
       "      <th>學員姓名</th>\n",
       "      <th>年齡層</th>\n",
       "      <th>課程編號</th>\n",
       "      <th>課程</th>\n",
       "      <th>開課日期</th>\n",
       "      <th>課程時數</th>\n",
       "      <th>鐘點費</th>\n",
       "      <th>講師費總額</th>\n",
       "      <th>教室</th>\n",
       "      <th>課程時段</th>\n",
       "      <th>講師</th>\n",
       "    </tr>\n",
       "  </thead>\n",
       "  <tbody>\n",
       "    <tr>\n",
       "      <th>5</th>\n",
       "      <td>葉盈慧</td>\n",
       "      <td>16~25歲</td>\n",
       "      <td>ET03</td>\n",
       "      <td>伸展瑜珈-高階</td>\n",
       "      <td>2021/3/22</td>\n",
       "      <td>9</td>\n",
       "      <td>$900</td>\n",
       "      <td>$8,100</td>\n",
       "      <td>R202</td>\n",
       "      <td>9:00 AM</td>\n",
       "      <td>陳莉瑩</td>\n",
       "    </tr>\n",
       "    <tr>\n",
       "      <th>6</th>\n",
       "      <td>莊庭軒</td>\n",
       "      <td>26~40歲</td>\n",
       "      <td>ET03</td>\n",
       "      <td>伸展瑜珈-高階</td>\n",
       "      <td>2021/3/17</td>\n",
       "      <td>9</td>\n",
       "      <td>$900</td>\n",
       "      <td>$8,100</td>\n",
       "      <td>R201</td>\n",
       "      <td>10:00 AM</td>\n",
       "      <td>陳莉瑩</td>\n",
       "    </tr>\n",
       "    <tr>\n",
       "      <th>7</th>\n",
       "      <td>陳家蓁</td>\n",
       "      <td>26~40歲</td>\n",
       "      <td>AT02</td>\n",
       "      <td>香薰瑜珈-中級</td>\n",
       "      <td>2021/3/26</td>\n",
       "      <td>12</td>\n",
       "      <td>$900</td>\n",
       "      <td>$10,800</td>\n",
       "      <td>R303</td>\n",
       "      <td>11:00 AM</td>\n",
       "      <td>鄭雅心</td>\n",
       "    </tr>\n",
       "  </tbody>\n",
       "</table>\n",
       "</div>"
      ],
      "text/plain": [
       "  學員姓名     年齡層  課程編號       課程       開課日期  課程時數   鐘點費    講師費總額    教室      課程時段  \\\n",
       "5  葉盈慧  16~25歲  ET03  伸展瑜珈-高階  2021/3/22     9  $900   $8,100  R202   9:00 AM   \n",
       "6  莊庭軒  26~40歲  ET03  伸展瑜珈-高階  2021/3/17     9  $900   $8,100  R201  10:00 AM   \n",
       "7  陳家蓁  26~40歲  AT02  香薰瑜珈-中級  2021/3/26    12  $900  $10,800  R303  11:00 AM   \n",
       "\n",
       "    講師  \n",
       "5  陳莉瑩  \n",
       "6  陳莉瑩  \n",
       "7  鄭雅心  "
      ]
     },
     "execution_count": 22,
     "metadata": {},
     "output_type": "execute_result"
    }
   ],
   "source": [
    "df_csv.tail(3)"
   ]
  },
  {
   "cell_type": "code",
   "execution_count": 23,
   "id": "f98a3df1",
   "metadata": {},
   "outputs": [
    {
     "name": "stdout",
     "output_type": "stream",
     "text": [
      "<class 'pandas.core.frame.DataFrame'>\n",
      "RangeIndex: 8 entries, 0 to 7\n",
      "Data columns (total 11 columns):\n",
      " #   Column  Non-Null Count  Dtype \n",
      "---  ------  --------------  ----- \n",
      " 0   學員姓名    8 non-null      object\n",
      " 1   年齡層     8 non-null      object\n",
      " 2   課程編號    8 non-null      object\n",
      " 3   課程      8 non-null      object\n",
      " 4   開課日期    8 non-null      object\n",
      " 5   課程時數    8 non-null      int64 \n",
      " 6   鐘點費     8 non-null      object\n",
      " 7   講師費總額   8 non-null      object\n",
      " 8   教室      8 non-null      object\n",
      " 9   課程時段    8 non-null      object\n",
      " 10  講師      8 non-null      object\n",
      "dtypes: int64(1), object(10)\n",
      "memory usage: 836.0+ bytes\n"
     ]
    }
   ],
   "source": [
    "df_csv.info()\n",
    "# RangeIndex: 8 entries, 0 to 7   列標籤以連續數值表示 0 ~ 7 (共8個)\n",
    "# Data columns (total 11 columns) 11個資料欄位\n",
    "# 0   學員姓名    8 non-null       object 學生姓名欄位有8個非空值，資料型別為 object\n",
    "# dtypes: int64(1), object(10)    欄位資料型別，1個為整數(int64)，10個為object\n",
    "# memory usage: 836.0+ bytes      記憶體使用 836+ bytes"
   ]
  },
  {
   "cell_type": "code",
   "execution_count": 24,
   "id": "cb20cfdc",
   "metadata": {},
   "outputs": [
    {
     "data": {
      "text/html": [
       "<div>\n",
       "<style scoped>\n",
       "    .dataframe tbody tr th:only-of-type {\n",
       "        vertical-align: middle;\n",
       "    }\n",
       "\n",
       "    .dataframe tbody tr th {\n",
       "        vertical-align: top;\n",
       "    }\n",
       "\n",
       "    .dataframe thead th {\n",
       "        text-align: right;\n",
       "    }\n",
       "</style>\n",
       "<table border=\"1\" class=\"dataframe\">\n",
       "  <thead>\n",
       "    <tr style=\"text-align: right;\">\n",
       "      <th></th>\n",
       "      <th>課程時數</th>\n",
       "    </tr>\n",
       "  </thead>\n",
       "  <tbody>\n",
       "    <tr>\n",
       "      <th>count</th>\n",
       "      <td>8.000000</td>\n",
       "    </tr>\n",
       "    <tr>\n",
       "      <th>mean</th>\n",
       "      <td>8.250000</td>\n",
       "    </tr>\n",
       "    <tr>\n",
       "      <th>std</th>\n",
       "      <td>3.105295</td>\n",
       "    </tr>\n",
       "    <tr>\n",
       "      <th>min</th>\n",
       "      <td>3.000000</td>\n",
       "    </tr>\n",
       "    <tr>\n",
       "      <th>25%</th>\n",
       "      <td>6.000000</td>\n",
       "    </tr>\n",
       "    <tr>\n",
       "      <th>50%</th>\n",
       "      <td>9.000000</td>\n",
       "    </tr>\n",
       "    <tr>\n",
       "      <th>75%</th>\n",
       "      <td>9.750000</td>\n",
       "    </tr>\n",
       "    <tr>\n",
       "      <th>max</th>\n",
       "      <td>12.000000</td>\n",
       "    </tr>\n",
       "  </tbody>\n",
       "</table>\n",
       "</div>"
      ],
      "text/plain": [
       "            課程時數\n",
       "count   8.000000\n",
       "mean    8.250000\n",
       "std     3.105295\n",
       "min     3.000000\n",
       "25%     6.000000\n",
       "50%     9.000000\n",
       "75%     9.750000\n",
       "max    12.000000"
      ]
     },
     "execution_count": 24,
     "metadata": {},
     "output_type": "execute_result"
    }
   ],
   "source": [
    "df_csv.describe() #df_csv的數值欄僅為\"課程時數\" + .round(n) 設定小數點數"
   ]
  },
  {
   "cell_type": "code",
   "execution_count": 25,
   "id": "3cbf8a93",
   "metadata": {},
   "outputs": [
    {
     "data": {
      "text/html": [
       "<div>\n",
       "<style scoped>\n",
       "    .dataframe tbody tr th:only-of-type {\n",
       "        vertical-align: middle;\n",
       "    }\n",
       "\n",
       "    .dataframe tbody tr th {\n",
       "        vertical-align: top;\n",
       "    }\n",
       "\n",
       "    .dataframe thead th {\n",
       "        text-align: right;\n",
       "    }\n",
       "</style>\n",
       "<table border=\"1\" class=\"dataframe\">\n",
       "  <thead>\n",
       "    <tr style=\"text-align: right;\">\n",
       "      <th></th>\n",
       "      <th>學員姓名</th>\n",
       "      <th>年齡層</th>\n",
       "      <th>課程編號</th>\n",
       "      <th>課程</th>\n",
       "      <th>開課日期</th>\n",
       "      <th>鐘點費</th>\n",
       "      <th>講師費總額</th>\n",
       "      <th>教室</th>\n",
       "      <th>課程時段</th>\n",
       "      <th>講師</th>\n",
       "    </tr>\n",
       "  </thead>\n",
       "  <tbody>\n",
       "    <tr>\n",
       "      <th>count</th>\n",
       "      <td>8</td>\n",
       "      <td>8</td>\n",
       "      <td>8</td>\n",
       "      <td>8</td>\n",
       "      <td>8</td>\n",
       "      <td>8</td>\n",
       "      <td>8</td>\n",
       "      <td>8</td>\n",
       "      <td>8</td>\n",
       "      <td>8</td>\n",
       "    </tr>\n",
       "    <tr>\n",
       "      <th>unique</th>\n",
       "      <td>8</td>\n",
       "      <td>3</td>\n",
       "      <td>6</td>\n",
       "      <td>6</td>\n",
       "      <td>8</td>\n",
       "      <td>4</td>\n",
       "      <td>6</td>\n",
       "      <td>8</td>\n",
       "      <td>5</td>\n",
       "      <td>6</td>\n",
       "    </tr>\n",
       "    <tr>\n",
       "      <th>top</th>\n",
       "      <td>蔡岳軒</td>\n",
       "      <td>26~40歲</td>\n",
       "      <td>AT02</td>\n",
       "      <td>香薰瑜珈-中級</td>\n",
       "      <td>2021/3/1</td>\n",
       "      <td>$900</td>\n",
       "      <td>$10,800</td>\n",
       "      <td>R204</td>\n",
       "      <td>8:00 AM</td>\n",
       "      <td>鄭雅心</td>\n",
       "    </tr>\n",
       "    <tr>\n",
       "      <th>freq</th>\n",
       "      <td>1</td>\n",
       "      <td>5</td>\n",
       "      <td>2</td>\n",
       "      <td>2</td>\n",
       "      <td>1</td>\n",
       "      <td>4</td>\n",
       "      <td>2</td>\n",
       "      <td>1</td>\n",
       "      <td>2</td>\n",
       "      <td>2</td>\n",
       "    </tr>\n",
       "  </tbody>\n",
       "</table>\n",
       "</div>"
      ],
      "text/plain": [
       "       學員姓名     年齡層  課程編號       課程      開課日期   鐘點費    講師費總額    教室     課程時段  \\\n",
       "count     8       8     8        8         8     8        8     8        8   \n",
       "unique    8       3     6        6         8     4        6     8        5   \n",
       "top     蔡岳軒  26~40歲  AT02  香薰瑜珈-中級  2021/3/1  $900  $10,800  R204  8:00 AM   \n",
       "freq      1       5     2        2         1     4        2     1        2   \n",
       "\n",
       "         講師  \n",
       "count     8  \n",
       "unique    6  \n",
       "top     鄭雅心  \n",
       "freq      2  "
      ]
     },
     "execution_count": 25,
     "metadata": {},
     "output_type": "execute_result"
    }
   ],
   "source": [
    "df_csv.describe(include=object) #df_csv非數值欄位的統計資訊"
   ]
  },
  {
   "cell_type": "code",
   "execution_count": 26,
   "id": "746531b9",
   "metadata": {},
   "outputs": [
    {
     "data": {
      "text/plain": [
       "array([['蔡岳軒', '26~40歲', 'ST02', '流瑜珈-中級', '2021/3/1', 6, '$1,000',\n",
       "        '$6,000', 'R204', '8:00 AM', '王鈺舒'],\n",
       "       ['邱柏霖', '51~65歲', 'AT02', '香薰瑜珈-中級', '2021/3/2', 12, '$900',\n",
       "        '$10,800', 'R306', '10:00 AM', '鄭雅心'],\n",
       "       ['潘俊銘', '26~40歲', 'AT01', '香薰瑜珈-入門', '2021/3/25', 9, '$800',\n",
       "        '$7,200', 'R305', '11:00 AM', '林頴婕'],\n",
       "       ['戴航儀', '16~25歲', 'HT01', '熱瑜珈-入門', '2021/3/15', 3, '$800',\n",
       "        '$2,400', 'R308', '2:00 PM', '朱姿怡'],\n",
       "       ['吳泰廷', '26~40歲', 'ET01', '伸展瑜珈-入門', '2021/3/27', 6, '$700',\n",
       "        '$4,200', 'R206', '8:00 AM', '邱憶涵'],\n",
       "       ['葉盈慧', '16~25歲', 'ET03', '伸展瑜珈-高階', '2021/3/22', 9, '$900',\n",
       "        '$8,100', 'R202', '9:00 AM', '陳莉瑩'],\n",
       "       ['莊庭軒', '26~40歲', 'ET03', '伸展瑜珈-高階', '2021/3/17', 9, '$900',\n",
       "        '$8,100', 'R201', '10:00 AM', '陳莉瑩'],\n",
       "       ['陳家蓁', '26~40歲', 'AT02', '香薰瑜珈-中級', '2021/3/26', 12, '$900',\n",
       "        '$10,800', 'R303', '11:00 AM', '鄭雅心']], dtype=object)"
      ]
     },
     "execution_count": 26,
     "metadata": {},
     "output_type": "execute_result"
    }
   ],
   "source": [
    "df_csv.to_numpy()"
   ]
  },
  {
   "cell_type": "code",
   "execution_count": 27,
   "id": "21aa1a05",
   "metadata": {},
   "outputs": [],
   "source": [
    "df_csv_1 = df_csv.astype(dtype={\"年齡層\": \"category\"})"
   ]
  },
  {
   "cell_type": "code",
   "execution_count": 28,
   "id": "586dd8a8",
   "metadata": {},
   "outputs": [
    {
     "name": "stdout",
     "output_type": "stream",
     "text": [
      "<class 'pandas.core.frame.DataFrame'>\n",
      "RangeIndex: 8 entries, 0 to 7\n",
      "Data columns (total 11 columns):\n",
      " #   Column  Non-Null Count  Dtype   \n",
      "---  ------  --------------  -----   \n",
      " 0   學員姓名    8 non-null      object  \n",
      " 1   年齡層     8 non-null      category\n",
      " 2   課程編號    8 non-null      object  \n",
      " 3   課程      8 non-null      object  \n",
      " 4   開課日期    8 non-null      object  \n",
      " 5   課程時數    8 non-null      int64   \n",
      " 6   鐘點費     8 non-null      object  \n",
      " 7   講師費總額   8 non-null      object  \n",
      " 8   教室      8 non-null      object  \n",
      " 9   課程時段    8 non-null      object  \n",
      " 10  講師      8 non-null      object  \n",
      "dtypes: category(1), int64(1), object(9)\n",
      "memory usage: 912.0+ bytes\n"
     ]
    }
   ],
   "source": [
    "df_csv_1.info() #年齡層的資料型別改變為\"Category\""
   ]
  },
  {
   "cell_type": "markdown",
   "id": "2e621fae",
   "metadata": {},
   "source": [
    "## 選取資料\n",
    "\n",
    "在dataframe中選取某一筆資料須要先定位，pandas提供許多定位方式，例如 df\\['name'\\]可以列出欄位為name的所有資料，df\\['name'\\]\\[1\\]可以選出name欄索引為1的資料。此外，pandas也提供定位運算子(assessor)\n",
    "\n",
    "- **df.loc\\[ \\]** - 根據列標籤與欄標籤定位\n",
    "- **df.iloc\\[ \\]** - 根據列與欄的索引值定位\n",
    "- **df.at\\[ \\]** - 根據列標籤與欄標籤定位某一筆資料\n",
    "- **df.iat\\[ \\]** - 根據列與欄的索引值定位某一筆資料"
   ]
  },
  {
   "cell_type": "code",
   "execution_count": 29,
   "id": "c0c047f6",
   "metadata": {},
   "outputs": [
    {
     "data": {
      "text/html": [
       "<div>\n",
       "<style scoped>\n",
       "    .dataframe tbody tr th:only-of-type {\n",
       "        vertical-align: middle;\n",
       "    }\n",
       "\n",
       "    .dataframe tbody tr th {\n",
       "        vertical-align: top;\n",
       "    }\n",
       "\n",
       "    .dataframe thead th {\n",
       "        text-align: right;\n",
       "    }\n",
       "</style>\n",
       "<table border=\"1\" class=\"dataframe\">\n",
       "  <thead>\n",
       "    <tr style=\"text-align: right;\">\n",
       "      <th></th>\n",
       "      <th>sid</th>\n",
       "      <th>name</th>\n",
       "      <th>phone</th>\n",
       "      <th>AI</th>\n",
       "      <th>datastructure</th>\n",
       "      <th>python</th>\n",
       "    </tr>\n",
       "  </thead>\n",
       "  <tbody>\n",
       "    <tr>\n",
       "      <th>0</th>\n",
       "      <td>11375001</td>\n",
       "      <td>李居明</td>\n",
       "      <td>0922555123</td>\n",
       "      <td>66</td>\n",
       "      <td>86</td>\n",
       "      <td>69</td>\n",
       "    </tr>\n",
       "    <tr>\n",
       "      <th>1</th>\n",
       "      <td>11375010</td>\n",
       "      <td>陳傑憲</td>\n",
       "      <td>0919123456</td>\n",
       "      <td>96</td>\n",
       "      <td>88</td>\n",
       "      <td>77</td>\n",
       "    </tr>\n",
       "    <tr>\n",
       "      <th>2</th>\n",
       "      <td>11375022</td>\n",
       "      <td>林玉明</td>\n",
       "      <td>0955235743</td>\n",
       "      <td>88</td>\n",
       "      <td>77</td>\n",
       "      <td>66</td>\n",
       "    </tr>\n",
       "    <tr>\n",
       "      <th>3</th>\n",
       "      <td>11375055</td>\n",
       "      <td>姜昆雨</td>\n",
       "      <td>0931239097</td>\n",
       "      <td>77</td>\n",
       "      <td>87</td>\n",
       "      <td>98</td>\n",
       "    </tr>\n",
       "    <tr>\n",
       "      <th>4</th>\n",
       "      <td>11375199</td>\n",
       "      <td>陳辰威</td>\n",
       "      <td>0932098543</td>\n",
       "      <td>67</td>\n",
       "      <td>78</td>\n",
       "      <td>89</td>\n",
       "    </tr>\n",
       "  </tbody>\n",
       "</table>\n",
       "</div>"
      ],
      "text/plain": [
       "        sid name       phone  AI  datastructure  python\n",
       "0  11375001  李居明  0922555123  66             86      69\n",
       "1  11375010  陳傑憲  0919123456  96             88      77\n",
       "2  11375022  林玉明  0955235743  88             77      66\n",
       "3  11375055  姜昆雨  0931239097  77             87      98\n",
       "4  11375199  陳辰威  0932098543  67             78      89"
      ]
     },
     "execution_count": 29,
     "metadata": {},
     "output_type": "execute_result"
    }
   ],
   "source": [
    "df"
   ]
  },
  {
   "cell_type": "code",
   "execution_count": 30,
   "id": "a9d5600e-59ab-44d0-b34a-b7a6d50891fe",
   "metadata": {},
   "outputs": [
    {
     "data": {
      "text/plain": [
       "0    李居明\n",
       "1    陳傑憲\n",
       "2    林玉明\n",
       "3    姜昆雨\n",
       "4    陳辰威\n",
       "Name: name, dtype: object"
      ]
     },
     "execution_count": 30,
     "metadata": {},
     "output_type": "execute_result"
    }
   ],
   "source": [
    "#選取某一欄資料\n",
    "df['name'] "
   ]
  },
  {
   "cell_type": "code",
   "execution_count": 31,
   "id": "f66028a4",
   "metadata": {},
   "outputs": [
    {
     "data": {
      "text/plain": [
       "'陳傑憲'"
      ]
     },
     "execution_count": 31,
     "metadata": {},
     "output_type": "execute_result"
    }
   ],
   "source": [
    "df['name'][1] #選取'name'欄索引位置1的資料"
   ]
  },
  {
   "cell_type": "code",
   "execution_count": 32,
   "id": "58c9e4a0-8df2-4bbb-bece-c1ec4d7086b3",
   "metadata": {},
   "outputs": [
    {
     "data": {
      "text/plain": [
       "sid                11375022\n",
       "name                    林玉明\n",
       "phone            0955235743\n",
       "AI                       88\n",
       "datastructure            77\n",
       "python                   66\n",
       "Name: 2, dtype: object"
      ]
     },
     "execution_count": 32,
     "metadata": {},
     "output_type": "execute_result"
    }
   ],
   "source": [
    "#利用 .loc[]定位子，df.loc[2]表示定位dataframe中列標籤=2的資料(整列)\n",
    "df.loc[2]"
   ]
  },
  {
   "cell_type": "markdown",
   "id": "87f0bbed",
   "metadata": {},
   "source": [
    "### `df.iloc[5]` 產生 #IndexError: single positional indexer is out-of-bounds"
   ]
  },
  {
   "cell_type": "code",
   "execution_count": 33,
   "id": "6cad230f-82da-4a4e-b996-78b4f0ba0e56",
   "metadata": {},
   "outputs": [
    {
     "data": {
      "text/plain": [
       "sid                11375001\n",
       "name                    李居明\n",
       "phone            0922555123\n",
       "AI                       66\n",
       "datastructure            86\n",
       "python                   69\n",
       "Name: 0, dtype: object"
      ]
     },
     "execution_count": 33,
     "metadata": {},
     "output_type": "execute_result"
    }
   ],
   "source": [
    "#利用 .iloc[]定位子，df.iloc[0]表示定位dataframe中列索引位置=2的資料(整列)\n",
    "df.iloc[0]"
   ]
  },
  {
   "cell_type": "code",
   "execution_count": 34,
   "id": "18bfa620-b40f-42fb-aec9-541f46ab6d61",
   "metadata": {},
   "outputs": [
    {
     "data": {
      "text/plain": [
       "'0919123456'"
      ]
     },
     "execution_count": 34,
     "metadata": {},
     "output_type": "execute_result"
    }
   ],
   "source": [
    "#df.loc[1, 'phone']表示定位於column=\"phone\", row label=1\n",
    "df.loc[1, 'phone']"
   ]
  },
  {
   "cell_type": "code",
   "execution_count": 35,
   "id": "5ee9a9d3-ce75-43ca-a4ad-f65ba9c87044",
   "metadata": {},
   "outputs": [
    {
     "data": {
      "text/plain": [
       "name            林玉明\n",
       "phone    0955235743\n",
       "AI               88\n",
       "Name: 2, dtype: object"
      ]
     },
     "execution_count": 35,
     "metadata": {},
     "output_type": "execute_result"
    }
   ],
   "source": [
    "#定位於column=[''name','phone','AI']共三欄，row label=2\n",
    "df.loc[2, ['name','phone','AI']]"
   ]
  },
  {
   "cell_type": "code",
   "execution_count": 36,
   "id": "7be5fb1b-0861-411a-a7d0-25bf5bac5058",
   "metadata": {},
   "outputs": [
    {
     "data": {
      "text/html": [
       "<div>\n",
       "<style scoped>\n",
       "    .dataframe tbody tr th:only-of-type {\n",
       "        vertical-align: middle;\n",
       "    }\n",
       "\n",
       "    .dataframe tbody tr th {\n",
       "        vertical-align: top;\n",
       "    }\n",
       "\n",
       "    .dataframe thead th {\n",
       "        text-align: right;\n",
       "    }\n",
       "</style>\n",
       "<table border=\"1\" class=\"dataframe\">\n",
       "  <thead>\n",
       "    <tr style=\"text-align: right;\">\n",
       "      <th></th>\n",
       "      <th>name</th>\n",
       "      <th>phone</th>\n",
       "      <th>AI</th>\n",
       "    </tr>\n",
       "  </thead>\n",
       "  <tbody>\n",
       "    <tr>\n",
       "      <th>2</th>\n",
       "      <td>林玉明</td>\n",
       "      <td>0955235743</td>\n",
       "      <td>88</td>\n",
       "    </tr>\n",
       "    <tr>\n",
       "      <th>4</th>\n",
       "      <td>陳辰威</td>\n",
       "      <td>0932098543</td>\n",
       "      <td>67</td>\n",
       "    </tr>\n",
       "  </tbody>\n",
       "</table>\n",
       "</div>"
      ],
      "text/plain": [
       "  name       phone  AI\n",
       "2  林玉明  0955235743  88\n",
       "4  陳辰威  0932098543  67"
      ]
     },
     "execution_count": 36,
     "metadata": {},
     "output_type": "execute_result"
    }
   ],
   "source": [
    "#定位於column=[''name','phone','AI']共三欄，row label=2, 4\n",
    "df.loc[[2, 4], ['name','phone','AI']]"
   ]
  },
  {
   "cell_type": "code",
   "execution_count": 37,
   "id": "d4171479-ed4f-4387-8639-8282211647e8",
   "metadata": {},
   "outputs": [
    {
     "data": {
      "text/html": [
       "<div>\n",
       "<style scoped>\n",
       "    .dataframe tbody tr th:only-of-type {\n",
       "        vertical-align: middle;\n",
       "    }\n",
       "\n",
       "    .dataframe tbody tr th {\n",
       "        vertical-align: top;\n",
       "    }\n",
       "\n",
       "    .dataframe thead th {\n",
       "        text-align: right;\n",
       "    }\n",
       "</style>\n",
       "<table border=\"1\" class=\"dataframe\">\n",
       "  <thead>\n",
       "    <tr style=\"text-align: right;\">\n",
       "      <th></th>\n",
       "      <th>name</th>\n",
       "      <th>phone</th>\n",
       "      <th>datastructure</th>\n",
       "    </tr>\n",
       "  </thead>\n",
       "  <tbody>\n",
       "    <tr>\n",
       "      <th>1</th>\n",
       "      <td>陳傑憲</td>\n",
       "      <td>0919123456</td>\n",
       "      <td>88</td>\n",
       "    </tr>\n",
       "    <tr>\n",
       "      <th>2</th>\n",
       "      <td>林玉明</td>\n",
       "      <td>0955235743</td>\n",
       "      <td>77</td>\n",
       "    </tr>\n",
       "  </tbody>\n",
       "</table>\n",
       "</div>"
      ],
      "text/plain": [
       "  name       phone  datastructure\n",
       "1  陳傑憲  0919123456             88\n",
       "2  林玉明  0955235743             77"
      ]
     },
     "execution_count": 37,
     "metadata": {},
     "output_type": "execute_result"
    }
   ],
   "source": [
    "#定位於column index=[1,2,4]共三欄，row index= 1, 2 (1:3)\n",
    "df.iloc[1:3, [1,2,4]]"
   ]
  },
  {
   "cell_type": "code",
   "execution_count": 38,
   "id": "029d013c-26aa-4cd6-82f5-e1e35718c8ad",
   "metadata": {},
   "outputs": [
    {
     "data": {
      "text/html": [
       "<div>\n",
       "<style scoped>\n",
       "    .dataframe tbody tr th:only-of-type {\n",
       "        vertical-align: middle;\n",
       "    }\n",
       "\n",
       "    .dataframe tbody tr th {\n",
       "        vertical-align: top;\n",
       "    }\n",
       "\n",
       "    .dataframe thead th {\n",
       "        text-align: right;\n",
       "    }\n",
       "</style>\n",
       "<table border=\"1\" class=\"dataframe\">\n",
       "  <thead>\n",
       "    <tr style=\"text-align: right;\">\n",
       "      <th></th>\n",
       "      <th>name</th>\n",
       "      <th>AI</th>\n",
       "      <th>python</th>\n",
       "    </tr>\n",
       "  </thead>\n",
       "  <tbody>\n",
       "    <tr>\n",
       "      <th>0</th>\n",
       "      <td>李居明</td>\n",
       "      <td>66</td>\n",
       "      <td>69</td>\n",
       "    </tr>\n",
       "    <tr>\n",
       "      <th>1</th>\n",
       "      <td>陳傑憲</td>\n",
       "      <td>96</td>\n",
       "      <td>77</td>\n",
       "    </tr>\n",
       "    <tr>\n",
       "      <th>2</th>\n",
       "      <td>林玉明</td>\n",
       "      <td>88</td>\n",
       "      <td>66</td>\n",
       "    </tr>\n",
       "    <tr>\n",
       "      <th>3</th>\n",
       "      <td>姜昆雨</td>\n",
       "      <td>77</td>\n",
       "      <td>98</td>\n",
       "    </tr>\n",
       "    <tr>\n",
       "      <th>4</th>\n",
       "      <td>陳辰威</td>\n",
       "      <td>67</td>\n",
       "      <td>89</td>\n",
       "    </tr>\n",
       "  </tbody>\n",
       "</table>\n",
       "</div>"
      ],
      "text/plain": [
       "  name  AI  python\n",
       "0  李居明  66      69\n",
       "1  陳傑憲  96      77\n",
       "2  林玉明  88      66\n",
       "3  姜昆雨  77      98\n",
       "4  陳辰威  67      89"
      ]
     },
     "execution_count": 38,
     "metadata": {},
     "output_type": "execute_result"
    }
   ],
   "source": [
    "#定位於column index=[1,3,5]共三欄，row index= all\n",
    "df.iloc[:, [1, 3, 5]]"
   ]
  },
  {
   "cell_type": "code",
   "execution_count": 39,
   "id": "58dc5d3c-a4ef-4e25-9298-052232a4b9d7",
   "metadata": {
    "tags": []
   },
   "outputs": [
    {
     "data": {
      "text/plain": [
       "'林玉明'"
      ]
     },
     "execution_count": 39,
     "metadata": {},
     "output_type": "execute_result"
    }
   ],
   "source": [
    "#定位於 row label=2, column label='name'\n",
    "df.at[2, 'name']"
   ]
  },
  {
   "cell_type": "code",
   "execution_count": 40,
   "id": "61f04f26-5f86-4e14-9e94-0b13bafa0241",
   "metadata": {
    "tags": []
   },
   "outputs": [
    {
     "data": {
      "text/plain": [
       "'林玉明'"
      ]
     },
     "execution_count": 40,
     "metadata": {},
     "output_type": "execute_result"
    }
   ],
   "source": [
    "#定位於 row index=2, column index=1\n",
    "df.iat[2, 1]"
   ]
  },
  {
   "cell_type": "markdown",
   "id": "606aa8bf",
   "metadata": {},
   "source": [
    "## 新增資料\n",
    "\n",
    "資料處理過程中，有時需要增加新的欄位(資料項目, add column)，或新增資料(add rows)。新增資料結果將會改變dataframe的shape值(df.shape)。\n",
    "\n",
    "### 新增欄位\n",
    "\n",
    "DataFrame新增欄位可以利用以下方式\n",
    "1. 建立空值欄位\n",
    "2. 建立定值欄位\n",
    "3. 已知資料建立欄位\n",
    "4. 使用insert()函式\n",
    "5. 使用assign()函式"
   ]
  },
  {
   "cell_type": "code",
   "execution_count": 41,
   "id": "c6e689e4-503e-4441-96a6-8bbc94f38b1a",
   "metadata": {
    "tags": []
   },
   "outputs": [],
   "source": [
    "df['database']=None"
   ]
  },
  {
   "cell_type": "code",
   "execution_count": 42,
   "id": "a7b24bf0-937c-4f26-992c-f8f91c046e38",
   "metadata": {
    "tags": []
   },
   "outputs": [
    {
     "data": {
      "text/html": [
       "<div>\n",
       "<style scoped>\n",
       "    .dataframe tbody tr th:only-of-type {\n",
       "        vertical-align: middle;\n",
       "    }\n",
       "\n",
       "    .dataframe tbody tr th {\n",
       "        vertical-align: top;\n",
       "    }\n",
       "\n",
       "    .dataframe thead th {\n",
       "        text-align: right;\n",
       "    }\n",
       "</style>\n",
       "<table border=\"1\" class=\"dataframe\">\n",
       "  <thead>\n",
       "    <tr style=\"text-align: right;\">\n",
       "      <th></th>\n",
       "      <th>sid</th>\n",
       "      <th>name</th>\n",
       "      <th>phone</th>\n",
       "      <th>AI</th>\n",
       "      <th>datastructure</th>\n",
       "      <th>python</th>\n",
       "      <th>database</th>\n",
       "    </tr>\n",
       "  </thead>\n",
       "  <tbody>\n",
       "    <tr>\n",
       "      <th>0</th>\n",
       "      <td>11375001</td>\n",
       "      <td>李居明</td>\n",
       "      <td>0922555123</td>\n",
       "      <td>66</td>\n",
       "      <td>86</td>\n",
       "      <td>69</td>\n",
       "      <td>None</td>\n",
       "    </tr>\n",
       "    <tr>\n",
       "      <th>1</th>\n",
       "      <td>11375010</td>\n",
       "      <td>陳傑憲</td>\n",
       "      <td>0919123456</td>\n",
       "      <td>96</td>\n",
       "      <td>88</td>\n",
       "      <td>77</td>\n",
       "      <td>None</td>\n",
       "    </tr>\n",
       "    <tr>\n",
       "      <th>2</th>\n",
       "      <td>11375022</td>\n",
       "      <td>林玉明</td>\n",
       "      <td>0955235743</td>\n",
       "      <td>88</td>\n",
       "      <td>77</td>\n",
       "      <td>66</td>\n",
       "      <td>None</td>\n",
       "    </tr>\n",
       "    <tr>\n",
       "      <th>3</th>\n",
       "      <td>11375055</td>\n",
       "      <td>姜昆雨</td>\n",
       "      <td>0931239097</td>\n",
       "      <td>77</td>\n",
       "      <td>87</td>\n",
       "      <td>98</td>\n",
       "      <td>None</td>\n",
       "    </tr>\n",
       "    <tr>\n",
       "      <th>4</th>\n",
       "      <td>11375199</td>\n",
       "      <td>陳辰威</td>\n",
       "      <td>0932098543</td>\n",
       "      <td>67</td>\n",
       "      <td>78</td>\n",
       "      <td>89</td>\n",
       "      <td>None</td>\n",
       "    </tr>\n",
       "  </tbody>\n",
       "</table>\n",
       "</div>"
      ],
      "text/plain": [
       "        sid name       phone  AI  datastructure  python database\n",
       "0  11375001  李居明  0922555123  66             86      69     None\n",
       "1  11375010  陳傑憲  0919123456  96             88      77     None\n",
       "2  11375022  林玉明  0955235743  88             77      66     None\n",
       "3  11375055  姜昆雨  0931239097  77             87      98     None\n",
       "4  11375199  陳辰威  0932098543  67             78      89     None"
      ]
     },
     "execution_count": 42,
     "metadata": {},
     "output_type": "execute_result"
    }
   ],
   "source": [
    "#output\n",
    "df.head()"
   ]
  },
  {
   "cell_type": "code",
   "execution_count": 43,
   "id": "79b4f912-d9ad-4da7-b359-6dbbf4e698bc",
   "metadata": {
    "tags": []
   },
   "outputs": [],
   "source": [
    "df['database']=0"
   ]
  },
  {
   "cell_type": "code",
   "execution_count": 46,
   "id": "931c0f1c-9415-4678-a0e5-55bbb177a0e9",
   "metadata": {
    "tags": []
   },
   "outputs": [],
   "source": [
    "df['database']=[55,66,77,88,99]"
   ]
  },
  {
   "cell_type": "code",
   "execution_count": 49,
   "id": "abe4c528-38ce-4904-ab1e-bf2209518065",
   "metadata": {
    "tags": []
   },
   "outputs": [],
   "source": [
    "#df.insert(loc, colName, values)\n",
    "df.insert(3, \"game design\", [87, 54, 98, 65, 85]) #index=3"
   ]
  },
  {
   "cell_type": "code",
   "execution_count": 51,
   "id": "6f6a3e22-adb4-4a33-8057-3abcee2c9657",
   "metadata": {
    "tags": []
   },
   "outputs": [
    {
     "data": {
      "text/html": [
       "<div>\n",
       "<style scoped>\n",
       "    .dataframe tbody tr th:only-of-type {\n",
       "        vertical-align: middle;\n",
       "    }\n",
       "\n",
       "    .dataframe tbody tr th {\n",
       "        vertical-align: top;\n",
       "    }\n",
       "\n",
       "    .dataframe thead th {\n",
       "        text-align: right;\n",
       "    }\n",
       "</style>\n",
       "<table border=\"1\" class=\"dataframe\">\n",
       "  <thead>\n",
       "    <tr style=\"text-align: right;\">\n",
       "      <th></th>\n",
       "      <th>sid</th>\n",
       "      <th>name</th>\n",
       "      <th>phone</th>\n",
       "      <th>game design</th>\n",
       "      <th>AI</th>\n",
       "      <th>datastructure</th>\n",
       "      <th>python</th>\n",
       "      <th>database</th>\n",
       "      <th>deeplearning</th>\n",
       "    </tr>\n",
       "  </thead>\n",
       "  <tbody>\n",
       "    <tr>\n",
       "      <th>0</th>\n",
       "      <td>11375001</td>\n",
       "      <td>李居明</td>\n",
       "      <td>0922555123</td>\n",
       "      <td>87</td>\n",
       "      <td>66</td>\n",
       "      <td>86</td>\n",
       "      <td>69</td>\n",
       "      <td>55</td>\n",
       "      <td>45</td>\n",
       "    </tr>\n",
       "    <tr>\n",
       "      <th>1</th>\n",
       "      <td>11375010</td>\n",
       "      <td>陳傑憲</td>\n",
       "      <td>0919123456</td>\n",
       "      <td>54</td>\n",
       "      <td>96</td>\n",
       "      <td>88</td>\n",
       "      <td>77</td>\n",
       "      <td>66</td>\n",
       "      <td>56</td>\n",
       "    </tr>\n",
       "    <tr>\n",
       "      <th>2</th>\n",
       "      <td>11375022</td>\n",
       "      <td>林玉明</td>\n",
       "      <td>0955235743</td>\n",
       "      <td>98</td>\n",
       "      <td>88</td>\n",
       "      <td>77</td>\n",
       "      <td>66</td>\n",
       "      <td>77</td>\n",
       "      <td>67</td>\n",
       "    </tr>\n",
       "    <tr>\n",
       "      <th>3</th>\n",
       "      <td>11375055</td>\n",
       "      <td>姜昆雨</td>\n",
       "      <td>0931239097</td>\n",
       "      <td>65</td>\n",
       "      <td>77</td>\n",
       "      <td>87</td>\n",
       "      <td>98</td>\n",
       "      <td>88</td>\n",
       "      <td>78</td>\n",
       "    </tr>\n",
       "    <tr>\n",
       "      <th>4</th>\n",
       "      <td>11375199</td>\n",
       "      <td>陳辰威</td>\n",
       "      <td>0932098543</td>\n",
       "      <td>85</td>\n",
       "      <td>67</td>\n",
       "      <td>78</td>\n",
       "      <td>89</td>\n",
       "      <td>99</td>\n",
       "      <td>89</td>\n",
       "    </tr>\n",
       "  </tbody>\n",
       "</table>\n",
       "</div>"
      ],
      "text/plain": [
       "        sid name       phone  game design  AI  datastructure  python  \\\n",
       "0  11375001  李居明  0922555123           87  66             86      69   \n",
       "1  11375010  陳傑憲  0919123456           54  96             88      77   \n",
       "2  11375022  林玉明  0955235743           98  88             77      66   \n",
       "3  11375055  姜昆雨  0931239097           65  77             87      98   \n",
       "4  11375199  陳辰威  0932098543           85  67             78      89   \n",
       "\n",
       "   database  deeplearning  \n",
       "0        55            45  \n",
       "1        66            56  \n",
       "2        77            67  \n",
       "3        88            78  \n",
       "4        99            89  "
      ]
     },
     "execution_count": 51,
     "metadata": {},
     "output_type": "execute_result"
    }
   ],
   "source": [
    "#df.assign(new_column=list of vlues)\n",
    "df.assign(deeplearning=[45,56,67,78,89])"
   ]
  },
  {
   "cell_type": "code",
   "execution_count": 53,
   "id": "429f3fba-a7e0-4d0e-a034-e1f89d294501",
   "metadata": {
    "tags": []
   },
   "outputs": [],
   "source": [
    "import numpy as np\n",
    "df['image processing']=np.NaN"
   ]
  },
  {
   "cell_type": "code",
   "execution_count": 54,
   "id": "ecdf1f34-c7c2-4ab0-ac81-2e8eaf657e52",
   "metadata": {
    "tags": []
   },
   "outputs": [
    {
     "data": {
      "text/html": [
       "<div>\n",
       "<style scoped>\n",
       "    .dataframe tbody tr th:only-of-type {\n",
       "        vertical-align: middle;\n",
       "    }\n",
       "\n",
       "    .dataframe tbody tr th {\n",
       "        vertical-align: top;\n",
       "    }\n",
       "\n",
       "    .dataframe thead th {\n",
       "        text-align: right;\n",
       "    }\n",
       "</style>\n",
       "<table border=\"1\" class=\"dataframe\">\n",
       "  <thead>\n",
       "    <tr style=\"text-align: right;\">\n",
       "      <th></th>\n",
       "      <th>sid</th>\n",
       "      <th>name</th>\n",
       "      <th>phone</th>\n",
       "      <th>game design</th>\n",
       "      <th>AI</th>\n",
       "      <th>datastructure</th>\n",
       "      <th>python</th>\n",
       "      <th>database</th>\n",
       "      <th>image processing</th>\n",
       "    </tr>\n",
       "  </thead>\n",
       "  <tbody>\n",
       "    <tr>\n",
       "      <th>0</th>\n",
       "      <td>11375001</td>\n",
       "      <td>李居明</td>\n",
       "      <td>0922555123</td>\n",
       "      <td>87</td>\n",
       "      <td>66</td>\n",
       "      <td>86</td>\n",
       "      <td>69</td>\n",
       "      <td>55</td>\n",
       "      <td>NaN</td>\n",
       "    </tr>\n",
       "    <tr>\n",
       "      <th>1</th>\n",
       "      <td>11375010</td>\n",
       "      <td>陳傑憲</td>\n",
       "      <td>0919123456</td>\n",
       "      <td>54</td>\n",
       "      <td>96</td>\n",
       "      <td>88</td>\n",
       "      <td>77</td>\n",
       "      <td>66</td>\n",
       "      <td>NaN</td>\n",
       "    </tr>\n",
       "    <tr>\n",
       "      <th>2</th>\n",
       "      <td>11375022</td>\n",
       "      <td>林玉明</td>\n",
       "      <td>0955235743</td>\n",
       "      <td>98</td>\n",
       "      <td>88</td>\n",
       "      <td>77</td>\n",
       "      <td>66</td>\n",
       "      <td>77</td>\n",
       "      <td>NaN</td>\n",
       "    </tr>\n",
       "    <tr>\n",
       "      <th>3</th>\n",
       "      <td>11375055</td>\n",
       "      <td>姜昆雨</td>\n",
       "      <td>0931239097</td>\n",
       "      <td>65</td>\n",
       "      <td>77</td>\n",
       "      <td>87</td>\n",
       "      <td>98</td>\n",
       "      <td>88</td>\n",
       "      <td>NaN</td>\n",
       "    </tr>\n",
       "    <tr>\n",
       "      <th>4</th>\n",
       "      <td>11375199</td>\n",
       "      <td>陳辰威</td>\n",
       "      <td>0932098543</td>\n",
       "      <td>85</td>\n",
       "      <td>67</td>\n",
       "      <td>78</td>\n",
       "      <td>89</td>\n",
       "      <td>99</td>\n",
       "      <td>NaN</td>\n",
       "    </tr>\n",
       "  </tbody>\n",
       "</table>\n",
       "</div>"
      ],
      "text/plain": [
       "        sid name       phone  game design  AI  datastructure  python  \\\n",
       "0  11375001  李居明  0922555123           87  66             86      69   \n",
       "1  11375010  陳傑憲  0919123456           54  96             88      77   \n",
       "2  11375022  林玉明  0955235743           98  88             77      66   \n",
       "3  11375055  姜昆雨  0931239097           65  77             87      98   \n",
       "4  11375199  陳辰威  0932098543           85  67             78      89   \n",
       "\n",
       "   database  image processing  \n",
       "0        55               NaN  \n",
       "1        66               NaN  \n",
       "2        77               NaN  \n",
       "3        88               NaN  \n",
       "4        99               NaN  "
      ]
     },
     "execution_count": 54,
     "metadata": {},
     "output_type": "execute_result"
    }
   ],
   "source": [
    "#output\n",
    "df.head()"
   ]
  },
  {
   "cell_type": "markdown",
   "id": "79567472-c664-4d17-b9a2-6786f72504f4",
   "metadata": {},
   "source": [
    "### 新增資料列\n",
    "\n",
    "使用以下方法新增資料列\n",
    "1. df.loc\\[len(df)\\]=\\[list of values\\]\n",
    "2. 使用 `df.concat()` 設定 ignore index\n",
    "3. 使用 `df.concat()` 設定 index"
   ]
  },
  {
   "cell_type": "code",
   "execution_count": 55,
   "id": "f26d4e60-9fdb-4798-8200-8c05f6fb5416",
   "metadata": {
    "tags": []
   },
   "outputs": [],
   "source": [
    "#add a row with .loc[len(df)] \n",
    "#新增一筆紀錄 [\"10175002\", \"王建民\", \"0911999888\", 55, 88, 66, 77, 98, 78]\n",
    "df.loc[len(df)]=[\"10175002\", \"王建民\", \"0911999888\", 55, 88, 66, 77, 98, 78]"
   ]
  },
  {
   "cell_type": "code",
   "execution_count": 60,
   "id": "a240ee70-bbb3-4593-9e7e-ca19e1288f21",
   "metadata": {
    "tags": []
   },
   "outputs": [
    {
     "data": {
      "text/html": [
       "<div>\n",
       "<style scoped>\n",
       "    .dataframe tbody tr th:only-of-type {\n",
       "        vertical-align: middle;\n",
       "    }\n",
       "\n",
       "    .dataframe tbody tr th {\n",
       "        vertical-align: top;\n",
       "    }\n",
       "\n",
       "    .dataframe thead th {\n",
       "        text-align: right;\n",
       "    }\n",
       "</style>\n",
       "<table border=\"1\" class=\"dataframe\">\n",
       "  <thead>\n",
       "    <tr style=\"text-align: right;\">\n",
       "      <th></th>\n",
       "      <th>sid</th>\n",
       "      <th>name</th>\n",
       "      <th>phone</th>\n",
       "      <th>game design</th>\n",
       "      <th>AI</th>\n",
       "      <th>datastructure</th>\n",
       "      <th>python</th>\n",
       "      <th>database</th>\n",
       "      <th>image processing</th>\n",
       "    </tr>\n",
       "  </thead>\n",
       "  <tbody>\n",
       "    <tr>\n",
       "      <th>4</th>\n",
       "      <td>11375199</td>\n",
       "      <td>陳辰威</td>\n",
       "      <td>0932098543</td>\n",
       "      <td>85</td>\n",
       "      <td>67</td>\n",
       "      <td>78</td>\n",
       "      <td>89</td>\n",
       "      <td>99</td>\n",
       "      <td>NaN</td>\n",
       "    </tr>\n",
       "    <tr>\n",
       "      <th>5</th>\n",
       "      <td>10175002</td>\n",
       "      <td>王建民</td>\n",
       "      <td>0911999888</td>\n",
       "      <td>55</td>\n",
       "      <td>88</td>\n",
       "      <td>66</td>\n",
       "      <td>77</td>\n",
       "      <td>98</td>\n",
       "      <td>78.0</td>\n",
       "    </tr>\n",
       "  </tbody>\n",
       "</table>\n",
       "</div>"
      ],
      "text/plain": [
       "        sid name       phone  game design  AI  datastructure  python  \\\n",
       "4  11375199  陳辰威  0932098543           85  67             78      89   \n",
       "5  10175002  王建民  0911999888           55  88             66      77   \n",
       "\n",
       "   database  image processing  \n",
       "4        99               NaN  \n",
       "5        98              78.0  "
      ]
     },
     "execution_count": 60,
     "metadata": {},
     "output_type": "execute_result"
    }
   ],
   "source": [
    "#output\n",
    "df.tail(2)"
   ]
  },
  {
   "cell_type": "code",
   "execution_count": 92,
   "id": "5ad5f848-1921-4461-87b7-40d90100d516",
   "metadata": {
    "tags": []
   },
   "outputs": [],
   "source": [
    "#add a row with pd.concat + ignore index\n",
    "new_row = [\"111752222\", \"徐若曦\", \"0915432888\", 65, 75, 65, 85, 95, 75]\n",
    "new_df = pd.DataFrame([new_row], columns=df.columns)\n",
    "df_concat = pd.concat([df, new_df], ignore_index=True) #注意 [df, new_df]"
   ]
  },
  {
   "cell_type": "code",
   "execution_count": 93,
   "id": "ad11a21e-7686-4533-bf63-ac6ec314f0b4",
   "metadata": {
    "tags": []
   },
   "outputs": [
    {
     "data": {
      "text/html": [
       "<div>\n",
       "<style scoped>\n",
       "    .dataframe tbody tr th:only-of-type {\n",
       "        vertical-align: middle;\n",
       "    }\n",
       "\n",
       "    .dataframe tbody tr th {\n",
       "        vertical-align: top;\n",
       "    }\n",
       "\n",
       "    .dataframe thead th {\n",
       "        text-align: right;\n",
       "    }\n",
       "</style>\n",
       "<table border=\"1\" class=\"dataframe\">\n",
       "  <thead>\n",
       "    <tr style=\"text-align: right;\">\n",
       "      <th></th>\n",
       "      <th>sid</th>\n",
       "      <th>name</th>\n",
       "      <th>phone</th>\n",
       "      <th>game design</th>\n",
       "      <th>AI</th>\n",
       "      <th>datastructure</th>\n",
       "      <th>python</th>\n",
       "      <th>database</th>\n",
       "      <th>image processing</th>\n",
       "    </tr>\n",
       "  </thead>\n",
       "  <tbody>\n",
       "    <tr>\n",
       "      <th>0</th>\n",
       "      <td>11375001</td>\n",
       "      <td>李居明</td>\n",
       "      <td>0922555123</td>\n",
       "      <td>87.0</td>\n",
       "      <td>66.0</td>\n",
       "      <td>86.0</td>\n",
       "      <td>69.0</td>\n",
       "      <td>55.0</td>\n",
       "      <td>NaN</td>\n",
       "    </tr>\n",
       "    <tr>\n",
       "      <th>1</th>\n",
       "      <td>11375010</td>\n",
       "      <td>陳傑憲</td>\n",
       "      <td>0919123456</td>\n",
       "      <td>54.0</td>\n",
       "      <td>96.0</td>\n",
       "      <td>88.0</td>\n",
       "      <td>77.0</td>\n",
       "      <td>66.0</td>\n",
       "      <td>NaN</td>\n",
       "    </tr>\n",
       "    <tr>\n",
       "      <th>2</th>\n",
       "      <td>11375022</td>\n",
       "      <td>林玉明</td>\n",
       "      <td>0955235743</td>\n",
       "      <td>98.0</td>\n",
       "      <td>88.0</td>\n",
       "      <td>77.0</td>\n",
       "      <td>66.0</td>\n",
       "      <td>77.0</td>\n",
       "      <td>NaN</td>\n",
       "    </tr>\n",
       "    <tr>\n",
       "      <th>3</th>\n",
       "      <td>11375055</td>\n",
       "      <td>姜昆雨</td>\n",
       "      <td>0931239097</td>\n",
       "      <td>65.0</td>\n",
       "      <td>77.0</td>\n",
       "      <td>87.0</td>\n",
       "      <td>98.0</td>\n",
       "      <td>88.0</td>\n",
       "      <td>NaN</td>\n",
       "    </tr>\n",
       "    <tr>\n",
       "      <th>4</th>\n",
       "      <td>11375199</td>\n",
       "      <td>陳辰威</td>\n",
       "      <td>0932098543</td>\n",
       "      <td>85.0</td>\n",
       "      <td>67.0</td>\n",
       "      <td>78.0</td>\n",
       "      <td>89.0</td>\n",
       "      <td>99.0</td>\n",
       "      <td>NaN</td>\n",
       "    </tr>\n",
       "    <tr>\n",
       "      <th>5</th>\n",
       "      <td>10175002</td>\n",
       "      <td>王建民</td>\n",
       "      <td>0911999888</td>\n",
       "      <td>55.0</td>\n",
       "      <td>88.0</td>\n",
       "      <td>66.0</td>\n",
       "      <td>77.0</td>\n",
       "      <td>98.0</td>\n",
       "      <td>78.0</td>\n",
       "    </tr>\n",
       "    <tr>\n",
       "      <th>6</th>\n",
       "      <td>111752222</td>\n",
       "      <td>徐若曦</td>\n",
       "      <td>0915432888</td>\n",
       "      <td>65.0</td>\n",
       "      <td>75.0</td>\n",
       "      <td>65.0</td>\n",
       "      <td>85.0</td>\n",
       "      <td>95.0</td>\n",
       "      <td>75.0</td>\n",
       "    </tr>\n",
       "  </tbody>\n",
       "</table>\n",
       "</div>"
      ],
      "text/plain": [
       "         sid name       phone  game design    AI  datastructure  python  \\\n",
       "0   11375001  李居明  0922555123         87.0  66.0           86.0    69.0   \n",
       "1   11375010  陳傑憲  0919123456         54.0  96.0           88.0    77.0   \n",
       "2   11375022  林玉明  0955235743         98.0  88.0           77.0    66.0   \n",
       "3   11375055  姜昆雨  0931239097         65.0  77.0           87.0    98.0   \n",
       "4   11375199  陳辰威  0932098543         85.0  67.0           78.0    89.0   \n",
       "5   10175002  王建民  0911999888         55.0  88.0           66.0    77.0   \n",
       "6  111752222  徐若曦  0915432888         65.0  75.0           65.0    85.0   \n",
       "\n",
       "   database  image processing  \n",
       "0      55.0               NaN  \n",
       "1      66.0               NaN  \n",
       "2      77.0               NaN  \n",
       "3      88.0               NaN  \n",
       "4      99.0               NaN  \n",
       "5      98.0              78.0  \n",
       "6      95.0              75.0  "
      ]
     },
     "execution_count": 93,
     "metadata": {},
     "output_type": "execute_result"
    }
   ],
   "source": [
    "df_concat"
   ]
  },
  {
   "cell_type": "markdown",
   "id": "ff05529d-53f8-4584-941a-408d38e61837",
   "metadata": {},
   "source": [
    "## 刪除資料\n",
    "\n",
    "`df.drop()` 可用於刪除列資料及欄位，`del df[欄位名稱]` 用於刪除欄位"
   ]
  },
  {
   "cell_type": "code",
   "execution_count": 99,
   "id": "a5b95807-2489-40cf-b967-47fccf6e0f26",
   "metadata": {
    "tags": []
   },
   "outputs": [
    {
     "data": {
      "text/html": [
       "<div>\n",
       "<style scoped>\n",
       "    .dataframe tbody tr th:only-of-type {\n",
       "        vertical-align: middle;\n",
       "    }\n",
       "\n",
       "    .dataframe tbody tr th {\n",
       "        vertical-align: top;\n",
       "    }\n",
       "\n",
       "    .dataframe thead th {\n",
       "        text-align: right;\n",
       "    }\n",
       "</style>\n",
       "<table border=\"1\" class=\"dataframe\">\n",
       "  <thead>\n",
       "    <tr style=\"text-align: right;\">\n",
       "      <th></th>\n",
       "      <th>sid</th>\n",
       "      <th>name</th>\n",
       "      <th>phone</th>\n",
       "      <th>game design</th>\n",
       "      <th>AI</th>\n",
       "      <th>datastructure</th>\n",
       "      <th>python</th>\n",
       "      <th>database</th>\n",
       "      <th>image processing</th>\n",
       "    </tr>\n",
       "  </thead>\n",
       "  <tbody>\n",
       "    <tr>\n",
       "      <th>0</th>\n",
       "      <td>11375001</td>\n",
       "      <td>李居明</td>\n",
       "      <td>0922555123</td>\n",
       "      <td>87.0</td>\n",
       "      <td>66.0</td>\n",
       "      <td>86.0</td>\n",
       "      <td>69.0</td>\n",
       "      <td>55.0</td>\n",
       "      <td>NaN</td>\n",
       "    </tr>\n",
       "    <tr>\n",
       "      <th>1</th>\n",
       "      <td>11375010</td>\n",
       "      <td>陳傑憲</td>\n",
       "      <td>0919123456</td>\n",
       "      <td>54.0</td>\n",
       "      <td>96.0</td>\n",
       "      <td>88.0</td>\n",
       "      <td>77.0</td>\n",
       "      <td>66.0</td>\n",
       "      <td>NaN</td>\n",
       "    </tr>\n",
       "    <tr>\n",
       "      <th>2</th>\n",
       "      <td>11375022</td>\n",
       "      <td>林玉明</td>\n",
       "      <td>0955235743</td>\n",
       "      <td>98.0</td>\n",
       "      <td>88.0</td>\n",
       "      <td>77.0</td>\n",
       "      <td>66.0</td>\n",
       "      <td>77.0</td>\n",
       "      <td>NaN</td>\n",
       "    </tr>\n",
       "    <tr>\n",
       "      <th>3</th>\n",
       "      <td>11375055</td>\n",
       "      <td>姜昆雨</td>\n",
       "      <td>0931239097</td>\n",
       "      <td>65.0</td>\n",
       "      <td>77.0</td>\n",
       "      <td>87.0</td>\n",
       "      <td>98.0</td>\n",
       "      <td>88.0</td>\n",
       "      <td>NaN</td>\n",
       "    </tr>\n",
       "    <tr>\n",
       "      <th>4</th>\n",
       "      <td>11375199</td>\n",
       "      <td>陳辰威</td>\n",
       "      <td>0932098543</td>\n",
       "      <td>85.0</td>\n",
       "      <td>67.0</td>\n",
       "      <td>78.0</td>\n",
       "      <td>89.0</td>\n",
       "      <td>99.0</td>\n",
       "      <td>NaN</td>\n",
       "    </tr>\n",
       "  </tbody>\n",
       "</table>\n",
       "</div>"
      ],
      "text/plain": [
       "        sid name       phone  game design    AI  datastructure  python  \\\n",
       "0  11375001  李居明  0922555123         87.0  66.0           86.0    69.0   \n",
       "1  11375010  陳傑憲  0919123456         54.0  96.0           88.0    77.0   \n",
       "2  11375022  林玉明  0955235743         98.0  88.0           77.0    66.0   \n",
       "3  11375055  姜昆雨  0931239097         65.0  77.0           87.0    98.0   \n",
       "4  11375199  陳辰威  0932098543         85.0  67.0           78.0    89.0   \n",
       "\n",
       "   database  image processing  \n",
       "0      55.0               NaN  \n",
       "1      66.0               NaN  \n",
       "2      77.0               NaN  \n",
       "3      88.0               NaN  \n",
       "4      99.0               NaN  "
      ]
     },
     "metadata": {},
     "output_type": "display_data"
    }
   ],
   "source": [
    "#刪除row label=5資料\n",
    "df2 = df.copy()\n",
    "df2.drop(labels=[5], inplace=True)\n",
    "display(df2)"
   ]
  },
  {
   "cell_type": "code",
   "execution_count": 103,
   "id": "891d94e0-960e-4678-bf9c-9571854d664b",
   "metadata": {
    "tags": []
   },
   "outputs": [],
   "source": [
    "#刪除column='image processing'資料\n",
    "df2.drop(labels=['image processing'], axis=1, inplace=True)"
   ]
  },
  {
   "cell_type": "code",
   "execution_count": 105,
   "id": "d2214144-8fe0-4895-961a-0cf35e34025b",
   "metadata": {
    "tags": []
   },
   "outputs": [
    {
     "data": {
      "text/html": [
       "<div>\n",
       "<style scoped>\n",
       "    .dataframe tbody tr th:only-of-type {\n",
       "        vertical-align: middle;\n",
       "    }\n",
       "\n",
       "    .dataframe tbody tr th {\n",
       "        vertical-align: top;\n",
       "    }\n",
       "\n",
       "    .dataframe thead th {\n",
       "        text-align: right;\n",
       "    }\n",
       "</style>\n",
       "<table border=\"1\" class=\"dataframe\">\n",
       "  <thead>\n",
       "    <tr style=\"text-align: right;\">\n",
       "      <th></th>\n",
       "      <th>sid</th>\n",
       "      <th>name</th>\n",
       "      <th>phone</th>\n",
       "      <th>datastructure</th>\n",
       "      <th>python</th>\n",
       "      <th>database</th>\n",
       "    </tr>\n",
       "  </thead>\n",
       "  <tbody>\n",
       "    <tr>\n",
       "      <th>0</th>\n",
       "      <td>11375001</td>\n",
       "      <td>李居明</td>\n",
       "      <td>0922555123</td>\n",
       "      <td>86.0</td>\n",
       "      <td>69.0</td>\n",
       "      <td>55.0</td>\n",
       "    </tr>\n",
       "    <tr>\n",
       "      <th>1</th>\n",
       "      <td>11375010</td>\n",
       "      <td>陳傑憲</td>\n",
       "      <td>0919123456</td>\n",
       "      <td>88.0</td>\n",
       "      <td>77.0</td>\n",
       "      <td>66.0</td>\n",
       "    </tr>\n",
       "    <tr>\n",
       "      <th>2</th>\n",
       "      <td>11375022</td>\n",
       "      <td>林玉明</td>\n",
       "      <td>0955235743</td>\n",
       "      <td>77.0</td>\n",
       "      <td>66.0</td>\n",
       "      <td>77.0</td>\n",
       "    </tr>\n",
       "    <tr>\n",
       "      <th>3</th>\n",
       "      <td>11375055</td>\n",
       "      <td>姜昆雨</td>\n",
       "      <td>0931239097</td>\n",
       "      <td>87.0</td>\n",
       "      <td>98.0</td>\n",
       "      <td>88.0</td>\n",
       "    </tr>\n",
       "    <tr>\n",
       "      <th>4</th>\n",
       "      <td>11375199</td>\n",
       "      <td>陳辰威</td>\n",
       "      <td>0932098543</td>\n",
       "      <td>78.0</td>\n",
       "      <td>89.0</td>\n",
       "      <td>99.0</td>\n",
       "    </tr>\n",
       "  </tbody>\n",
       "</table>\n",
       "</div>"
      ],
      "text/plain": [
       "        sid name       phone  datastructure  python  database\n",
       "0  11375001  李居明  0922555123           86.0    69.0      55.0\n",
       "1  11375010  陳傑憲  0919123456           88.0    77.0      66.0\n",
       "2  11375022  林玉明  0955235743           77.0    66.0      77.0\n",
       "3  11375055  姜昆雨  0931239097           87.0    98.0      88.0\n",
       "4  11375199  陳辰威  0932098543           78.0    89.0      99.0"
      ]
     },
     "metadata": {},
     "output_type": "display_data"
    }
   ],
   "source": [
    "#刪除 column='A'\n",
    "del df2['AI']\n",
    "display(df2)"
   ]
  },
  {
   "cell_type": "markdown",
   "id": "211900b6",
   "metadata": {},
   "source": [
    "## 過濾資料\n",
    "\n",
    "利用布林運算式及邏輯運算子可用於找出所需要的資料子集合(subset)"
   ]
  },
  {
   "cell_type": "code",
   "execution_count": 107,
   "id": "709e780b-7d1e-4349-a2ab-a711b09e2b45",
   "metadata": {
    "tags": []
   },
   "outputs": [
    {
     "data": {
      "text/html": [
       "<div>\n",
       "<style scoped>\n",
       "    .dataframe tbody tr th:only-of-type {\n",
       "        vertical-align: middle;\n",
       "    }\n",
       "\n",
       "    .dataframe tbody tr th {\n",
       "        vertical-align: top;\n",
       "    }\n",
       "\n",
       "    .dataframe thead th {\n",
       "        text-align: right;\n",
       "    }\n",
       "</style>\n",
       "<table border=\"1\" class=\"dataframe\">\n",
       "  <thead>\n",
       "    <tr style=\"text-align: right;\">\n",
       "      <th></th>\n",
       "      <th>sid</th>\n",
       "      <th>name</th>\n",
       "      <th>phone</th>\n",
       "      <th>game design</th>\n",
       "      <th>AI</th>\n",
       "      <th>datastructure</th>\n",
       "      <th>python</th>\n",
       "      <th>database</th>\n",
       "      <th>image processing</th>\n",
       "    </tr>\n",
       "  </thead>\n",
       "  <tbody>\n",
       "    <tr>\n",
       "      <th>1</th>\n",
       "      <td>11375010</td>\n",
       "      <td>陳傑憲</td>\n",
       "      <td>0919123456</td>\n",
       "      <td>54.0</td>\n",
       "      <td>96.0</td>\n",
       "      <td>88.0</td>\n",
       "      <td>77.0</td>\n",
       "      <td>66.0</td>\n",
       "      <td>NaN</td>\n",
       "    </tr>\n",
       "    <tr>\n",
       "      <th>2</th>\n",
       "      <td>11375022</td>\n",
       "      <td>林玉明</td>\n",
       "      <td>0955235743</td>\n",
       "      <td>98.0</td>\n",
       "      <td>88.0</td>\n",
       "      <td>77.0</td>\n",
       "      <td>66.0</td>\n",
       "      <td>77.0</td>\n",
       "      <td>NaN</td>\n",
       "    </tr>\n",
       "    <tr>\n",
       "      <th>5</th>\n",
       "      <td>10175002</td>\n",
       "      <td>王建民</td>\n",
       "      <td>0911999888</td>\n",
       "      <td>55.0</td>\n",
       "      <td>88.0</td>\n",
       "      <td>66.0</td>\n",
       "      <td>77.0</td>\n",
       "      <td>98.0</td>\n",
       "      <td>78.0</td>\n",
       "    </tr>\n",
       "  </tbody>\n",
       "</table>\n",
       "</div>"
      ],
      "text/plain": [
       "        sid name       phone  game design    AI  datastructure  python  \\\n",
       "1  11375010  陳傑憲  0919123456         54.0  96.0           88.0    77.0   \n",
       "2  11375022  林玉明  0955235743         98.0  88.0           77.0    66.0   \n",
       "5  10175002  王建民  0911999888         55.0  88.0           66.0    77.0   \n",
       "\n",
       "   database  image processing  \n",
       "1      66.0               NaN  \n",
       "2      77.0               NaN  \n",
       "5      98.0              78.0  "
      ]
     },
     "execution_count": 107,
     "metadata": {},
     "output_type": "execute_result"
    }
   ],
   "source": [
    "#AI成績大於80分的資料子集\n",
    "df[df['AI']>80]"
   ]
  },
  {
   "cell_type": "code",
   "execution_count": 108,
   "id": "2caea65b-b705-4d7d-823f-641bee40111b",
   "metadata": {
    "tags": []
   },
   "outputs": [
    {
     "data": {
      "text/html": [
       "<div>\n",
       "<style scoped>\n",
       "    .dataframe tbody tr th:only-of-type {\n",
       "        vertical-align: middle;\n",
       "    }\n",
       "\n",
       "    .dataframe tbody tr th {\n",
       "        vertical-align: top;\n",
       "    }\n",
       "\n",
       "    .dataframe thead th {\n",
       "        text-align: right;\n",
       "    }\n",
       "</style>\n",
       "<table border=\"1\" class=\"dataframe\">\n",
       "  <thead>\n",
       "    <tr style=\"text-align: right;\">\n",
       "      <th></th>\n",
       "      <th>sid</th>\n",
       "      <th>name</th>\n",
       "      <th>phone</th>\n",
       "      <th>game design</th>\n",
       "      <th>AI</th>\n",
       "      <th>datastructure</th>\n",
       "      <th>python</th>\n",
       "      <th>database</th>\n",
       "      <th>image processing</th>\n",
       "    </tr>\n",
       "  </thead>\n",
       "  <tbody>\n",
       "    <tr>\n",
       "      <th>5</th>\n",
       "      <td>10175002</td>\n",
       "      <td>王建民</td>\n",
       "      <td>0911999888</td>\n",
       "      <td>55.0</td>\n",
       "      <td>88.0</td>\n",
       "      <td>66.0</td>\n",
       "      <td>77.0</td>\n",
       "      <td>98.0</td>\n",
       "      <td>78.0</td>\n",
       "    </tr>\n",
       "  </tbody>\n",
       "</table>\n",
       "</div>"
      ],
      "text/plain": [
       "        sid name       phone  game design    AI  datastructure  python  \\\n",
       "5  10175002  王建民  0911999888         55.0  88.0           66.0    77.0   \n",
       "\n",
       "   database  image processing  \n",
       "5      98.0              78.0  "
      ]
     },
     "execution_count": 108,
     "metadata": {},
     "output_type": "execute_result"
    }
   ],
   "source": [
    "#AI成績>80且database成績>80的資料子集\n",
    "df[(df['AI']>80) & (df['database']>80)] "
   ]
  },
  {
   "cell_type": "code",
   "execution_count": 116,
   "id": "42f51c85-8cca-49d2-b4bd-590b59900429",
   "metadata": {
    "tags": []
   },
   "outputs": [
    {
     "data": {
      "text/html": [
       "<div>\n",
       "<style scoped>\n",
       "    .dataframe tbody tr th:only-of-type {\n",
       "        vertical-align: middle;\n",
       "    }\n",
       "\n",
       "    .dataframe tbody tr th {\n",
       "        vertical-align: top;\n",
       "    }\n",
       "\n",
       "    .dataframe thead th {\n",
       "        text-align: right;\n",
       "    }\n",
       "</style>\n",
       "<table border=\"1\" class=\"dataframe\">\n",
       "  <thead>\n",
       "    <tr style=\"text-align: right;\">\n",
       "      <th></th>\n",
       "      <th>sid</th>\n",
       "      <th>name</th>\n",
       "      <th>phone</th>\n",
       "      <th>game design</th>\n",
       "      <th>AI</th>\n",
       "      <th>datastructure</th>\n",
       "      <th>python</th>\n",
       "      <th>database</th>\n",
       "      <th>image processing</th>\n",
       "    </tr>\n",
       "  </thead>\n",
       "  <tbody>\n",
       "    <tr>\n",
       "      <th>5</th>\n",
       "      <td>10175002</td>\n",
       "      <td>王建民</td>\n",
       "      <td>0911999888</td>\n",
       "      <td>55.0</td>\n",
       "      <td>88.0</td>\n",
       "      <td>66.0</td>\n",
       "      <td>77.0</td>\n",
       "      <td>98.0</td>\n",
       "      <td>78.0</td>\n",
       "    </tr>\n",
       "  </tbody>\n",
       "</table>\n",
       "</div>"
      ],
      "text/plain": [
       "        sid name       phone  game design    AI  datastructure  python  \\\n",
       "5  10175002  王建民  0911999888         55.0  88.0           66.0    77.0   \n",
       "\n",
       "   database  image processing  \n",
       "5      98.0              78.0  "
      ]
     },
     "execution_count": 116,
     "metadata": {},
     "output_type": "execute_result"
    }
   ],
   "source": [
    "#AI成績>80且不為空值的資料子集\n",
    "df[(df['AI']>80) & (df['image processing'].notna())] #.notba = .notnull"
   ]
  },
  {
   "cell_type": "markdown",
   "id": "f462775b-cbdd-4acb-b2d1-ec50ac7add7c",
   "metadata": {},
   "source": [
    "## 補充:Series 資料結構\n",
    "\n",
    "pandas另一個資料結構為 `Pandas.Series` 物件，Pandas Series 物件包括一序列「資料值」values，及一序列的識別值(Identifier)，呼叫 type() 於一個 Series 物件，顯示 `<class 'numpy.narray>`訊息，Pandas Series 實際就是 `n-dimensional array`。 "
   ]
  },
  {
   "cell_type": "code",
   "execution_count": 119,
   "id": "ece61834",
   "metadata": {
    "tags": []
   },
   "outputs": [
    {
     "data": {
      "text/plain": [
       "pandas.core.series.Series"
      ]
     },
     "execution_count": 119,
     "metadata": {},
     "output_type": "execute_result"
    }
   ],
   "source": [
    "#建立一個串列\n",
    "wang = [\"10175002\", \"王建民\", \"0911999888\", 55, 88, 66, 77, 98, 78]\n",
    "#利用pd.Series()將串列轉換為 Series\n",
    "student_w = pd.Series(wang)\n",
    "#type()顯示student_w為一個pandas Series\n",
    "type(student_w)"
   ]
  },
  {
   "cell_type": "code",
   "execution_count": 120,
   "id": "cb8c282c-c00b-491f-a4cb-4a26c0ac8ad1",
   "metadata": {
    "tags": []
   },
   "outputs": [
    {
     "data": {
      "text/plain": [
       "RangeIndex(start=0, stop=9, step=1)"
      ]
     },
     "execution_count": 120,
     "metadata": {},
     "output_type": "execute_result"
    }
   ],
   "source": [
    "#student_w的index顯示為一個「位置索引值」\n",
    "student_w.index"
   ]
  },
  {
   "cell_type": "code",
   "execution_count": 121,
   "id": "cd9a15d6-e21c-4a1d-a6b2-fc911220bdf6",
   "metadata": {
    "tags": []
   },
   "outputs": [
    {
     "data": {
      "text/plain": [
       "array(['10175002', '王建民', '0911999888', 55, 88, 66, 77, 98, 78],\n",
       "      dtype=object)"
      ]
     },
     "execution_count": 121,
     "metadata": {},
     "output_type": "execute_result"
    }
   ],
   "source": [
    "# student_w.values 顯示為一個numpy array\n",
    "student_w.values"
   ]
  },
  {
   "cell_type": "markdown",
   "id": "e4fccc4a-2e2e-45f1-a083-c67005a87dac",
   "metadata": {},
   "source": [
    "較為完整的 `pd.Series()` 建立一個 Series 物件，包括 values 及 index，如下"
   ]
  },
  {
   "cell_type": "code",
   "execution_count": 124,
   "id": "cfca6b17-ce62-473b-9026-c22cb25cb51b",
   "metadata": {
    "tags": []
   },
   "outputs": [
    {
     "data": {
      "text/plain": [
       "sid                   11375010\n",
       "name                       陳傑憲\n",
       "phone               0919123456\n",
       "game design                 54\n",
       "AI                          96\n",
       "datastructure               88\n",
       "python                      77\n",
       "database                    66\n",
       "image processing            50\n",
       "dtype: object"
      ]
     },
     "metadata": {},
     "output_type": "display_data"
    }
   ],
   "source": [
    "student_chen = pd.Series(\n",
    "    [\"11375010\", \"陳傑憲\", \"0919123456\", 54, 96, 88, 77, 66, 50],\n",
    "    index = ['sid', 'name', 'phone', 'game design', 'AI', 'datastructure', 'python',\n",
    "       'database', 'image processing']\n",
    ")\n",
    "display(student_chen)"
   ]
  },
  {
   "cell_type": "code",
   "execution_count": 126,
   "id": "827d977c-849b-4f53-9c91-68240ae27f8f",
   "metadata": {
    "tags": []
   },
   "outputs": [
    {
     "name": "stdout",
     "output_type": "stream",
     "text": [
      "{'sid': '11375010', 'name': '陳傑憲', 'phone': '0919123456', 'game design': 54, 'AI': 96, 'datastructure': 88, 'python': 77, 'database': 66, 'image processing': 50}\n"
     ]
    }
   ],
   "source": [
    "#建立一個字典資料 by 2 lists, one for values, the other for keys\n",
    "v = [\"11375010\", \"陳傑憲\", \"0919123456\", 54, 96, 88, 77, 66, 50]\n",
    "idx = ['sid', 'name', 'phone', 'game design', 'AI', 'datastructure', 'python',\n",
    "       'database', 'image processing']\n",
    "student_chen_dict = {}\n",
    "for k in range(len(idx)):\n",
    "    student_chen_dict[idx[k]] = v[k]\n",
    "print(student_chen_dict)"
   ]
  },
  {
   "cell_type": "code",
   "execution_count": 128,
   "id": "4fba38ab-9fbd-477e-9d0e-e4a84e51dbe5",
   "metadata": {
    "tags": []
   },
   "outputs": [
    {
     "data": {
      "text/plain": [
       "pandas.core.series.Series"
      ]
     },
     "execution_count": 128,
     "metadata": {},
     "output_type": "execute_result"
    }
   ],
   "source": [
    "#以字典資料結構建立 Series\n",
    "student_chen_2 = pd.Series(student_chen_dict)\n",
    "type(student_chen_2)"
   ]
  },
  {
   "cell_type": "code",
   "execution_count": 130,
   "id": "d8bafaa6-2ecf-437e-a645-7e88c814a2d3",
   "metadata": {
    "tags": []
   },
   "outputs": [
    {
     "data": {
      "text/plain": [
       "'陳傑憲'"
      ]
     },
     "execution_count": 130,
     "metadata": {},
     "output_type": "execute_result"
    }
   ],
   "source": [
    "student_chen['name']"
   ]
  },
  {
   "cell_type": "code",
   "execution_count": 132,
   "id": "c9b10e44-578a-43ee-8d40-22e721e66d33",
   "metadata": {
    "tags": []
   },
   "outputs": [
    {
     "data": {
      "text/plain": [
       "'陳傑憲'"
      ]
     },
     "execution_count": 132,
     "metadata": {},
     "output_type": "execute_result"
    }
   ],
   "source": [
    "student_chen.iloc[1]"
   ]
  },
  {
   "cell_type": "code",
   "execution_count": null,
   "id": "ff019a74-57e7-41ec-a759-3485c9887507",
   "metadata": {},
   "outputs": [],
   "source": []
  }
 ],
 "metadata": {
  "kernelspec": {
   "display_name": "Python 3 (ipykernel)",
   "language": "python",
   "name": "python3"
  },
  "language_info": {
   "codemirror_mode": {
    "name": "ipython",
    "version": 3
   },
   "file_extension": ".py",
   "mimetype": "text/x-python",
   "name": "python",
   "nbconvert_exporter": "python",
   "pygments_lexer": "ipython3",
   "version": "3.11.3"
  }
 },
 "nbformat": 4,
 "nbformat_minor": 5
}
