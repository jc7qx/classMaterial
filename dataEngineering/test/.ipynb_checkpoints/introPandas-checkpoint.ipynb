{
 "cells": [
  {
   "cell_type": "markdown",
   "id": "59f0a29f-5a98-47c8-8666-0f0079911d17",
   "metadata": {},
   "source": [
    "## Pandas 介紹\n",
    "\n",
    "- pandas overview\n",
    "- pandas DataFrame\n",
    "- how to create DataFrame\n",
    "- accessing and modifying data"
   ]
  },
  {
   "cell_type": "markdown",
   "id": "03a78158-bc2c-4dbf-84fb-c03937ea082b",
   "metadata": {},
   "source": [
    "Pandas是一個Python語言的程式庫，提供資料分析的能力。資料處理經常以表格型式處理資料，如sql的關聯表或Excel的表格。Pandas提供載入、處理、計算、及分析表格化的資料，與matplotlib及seaborn結合提供資料視覺化能力。 Pandas的主要資料結構為資料框(DataFrame)是二維表格化資料結構，每行包含相同型態資料。DataFrame的結構包括列標籤(row labels)、欄位標籤(column labels，可視為欄位名稱)、及資料項目(data items)。以下為一個典型的資料框範例，描述學生資料\n",
    "\n",
    "|   |sid | name | phone | AI | datastructure | python\n",
    "|----|----|----|-----|-----|-------|----\n",
    "101 | 11375001 | 李大明 | 0922555123 | 66 | 86 | 69\n",
    "102 | 11375010 | 陳傑憲 | 0919123456 | 96 | 88 | 77\n",
    "103 | 11375022 | 林玉明 | 0955235743 | 88 | 77 | 66\n",
    "104 | 11375055 | 姜昆雨 | 0931239097 | 77 | 87 | 98\n",
    "105 | 11375199 | 陳辰威 | 0932098543 | 67 | 78 | 89\n",
    "\n",
    "- row labels: 101, 102, 103, .., 105\n",
    "- column labels: sid, name, phone, AI, datastructure, pyhton\n",
    "- data items: 每一筆(row)資料的內容"
   ]
  },
  {
   "cell_type": "markdown",
   "id": "b1dc080e-6f3d-4506-9fb6-f294641e6cbf",
   "metadata": {},
   "source": []
  },
  {
   "cell_type": "code",
   "execution_count": 2,
   "id": "fb93e866-d33c-4afa-b980-97381a648fc6",
   "metadata": {},
   "outputs": [],
   "source": [
    "# create table with dictionary\n",
    "student = {\n",
    "    'sid': ['11375001', '11375010', '11375022', '11375055', '11375199'],\n",
    "    'name': [ '李大明', '陳傑憲', '林玉明', '姜昆雨', '陳辰威'],\n",
    "    'phone': ['0922555123', '0919123456', '0955235743', '0931239097', '0932098543'],\n",
    "    'AI': [66, 96, 88, 77, 67],\n",
    "    'datastructure': [86, 88, 77, 87, 78],\n",
    "    'python': [69, 77, 66, 98, 89]\n",
    "}\n",
    "row_labels = [101, 102, 103, 104, 105]"
   ]
  },
  {
   "cell_type": "code",
   "execution_count": 3,
   "id": "5c8f661a-bd56-4229-ae54-c2eec5c32916",
   "metadata": {},
   "outputs": [],
   "source": [
    "#work with pandas by importing pandas\n",
    "import pandas as pd"
   ]
  },
  {
   "cell_type": "code",
   "execution_count": 4,
   "id": "5593cd89-830c-49d2-9e35-024c96b14da8",
   "metadata": {},
   "outputs": [],
   "source": [
    "#create DataFrame with DataFrame()\n",
    "df = pd.DataFrame(student, index=row_labels)"
   ]
  },
  {
   "cell_type": "code",
   "execution_count": 5,
   "id": "371a778f-4548-47d5-90b3-de5c33881f37",
   "metadata": {},
   "outputs": [
    {
     "data": {
      "text/html": [
       "<div>\n",
       "<style scoped>\n",
       "    .dataframe tbody tr th:only-of-type {\n",
       "        vertical-align: middle;\n",
       "    }\n",
       "\n",
       "    .dataframe tbody tr th {\n",
       "        vertical-align: top;\n",
       "    }\n",
       "\n",
       "    .dataframe thead th {\n",
       "        text-align: right;\n",
       "    }\n",
       "</style>\n",
       "<table border=\"1\" class=\"dataframe\">\n",
       "  <thead>\n",
       "    <tr style=\"text-align: right;\">\n",
       "      <th></th>\n",
       "      <th>sid</th>\n",
       "      <th>name</th>\n",
       "      <th>phone</th>\n",
       "      <th>AI</th>\n",
       "      <th>datastructure</th>\n",
       "      <th>python</th>\n",
       "    </tr>\n",
       "  </thead>\n",
       "  <tbody>\n",
       "    <tr>\n",
       "      <th>101</th>\n",
       "      <td>11375001</td>\n",
       "      <td>李大明</td>\n",
       "      <td>0922555123</td>\n",
       "      <td>66</td>\n",
       "      <td>86</td>\n",
       "      <td>69</td>\n",
       "    </tr>\n",
       "    <tr>\n",
       "      <th>102</th>\n",
       "      <td>11375010</td>\n",
       "      <td>陳傑憲</td>\n",
       "      <td>0919123456</td>\n",
       "      <td>96</td>\n",
       "      <td>88</td>\n",
       "      <td>77</td>\n",
       "    </tr>\n",
       "    <tr>\n",
       "      <th>103</th>\n",
       "      <td>11375022</td>\n",
       "      <td>林玉明</td>\n",
       "      <td>0955235743</td>\n",
       "      <td>88</td>\n",
       "      <td>77</td>\n",
       "      <td>66</td>\n",
       "    </tr>\n",
       "    <tr>\n",
       "      <th>104</th>\n",
       "      <td>11375055</td>\n",
       "      <td>姜昆雨</td>\n",
       "      <td>0931239097</td>\n",
       "      <td>77</td>\n",
       "      <td>87</td>\n",
       "      <td>98</td>\n",
       "    </tr>\n",
       "    <tr>\n",
       "      <th>105</th>\n",
       "      <td>11375199</td>\n",
       "      <td>陳辰威</td>\n",
       "      <td>0932098543</td>\n",
       "      <td>67</td>\n",
       "      <td>78</td>\n",
       "      <td>89</td>\n",
       "    </tr>\n",
       "  </tbody>\n",
       "</table>\n",
       "</div>"
      ],
      "text/plain": [
       "          sid name       phone  AI  datastructure  python\n",
       "101  11375001  李大明  0922555123  66             86      69\n",
       "102  11375010  陳傑憲  0919123456  96             88      77\n",
       "103  11375022  林玉明  0955235743  88             77      66\n",
       "104  11375055  姜昆雨  0931239097  77             87      98\n",
       "105  11375199  陳辰威  0932098543  67             78      89"
      ]
     },
     "execution_count": 5,
     "metadata": {},
     "output_type": "execute_result"
    }
   ],
   "source": [
    "df"
   ]
  },
  {
   "cell_type": "code",
   "execution_count": null,
   "id": "afdc0eee-bb1d-46d1-b809-96e376b27f67",
   "metadata": {},
   "outputs": [],
   "source": []
  }
 ],
 "metadata": {
  "kernelspec": {
   "display_name": "Python 3 (ipykernel)",
   "language": "python",
   "name": "python3"
  },
  "language_info": {
   "codemirror_mode": {
    "name": "ipython",
    "version": 3
   },
   "file_extension": ".py",
   "mimetype": "text/x-python",
   "name": "python",
   "nbconvert_exporter": "python",
   "pygments_lexer": "ipython3",
   "version": "3.8.20"
  }
 },
 "nbformat": 4,
 "nbformat_minor": 5
}
