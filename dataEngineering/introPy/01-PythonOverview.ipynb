{
 "cells": [
  {
   "cell_type": "markdown",
   "metadata": {
    "slideshow": {
     "slide_type": "slide"
    }
   },
   "source": [
    "<center> <H1> 第一章 Python程式語言</H1> </center>"
   ]
  },
  {
   "cell_type": "markdown",
   "metadata": {
    "slideshow": {
     "slide_type": "slide"
    }
   },
   "source": [
    "## 1.1 Python程式語言介紹"
   ]
  },
  {
   "cell_type": "markdown",
   "metadata": {
    "slideshow": {
     "slide_type": "subslide"
    }
   },
   "source": [
    "- Python是一種**通用型高階程式語言**(General Purpose High Level Programming Language)\n",
    "- Python是一種**直譯語言**，強調程式碼的可讀性和簡潔的語法（使用**空格縮排**來區分程式區塊）。不管是小型還是大型程式，該語言都試圖讓程式的結構清晰明瞭。\n",
    "- Python擁有**動態型別**系統和**垃圾回收**功能，能夠自動管理記憶體使用，\n",
    "- 支援多種**撰寫典範**，包括物件導向、命令式、函數式和程序式編程。擁有一個巨大而廣泛的標準程式庫。\n",
    "- Python直譯器(Interpreter)幾乎可以在所有的作業系統中執行"
   ]
  },
  {
   "cell_type": "markdown",
   "metadata": {},
   "source": [
    "> **編譯式程式語言**：是一種以編譯器來實作的程式語言，以編譯器，先將程式碼編譯為機器碼，再加以執行。\n",
    "\n",
    "> **直譯式程式語言**：將程式碼一句一句直接執行，需要利用直譯器，在執行期，動態將程式碼逐句直譯（interpret）為機器碼，或是已經預先編譯為機器碼的的子程式，之後再執行。"
   ]
  },
  {
   "cell_type": "markdown",
   "metadata": {
    "slideshow": {
     "slide_type": "subslide"
    }
   },
   "source": [
    "> Python是一個完全**物件導向**的程式語言。函式、模組、數字、字串都是物件。並且完全支援繼承、重載、衍生、多重繼承，有益於程式碼的重複使用。Python支援重載運算符，因此Python也支援泛型設計。Python本身被設計為可擴充的。並非所有的特性和功能都整合到語言核心。Python提供了豐富的API和工具，以便程式設計師能夠輕鬆地使用C、C++、Cython來編寫擴充模組。Python編譯器本身也可以被整合到其它需要指令碼語言的程式內。因此，有很多人把Python作為一種「**膠水語言**」。"
   ]
  },
  {
   "cell_type": "markdown",
   "metadata": {},
   "source": [
    "> **動態型別語言**：動態語言的變數只用來參考資料，本身不帶有型態資訊。是在執行期間檢查資料的型別。\n",
    "\n",
    "> **靜態型別語言**：相對於動態型別語言，在宣告變數時指定資料型別和表示方法，明確要求程式中提供型態資訊，因而可透過編譯器或工具，在程式執行前（編譯時期）就檢查出型態錯誤。"
   ]
  },
  {
   "cell_type": "markdown",
   "metadata": {},
   "source": [
    "## 1.2 Python程式庫"
   ]
  },
  {
   "cell_type": "markdown",
   "metadata": {},
   "source": [
    "Python擁有一個強大的標準程式庫(Standard Technical Library)。Python語言的核心功能包含數字、字串、列表(陣列)、字典、檔案等常見類型和函式，而由Python標準程式庫提供了系統管理、網路通訊、文字處理、資料庫介面、圖形系統、XML處理等額外的功能。\n",
    "\n",
    "Python標準庫的主要功能有：\n",
    "\n",
    "* 文字處理，包含文字格式化、正規表示式符合、文字差異計算與合併、Unicode支援，二進位資料處理等功能\n",
    "* 檔案處理，包含檔案操作、建立臨時檔案、檔案壓縮與歸檔、操作設定檔等功能\n",
    "* 作業系統功能，包含執行緒與行程支援、IO復用、日期與時間處理、呼叫系統函式、記錄檔（logging）等功能\n",
    "* 網路通訊，包含網路通訊端，SSL加密通訊、異步網路通訊等功能\n",
    "* 網路協定，支援HTTP，FTP，SMTP，POP，IMAP，NNTP，XMLRPC等多種網路協定，並提供了編寫網路伺服器的框架\n",
    "* W3C格式支援，包含HTML，SGML，XML的處理。\n",
    "* 其它功能，包括國際化支援、數學運算、HASH、Tkinter等\n",
    "\n",
    "Python社群提供了大量的第三方模組，使用方式與標準庫類似。它們的功能覆蓋科學計算、Web開發、資料庫介面、圖形系統多個領域。第三方模組可以使用Python或者C語言編寫。"
   ]
  },
  {
   "cell_type": "markdown",
   "metadata": {},
   "source": [
    "## 1.3 Python應用領域"
   ]
  },
  {
   "cell_type": "markdown",
   "metadata": {},
   "source": [
    "python的應用領域非常廣泛，根據[TIOBE的評估](https://www.tiobe.com/tiobe-index/)，Python是目前軟體開發人員相當喜愛的程式語言之一，2025年1月份排名第一。相關的應用領域包括\n",
    "\n",
    "* Python經常被用於網頁開發。比如，通過mod_wsgi模組，Apache可以運行用Python編寫的Web程式。Python定義了WSGI標準應用介面來協調Http伺服器與基於Python的Web程式之間的溝通。一些Web框架，如 **Django**、Pyramid、TurboGears、Tornado、web2py、Zope、**Flask** 等，可以讓程式設計師輕鬆地開發和管理複雜的Web程式。\n",
    "* Python對於各種網路協定的支援很完善，因此經常被用於編寫伺服器軟體、網路爬蟲。第三方函式庫Twisted支援非同步線上編寫程式和多數標準的網路協定（包含用戶端和伺服器），並且提供了多種工具，被廣泛用於編寫高效能的伺服器軟體。\n",
    "* Python本身包含的Tkinter庫能夠支援簡單的GUI開發。但是越來越多的Python程式設計師選擇wxPython或者PyQt等GUI套件來開發跨平台的桌面軟體。使用它們開發的桌面軟體執行速度快，與用戶的桌面環境相契合。通過PyInstaller還能將程式釋出為獨立的安裝程式包。\n",
    "* 許多作業系統裡，Python是標準的系統元件。大多數Linux發行版和Mac OS X都整合了Python，可以在終端機下直接執行Python。有一些Linux發行版的安裝器使用Python語言編寫。Python標準庫包含了多個調用作業系統功能的函式庫。pywin32這個第三方軟體包能夠存取Windows的COM服務及其它Windows API。使用IronPython能夠直接調用.Net Framework。\n",
    "* 大數據資料分析上，Python有著重要的應用，Pandas, NumPy, SciPy, Matplotlib讓Python程式設計師編寫科學計算程式。因為資料科學家對Python和R的熱愛，Spark對這兩種語言提供了非常好的支援。\n",
    "* 在遊戲開發領域，可以利用Pygame遊戲開發程式庫撰寫遊戲。Pygame是建立在SDL程式庫上，可以建立遊戲及多媒體的Python應用程式。\n",
    "* Python可以用來開發手機應用程式，Python-for-Android是一個python程式庫用來開發Android應用程式。Kivy是開源Python函式庫，用於開發行動應用程式和其它採用自然使用者介面的多點觸控應用軟體。qpython是一個較新的專案，它是一個在Android上運行的Python程式引擎，可以讓你在Android平台上執行Python程式碼。"
   ]
  },
  {
   "cell_type": "markdown",
   "metadata": {},
   "source": [
    "## 1.4 Python直譯器安裝與操作"
   ]
  },
  {
   "cell_type": "markdown",
   "metadata": {},
   "source": [
    "Python是一個開源軟體(Open Source Software)，可以免費下載使用。目前是由[Python軟體基金會](http://python.org)管理，可以到[官方網頁下載專區](https://www.python.org/downloads/windows/) 下載適用於微軟作業系統(Windows)下執行的Python程式直譯器使用。\n",
    "執行pyhton程式有以下幾種方式:\n",
    "- 選擇IDLE進入Python的直譯式程式(命令列)執行模式\n",
    "- 使用Anaconda，Anaconda 是一種Python語言的免費增值開源發行版，用於進行大規模數據處理、預測分析，和科學計算，簡化套件的管理和部署。\n",
    "- 使用 vscode 整合式程式開發工具 (或 spyder, ptcharm, ...)"
   ]
  },
  {
   "cell_type": "markdown",
   "metadata": {},
   "source": [
    "## 1.5 基本語法規則"
   ]
  },
  {
   "cell_type": "markdown",
   "metadata": {},
   "source": [
    "* Python程式檔案的副檔名為.py。\n",
    "* Python程式中的註解文字，以#符號為前置符號。\n",
    "* Python是一種動態型別程式語言，變數不需要事先宣告定義，以實際值的資料型別來定義變數資料型別。"
   ]
  },
  {
   "cell_type": "code",
   "execution_count": 1,
   "metadata": {
    "tags": []
   },
   "outputs": [
    {
     "name": "stdout",
     "output_type": "stream",
     "text": [
      "註解行不會顯示於程式執行結果\n"
     ]
    }
   ],
   "source": [
    "# 此行為註解行，不會被執行\n",
    "print(\"註解行不會顯示於程式執行結果\")"
   ]
  },
  {
   "cell_type": "code",
   "execution_count": 2,
   "metadata": {
    "scrolled": true,
    "tags": []
   },
   "outputs": [
    {
     "name": "stdout",
     "output_type": "stream",
     "text": [
      "<class 'int'>\n",
      "<class 'float'>\n",
      "<class 'str'>\n"
     ]
    }
   ],
   "source": [
    "a = 10\n",
    "print(type(a))\n",
    "a = 12.3\n",
    "print(type(a))\n",
    "a = \"I love you all\"\n",
    "print(type(a))"
   ]
  },
  {
   "cell_type": "code",
   "execution_count": 3,
   "metadata": {
    "scrolled": true,
    "tags": []
   },
   "outputs": [
    {
     "name": "stdout",
     "output_type": "stream",
     "text": [
      "不可以買酒\n"
     ]
    }
   ],
   "source": [
    "a = 19\n",
    "if a < 20:\n",
    "    print(\"不可以買酒\")\n",
    "else:\n",
    "    print(\"可以買酒\")"
   ]
  },
  {
   "cell_type": "markdown",
   "metadata": {},
   "source": [
    "## 參考資料\n",
    "\n",
    "1. [Python程式語言維基百科](https://zh.wikipedia.org/wiki/Python)\n",
    "2. [Python程式語言官方網頁](https://www.python.org/)"
   ]
  },
  {
   "cell_type": "code",
   "execution_count": null,
   "metadata": {},
   "outputs": [],
   "source": []
  }
 ],
 "metadata": {
  "kernelspec": {
   "display_name": "Python 3 (ipykernel)",
   "language": "python",
   "name": "python3"
  },
  "language_info": {
   "codemirror_mode": {
    "name": "ipython",
    "version": 3
   },
   "file_extension": ".py",
   "mimetype": "text/x-python",
   "name": "python",
   "nbconvert_exporter": "python",
   "pygments_lexer": "ipython3",
   "version": "3.11.3"
  }
 },
 "nbformat": 4,
 "nbformat_minor": 4
}
