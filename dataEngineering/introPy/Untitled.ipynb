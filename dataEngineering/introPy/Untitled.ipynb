{
 "cells": [
  {
   "cell_type": "markdown",
   "id": "8f07655a",
   "metadata": {},
   "source": []
  },
  {
   "cell_type": "markdown",
   "id": "1348b82c",
   "metadata": {},
   "source": [
    "## Introducing the pandas DataFrame\n",
    "\n",
    "Pandas是一個以python程式語言為基礎的開源軟體，主要用於資料分析，提供高效能、容易操作的資料結構。pandas不僅提供資料清理、預處理，也可支援資料分析與建模。pandas可與統計分析(statsmodels)與機器學習(scikit-learn)軟體結合，提供廣泛的資料分析、資料探勘、機器學習、甚至人工智慧的應用。\n",
    "\n",
    "Pandas核心資料結構分為\n",
    "- Series : 稱之為序列(series)，可視為一種「一維陣列」資料結構。在 pandas 中為 <class 'pandas.core.series.Series'>物件類別。序列資料內容包含資料項及**索引項(index)**。\n",
    "\n",
    "- DataFrame: 稱之為資料框(DataFrame)，可視為一種「資料表」資料結構。在 pandas 中為 <class 'pandas.core.frame.DataFrame'>物件類別。資料框資料包含資料項、索引項、及屬性欄位。資料框如同資料表或Excel試算表結構，資料框是一種列、行型態的資料，每一列代表一筆資料，包含列索引值，每一行代表一種資料屬性，包含欄位名稱索引。資料框也可視為一種矩陣型式，可經由矩陣索引，如 [m, n]方式辨識資料。\n",
    "\n",
    "DataFrame廣泛地用於資料科學、機器學習、及科學運算等應用。"
   ]
  },
  {
   "cell_type": "code",
   "execution_count": 1,
   "id": "0a96e8b5",
   "metadata": {},
   "outputs": [],
   "source": [
    "#使用 DataFrame 前先導入 Pandas 套件\n",
    "import pandas as pd"
   ]
  },
  {
   "cell_type": "markdown",
   "id": "08e85e80",
   "metadata": {},
   "source": [
    "學生資料表\n",
    "\n",
    "sid | name | address | pyscore\n",
    "-------------|--------|----------|----------|\n",
    "101 | 王大明 | Taipei | 66\n",
    "102 | 李誠實 | Taoyoun | 90\n",
    "103 | 林娟娟 | Taichung | 89\n",
    "104 | 陳清源 | Taipei | 75\n",
    "105 | 李曉明 | Kaohsiung | 65\n"
   ]
  },
  {
   "cell_type": "code",
   "execution_count": 15,
   "id": "ba74e05e",
   "metadata": {},
   "outputs": [],
   "source": [
    "#利用 dictionary 建立資料表\n",
    "student = {\n",
    "    'sid':['101','102','103','104','105'],\n",
    "    'name':['王大明','李誠實','林娟娟', '陳清源','李曉明'],\n",
    "    'address':['Taipei', 'Taoyoun', 'Taichung', 'Taipei', 'Kaohsiung'],\n",
    "    'pyscore':[66,90,89,75,65]\n",
    "}"
   ]
  },
  {
   "cell_type": "code",
   "execution_count": 16,
   "id": "75966041",
   "metadata": {},
   "outputs": [],
   "source": [
    "df = pd.DataFrame(student)"
   ]
  },
  {
   "cell_type": "code",
   "execution_count": 17,
   "id": "cf2135da",
   "metadata": {},
   "outputs": [
    {
     "data": {
      "text/html": [
       "<div>\n",
       "<style scoped>\n",
       "    .dataframe tbody tr th:only-of-type {\n",
       "        vertical-align: middle;\n",
       "    }\n",
       "\n",
       "    .dataframe tbody tr th {\n",
       "        vertical-align: top;\n",
       "    }\n",
       "\n",
       "    .dataframe thead th {\n",
       "        text-align: right;\n",
       "    }\n",
       "</style>\n",
       "<table border=\"1\" class=\"dataframe\">\n",
       "  <thead>\n",
       "    <tr style=\"text-align: right;\">\n",
       "      <th></th>\n",
       "      <th>sid</th>\n",
       "      <th>name</th>\n",
       "      <th>address</th>\n",
       "      <th>pyscore</th>\n",
       "    </tr>\n",
       "  </thead>\n",
       "  <tbody>\n",
       "    <tr>\n",
       "      <th>0</th>\n",
       "      <td>101</td>\n",
       "      <td>王大明</td>\n",
       "      <td>Taipei</td>\n",
       "      <td>66</td>\n",
       "    </tr>\n",
       "    <tr>\n",
       "      <th>1</th>\n",
       "      <td>102</td>\n",
       "      <td>李誠實</td>\n",
       "      <td>Taoyoun</td>\n",
       "      <td>90</td>\n",
       "    </tr>\n",
       "    <tr>\n",
       "      <th>2</th>\n",
       "      <td>103</td>\n",
       "      <td>林娟娟</td>\n",
       "      <td>Taichung</td>\n",
       "      <td>89</td>\n",
       "    </tr>\n",
       "    <tr>\n",
       "      <th>3</th>\n",
       "      <td>104</td>\n",
       "      <td>陳清源</td>\n",
       "      <td>Taipei</td>\n",
       "      <td>75</td>\n",
       "    </tr>\n",
       "    <tr>\n",
       "      <th>4</th>\n",
       "      <td>105</td>\n",
       "      <td>李曉明</td>\n",
       "      <td>Kaohsiung</td>\n",
       "      <td>65</td>\n",
       "    </tr>\n",
       "  </tbody>\n",
       "</table>\n",
       "</div>"
      ],
      "text/plain": [
       "   sid name    address  pyscore\n",
       "0  101  王大明     Taipei       66\n",
       "1  102  李誠實    Taoyoun       90\n",
       "2  103  林娟娟   Taichung       89\n",
       "3  104  陳清源     Taipei       75\n",
       "4  105  李曉明  Kaohsiung       65"
      ]
     },
     "execution_count": 17,
     "metadata": {},
     "output_type": "execute_result"
    }
   ],
   "source": [
    "df"
   ]
  },
  {
   "cell_type": "code",
   "execution_count": 18,
   "id": "b7a66e2d",
   "metadata": {},
   "outputs": [
    {
     "data": {
      "text/html": [
       "<div>\n",
       "<style scoped>\n",
       "    .dataframe tbody tr th:only-of-type {\n",
       "        vertical-align: middle;\n",
       "    }\n",
       "\n",
       "    .dataframe tbody tr th {\n",
       "        vertical-align: top;\n",
       "    }\n",
       "\n",
       "    .dataframe thead th {\n",
       "        text-align: right;\n",
       "    }\n",
       "</style>\n",
       "<table border=\"1\" class=\"dataframe\">\n",
       "  <thead>\n",
       "    <tr style=\"text-align: right;\">\n",
       "      <th></th>\n",
       "      <th>sid</th>\n",
       "      <th>name</th>\n",
       "      <th>address</th>\n",
       "      <th>pyscore</th>\n",
       "    </tr>\n",
       "  </thead>\n",
       "  <tbody>\n",
       "    <tr>\n",
       "      <th>0</th>\n",
       "      <td>101</td>\n",
       "      <td>王大明</td>\n",
       "      <td>Taipei</td>\n",
       "      <td>66</td>\n",
       "    </tr>\n",
       "    <tr>\n",
       "      <th>1</th>\n",
       "      <td>102</td>\n",
       "      <td>李誠實</td>\n",
       "      <td>Taoyoun</td>\n",
       "      <td>90</td>\n",
       "    </tr>\n",
       "    <tr>\n",
       "      <th>2</th>\n",
       "      <td>103</td>\n",
       "      <td>林娟娟</td>\n",
       "      <td>Taichung</td>\n",
       "      <td>89</td>\n",
       "    </tr>\n",
       "  </tbody>\n",
       "</table>\n",
       "</div>"
      ],
      "text/plain": [
       "   sid name   address  pyscore\n",
       "0  101  王大明    Taipei       66\n",
       "1  102  李誠實   Taoyoun       90\n",
       "2  103  林娟娟  Taichung       89"
      ]
     },
     "execution_count": 18,
     "metadata": {},
     "output_type": "execute_result"
    }
   ],
   "source": [
    "#顯示資料表前3項\n",
    "df.head(3)"
   ]
  },
  {
   "cell_type": "code",
   "execution_count": 19,
   "id": "cf9ad146",
   "metadata": {},
   "outputs": [
    {
     "data": {
      "text/html": [
       "<div>\n",
       "<style scoped>\n",
       "    .dataframe tbody tr th:only-of-type {\n",
       "        vertical-align: middle;\n",
       "    }\n",
       "\n",
       "    .dataframe tbody tr th {\n",
       "        vertical-align: top;\n",
       "    }\n",
       "\n",
       "    .dataframe thead th {\n",
       "        text-align: right;\n",
       "    }\n",
       "</style>\n",
       "<table border=\"1\" class=\"dataframe\">\n",
       "  <thead>\n",
       "    <tr style=\"text-align: right;\">\n",
       "      <th></th>\n",
       "      <th>sid</th>\n",
       "      <th>name</th>\n",
       "      <th>address</th>\n",
       "      <th>pyscore</th>\n",
       "    </tr>\n",
       "  </thead>\n",
       "  <tbody>\n",
       "    <tr>\n",
       "      <th>3</th>\n",
       "      <td>104</td>\n",
       "      <td>陳清源</td>\n",
       "      <td>Taipei</td>\n",
       "      <td>75</td>\n",
       "    </tr>\n",
       "    <tr>\n",
       "      <th>4</th>\n",
       "      <td>105</td>\n",
       "      <td>李曉明</td>\n",
       "      <td>Kaohsiung</td>\n",
       "      <td>65</td>\n",
       "    </tr>\n",
       "  </tbody>\n",
       "</table>\n",
       "</div>"
      ],
      "text/plain": [
       "   sid name    address  pyscore\n",
       "3  104  陳清源     Taipei       75\n",
       "4  105  李曉明  Kaohsiung       65"
      ]
     },
     "execution_count": 19,
     "metadata": {},
     "output_type": "execute_result"
    }
   ],
   "source": [
    "df.tail(2)"
   ]
  },
  {
   "cell_type": "code",
   "execution_count": 20,
   "id": "6871a452",
   "metadata": {},
   "outputs": [
    {
     "data": {
      "text/plain": [
       "0       Taipei\n",
       "1      Taoyoun\n",
       "2     Taichung\n",
       "3       Taipei\n",
       "4    Kaohsiung\n",
       "Name: address, dtype: object"
      ]
     },
     "execution_count": 20,
     "metadata": {},
     "output_type": "execute_result"
    }
   ],
   "source": [
    "df['address'] #df.address"
   ]
  },
  {
   "cell_type": "code",
   "execution_count": 22,
   "id": "0502ed66",
   "metadata": {},
   "outputs": [
    {
     "data": {
      "text/plain": [
       "sid             103\n",
       "name            林娟娟\n",
       "address    Taichung\n",
       "pyscore          89\n",
       "Name: 2, dtype: object"
      ]
     },
     "execution_count": 22,
     "metadata": {},
     "output_type": "execute_result"
    }
   ],
   "source": [
    "df.loc[2]"
   ]
  },
  {
   "cell_type": "code",
   "execution_count": 23,
   "id": "7046cdbc",
   "metadata": {},
   "outputs": [
    {
     "data": {
      "text/plain": [
       "sid             103\n",
       "name            林娟娟\n",
       "address    Taichung\n",
       "pyscore          89\n",
       "Name: 2, dtype: object"
      ]
     },
     "execution_count": 23,
     "metadata": {},
     "output_type": "execute_result"
    }
   ],
   "source": [
    "df.iloc[2]"
   ]
  },
  {
   "cell_type": "code",
   "execution_count": null,
   "id": "cf0c136a",
   "metadata": {},
   "outputs": [],
   "source": []
  }
 ],
 "metadata": {
  "kernelspec": {
   "display_name": "Python 3 (ipykernel)",
   "language": "python",
   "name": "python3"
  },
  "language_info": {
   "codemirror_mode": {
    "name": "ipython",
    "version": 3
   },
   "file_extension": ".py",
   "mimetype": "text/x-python",
   "name": "python",
   "nbconvert_exporter": "python",
   "pygments_lexer": "ipython3",
   "version": "3.11.3"
  }
 },
 "nbformat": 4,
 "nbformat_minor": 5
}
