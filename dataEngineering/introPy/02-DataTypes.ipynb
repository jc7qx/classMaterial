{
 "cells": [
  {
   "cell_type": "markdown",
   "metadata": {
    "slideshow": {
     "slide_type": "slide"
    }
   },
   "source": [
    "<center> <H1>第二章 資料基本型別</H1> </center>"
   ]
  },
  {
   "cell_type": "markdown",
   "metadata": {},
   "source": [
    "## 2.1 Python 資料基本型別"
   ]
  },
  {
   "cell_type": "markdown",
   "metadata": {},
   "source": [
    "資料處理是電腦的核心功能，大部分的應用程式處理數值與文字資料。"
   ]
  },
  {
   "cell_type": "markdown",
   "metadata": {},
   "source": [
    "Python的文字資料又可區分為字元與字串二類，字元可以單引號來定義，例如`'H'`，另一類為字串，可以雙引號來定義，例如`\"Hello world\"`。以上`H`被稱為字元常數和`\"Hello world\"` 被稱為字串常數。"
   ]
  },
  {
   "cell_type": "markdown",
   "metadata": {},
   "source": [
    "Python所能處理的數值資料型別包括「整數」、「浮點數」、「複數」、及「布林數」。不同資料型別佔據記憶體大小決定資料範圍。\n",
    "\n",
    "* 整數(int)，如1, 23, 789\n",
    "* 浮點數(float)，如12.3, 1.23e10 \n",
    "* 複數(complex)，如1+2j\n",
    "* 布林數(boolean)，如True或 False\n",
    "* none\n"
   ]
  },
  {
   "cell_type": "markdown",
   "metadata": {},
   "source": [
    "### type 函數"
   ]
  },
  {
   "cell_type": "markdown",
   "metadata": {},
   "source": [
    "Python的內建函數`type()`可以用來顯示資料的型別。"
   ]
  },
  {
   "cell_type": "code",
   "execution_count": 30,
   "metadata": {
    "scrolled": true
   },
   "outputs": [
    {
     "name": "stdout",
     "output_type": "stream",
     "text": [
      "100 <class 'int'>\n",
      "12.3 <class 'float'>\n",
      "Helloworld <class 'str'>\n",
      "(1+2j) <class 'complex'>\n",
      "True <class 'bool'>\n"
     ]
    }
   ],
   "source": [
    "print(100,type(100))\n",
    "print(12.3, type(12.3))\n",
    "print(\"Helloworld\", type(\"Hello world\"))\n",
    "print(1+2j, type(1+2j))\n",
    "print(5>3, type(5>3))"
   ]
  },
  {
   "cell_type": "markdown",
   "metadata": {},
   "source": [
    "### 整數(Integer)"
   ]
  },
  {
   "cell_type": "markdown",
   "metadata": {},
   "source": [
    "在Python中，只要沒有帶小數點的數值或負數，都視為整數，且整數的大小是沒有限制的，不像其他的程式語言，如[Java](https://cs.fit.edu/~ryan/java/language/java-data.html)、[C](https://msdn.microsoft.com/en-us/library/cc953fe1.aspx) ...。"
   ]
  },
  {
   "cell_type": "code",
   "execution_count": 31,
   "metadata": {
    "scrolled": true
   },
   "outputs": [
    {
     "name": "stdout",
     "output_type": "stream",
     "text": [
      "10000000000000000000000000000000000000000000002\n"
     ]
    }
   ],
   "source": [
    "print(10000000000000000000000000000000000000000000001 + 1)"
   ]
  },
  {
   "cell_type": "markdown",
   "metadata": {},
   "source": [
    "不同進位的整數表示方式，如`0b010`表示二進位數，`0o12`表示八進位數，`0x25`表示16進位數。"
   ]
  },
  {
   "cell_type": "code",
   "execution_count": 1,
   "metadata": {
    "scrolled": true,
    "tags": []
   },
   "outputs": [
    {
     "name": "stdout",
     "output_type": "stream",
     "text": [
      "0b010  =  2\n",
      "0o12  =  10\n",
      "0x25  =  37\n"
     ]
    }
   ],
   "source": [
    "print('0b010',' = ', 0b010)\n",
    "print('0o12', ' = ', 0o12)\n",
    "print('0x25', ' = ', 0x25)"
   ]
  },
  {
   "cell_type": "markdown",
   "metadata": {},
   "source": [
    "### 浮點數(float)"
   ]
  },
  {
   "cell_type": "markdown",
   "metadata": {},
   "source": [
    "浮點數是帶有小數點的數值，如12.345，0.87654，此外也可以使用科學符號的表示法，如1.234e5，0.00345e10。"
   ]
  },
  {
   "cell_type": "code",
   "execution_count": 3,
   "metadata": {
    "scrolled": true,
    "tags": []
   },
   "outputs": [
    {
     "name": "stdout",
     "output_type": "stream",
     "text": [
      "12.3\n",
      "1.0\n",
      "0.456\n",
      "100357.0\n"
     ]
    }
   ],
   "source": [
    "print(12.3)\n",
    "print(1.)\n",
    "print(0.456)\n",
    "print(1.00357e5)"
   ]
  },
  {
   "cell_type": "markdown",
   "metadata": {},
   "source": [
    "一般而言，浮點數在電腦內部表示方法，是遵循IEEE 754的規定以64位元來計算，因此浮點數最大值為 1.8 x 10<sup>308</sup>，如果一個數的數值大於 1.8 x 10<sup>308</sup> 將被視為**無窮大數(inf)**。最接近0的數為 5.0 x 10<sup>-324</sup>，小於5.0 x 10<sup>-324</sup>被視為** 0 (zero)**。"
   ]
  },
  {
   "cell_type": "code",
   "execution_count": 34,
   "metadata": {
    "scrolled": true
   },
   "outputs": [
    {
     "name": "stdout",
     "output_type": "stream",
     "text": [
      "1.79e+308\n",
      "inf\n",
      "5e-324\n",
      "0.0\n"
     ]
    }
   ],
   "source": [
    "print(1.79e308)\n",
    "print(1.8e308)\n",
    "print(5.0e-324)\n",
    "print(1.e-325)"
   ]
  },
  {
   "cell_type": "markdown",
   "metadata": {},
   "source": [
    "### 文字資料"
   ]
  },
  {
   "cell_type": "markdown",
   "metadata": {},
   "source": [
    "在Python中文字資料使用英文**單/雙引號**來定義字元或字串，如`'I'`， `\"I am a student\"`，`' 我是銘傳大學學生'`。"
   ]
  },
  {
   "cell_type": "code",
   "execution_count": 4,
   "metadata": {
    "scrolled": true,
    "tags": []
   },
   "outputs": [
    {
     "name": "stdout",
     "output_type": "stream",
     "text": [
      "I\n",
      "I am a student.\n",
      "我是大一新鮮人\n"
     ]
    }
   ],
   "source": [
    "print('I')\n",
    "print('I am a student.')\n",
    "print(\"我是大一新鮮人\")"
   ]
  },
  {
   "cell_type": "markdown",
   "metadata": {},
   "source": [
    "如果你定義的字串` 'I am a mcu's student' `，將會出現語法錯誤(invalid syntax)喔！找出錯誤了沒？"
   ]
  },
  {
   "cell_type": "code",
   "execution_count": 5,
   "metadata": {
    "scrolled": true,
    "tags": []
   },
   "outputs": [
    {
     "ename": "SyntaxError",
     "evalue": "unterminated string literal (detected at line 1) (867603813.py, line 1)",
     "output_type": "error",
     "traceback": [
      "\u001b[1;36m  Cell \u001b[1;32mIn[5], line 1\u001b[1;36m\u001b[0m\n\u001b[1;33m    print('I am mcu's student')\u001b[0m\n\u001b[1;37m                             ^\u001b[0m\n\u001b[1;31mSyntaxError\u001b[0m\u001b[1;31m:\u001b[0m unterminated string literal (detected at line 1)\n"
     ]
    }
   ],
   "source": [
    "print('I am mcu's student')"
   ]
  },
  {
   "cell_type": "markdown",
   "metadata": {},
   "source": [
    "是的，要注意單/雙引號的位置，可以如此修正，` \" I am a mcu's student \"`。"
   ]
  },
  {
   "cell_type": "code",
   "execution_count": 6,
   "metadata": {
    "scrolled": true,
    "tags": []
   },
   "outputs": [
    {
     "name": "stdout",
     "output_type": "stream",
     "text": [
      "I am a mcu's student\n"
     ]
    }
   ],
   "source": [
    "print(\"I am a mcu's student\")"
   ]
  },
  {
   "cell_type": "markdown",
   "metadata": {},
   "source": [
    "另外一種解決方法，稱為「跳脫字元」，可以在「'」的前面增加一個「\\」斜線符號，所以`' I am mcu\\'s student.'`"
   ]
  },
  {
   "cell_type": "code",
   "execution_count": 8,
   "metadata": {
    "scrolled": true,
    "tags": []
   },
   "outputs": [
    {
     "name": "stdout",
     "output_type": "stream",
     "text": [
      " I am a mcu's student.\n"
     ]
    }
   ],
   "source": [
    "print(' I am a mcu\\'s student.')"
   ]
  },
  {
   "cell_type": "markdown",
   "metadata": {},
   "source": [
    "「\\」斜線符號可以使一些原有定義好的字元功能停止，如「\\newline」使斷行功能停止。如下例我想印出「I am a student,of Electronic Departmentat CUST in Taiwan.」"
   ]
  },
  {
   "cell_type": "code",
   "execution_count": 39,
   "metadata": {
    "scrolled": true
   },
   "outputs": [
    {
     "ename": "SyntaxError",
     "evalue": "EOL while scanning string literal (<ipython-input-39-64ba91c12b8d>, line 1)",
     "output_type": "error",
     "traceback": [
      "\u001b[0;36m  File \u001b[0;32m\"<ipython-input-39-64ba91c12b8d>\"\u001b[0;36m, line \u001b[0;32m1\u001b[0m\n\u001b[0;31m    print(\"I am a student,\u001b[0m\n\u001b[0m                           ^\u001b[0m\n\u001b[0;31mSyntaxError\u001b[0m\u001b[0;31m:\u001b[0m EOL while scanning string literal\n"
     ]
    }
   ],
   "source": [
    "print(\"I am a student, "
   ]
  },
  {
   "cell_type": "code",
   "execution_count": 9,
   "metadata": {
    "scrolled": true,
    "tags": []
   },
   "outputs": [
    {
     "name": "stdout",
     "output_type": "stream",
     "text": [
      "I am a student,of mcu's AI Department in Taiwan.\n"
     ]
    }
   ],
   "source": [
    "print(\"I am a student,\\\n",
    "of mcu\\'s AI Department\\\n",
    " in Taiwan.\")"
   ]
  },
  {
   "cell_type": "markdown",
   "metadata": {},
   "source": [
    "常用的跳脫字元功能，如下表"
   ]
  },
  {
   "cell_type": "markdown",
   "metadata": {},
   "source": [
    "跳脫字元 | 功能 \n",
    "-------------|------------------------------\n",
    "\\a            | 產生BB聲 \n",
    "\\b            | 字元游標位置回前一格\n",
    "\\n            | 斷行字元\n",
    "\\t             | tab 跳格\n",
    "\n"
   ]
  },
  {
   "cell_type": "code",
   "execution_count": 10,
   "metadata": {
    "scrolled": true,
    "tags": []
   },
   "outputs": [
    {
     "name": "stdout",
     "output_type": "stream",
     "text": [
      "I am a student, \n",
      "at mcu, in Taiwan\n"
     ]
    }
   ],
   "source": [
    "print(\"I am a student, \\nat mcu, in Taiwan\")"
   ]
  },
  {
   "cell_type": "code",
   "execution_count": 42,
   "metadata": {
    "scrolled": true
   },
   "outputs": [
    {
     "name": "stdout",
     "output_type": "stream",
     "text": [
      "姓名\t學號\t電話\n"
     ]
    }
   ],
   "source": [
    "print(\"姓名\\t學號\\t電話\")"
   ]
  },
  {
   "cell_type": "markdown",
   "metadata": {},
   "source": [
    "### 多行字串表示"
   ]
  },
  {
   "cell_type": "code",
   "execution_count": 43,
   "metadata": {
    "scrolled": true
   },
   "outputs": [
    {
     "name": "stdout",
     "output_type": "stream",
     "text": [
      "\n",
      "窗前明月光，\n",
      "疑是地上霜，\n",
      "舉頭望明月，\n",
      "低頭思故鄉。\n",
      "\n"
     ]
    }
   ],
   "source": [
    "print(\"\"\"\n",
    "窗前明月光，\n",
    "疑是地上霜，\n",
    "舉頭望明月，\n",
    "低頭思故鄉。\n",
    "\"\"\")"
   ]
  },
  {
   "cell_type": "markdown",
   "metadata": {},
   "source": [
    "### 布林值(Boolean value)"
   ]
  },
  {
   "cell_type": "markdown",
   "metadata": {},
   "source": [
    "布林值包含「真」與「假」二個值，真假值是有邏輯判斷式來決定，邏輯式有關於一個事實(Fact)的真假，例如 (5>3) 是一個事實，如果 5>3 為真，則布林值為True，否則布林值為False。在Python中，True表示「真」，False表示「假」。"
   ]
  },
  {
   "cell_type": "code",
   "execution_count": 44,
   "metadata": {
    "scrolled": true
   },
   "outputs": [
    {
     "name": "stdout",
     "output_type": "stream",
     "text": [
      "True\n",
      "False\n"
     ]
    }
   ],
   "source": [
    "print(5>3)\n",
    "print(5<3)"
   ]
  },
  {
   "cell_type": "markdown",
   "metadata": {},
   "source": [
    "True和False的資料型別為布林。"
   ]
  },
  {
   "cell_type": "markdown",
   "metadata": {},
   "source": [
    "### type 函數\n",
    "\n",
    "Python的內建函數type()可以用來顯示資料的型別。"
   ]
  },
  {
   "cell_type": "markdown",
   "metadata": {},
   "source": [
    "Python的內建函數type()可以用來顯示資料的型別。"
   ]
  },
  {
   "cell_type": "code",
   "execution_count": 11,
   "metadata": {
    "tags": []
   },
   "outputs": [
    {
     "name": "stdout",
     "output_type": "stream",
     "text": [
      "100 <class 'int'>\n",
      "12.3 <class 'float'>\n",
      "Helloworld <class 'str'>\n",
      "(1+2j) <class 'complex'>\n",
      "True <class 'bool'>\n"
     ]
    }
   ],
   "source": [
    "print(100,type(100))\n",
    "print(12.3, type(12.3))\n",
    "print(\"Helloworld\", type(\"Hello world\"))\n",
    "print(1+2j, type(1+2j))\n",
    "print(5>3, type(5>3))"
   ]
  },
  {
   "cell_type": "markdown",
   "metadata": {},
   "source": [
    "## 2.2 print 輸出函式"
   ]
  },
  {
   "cell_type": "markdown",
   "metadata": {},
   "source": [
    "print函式提供我們將程式執行結果輸出到螢幕，是一個I/O函式。print函式的定義如下：\n",
    "`print(value1, ..., sep=' ', end='\\n', file=sys.stdout, flush=False)`\n",
    "  * **value1**：表示要輸出的內容，可以輸出多個內容，中間以「，」隔開。\n",
    "  * **sep** : ' ':表示輸出多個內容之間的分隔符號，預設值為空格。\n",
    "  * **end** : '\\n': 表示輸出的結尾符號，預設為「斷行」(newline)。\n",
    "  * **file** : sys.stout: 表示輸出的檔案目的地，sys.stdout代表輸出至標準螢幕。"
   ]
  },
  {
   "cell_type": "code",
   "execution_count": 46,
   "metadata": {
    "scrolled": true
   },
   "outputs": [
    {
     "name": "stdout",
     "output_type": "stream",
     "text": [
      "我今年 18 歲\n"
     ]
    }
   ],
   "source": [
    "print(\"我今年\",18, \"歲\")"
   ]
  },
  {
   "cell_type": "code",
   "execution_count": 47,
   "metadata": {
    "scrolled": true
   },
   "outputs": [
    {
     "name": "stdout",
     "output_type": "stream",
     "text": [
      "我今年/18/歲\n"
     ]
    }
   ],
   "source": [
    "print(\"我今年\",18, \"歲\", sep = \"/\")"
   ]
  },
  {
   "cell_type": "code",
   "execution_count": 48,
   "metadata": {
    "scrolled": true
   },
   "outputs": [
    {
     "name": "stdout",
     "output_type": "stream",
     "text": [
      "我今年 18 歲， 我是大學新生。\n"
     ]
    }
   ],
   "source": [
    "print(\"我今年\",18, \"歲，\", end=\" \")\n",
    "print(\"我是大學新生。\")"
   ]
  },
  {
   "cell_type": "code",
   "execution_count": 49,
   "metadata": {
    "scrolled": true
   },
   "outputs": [
    {
     "name": "stdout",
     "output_type": "stream",
     "text": [
      "1//2.3//456.0\n"
     ]
    }
   ],
   "source": [
    "print(1, 2.3, 4.56e2, sep=\"//\")"
   ]
  },
  {
   "cell_type": "markdown",
   "metadata": {},
   "source": [
    "### 格式化列印串"
   ]
  },
  {
   "cell_type": "markdown",
   "metadata": {},
   "source": [
    "**舊格式**"
   ]
  },
  {
   "cell_type": "code",
   "execution_count": 50,
   "metadata": {},
   "outputs": [],
   "source": [
    "sprint = \"姓名：%10s，年齡：%3d歲，體重：%7.2f公斤\" % (\"王大明\", 20, 73.45)"
   ]
  },
  {
   "cell_type": "code",
   "execution_count": 51,
   "metadata": {
    "scrolled": true
   },
   "outputs": [
    {
     "name": "stdout",
     "output_type": "stream",
     "text": [
      "姓名：       王大明，年齡： 20歲，體重：  73.45公斤\n"
     ]
    }
   ],
   "source": [
    "print(sprint)"
   ]
  },
  {
   "cell_type": "markdown",
   "metadata": {},
   "source": [
    "**新格式**"
   ]
  },
  {
   "cell_type": "code",
   "execution_count": 52,
   "metadata": {},
   "outputs": [],
   "source": [
    "sprint = \"姓名：{0:^10s}， 年齡：{1:3d}歲， 體重：{2:7.2f}公斤\".\\\n",
    "    format(\"王大明\", 20, 73.45)"
   ]
  },
  {
   "cell_type": "code",
   "execution_count": 53,
   "metadata": {
    "scrolled": true
   },
   "outputs": [
    {
     "name": "stdout",
     "output_type": "stream",
     "text": [
      "姓名：   王大明    ， 年齡： 20歲， 體重：  73.45公斤\n"
     ]
    }
   ],
   "source": [
    "print(sprint)"
   ]
  },
  {
   "cell_type": "markdown",
   "metadata": {},
   "source": [
    "**格式符號表**"
   ]
  },
  {
   "cell_type": "markdown",
   "metadata": {},
   "source": [
    "符號  | 意義\n",
    ":----: |:----------------------\n",
    "%%     | 在字串 中顯示%\n",
    "%d     | 以10 進位整數方式輸出\n",
    "%f     | 將浮點 數以10進位方式輸出\n",
    "%e, %E |將浮點 數以10進位方式輸出，並使用科學記號\n",
    "%o     |以8進 位整數方式輸出\n",
    "%x, %X |將整 數以16進位方式輸出\n",
    "%s     |使用str()將字串輸出\n",
    "%r     |使用repr()輸 出字串"
   ]
  },
  {
   "cell_type": "code",
   "execution_count": 54,
   "metadata": {},
   "outputs": [
    {
     "name": "stdout",
     "output_type": "stream",
     "text": [
      " 3.141590\n",
      " 3.14\n",
      " 3.14159\n",
      "    3.14\n",
      "    3.14159\n",
      "\n"
     ]
    }
   ],
   "source": [
    "print(\" %f\\n %.2f\\n %.5f\\n %7.2f\\n %10.5f\\n\" % \\\n",
    "      (3.14159,3.14159,3.14159,3.14159,3.14159))"
   ]
  },
  {
   "cell_type": "markdown",
   "metadata": {},
   "source": [
    "<img src=\"pic/printformat.png\" alt=\"format print\" style=\"width:250px;height:200px;\">"
   ]
  },
  {
   "cell_type": "markdown",
   "metadata": {},
   "source": [
    "### 列印格式修飾子"
   ]
  },
  {
   "cell_type": "markdown",
   "metadata": {},
   "source": [
    "  修飾子 | 意義\n",
    ":------:|:-------\n",
    "%**m.n**f   | 浮點數顯示長度m位，其中含小數點及小數點後n位\n",
    "%**n**d    | 整數顯示長度n位\n",
    "**0**      | 以0補空位\n",
    "**+**       | 正負號顯示\n",
    "**^**     | 列印資料在指定的格中置中對齊\n",
    "**>**   | 列印資料在指定的格中向右對齊\n",
    "**<**   | 列印資料在指定的格中向左對齊"
   ]
  },
  {
   "cell_type": "code",
   "execution_count": 55,
   "metadata": {},
   "outputs": [
    {
     "name": "stdout",
     "output_type": "stream",
     "text": [
      "     12345(靠右對齊，預設)\n",
      "  12345   (置中對齊)\n",
      "     12345(靠右對齊)\n",
      "12345     (靠左對齊)\n"
     ]
    }
   ],
   "source": [
    "s = \"{:10d}(靠右對齊，預設)\\n{:^10d}(置中對齊)\\n{:>10d}(靠右對齊)\\n{:<10d}(靠左對齊)\"\\\n",
    ".format(12345, 12345, 12345, 12345)\n",
    "print(s)"
   ]
  },
  {
   "cell_type": "code",
   "execution_count": 56,
   "metadata": {},
   "outputs": [
    {
     "name": "stdout",
     "output_type": "stream",
     "text": [
      "+000001234\n"
     ]
    }
   ],
   "source": [
    "s = \"{:+010d}\".format(1234)\n",
    "print(s)"
   ]
  }
 ],
 "metadata": {
  "kernelspec": {
   "display_name": "Python 3 (ipykernel)",
   "language": "python",
   "name": "python3"
  },
  "language_info": {
   "codemirror_mode": {
    "name": "ipython",
    "version": 3
   },
   "file_extension": ".py",
   "mimetype": "text/x-python",
   "name": "python",
   "nbconvert_exporter": "python",
   "pygments_lexer": "ipython3",
   "version": "3.11.3"
  }
 },
 "nbformat": 4,
 "nbformat_minor": 4
}
