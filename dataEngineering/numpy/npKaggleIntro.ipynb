{
  "cells": [
    {
      "cell_type": "markdown",
      "metadata": {},
      "source": [
        "# Numpy 介紹\n",
        "\n",
        "NumPy 是 Python 中一個強大的**數值計算套件庫**，它具有以下特點\n",
        "1. 高效率的多維陣列和矩陣運算：NumPy 提供了高效的多維陣列和矩陣運算功能，能夠快速處理大規模的數據計算。\n",
        "2. 快速運算速度：NumPy 的底層使用 C 語言編寫，能夠跳過 Python 的全域解譯器鎖（GIL），因此運算速度遠超過純 Python 代碼。\n",
        "3. 支持向量化運算：NumPy 支持向量化運算，可以在單一指令下對整個陣列進行操作，減少了循環的需要。\n",
        "4. 與其他庫的整合：NumPy 可以與其他 Python 科學計算庫（如 Pandas、SciPy、Matplotlib 等）整合，提供全面性的數據分析和科學計算功能。\n",
        "\n",
        "NumPy 能夠高效地計算大量數據，尤其是在科學計算和數據分析領域。相比於 Python 原生的列表(L)，NumPy 的陣列（ndarray）在存儲和運算效率上有明顯優勢，NumPy 擅長解決的計算問題包括\n",
        "1. 大規模數據處理：NumPy 可以快速高效地處理大量數據，適合於機器學習和深度學習等領域。\n",
        "2. 多維陣列和矩陣運算：NumPy 提供了豐富的多維陣列和矩陣運算功能，適合於線性代數和矩陣計算。\n",
        "3. 科學計算和數學建模：NumPy 提供了大量的數學函數和運算工具，適合於科學計算和數學建模. \n",
        "\n",
        "根據 numpy 的數值計算能力，非常適合在以下的應用中使用 numpy 來處理數據計算的問題\n",
        "1. 數值計算和數據分析\n",
        "    - 科學研究和工程：NumPy 在科學研究和工程領域中被廣泛用於數值計算和數據分析，尤其是在物理、化學和生物學等領域。\n",
        "    - 機器學習和數據科學：NumPy 是機器學習和數據科學的基礎庫，常用於數據預處理和算法實現。\n",
        "2. 信號處理\n",
        "    - NumPy 在信號處理中被用於過濾、Fourier 分析和時間域分析等任務。\n",
        "3. 圖像處理\n",
        "    - NumPy 用於圖像處理任務，如過濾、變換和控圖像數據。\n",
        "4. 模擬和建模\n",
        "    - 科學模擬：NumPy 用於物理、化學和生物學等領域的模擬和建模。\n",
        "    - 金融和經濟建模：NumPy 用於風險分析、期權定價和經濟建模。\n",
        "5. 其他領域\n",
        "    - 天文學：NumPy 用於處理和控天文數據，如望遠鏡圖像或光譜。\n",
        "    - 生物信息學：NumPy 用於分析基因數據、蛋白質結構預測和計算生物學。\n",
        "    - 遊戲開發：NumPy 用於物理模擬、碰撞檢測和處理大型數據集。\n",
        "6. 教育和研究\n",
        "    - NumPy 在教育和研究環境中被廣泛用於教學和實驗。\n",
        "\n",
        "接下來的課程，先介紹 numpy 的基本操作及有用的函數，再來展示二個可以運用 numpy 來處理的技術，即影像基礎處理與線性回歸模型基礎矩陣運算。 "
      ]
    },
    {
      "cell_type": "markdown",
      "metadata": {},
      "source": [
        "### 展示影像處理"
      ]
    },
    {
      "cell_type": "code",
      "execution_count": null,
      "metadata": {},
      "outputs": [
        {
          "name": "stdout",
          "output_type": "stream",
          "text": [
            "(533, 800, 3)\n"
          ]
        }
      ],
      "source": [
        "from PIL import Image\n",
        "import numpy as np\n",
        "\n",
        "# 載入影像\n",
        "image = Image.open('2024game.jpg')\n",
        "\n",
        "# 將影像資料轉為numpy陣列資料\n",
        "image_array = np.array(image)\n",
        "\n",
        "# 讀取影像dimension\n",
        "print(image_array.shape)\n",
        "\n",
        "# 顯示影像\n",
        "image.show()\n",
        "\n",
        "# 在陣列中將影像顏色反轉\n",
        "inverted_image_array = 255 - image_array\n",
        "\n",
        "# 將陣列轉為影像\n",
        "inverted_image = Image.fromarray(inverted_image_array)\n",
        "\n",
        "# 儲存影像檔並顯示\n",
        "inverted_image.save('inv_2024.jpg')  \n",
        "inverted_image.show()  "
      ]
    },
    {
      "cell_type": "markdown",
      "metadata": {},
      "source": [
        "### 導入 numpy"
      ]
    },
    {
      "cell_type": "code",
      "execution_count": null,
      "metadata": {
        "execution": {
          "iopub.execute_input": "2023-12-07T15:34:42.877156Z",
          "iopub.status.busy": "2023-12-07T15:34:42.876641Z",
          "iopub.status.idle": "2023-12-07T15:34:42.882651Z",
          "shell.execute_reply": "2023-12-07T15:34:42.881438Z",
          "shell.execute_reply.started": "2023-12-07T15:34:42.877109Z"
        },
        "id": "YQnmk3dTnDyy",
        "trusted": true
      },
      "outputs": [],
      "source": [
        "import numpy as np"
      ]
    },
    {
      "cell_type": "markdown",
      "metadata": {
        "id": "fCL-vBQ8nDyz"
      },
      "source": [
        "### 檢查 python 與 numpy 版本"
      ]
    },
    {
      "cell_type": "code",
      "execution_count": null,
      "metadata": {
        "execution": {
          "iopub.execute_input": "2023-12-07T15:30:16.454918Z",
          "iopub.status.busy": "2023-12-07T15:30:16.454577Z",
          "iopub.status.idle": "2023-12-07T15:30:16.462653Z",
          "shell.execute_reply": "2023-12-07T15:30:16.461517Z",
          "shell.execute_reply.started": "2023-12-07T15:30:16.454891Z"
        },
        "id": "tqPT40gPnDyz",
        "trusted": true
      },
      "outputs": [],
      "source": [
        "import platform\n",
        "print('Python version: ' + platform.python_version())\n",
        "print('Numpy version: ' + np.__version__)"
      ]
    },
    {
      "cell_type": "markdown",
      "metadata": {
        "id": "9NIA-HMLnDyz"
      },
      "source": [
        "# 0. Numpy Data Types"
      ]
    },
    {
      "cell_type": "markdown",
      "metadata": {
        "id": "Zr8PTpMlnDyz"
      },
      "source": [
        "### Numpy 資料型別列表"
      ]
    },
    {
      "cell_type": "code",
      "execution_count": null,
      "metadata": {
        "execution": {
          "iopub.execute_input": "2023-12-07T15:30:17.294826Z",
          "iopub.status.busy": "2023-12-07T15:30:17.294381Z",
          "iopub.status.idle": "2023-12-07T15:30:17.78931Z",
          "shell.execute_reply": "2023-12-07T15:30:17.788393Z",
          "shell.execute_reply.started": "2023-12-07T15:30:17.294788Z"
        },
        "id": "KEwl8KLcnDyz",
        "trusted": true
      },
      "outputs": [],
      "source": [
        "import pandas as pd\n",
        "dtypes = pd.DataFrame(\n",
        "    {\n",
        "        'Type': ['int8', 'uint8', 'int16', 'uint16', 'int32', 'uint32', 'int64', 'uint64', 'float16', 'float32', 'float64', 'float128', 'complex64', 'complex128', 'bool', 'object', 'string_', 'unicode_'],\n",
        "        'Type Code': ['i1', 'u1', 'i2', 'u2', 'i4', 'u4', 'i8', 'u8', 'f2', 'f4 or f', 'f8 or d', 'f16 or g', 'c8', 'c16', '', 'O', 'S', 'U']\n",
        "    }\n",
        ")\n",
        "\n",
        "dtypes"
      ]
    },
    {
      "cell_type": "markdown",
      "metadata": {
        "id": "wXxmCNb3nDy0"
      },
      "source": [
        "### 字串型別"
      ]
    },
    {
      "cell_type": "code",
      "execution_count": null,
      "metadata": {
        "execution": {
          "iopub.execute_input": "2023-12-07T15:30:18.872345Z",
          "iopub.status.busy": "2023-12-07T15:30:18.871064Z",
          "iopub.status.idle": "2023-12-07T15:30:18.87856Z",
          "shell.execute_reply": "2023-12-07T15:30:18.877466Z",
          "shell.execute_reply.started": "2023-12-07T15:30:18.872286Z"
        },
        "id": "r36taprxnDy0",
        "trusted": true
      },
      "outputs": [],
      "source": [
        "# 設定字串最大長度 S + number, 如 'S3'\n",
        "# 大於設定長度部分將被刪除\n",
        "s = np.array(['abc', 'defg'], dtype='S3')\n",
        "print(s)\n",
        "print(s.dtype)"
      ]
    },
    {
      "cell_type": "code",
      "execution_count": null,
      "metadata": {
        "execution": {
          "iopub.execute_input": "2023-12-07T15:30:19.373868Z",
          "iopub.status.busy": "2023-12-07T15:30:19.372728Z",
          "iopub.status.idle": "2023-12-07T15:30:19.380922Z",
          "shell.execute_reply": "2023-12-07T15:30:19.37995Z",
          "shell.execute_reply.started": "2023-12-07T15:30:19.373816Z"
        },
        "id": "m0L1QRrFnDy0",
        "trusted": true
      },
      "outputs": [],
      "source": [
        "# numpy string and unicode data types 長度固定，以陣列中最長字串為準\n",
        "arr = np.array(['a', 'ab', 'abc'], dtype=np.string_)\n",
        "print(arr.dtype)\n",
        "\n",
        "arr = np.array(['a', 'ab', 'abc'], dtype=np.unicode_)\n",
        "print(arr.dtype)"
      ]
    },
    {
      "cell_type": "markdown",
      "metadata": {
        "id": "1_nBgpmXnDy0"
      },
      "source": [
        "# 1. 建立陣列"
      ]
    },
    {
      "cell_type": "markdown",
      "metadata": {
        "id": "dxqZ9Ip0nDy0"
      },
      "source": [
        "### 以 python list 建立 numpy 陣列"
      ]
    },
    {
      "cell_type": "code",
      "execution_count": null,
      "metadata": {
        "execution": {
          "iopub.execute_input": "2023-12-07T15:30:26.851204Z",
          "iopub.status.busy": "2023-12-07T15:30:26.850803Z",
          "iopub.status.idle": "2023-12-07T15:30:26.856674Z",
          "shell.execute_reply": "2023-12-07T15:30:26.855595Z",
          "shell.execute_reply.started": "2023-12-07T15:30:26.851171Z"
        },
        "id": "MJp-NvbcnDy0",
        "trusted": true
      },
      "outputs": [],
      "source": [
        "arr = np.array(range(10))\n",
        "print(arr)"
      ]
    },
    {
      "cell_type": "code",
      "execution_count": null,
      "metadata": {
        "execution": {
          "iopub.execute_input": "2023-12-07T15:30:27.141834Z",
          "iopub.status.busy": "2023-12-07T15:30:27.140573Z",
          "iopub.status.idle": "2023-12-07T15:30:27.149806Z",
          "shell.execute_reply": "2023-12-07T15:30:27.148344Z",
          "shell.execute_reply.started": "2023-12-07T15:30:27.141788Z"
        },
        "id": "GrLEyQ3lnDy0",
        "trusted": true
      },
      "outputs": [],
      "source": [
        "arr = np.array([1,2,3,4,5])\n",
        "print(arr)"
      ]
    },
    {
      "cell_type": "markdown",
      "metadata": {
        "id": "Rx-upGyvnDy0"
      },
      "source": [
        "### 設定新陣列的資料型別"
      ]
    },
    {
      "cell_type": "code",
      "execution_count": null,
      "metadata": {
        "execution": {
          "iopub.execute_input": "2023-12-07T15:30:27.75473Z",
          "iopub.status.busy": "2023-12-07T15:30:27.754378Z",
          "iopub.status.idle": "2023-12-07T15:30:27.760496Z",
          "shell.execute_reply": "2023-12-07T15:30:27.759356Z",
          "shell.execute_reply.started": "2023-12-07T15:30:27.754704Z"
        },
        "id": "frSf3eLznDy0",
        "trusted": true
      },
      "outputs": [],
      "source": [
        "arr = np.array([[1,2,3], [4,5,6]], dtype='i2') # 2 維陣列\n",
        "print(arr)"
      ]
    },
    {
      "cell_type": "markdown",
      "metadata": {
        "id": "Qo23QWaLnDy1"
      },
      "source": [
        "### 設定固定間隔數值陣列"
      ]
    },
    {
      "cell_type": "code",
      "execution_count": null,
      "metadata": {
        "execution": {
          "iopub.execute_input": "2023-12-07T15:30:28.332614Z",
          "iopub.status.busy": "2023-12-07T15:30:28.331892Z",
          "iopub.status.idle": "2023-12-07T15:30:28.337702Z",
          "shell.execute_reply": "2023-12-07T15:30:28.336638Z",
          "shell.execute_reply.started": "2023-12-07T15:30:28.332575Z"
        },
        "id": "GHZLoXbFnDy1",
        "trusted": true
      },
      "outputs": [],
      "source": [
        "# np.arange(start, stop, step)\n",
        "arr = np.arange(0, 20, 2)\n",
        "print(arr)"
      ]
    },
    {
      "cell_type": "markdown",
      "metadata": {
        "id": "YKQVMCcqnDy1"
      },
      "source": [
        "### 設定數值範圍固定資料個數"
      ]
    },
    {
      "cell_type": "code",
      "execution_count": null,
      "metadata": {
        "execution": {
          "iopub.execute_input": "2023-12-07T15:30:28.911065Z",
          "iopub.status.busy": "2023-12-07T15:30:28.910658Z",
          "iopub.status.idle": "2023-12-07T15:30:28.917473Z",
          "shell.execute_reply": "2023-12-07T15:30:28.916307Z",
          "shell.execute_reply.started": "2023-12-07T15:30:28.911031Z"
        },
        "id": "hm9lFDDqnDy1",
        "trusted": true
      },
      "outputs": [],
      "source": [
        "# np.linspace(start, stop, num_of_elements, endpoint=True, retstep=False)\n",
        "arr = np.linspace(0, 10, 20)\n",
        "print(arr)"
      ]
    },
    {
      "cell_type": "markdown",
      "metadata": {
        "id": "bedollKenDy1"
      },
      "source": [
        "### 新建隨機陣列 3x3"
      ]
    },
    {
      "cell_type": "code",
      "execution_count": null,
      "metadata": {
        "execution": {
          "iopub.execute_input": "2023-12-07T15:30:32.806167Z",
          "iopub.status.busy": "2023-12-07T15:30:32.805587Z",
          "iopub.status.idle": "2023-12-07T15:30:32.810834Z",
          "shell.execute_reply": "2023-12-07T15:30:32.810124Z",
          "shell.execute_reply.started": "2023-12-07T15:30:32.806134Z"
        },
        "id": "9AnZF7ztnDy1",
        "trusted": true
      },
      "outputs": [],
      "source": [
        "arr = np.random.rand(3, 3)\n",
        "print(arr)"
      ]
    },
    {
      "cell_type": "markdown",
      "metadata": {
        "id": "obCwYvi3nDy1"
      },
      "source": [
        "### 新建2x3的整數0陣列"
      ]
    },
    {
      "cell_type": "code",
      "execution_count": null,
      "metadata": {
        "execution": {
          "iopub.execute_input": "2023-12-07T15:30:34.238409Z",
          "iopub.status.busy": "2023-12-07T15:30:34.238Z",
          "iopub.status.idle": "2023-12-07T15:30:34.243934Z",
          "shell.execute_reply": "2023-12-07T15:30:34.242889Z",
          "shell.execute_reply.started": "2023-12-07T15:30:34.238368Z"
        },
        "id": "sUBUUNsTnDy1",
        "trusted": true
      },
      "outputs": [],
      "source": [
        "zeros = np.zeros((2,3), dtype='i4')\n",
        "print(zeros)"
      ]
    },
    {
      "cell_type": "markdown",
      "metadata": {
        "id": "sZKp9a5unDy1"
      },
      "source": [
        "### 利用已知陣列來定義0陣列"
      ]
    },
    {
      "cell_type": "code",
      "execution_count": null,
      "metadata": {
        "execution": {
          "iopub.execute_input": "2023-12-07T15:30:35.304917Z",
          "iopub.status.busy": "2023-12-07T15:30:35.304567Z",
          "iopub.status.idle": "2023-12-07T15:30:35.310622Z",
          "shell.execute_reply": "2023-12-07T15:30:35.309517Z",
          "shell.execute_reply.started": "2023-12-07T15:30:35.304882Z"
        },
        "id": "Fi9ndS8znDy1",
        "trusted": true
      },
      "outputs": [],
      "source": [
        "zeros = np.zeros_like(arr)\n",
        "print(zeros)"
      ]
    },
    {
      "cell_type": "markdown",
      "metadata": {
        "id": "P-M7A6fOnDy1"
      },
      "source": [
        "### 建立已知維度1陣列"
      ]
    },
    {
      "cell_type": "code",
      "execution_count": null,
      "metadata": {
        "execution": {
          "iopub.execute_input": "2023-12-07T15:30:35.869279Z",
          "iopub.status.busy": "2023-12-07T15:30:35.868902Z",
          "iopub.status.idle": "2023-12-07T15:30:35.874667Z",
          "shell.execute_reply": "2023-12-07T15:30:35.873339Z",
          "shell.execute_reply.started": "2023-12-07T15:30:35.869234Z"
        },
        "id": "cI7TTtrWnDy2",
        "trusted": true
      },
      "outputs": [],
      "source": [
        "ones = np.ones((2,3))\n",
        "print(ones)"
      ]
    },
    {
      "cell_type": "markdown",
      "metadata": {
        "id": "ztZdJPJnnDy2"
      },
      "source": [
        "### 利用已知陣列來定義1陣列"
      ]
    },
    {
      "cell_type": "code",
      "execution_count": null,
      "metadata": {
        "execution": {
          "iopub.execute_input": "2023-12-07T15:30:36.431798Z",
          "iopub.status.busy": "2023-12-07T15:30:36.431385Z",
          "iopub.status.idle": "2023-12-07T15:30:36.437812Z",
          "shell.execute_reply": "2023-12-07T15:30:36.436732Z",
          "shell.execute_reply.started": "2023-12-07T15:30:36.431764Z"
        },
        "id": "ELKCR9xgnDy2",
        "trusted": true
      },
      "outputs": [],
      "source": [
        "ones = np.ones_like(arr)\n",
        "print(ones)"
      ]
    },
    {
      "cell_type": "markdown",
      "metadata": {
        "id": "mXly_bWUnDy2"
      },
      "source": [
        "### 建立已知維度empty陣列"
      ]
    },
    {
      "cell_type": "code",
      "execution_count": null,
      "metadata": {
        "execution": {
          "iopub.execute_input": "2023-12-07T15:30:37.768Z",
          "iopub.status.busy": "2023-12-07T15:30:37.767609Z",
          "iopub.status.idle": "2023-12-07T15:30:37.773401Z",
          "shell.execute_reply": "2023-12-07T15:30:37.772398Z",
          "shell.execute_reply.started": "2023-12-07T15:30:37.76796Z"
        },
        "id": "twqy4aHOnDy2",
        "trusted": true
      },
      "outputs": [],
      "source": [
        "empty = np.empty((2,3))\n",
        "print(empty)"
      ]
    },
    {
      "cell_type": "markdown",
      "metadata": {
        "id": "Pie0gnHxnDy2"
      },
      "source": [
        "### 利用已知陣列來定義empty陣列"
      ]
    },
    {
      "cell_type": "code",
      "execution_count": null,
      "metadata": {
        "execution": {
          "iopub.execute_input": "2023-12-07T15:30:39.944761Z",
          "iopub.status.busy": "2023-12-07T15:30:39.944119Z",
          "iopub.status.idle": "2023-12-07T15:30:39.951246Z",
          "shell.execute_reply": "2023-12-07T15:30:39.950252Z",
          "shell.execute_reply.started": "2023-12-07T15:30:39.944723Z"
        },
        "id": "MYoVOpt9nDy2",
        "trusted": true
      },
      "outputs": [],
      "source": [
        "empty = np.empty_like(arr)\n",
        "print(empty)"
      ]
    },
    {
      "cell_type": "markdown",
      "metadata": {
        "id": "eo4kgjpnnDy2"
      },
      "source": [
        "### 建立已知維度陣列並設定每個元素值=5  "
      ]
    },
    {
      "cell_type": "code",
      "execution_count": null,
      "metadata": {
        "execution": {
          "iopub.execute_input": "2023-12-07T15:30:41.045081Z",
          "iopub.status.busy": "2023-12-07T15:30:41.044491Z",
          "iopub.status.idle": "2023-12-07T15:30:41.05112Z",
          "shell.execute_reply": "2023-12-07T15:30:41.050111Z",
          "shell.execute_reply.started": "2023-12-07T15:30:41.04504Z"
        },
        "id": "21lZmQQ1nDy2",
        "trusted": true
      },
      "outputs": [],
      "source": [
        "p = np.full((2,3), 5)\n",
        "print(p)"
      ]
    },
    {
      "cell_type": "markdown",
      "metadata": {
        "id": "PCwjnBawnDy3"
      },
      "source": [
        "### 利用已知陣列來定義固定維度陣列設定每個元素值=5\n"
      ]
    },
    {
      "cell_type": "code",
      "execution_count": null,
      "metadata": {
        "execution": {
          "iopub.execute_input": "2023-12-07T15:30:44.438174Z",
          "iopub.status.busy": "2023-12-07T15:30:44.437488Z",
          "iopub.status.idle": "2023-12-07T15:30:44.444987Z",
          "shell.execute_reply": "2023-12-07T15:30:44.44386Z",
          "shell.execute_reply.started": "2023-12-07T15:30:44.438124Z"
        },
        "id": "xTdSy2KAnDy3",
        "trusted": true
      },
      "outputs": [],
      "source": [
        "p = np.full_like(arr, 5)\n",
        "print(p)"
      ]
    },
    {
      "cell_type": "markdown",
      "metadata": {
        "id": "f4gkMPu7nDy3"
      },
      "source": [
        "### 建立對角線為 1 的 identity matrix"
      ]
    },
    {
      "cell_type": "code",
      "execution_count": null,
      "metadata": {
        "execution": {
          "iopub.execute_input": "2023-12-07T15:30:52.157647Z",
          "iopub.status.busy": "2023-12-07T15:30:52.157254Z",
          "iopub.status.idle": "2023-12-07T15:30:52.164087Z",
          "shell.execute_reply": "2023-12-07T15:30:52.162814Z",
          "shell.execute_reply.started": "2023-12-07T15:30:52.157612Z"
        },
        "id": "aVm05zSvnDy3",
        "trusted": true
      },
      "outputs": [],
      "source": [
        "identity_matrix = np.eye(3)\n",
        "print(identity_matrix)"
      ]
    },
    {
      "cell_type": "code",
      "execution_count": null,
      "metadata": {
        "execution": {
          "iopub.execute_input": "2023-12-07T15:30:52.490913Z",
          "iopub.status.busy": "2023-12-07T15:30:52.490404Z",
          "iopub.status.idle": "2023-12-07T15:30:52.497856Z",
          "shell.execute_reply": "2023-12-07T15:30:52.496799Z",
          "shell.execute_reply.started": "2023-12-07T15:30:52.490856Z"
        },
        "id": "Bh2QShpLnDy3",
        "trusted": true
      },
      "outputs": [],
      "source": [
        "identity_matrix = np.identity(3)\n",
        "print(identity_matrix)"
      ]
    },
    {
      "cell_type": "markdown",
      "metadata": {
        "id": "51RA_zVdnDy4"
      },
      "source": [
        "### 求取對角線值/建立對角線矩陣"
      ]
    },
    {
      "cell_type": "code",
      "execution_count": null,
      "metadata": {
        "execution": {
          "iopub.execute_input": "2023-12-07T15:30:55.585841Z",
          "iopub.status.busy": "2023-12-07T15:30:55.585309Z",
          "iopub.status.idle": "2023-12-07T15:30:55.592768Z",
          "shell.execute_reply": "2023-12-07T15:30:55.591899Z",
          "shell.execute_reply.started": "2023-12-07T15:30:55.585796Z"
        },
        "id": "c5vVLYSYnDy4",
        "trusted": true
      },
      "outputs": [],
      "source": [
        "arr = np.random.rand(5,5)\n",
        "print(arr)"
      ]
    },
    {
      "cell_type": "code",
      "execution_count": null,
      "metadata": {
        "execution": {
          "iopub.execute_input": "2023-12-07T15:30:57.068021Z",
          "iopub.status.busy": "2023-12-07T15:30:57.067621Z",
          "iopub.status.idle": "2023-12-07T15:30:57.073624Z",
          "shell.execute_reply": "2023-12-07T15:30:57.072349Z",
          "shell.execute_reply.started": "2023-12-07T15:30:57.067987Z"
        },
        "id": "1umySVrnnDy4",
        "trusted": true
      },
      "outputs": [],
      "source": [
        "# extract the diagonal\n",
        "print(np.diag(arr))"
      ]
    },
    {
      "cell_type": "code",
      "execution_count": null,
      "metadata": {
        "execution": {
          "iopub.execute_input": "2023-12-07T15:30:57.478221Z",
          "iopub.status.busy": "2023-12-07T15:30:57.477836Z",
          "iopub.status.idle": "2023-12-07T15:30:57.484213Z",
          "shell.execute_reply": "2023-12-07T15:30:57.483312Z",
          "shell.execute_reply.started": "2023-12-07T15:30:57.478188Z"
        },
        "id": "IaFDEfbznDy4",
        "trusted": true
      },
      "outputs": [],
      "source": [
        "# create a matrix with a specified diagonal array\n",
        "arr = np.diag([1,2,3,4,5])\n",
        "print(arr)"
      ]
    },
    {
      "cell_type": "markdown",
      "metadata": {
        "id": "-l41JA4-nDy4"
      },
      "source": [
        "# 2. 檢查陣列"
      ]
    },
    {
      "cell_type": "code",
      "execution_count": null,
      "metadata": {
        "execution": {
          "iopub.execute_input": "2023-12-07T15:30:59.714123Z",
          "iopub.status.busy": "2023-12-07T15:30:59.713656Z",
          "iopub.status.idle": "2023-12-07T15:30:59.720197Z",
          "shell.execute_reply": "2023-12-07T15:30:59.718941Z",
          "shell.execute_reply.started": "2023-12-07T15:30:59.714084Z"
        },
        "id": "sV5AgcMGnDy4",
        "trusted": true
      },
      "outputs": [],
      "source": [
        "arr = np.array([[1,2,3], [4,5,6]], dtype=np.int64)"
      ]
    },
    {
      "cell_type": "markdown",
      "metadata": {
        "id": "SUFnBNZ3nDy4"
      },
      "source": [
        "### 陣列資訊"
      ]
    },
    {
      "cell_type": "code",
      "execution_count": null,
      "metadata": {
        "execution": {
          "iopub.execute_input": "2023-12-07T15:31:01.362008Z",
          "iopub.status.busy": "2023-12-07T15:31:01.361651Z",
          "iopub.status.idle": "2023-12-07T15:31:01.367831Z",
          "shell.execute_reply": "2023-12-07T15:31:01.366709Z",
          "shell.execute_reply.started": "2023-12-07T15:31:01.361979Z"
        },
        "id": "bOa8YnKnnDy4",
        "trusted": true
      },
      "outputs": [],
      "source": [
        "print(np.info(arr))"
      ]
    },
    {
      "cell_type": "markdown",
      "metadata": {
        "id": "xhLXnd4unDy4"
      },
      "source": [
        "### 陣列資料型別"
      ]
    },
    {
      "cell_type": "code",
      "execution_count": null,
      "metadata": {
        "execution": {
          "iopub.execute_input": "2023-12-07T15:31:03.047375Z",
          "iopub.status.busy": "2023-12-07T15:31:03.046943Z",
          "iopub.status.idle": "2023-12-07T15:31:03.052375Z",
          "shell.execute_reply": "2023-12-07T15:31:03.051564Z",
          "shell.execute_reply.started": "2023-12-07T15:31:03.047341Z"
        },
        "id": "4BMeEgAznDy5",
        "trusted": true
      },
      "outputs": [],
      "source": [
        "print(arr.dtype)"
      ]
    },
    {
      "cell_type": "markdown",
      "metadata": {
        "id": "genJdSC5nDy5"
      },
      "source": [
        "### 陣列的列/行數"
      ]
    },
    {
      "cell_type": "code",
      "execution_count": null,
      "metadata": {
        "execution": {
          "iopub.execute_input": "2023-12-07T15:31:04.306889Z",
          "iopub.status.busy": "2023-12-07T15:31:04.306548Z",
          "iopub.status.idle": "2023-12-07T15:31:04.313271Z",
          "shell.execute_reply": "2023-12-07T15:31:04.311889Z",
          "shell.execute_reply.started": "2023-12-07T15:31:04.30686Z"
        },
        "id": "6y9miaAxnDy5",
        "trusted": true
      },
      "outputs": [],
      "source": [
        "print(arr.shape)"
      ]
    },
    {
      "cell_type": "markdown",
      "metadata": {
        "id": "c9QlzQCDnDy5"
      },
      "source": [
        "### 陣列維度"
      ]
    },
    {
      "cell_type": "code",
      "execution_count": null,
      "metadata": {
        "execution": {
          "iopub.execute_input": "2023-12-07T15:31:05.377311Z",
          "iopub.status.busy": "2023-12-07T15:31:05.37689Z",
          "iopub.status.idle": "2023-12-07T15:31:05.382574Z",
          "shell.execute_reply": "2023-12-07T15:31:05.381711Z",
          "shell.execute_reply.started": "2023-12-07T15:31:05.377256Z"
        },
        "id": "_aU8XPJ9nDy5",
        "trusted": true
      },
      "outputs": [],
      "source": [
        "print(len(arr))"
      ]
    },
    {
      "cell_type": "code",
      "execution_count": null,
      "metadata": {
        "execution": {
          "iopub.execute_input": "2023-12-07T15:31:07.305743Z",
          "iopub.status.busy": "2023-12-07T15:31:07.30494Z",
          "iopub.status.idle": "2023-12-07T15:31:07.312506Z",
          "shell.execute_reply": "2023-12-07T15:31:07.310529Z",
          "shell.execute_reply.started": "2023-12-07T15:31:07.305698Z"
        },
        "id": "85kHIkGInDy5",
        "trusted": true
      },
      "outputs": [],
      "source": [
        "print(arr.ndim)"
      ]
    },
    {
      "cell_type": "markdown",
      "metadata": {
        "id": "dEjyWyUQnDy5"
      },
      "source": [
        "### 陣列元素個數"
      ]
    },
    {
      "cell_type": "code",
      "execution_count": null,
      "metadata": {
        "execution": {
          "iopub.execute_input": "2023-12-07T15:31:07.989438Z",
          "iopub.status.busy": "2023-12-07T15:31:07.988793Z",
          "iopub.status.idle": "2023-12-07T15:31:07.99477Z",
          "shell.execute_reply": "2023-12-07T15:31:07.993472Z",
          "shell.execute_reply.started": "2023-12-07T15:31:07.989403Z"
        },
        "id": "bF-BfBIwnDy5",
        "trusted": true
      },
      "outputs": [],
      "source": [
        "print(arr.size)"
      ]
    },
    {
      "cell_type": "markdown",
      "metadata": {
        "id": "fPsp7bFinDy5"
      },
      "source": [
        "### 陣列元素佔記憶體大小"
      ]
    },
    {
      "cell_type": "code",
      "execution_count": null,
      "metadata": {
        "execution": {
          "iopub.execute_input": "2023-12-07T15:31:09.509874Z",
          "iopub.status.busy": "2023-12-07T15:31:09.509469Z",
          "iopub.status.idle": "2023-12-07T15:31:09.515474Z",
          "shell.execute_reply": "2023-12-07T15:31:09.514317Z",
          "shell.execute_reply.started": "2023-12-07T15:31:09.509842Z"
        },
        "id": "R0JjnkwknDy5",
        "trusted": true
      },
      "outputs": [],
      "source": [
        "print(arr.itemsize)"
      ]
    },
    {
      "cell_type": "markdown",
      "metadata": {
        "id": "fyRtfClUnDy5"
      },
      "source": [
        "### 陣列佔記憶體大小"
      ]
    },
    {
      "cell_type": "code",
      "execution_count": null,
      "metadata": {
        "execution": {
          "iopub.status.busy": "2023-12-07T15:30:06.83537Z",
          "iopub.status.idle": "2023-12-07T15:30:06.835813Z",
          "shell.execute_reply": "2023-12-07T15:30:06.83563Z",
          "shell.execute_reply.started": "2023-12-07T15:30:06.835609Z"
        },
        "id": "Jmtgf8wfnDy5",
        "trusted": true
      },
      "outputs": [],
      "source": [
        "# arr.nbytes = arr.size * arr.itemsize\n",
        "print(arr.nbytes)"
      ]
    },
    {
      "cell_type": "markdown",
      "metadata": {
        "id": "VINRltOOnDy6"
      },
      "source": [
        "# 3. 隨機抽樣"
      ]
    },
    {
      "cell_type": "markdown",
      "metadata": {
        "id": "vcrf4nWknDy6"
      },
      "source": [
        "### 設定亂數子"
      ]
    },
    {
      "cell_type": "code",
      "execution_count": null,
      "metadata": {
        "execution": {
          "iopub.execute_input": "2023-12-07T15:30:06.846506Z",
          "iopub.status.busy": "2023-12-07T15:30:06.846101Z",
          "iopub.status.idle": "2023-12-07T15:30:06.874068Z",
          "shell.execute_reply": "2023-12-07T15:30:06.872965Z",
          "shell.execute_reply.started": "2023-12-07T15:30:06.846471Z"
        },
        "id": "FvmZVPDvnDy6",
        "trusted": true
      },
      "outputs": [],
      "source": [
        "np.random.seed(123)"
      ]
    },
    {
      "cell_type": "markdown",
      "metadata": {
        "id": "nlYS9sufnDy6"
      },
      "source": [
        "### 設定亂數起始位置"
      ]
    },
    {
      "cell_type": "code",
      "execution_count": null,
      "metadata": {
        "execution": {
          "iopub.execute_input": "2023-12-07T15:30:10.735777Z",
          "iopub.status.busy": "2023-12-07T15:30:10.735382Z",
          "iopub.status.idle": "2023-12-07T15:30:10.760033Z",
          "shell.execute_reply": "2023-12-07T15:30:10.758627Z",
          "shell.execute_reply.started": "2023-12-07T15:30:10.735746Z"
        },
        "id": "kw3t-NG_nDy6",
        "trusted": true
      },
      "outputs": [],
      "source": [
        "rs = np.random.RandomState(321)\n",
        "rs.rand(10)"
      ]
    },
    {
      "cell_type": "markdown",
      "metadata": {
        "id": "4IF5DPTynDy6"
      },
      "source": [
        "### 產生一個[0, 1)間亂數值"
      ]
    },
    {
      "cell_type": "code",
      "execution_count": null,
      "metadata": {
        "execution": {
          "iopub.execute_input": "2023-12-06T17:49:49.623906Z",
          "iopub.status.busy": "2023-12-06T17:49:49.623581Z",
          "iopub.status.idle": "2023-12-06T17:49:49.629685Z",
          "shell.execute_reply": "2023-12-06T17:49:49.628285Z",
          "shell.execute_reply.started": "2023-12-06T17:49:49.623882Z"
        },
        "id": "aATRPhKenDy6",
        "trusted": true
      },
      "outputs": [],
      "source": [
        "# generate a random scalar\n",
        "print(np.random.rand())"
      ]
    },
    {
      "cell_type": "code",
      "execution_count": null,
      "metadata": {
        "execution": {
          "iopub.execute_input": "2023-12-06T17:49:49.809731Z",
          "iopub.status.busy": "2023-12-06T17:49:49.809374Z",
          "iopub.status.idle": "2023-12-06T17:49:49.815153Z",
          "shell.execute_reply": "2023-12-06T17:49:49.813825Z",
          "shell.execute_reply.started": "2023-12-06T17:49:49.809706Z"
        },
        "id": "ZS7Uf-WwnDy6",
        "trusted": true
      },
      "outputs": [],
      "source": [
        "# generate a 1-D array\n",
        "print(np.random.rand(3))"
      ]
    },
    {
      "cell_type": "code",
      "execution_count": null,
      "metadata": {
        "execution": {
          "iopub.execute_input": "2023-12-06T17:49:49.977695Z",
          "iopub.status.busy": "2023-12-06T17:49:49.977337Z",
          "iopub.status.idle": "2023-12-06T17:49:49.983145Z",
          "shell.execute_reply": "2023-12-06T17:49:49.98203Z",
          "shell.execute_reply.started": "2023-12-06T17:49:49.977671Z"
        },
        "id": "E50AcOtAnDy6",
        "trusted": true
      },
      "outputs": [],
      "source": [
        "# generate a 2-D array\n",
        "print(np.random.rand(3,3))"
      ]
    },
    {
      "cell_type": "markdown",
      "metadata": {
        "id": "w0IfUHwFnDy6"
      },
      "source": [
        "### 產生一個[low, high)間的亂數值陣列，設定數量"
      ]
    },
    {
      "cell_type": "code",
      "execution_count": null,
      "metadata": {
        "execution": {
          "iopub.execute_input": "2023-12-06T17:49:51.084913Z",
          "iopub.status.busy": "2023-12-06T17:49:51.084582Z",
          "iopub.status.idle": "2023-12-06T17:49:51.092245Z",
          "shell.execute_reply": "2023-12-06T17:49:51.091081Z",
          "shell.execute_reply.started": "2023-12-06T17:49:51.08489Z"
        },
        "id": "bTnxjouLnDy7",
        "trusted": true
      },
      "outputs": [],
      "source": [
        "# np.ranodm.randint(low, high, size, dtype)\n",
        "print(np.random.randint(1, 10, 3, 'i8'))"
      ]
    },
    {
      "cell_type": "markdown",
      "metadata": {
        "id": "dbIq9W2ZnDy7"
      },
      "source": [
        "### 產生一個[0.0, 1.0)間陣列，數量10個元素"
      ]
    },
    {
      "cell_type": "code",
      "execution_count": null,
      "metadata": {
        "execution": {
          "iopub.execute_input": "2023-12-06T17:49:51.513019Z",
          "iopub.status.busy": "2023-12-06T17:49:51.512696Z",
          "iopub.status.idle": "2023-12-06T17:49:51.520311Z",
          "shell.execute_reply": "2023-12-06T17:49:51.519118Z",
          "shell.execute_reply.started": "2023-12-06T17:49:51.512996Z"
        },
        "id": "XowL--JznDy7",
        "trusted": true
      },
      "outputs": [],
      "source": [
        "# the following methods are the same as np.random.rand()\n",
        "print(np.random.random_sample(10))\n",
        "print(np.random.random(10))\n",
        "print(np.random.ranf(10))\n",
        "print(np.random.sample(10))"
      ]
    },
    {
      "cell_type": "markdown",
      "metadata": {
        "id": "yIkMa0uhnDy7"
      },
      "source": [
        "### 已知一個陣列，賦予陣列每個值得機率，抽取10個元素"
      ]
    },
    {
      "cell_type": "code",
      "execution_count": null,
      "metadata": {
        "execution": {
          "iopub.execute_input": "2023-12-06T17:49:51.944565Z",
          "iopub.status.busy": "2023-12-06T17:49:51.944245Z",
          "iopub.status.idle": "2023-12-06T17:49:51.953154Z",
          "shell.execute_reply": "2023-12-06T17:49:51.951828Z",
          "shell.execute_reply.started": "2023-12-06T17:49:51.944542Z"
        },
        "id": "u7gPA9xAnDy7",
        "trusted": true
      },
      "outputs": [],
      "source": [
        "# np.random.choice(iterable_or_int, size, replace=True, p=weights)\n",
        "print(np.random.choice(range(3), 10, replace=True, p=[0.1, 0.8, 0.1]))"
      ]
    },
    {
      "cell_type": "code",
      "execution_count": null,
      "metadata": {
        "execution": {
          "iopub.execute_input": "2023-12-06T17:49:52.155012Z",
          "iopub.status.busy": "2023-12-06T17:49:52.154685Z",
          "iopub.status.idle": "2023-12-06T17:49:52.161396Z",
          "shell.execute_reply": "2023-12-06T17:49:52.159991Z",
          "shell.execute_reply.started": "2023-12-06T17:49:52.154989Z"
        },
        "id": "wIQhT4r0nDy7",
        "trusted": true
      },
      "outputs": [],
      "source": [
        "print(np.random.choice(3, 10))"
      ]
    },
    {
      "cell_type": "code",
      "execution_count": null,
      "metadata": {
        "execution": {
          "iopub.execute_input": "2023-12-06T17:49:52.39136Z",
          "iopub.status.busy": "2023-12-06T17:49:52.39044Z",
          "iopub.status.idle": "2023-12-06T17:49:52.396977Z",
          "shell.execute_reply": "2023-12-06T17:49:52.395675Z",
          "shell.execute_reply.started": "2023-12-06T17:49:52.391333Z"
        },
        "id": "09Akb0nznDy7",
        "trusted": true
      },
      "outputs": [],
      "source": [
        "print(np.random.choice([1,2,3], 10))"
      ]
    },
    {
      "cell_type": "markdown",
      "metadata": {
        "id": "dNC2m5jTnDy7"
      },
      "source": [
        "### 洗牌"
      ]
    },
    {
      "cell_type": "code",
      "execution_count": null,
      "metadata": {
        "execution": {
          "iopub.execute_input": "2023-12-06T17:49:53.446161Z",
          "iopub.status.busy": "2023-12-06T17:49:53.445848Z",
          "iopub.status.idle": "2023-12-06T17:49:53.452914Z",
          "shell.execute_reply": "2023-12-06T17:49:53.451361Z",
          "shell.execute_reply.started": "2023-12-06T17:49:53.446137Z"
        },
        "id": "6VZ84zGqnDy7",
        "trusted": true
      },
      "outputs": [],
      "source": [
        "arr = np.array(range(10))\n",
        "print(arr)"
      ]
    },
    {
      "cell_type": "code",
      "execution_count": null,
      "metadata": {
        "execution": {
          "iopub.execute_input": "2023-12-06T17:49:53.725036Z",
          "iopub.status.busy": "2023-12-06T17:49:53.724716Z",
          "iopub.status.idle": "2023-12-06T17:49:53.731146Z",
          "shell.execute_reply": "2023-12-06T17:49:53.729859Z",
          "shell.execute_reply.started": "2023-12-06T17:49:53.725012Z"
        },
        "id": "m96dAoXTnDy7",
        "trusted": true
      },
      "outputs": [],
      "source": [
        "np.random.shuffle(arr)\n",
        "print(arr)"
      ]
    },
    {
      "cell_type": "markdown",
      "metadata": {
        "id": "SgtowD5AnDy7"
      },
      "source": [
        "### 產生依亂數排列"
      ]
    },
    {
      "cell_type": "code",
      "execution_count": null,
      "metadata": {
        "execution": {
          "iopub.execute_input": "2023-12-06T17:49:54.352417Z",
          "iopub.status.busy": "2023-12-06T17:49:54.352093Z",
          "iopub.status.idle": "2023-12-06T17:49:54.358893Z",
          "shell.execute_reply": "2023-12-06T17:49:54.357821Z",
          "shell.execute_reply.started": "2023-12-06T17:49:54.352392Z"
        },
        "id": "agtGP8lRnDy7",
        "trusted": true
      },
      "outputs": [],
      "source": [
        "# similar to np.random.shuffle(), but it returns a copy rather than making changes in place\n",
        "arr = np.array(range(10))\n",
        "print('The initial array: ', arr)\n",
        "print('A permutation of the array: ', np.random.permutation(arr))"
      ]
    },
    {
      "cell_type": "markdown",
      "metadata": {
        "id": "8EKNpnUlnDy7"
      },
      "source": [
        "# 4. 數學函數"
      ]
    },
    {
      "cell_type": "code",
      "execution_count": null,
      "metadata": {
        "execution": {
          "iopub.execute_input": "2023-12-06T17:49:54.818702Z",
          "iopub.status.busy": "2023-12-06T17:49:54.818357Z",
          "iopub.status.idle": "2023-12-06T17:49:54.825129Z",
          "shell.execute_reply": "2023-12-06T17:49:54.823982Z",
          "shell.execute_reply.started": "2023-12-06T17:49:54.818676Z"
        },
        "id": "nYJ-iONMnDy8",
        "trusted": true
      },
      "outputs": [],
      "source": [
        "arr = np.random.rand(5,5)"
      ]
    },
    {
      "cell_type": "markdown",
      "metadata": {
        "id": "MkKBs3WBnDy8"
      },
      "source": [
        "### 元素加，減，乘，除"
      ]
    },
    {
      "cell_type": "code",
      "execution_count": null,
      "metadata": {
        "execution": {
          "iopub.execute_input": "2023-12-06T17:49:55.263933Z",
          "iopub.status.busy": "2023-12-06T17:49:55.263582Z",
          "iopub.status.idle": "2023-12-06T17:49:55.269683Z",
          "shell.execute_reply": "2023-12-06T17:49:55.269046Z",
          "shell.execute_reply.started": "2023-12-06T17:49:55.263907Z"
        },
        "id": "IlVthTbLnDy8",
        "trusted": true
      },
      "outputs": [],
      "source": [
        "print(arr + 10)\n",
        "print()\n",
        "print(arr - 10)\n",
        "print()\n",
        "print(arr * 10)\n",
        "print()\n",
        "print(arr / 10)"
      ]
    },
    {
      "cell_type": "code",
      "execution_count": null,
      "metadata": {
        "execution": {
          "iopub.execute_input": "2023-12-06T17:49:55.705707Z",
          "iopub.status.busy": "2023-12-06T17:49:55.705348Z",
          "iopub.status.idle": "2023-12-06T17:49:55.712156Z",
          "shell.execute_reply": "2023-12-06T17:49:55.711196Z",
          "shell.execute_reply.started": "2023-12-06T17:49:55.70567Z"
        },
        "id": "H7tUIEWanDy8",
        "trusted": true
      },
      "outputs": [],
      "source": [
        "arr1 = np.array([1,2,3])\n",
        "# the above operations can be performed using numpy built-in functions\n",
        "# which can save memory as the output can be stored in the original array rather than assigning new memoryarr = np.array([1,2,3])\n",
        "np.add(arr1, [8,9,10], out=arr1)\n",
        "print(arr1)\n",
        "\n",
        "np.subtract(arr1, [8,9,10], out=arr1)\n",
        "print(arr1)\n",
        "\n",
        "np.multiply(arr1, [1,2,3], out=arr1)\n",
        "print(arr1)"
      ]
    },
    {
      "cell_type": "markdown",
      "metadata": {
        "id": "cqeraxLcnDy8"
      },
      "source": [
        "### 指數函數"
      ]
    },
    {
      "cell_type": "code",
      "execution_count": null,
      "metadata": {
        "execution": {
          "iopub.execute_input": "2023-12-06T17:49:56.557761Z",
          "iopub.status.busy": "2023-12-06T17:49:56.557317Z",
          "iopub.status.idle": "2023-12-06T17:49:56.563236Z",
          "shell.execute_reply": "2023-12-06T17:49:56.562544Z",
          "shell.execute_reply.started": "2023-12-06T17:49:56.557728Z"
        },
        "id": "SR9ImPjJnDy8",
        "trusted": true
      },
      "outputs": [],
      "source": [
        "print(np.exp(arr))"
      ]
    },
    {
      "cell_type": "markdown",
      "metadata": {
        "id": "lfY6_5annDy8"
      },
      "source": [
        "### 對數函數"
      ]
    },
    {
      "cell_type": "code",
      "execution_count": null,
      "metadata": {
        "execution": {
          "iopub.execute_input": "2023-12-06T17:49:57.097074Z",
          "iopub.status.busy": "2023-12-06T17:49:57.0967Z",
          "iopub.status.idle": "2023-12-06T17:49:57.1028Z",
          "shell.execute_reply": "2023-12-06T17:49:57.101669Z",
          "shell.execute_reply.started": "2023-12-06T17:49:57.097043Z"
        },
        "id": "h6VGtfSZnDy8",
        "trusted": true
      },
      "outputs": [],
      "source": [
        "# natural log\n",
        "print(np.log(arr))"
      ]
    },
    {
      "cell_type": "code",
      "execution_count": null,
      "metadata": {
        "execution": {
          "iopub.execute_input": "2023-12-06T17:49:57.308311Z",
          "iopub.status.busy": "2023-12-06T17:49:57.307977Z",
          "iopub.status.idle": "2023-12-06T17:49:57.314827Z",
          "shell.execute_reply": "2023-12-06T17:49:57.313062Z",
          "shell.execute_reply.started": "2023-12-06T17:49:57.308285Z"
        },
        "id": "txNbBMaQnDy8",
        "trusted": true
      },
      "outputs": [],
      "source": [
        "# base 2\n",
        "print(np.log2(arr))"
      ]
    },
    {
      "cell_type": "code",
      "execution_count": null,
      "metadata": {
        "execution": {
          "iopub.execute_input": "2023-12-06T17:49:57.638434Z",
          "iopub.status.busy": "2023-12-06T17:49:57.638069Z",
          "iopub.status.idle": "2023-12-06T17:49:57.643816Z",
          "shell.execute_reply": "2023-12-06T17:49:57.642658Z",
          "shell.execute_reply.started": "2023-12-06T17:49:57.638408Z"
        },
        "id": "8bYX-dNZnDy8",
        "trusted": true
      },
      "outputs": [],
      "source": [
        "# base 10\n",
        "print(np.log10(arr))"
      ]
    },
    {
      "cell_type": "markdown",
      "metadata": {
        "id": "Hzgm2ViQnDy8"
      },
      "source": [
        "### 平方根"
      ]
    },
    {
      "cell_type": "code",
      "execution_count": null,
      "metadata": {
        "execution": {
          "iopub.execute_input": "2023-12-06T17:49:58.206165Z",
          "iopub.status.busy": "2023-12-06T17:49:58.205829Z",
          "iopub.status.idle": "2023-12-06T17:49:58.211358Z",
          "shell.execute_reply": "2023-12-06T17:49:58.210559Z",
          "shell.execute_reply.started": "2023-12-06T17:49:58.206139Z"
        },
        "id": "LS7QGwDznDy8",
        "trusted": true
      },
      "outputs": [],
      "source": [
        "print(np.sqrt(arr))"
      ]
    },
    {
      "cell_type": "markdown",
      "metadata": {
        "id": "7fyjr3YtnDy8"
      },
      "source": [
        "### 三角函數\n",
        "\n",
        "\n"
      ]
    },
    {
      "cell_type": "code",
      "execution_count": null,
      "metadata": {
        "execution": {
          "iopub.execute_input": "2023-12-06T17:49:58.767728Z",
          "iopub.status.busy": "2023-12-06T17:49:58.767383Z",
          "iopub.status.idle": "2023-12-06T17:49:58.774964Z",
          "shell.execute_reply": "2023-12-06T17:49:58.773677Z",
          "shell.execute_reply.started": "2023-12-06T17:49:58.767695Z"
        },
        "id": "-Bv1IaIUnDy8",
        "trusted": true
      },
      "outputs": [],
      "source": [
        "print(np.sin(arr))"
      ]
    },
    {
      "cell_type": "code",
      "execution_count": null,
      "metadata": {
        "execution": {
          "iopub.execute_input": "2023-12-06T17:49:59.163186Z",
          "iopub.status.busy": "2023-12-06T17:49:59.162849Z",
          "iopub.status.idle": "2023-12-06T17:49:59.168762Z",
          "shell.execute_reply": "2023-12-06T17:49:59.167486Z",
          "shell.execute_reply.started": "2023-12-06T17:49:59.163162Z"
        },
        "id": "9DM-L_upnDy9",
        "trusted": true
      },
      "outputs": [],
      "source": [
        "print(np.cos(arr))"
      ]
    },
    {
      "cell_type": "markdown",
      "metadata": {
        "id": "9MnXS-n1nDy9"
      },
      "source": [
        "### 列或行總合"
      ]
    },
    {
      "cell_type": "code",
      "execution_count": null,
      "metadata": {
        "execution": {
          "iopub.execute_input": "2023-12-06T17:49:59.61946Z",
          "iopub.status.busy": "2023-12-06T17:49:59.619117Z",
          "iopub.status.idle": "2023-12-06T17:49:59.624571Z",
          "shell.execute_reply": "2023-12-06T17:49:59.623745Z",
          "shell.execute_reply.started": "2023-12-06T17:49:59.619434Z"
        },
        "id": "FAgXlizTnDy9",
        "trusted": true
      },
      "outputs": [],
      "source": [
        "# sum along the row\n",
        "print(np.sum(arr, axis=0))"
      ]
    },
    {
      "cell_type": "code",
      "execution_count": null,
      "metadata": {
        "execution": {
          "iopub.execute_input": "2023-12-06T17:49:59.835963Z",
          "iopub.status.busy": "2023-12-06T17:49:59.835673Z",
          "iopub.status.idle": "2023-12-06T17:49:59.840709Z",
          "shell.execute_reply": "2023-12-06T17:49:59.839932Z",
          "shell.execute_reply.started": "2023-12-06T17:49:59.835941Z"
        },
        "id": "sG8nXNeynDy9",
        "trusted": true
      },
      "outputs": [],
      "source": [
        "# sum along the column\n",
        "print(np.sum(arr, axis=1))"
      ]
    },
    {
      "cell_type": "markdown",
      "metadata": {
        "id": "linY2AKGnDy9"
      },
      "source": [
        "### 列或行的最大/小值"
      ]
    },
    {
      "cell_type": "code",
      "execution_count": null,
      "metadata": {
        "execution": {
          "iopub.execute_input": "2023-12-06T17:50:00.290311Z",
          "iopub.status.busy": "2023-12-06T17:50:00.290003Z",
          "iopub.status.idle": "2023-12-06T17:50:00.295944Z",
          "shell.execute_reply": "2023-12-06T17:50:00.295255Z",
          "shell.execute_reply.started": "2023-12-06T17:50:00.290284Z"
        },
        "id": "LX46pMo2nDy9",
        "trusted": true
      },
      "outputs": [],
      "source": [
        "# calculate min along the row\n",
        "print(np.min(arr, axis=0))"
      ]
    },
    {
      "cell_type": "code",
      "execution_count": null,
      "metadata": {
        "execution": {
          "iopub.execute_input": "2023-12-06T17:50:00.664932Z",
          "iopub.status.busy": "2023-12-06T17:50:00.66456Z",
          "iopub.status.idle": "2023-12-06T17:50:00.670739Z",
          "shell.execute_reply": "2023-12-06T17:50:00.669759Z",
          "shell.execute_reply.started": "2023-12-06T17:50:00.664905Z"
        },
        "id": "srlMy8KenDy9",
        "trusted": true
      },
      "outputs": [],
      "source": [
        "# calculate max along the column\n",
        "print(np.max(arr, axis=1))"
      ]
    },
    {
      "cell_type": "code",
      "execution_count": null,
      "metadata": {
        "execution": {
          "iopub.execute_input": "2023-12-06T17:50:00.901416Z",
          "iopub.status.busy": "2023-12-06T17:50:00.901072Z",
          "iopub.status.idle": "2023-12-06T17:50:00.907171Z",
          "shell.execute_reply": "2023-12-06T17:50:00.905795Z",
          "shell.execute_reply.started": "2023-12-06T17:50:00.901392Z"
        },
        "id": "5XdXY_76nDy9",
        "trusted": true
      },
      "outputs": [],
      "source": [
        "# if axis not specified, calculate the max/min value of all elements\n",
        "print(np.max(arr))\n",
        "print(np.min(arr))"
      ]
    },
    {
      "cell_type": "markdown",
      "metadata": {
        "id": "rnuSfRxonDy-"
      },
      "source": [
        "### 求取二陣列元素的最大/最小值"
      ]
    },
    {
      "cell_type": "code",
      "execution_count": null,
      "metadata": {
        "execution": {
          "iopub.execute_input": "2023-12-06T17:50:02.294252Z",
          "iopub.status.busy": "2023-12-06T17:50:02.293931Z",
          "iopub.status.idle": "2023-12-06T17:50:02.300273Z",
          "shell.execute_reply": "2023-12-06T17:50:02.299321Z",
          "shell.execute_reply.started": "2023-12-06T17:50:02.294227Z"
        },
        "id": "XVynZCgmnDy-",
        "trusted": true
      },
      "outputs": [],
      "source": [
        "arr1 = np.array([1, 3, 5, 7, 9])\n",
        "arr2 = np.array([0, 4, 3, 8, 7])\n",
        "print(np.maximum(arr1, arr2))\n",
        "print(np.minimum(arr1, arr2))"
      ]
    },
    {
      "cell_type": "markdown",
      "metadata": {
        "id": "UteaB35MnDy-"
      },
      "source": [
        "### 將浮點數整數及小數分離"
      ]
    },
    {
      "cell_type": "code",
      "execution_count": null,
      "metadata": {
        "execution": {
          "iopub.execute_input": "2023-12-06T17:50:02.959322Z",
          "iopub.status.busy": "2023-12-06T17:50:02.958764Z",
          "iopub.status.idle": "2023-12-06T17:50:02.964793Z",
          "shell.execute_reply": "2023-12-06T17:50:02.963769Z",
          "shell.execute_reply.started": "2023-12-06T17:50:02.959295Z"
        },
        "id": "IyTJAxDEnDy-",
        "trusted": true
      },
      "outputs": [],
      "source": [
        "arr1 = np.random.rand(10) * 10\n",
        "re, intg = np.modf(arr1)\n",
        "print('fractional: ', re)\n",
        "print('integral: ', intg)"
      ]
    },
    {
      "cell_type": "markdown",
      "metadata": {
        "id": "vzvIY0J7nDy-"
      },
      "source": [
        "### 計算平均值\n",
        "\n"
      ]
    },
    {
      "cell_type": "code",
      "execution_count": null,
      "metadata": {
        "execution": {
          "iopub.execute_input": "2023-12-06T17:50:03.428324Z",
          "iopub.status.busy": "2023-12-06T17:50:03.427984Z",
          "iopub.status.idle": "2023-12-06T17:50:03.434985Z",
          "shell.execute_reply": "2023-12-06T17:50:03.433703Z",
          "shell.execute_reply.started": "2023-12-06T17:50:03.428301Z"
        },
        "id": "89_ZEI1lnDy-",
        "trusted": true
      },
      "outputs": [],
      "source": [
        "# compute the overall mean\n",
        "print(np.mean(arr))"
      ]
    },
    {
      "cell_type": "code",
      "execution_count": null,
      "metadata": {
        "execution": {
          "iopub.execute_input": "2023-12-06T17:50:03.636271Z",
          "iopub.status.busy": "2023-12-06T17:50:03.635904Z",
          "iopub.status.idle": "2023-12-06T17:50:03.640943Z",
          "shell.execute_reply": "2023-12-06T17:50:03.640305Z",
          "shell.execute_reply.started": "2023-12-06T17:50:03.636243Z"
        },
        "id": "y6obl9oXnDy-",
        "trusted": true
      },
      "outputs": [],
      "source": [
        "# compute the mean along the row\n",
        "print(np.mean(arr, axis=0))"
      ]
    },
    {
      "cell_type": "code",
      "execution_count": null,
      "metadata": {
        "execution": {
          "iopub.execute_input": "2023-12-06T17:50:03.82736Z",
          "iopub.status.busy": "2023-12-06T17:50:03.826977Z",
          "iopub.status.idle": "2023-12-06T17:50:03.834257Z",
          "shell.execute_reply": "2023-12-06T17:50:03.83311Z",
          "shell.execute_reply.started": "2023-12-06T17:50:03.827327Z"
        },
        "id": "TfythgTCnDy-",
        "trusted": true
      },
      "outputs": [],
      "source": [
        "# compute the mean along the column\n",
        "print(np.mean(arr, axis=1))"
      ]
    },
    {
      "cell_type": "markdown",
      "metadata": {
        "id": "eHnjrP-OnDy-"
      },
      "source": [
        "### 中位數"
      ]
    },
    {
      "cell_type": "code",
      "execution_count": null,
      "metadata": {
        "execution": {
          "iopub.execute_input": "2023-12-06T17:50:04.210799Z",
          "iopub.status.busy": "2023-12-06T17:50:04.210443Z",
          "iopub.status.idle": "2023-12-06T17:50:04.218289Z",
          "shell.execute_reply": "2023-12-06T17:50:04.217258Z",
          "shell.execute_reply.started": "2023-12-06T17:50:04.210773Z"
        },
        "id": "tcM-hVn0nDy-",
        "trusted": true
      },
      "outputs": [],
      "source": [
        "# compute the overall median\n",
        "print(np.median(arr))"
      ]
    },
    {
      "cell_type": "code",
      "execution_count": null,
      "metadata": {
        "execution": {
          "iopub.execute_input": "2023-12-06T17:50:04.395994Z",
          "iopub.status.busy": "2023-12-06T17:50:04.395629Z",
          "iopub.status.idle": "2023-12-06T17:50:04.402229Z",
          "shell.execute_reply": "2023-12-06T17:50:04.400769Z",
          "shell.execute_reply.started": "2023-12-06T17:50:04.395966Z"
        },
        "id": "kq7bh4mCnDy-",
        "trusted": true
      },
      "outputs": [],
      "source": [
        "# compute the median along the row\n",
        "print(np.median(arr, axis=0))"
      ]
    },
    {
      "cell_type": "code",
      "execution_count": null,
      "metadata": {
        "execution": {
          "iopub.execute_input": "2023-12-06T17:50:04.852372Z",
          "iopub.status.busy": "2023-12-06T17:50:04.852032Z",
          "iopub.status.idle": "2023-12-06T17:50:04.858058Z",
          "shell.execute_reply": "2023-12-06T17:50:04.857145Z",
          "shell.execute_reply.started": "2023-12-06T17:50:04.852347Z"
        },
        "id": "_uiwtKebnDy-",
        "trusted": true
      },
      "outputs": [],
      "source": [
        "# compute the median along the column\n",
        "print(np.median(arr, axis=1))"
      ]
    },
    {
      "cell_type": "markdown",
      "metadata": {
        "id": "0RM1saLKnDy_"
      },
      "source": [
        "### percentile"
      ]
    },
    {
      "cell_type": "code",
      "execution_count": null,
      "metadata": {
        "execution": {
          "iopub.execute_input": "2023-12-06T17:50:05.239487Z",
          "iopub.status.busy": "2023-12-06T17:50:05.239136Z",
          "iopub.status.idle": "2023-12-06T17:50:05.245811Z",
          "shell.execute_reply": "2023-12-06T17:50:05.244842Z",
          "shell.execute_reply.started": "2023-12-06T17:50:05.23946Z"
        },
        "id": "sJxwEqPsnDy_",
        "trusted": true
      },
      "outputs": [],
      "source": [
        "arr1 = np.random.rand(100)\n",
        "# compute 5, 65, and 95 percentiles of the array\n",
        "print(np.percentile(arr1, [5, 65, 95]))"
      ]
    },
    {
      "cell_type": "markdown",
      "metadata": {
        "id": "TCIHXfwrnDy_"
      },
      "source": [
        "### 標準差/變異數"
      ]
    },
    {
      "cell_type": "code",
      "execution_count": null,
      "metadata": {
        "execution": {
          "iopub.execute_input": "2023-12-06T17:50:05.677066Z",
          "iopub.status.busy": "2023-12-06T17:50:05.676751Z",
          "iopub.status.idle": "2023-12-06T17:50:05.682408Z",
          "shell.execute_reply": "2023-12-06T17:50:05.681512Z",
          "shell.execute_reply.started": "2023-12-06T17:50:05.677042Z"
        },
        "id": "x_S2o6sAnDy_",
        "trusted": true
      },
      "outputs": [],
      "source": [
        "# compute the overall standard deviation\n",
        "print(np.std(arr))"
      ]
    },
    {
      "cell_type": "code",
      "execution_count": null,
      "metadata": {
        "execution": {
          "iopub.execute_input": "2023-12-06T17:50:05.897117Z",
          "iopub.status.busy": "2023-12-06T17:50:05.896815Z",
          "iopub.status.idle": "2023-12-06T17:50:05.903245Z",
          "shell.execute_reply": "2023-12-06T17:50:05.902327Z",
          "shell.execute_reply.started": "2023-12-06T17:50:05.897092Z"
        },
        "id": "uwo_UGhnnDy_",
        "trusted": true
      },
      "outputs": [],
      "source": [
        "# compute the standard deviation along the row\n",
        "print(np.std(arr, axis=0))"
      ]
    },
    {
      "cell_type": "code",
      "execution_count": null,
      "metadata": {
        "execution": {
          "iopub.execute_input": "2023-12-06T17:50:06.108313Z",
          "iopub.status.busy": "2023-12-06T17:50:06.107945Z",
          "iopub.status.idle": "2023-12-06T17:50:06.114591Z",
          "shell.execute_reply": "2023-12-06T17:50:06.113112Z",
          "shell.execute_reply.started": "2023-12-06T17:50:06.108286Z"
        },
        "id": "04yuY-OZnDy_",
        "trusted": true
      },
      "outputs": [],
      "source": [
        "# compute the standard deviation along the column\n",
        "print(np.std(arr, axis=1))"
      ]
    },
    {
      "cell_type": "code",
      "execution_count": null,
      "metadata": {
        "execution": {
          "iopub.execute_input": "2023-12-06T17:50:06.299786Z",
          "iopub.status.busy": "2023-12-06T17:50:06.299428Z",
          "iopub.status.idle": "2023-12-06T17:50:06.304961Z",
          "shell.execute_reply": "2023-12-06T17:50:06.304064Z",
          "shell.execute_reply.started": "2023-12-06T17:50:06.29976Z"
        },
        "id": "kC0p1tHJnDy_",
        "trusted": true
      },
      "outputs": [],
      "source": [
        "# compute the overall variance\n",
        "print(np.var(arr))"
      ]
    },
    {
      "cell_type": "code",
      "execution_count": null,
      "metadata": {
        "execution": {
          "iopub.execute_input": "2023-12-06T17:50:06.492903Z",
          "iopub.status.busy": "2023-12-06T17:50:06.492532Z",
          "iopub.status.idle": "2023-12-06T17:50:06.498742Z",
          "shell.execute_reply": "2023-12-06T17:50:06.497655Z",
          "shell.execute_reply.started": "2023-12-06T17:50:06.492878Z"
        },
        "id": "7406jYN7nDy_",
        "trusted": true
      },
      "outputs": [],
      "source": [
        "# compute the variance along the row\n",
        "print(np.var(arr, axis=0))"
      ]
    },
    {
      "cell_type": "code",
      "execution_count": null,
      "metadata": {
        "execution": {
          "iopub.execute_input": "2023-12-06T17:50:06.776563Z",
          "iopub.status.busy": "2023-12-06T17:50:06.776196Z",
          "iopub.status.idle": "2023-12-06T17:50:06.783907Z",
          "shell.execute_reply": "2023-12-06T17:50:06.78257Z",
          "shell.execute_reply.started": "2023-12-06T17:50:06.776536Z"
        },
        "id": "nKV7onQJnDy_",
        "trusted": true
      },
      "outputs": [],
      "source": [
        "# compute the variance along the column\n",
        "print(np.var(arr, axis=1))"
      ]
    },
    {
      "cell_type": "markdown",
      "metadata": {
        "id": "VQjGyuubnDy_"
      },
      "source": [
        "### 共變異數及相關係數"
      ]
    },
    {
      "cell_type": "code",
      "execution_count": null,
      "metadata": {
        "execution": {
          "iopub.execute_input": "2023-12-06T17:50:07.049114Z",
          "iopub.status.busy": "2023-12-06T17:50:07.048777Z",
          "iopub.status.idle": "2023-12-06T17:50:07.053204Z",
          "shell.execute_reply": "2023-12-06T17:50:07.052533Z",
          "shell.execute_reply.started": "2023-12-06T17:50:07.04909Z"
        },
        "id": "Cj3piD1unDy_",
        "trusted": true
      },
      "outputs": [],
      "source": [
        "arr = np.random.rand(5,8)\n",
        "print(arr)"
      ]
    },
    {
      "cell_type": "code",
      "execution_count": null,
      "metadata": {
        "execution": {
          "iopub.execute_input": "2023-12-06T17:50:07.274461Z",
          "iopub.status.busy": "2023-12-06T17:50:07.274061Z",
          "iopub.status.idle": "2023-12-06T17:50:07.283255Z",
          "shell.execute_reply": "2023-12-06T17:50:07.280823Z",
          "shell.execute_reply.started": "2023-12-06T17:50:07.274429Z"
        },
        "id": "6cgiT18ynDy_",
        "trusted": true
      },
      "outputs": [],
      "source": [
        "print(np.cov(arr))"
      ]
    },
    {
      "cell_type": "code",
      "execution_count": null,
      "metadata": {
        "id": "nT4CUS0z5I8t"
      },
      "outputs": [],
      "source": [
        "print(np.corrcoef(arr[:,0], arr[:,1]))"
      ]
    },
    {
      "cell_type": "markdown",
      "metadata": {
        "id": "vlTSZw6fnDzA"
      },
      "source": [
        "### 比較"
      ]
    },
    {
      "cell_type": "code",
      "execution_count": null,
      "metadata": {
        "execution": {
          "iopub.execute_input": "2023-12-06T17:50:09.07779Z",
          "iopub.status.busy": "2023-12-06T17:50:09.077432Z",
          "iopub.status.idle": "2023-12-06T17:50:09.082589Z",
          "shell.execute_reply": "2023-12-06T17:50:09.081623Z",
          "shell.execute_reply.started": "2023-12-06T17:50:09.077765Z"
        },
        "id": "CLhXPQBZnDzA",
        "trusted": true
      },
      "outputs": [],
      "source": [
        "arr1 = np.array([1,2,3,4,5])\n",
        "arr2 = np.array([5,4,3,2,1])"
      ]
    },
    {
      "cell_type": "code",
      "execution_count": null,
      "metadata": {
        "execution": {
          "iopub.execute_input": "2023-12-06T17:50:09.125525Z",
          "iopub.status.busy": "2023-12-06T17:50:09.125159Z",
          "iopub.status.idle": "2023-12-06T17:50:09.131552Z",
          "shell.execute_reply": "2023-12-06T17:50:09.130285Z",
          "shell.execute_reply.started": "2023-12-06T17:50:09.125494Z"
        },
        "id": "AZLuzn4wnDzA",
        "trusted": true
      },
      "outputs": [],
      "source": [
        "# return an array of bools\n",
        "print(arr1 == arr2)\n",
        "print(arr1 < 3)"
      ]
    },
    {
      "cell_type": "markdown",
      "metadata": {
        "id": "VWGXvzLXnDzA"
      },
      "source": [
        "# 5. 陣列切割及索引"
      ]
    },
    {
      "cell_type": "code",
      "execution_count": null,
      "metadata": {
        "execution": {
          "iopub.execute_input": "2023-12-06T17:50:09.178234Z",
          "iopub.status.busy": "2023-12-06T17:50:09.177478Z",
          "iopub.status.idle": "2023-12-06T17:50:09.183337Z",
          "shell.execute_reply": "2023-12-06T17:50:09.181894Z",
          "shell.execute_reply.started": "2023-12-06T17:50:09.178206Z"
        },
        "id": "cJAC5IqjnDzA",
        "trusted": true
      },
      "outputs": [],
      "source": [
        "arr = np.array(range(100)).reshape((10,10))"
      ]
    },
    {
      "cell_type": "markdown",
      "metadata": {
        "id": "YGExelYjnDzA"
      },
      "source": [
        "### 以行、列值選取"
      ]
    },
    {
      "cell_type": "code",
      "execution_count": null,
      "metadata": {
        "execution": {
          "iopub.execute_input": "2023-12-06T17:50:09.243029Z",
          "iopub.status.busy": "2023-12-06T17:50:09.24269Z",
          "iopub.status.idle": "2023-12-06T17:50:09.249495Z",
          "shell.execute_reply": "2023-12-06T17:50:09.248107Z",
          "shell.execute_reply.started": "2023-12-06T17:50:09.243004Z"
        },
        "id": "B_bSS5eEnDzA",
        "trusted": true
      },
      "outputs": [],
      "source": [
        "print(arr[5][5])\n",
        "# or more concisely\n",
        "print(arr[5,5])"
      ]
    },
    {
      "cell_type": "markdown",
      "metadata": {
        "id": "TQEBFGSxnDzA"
      },
      "source": [
        "### 以行、列標號切割陣列"
      ]
    },
    {
      "cell_type": "code",
      "execution_count": null,
      "metadata": {
        "execution": {
          "iopub.execute_input": "2023-12-06T17:50:09.294091Z",
          "iopub.status.busy": "2023-12-06T17:50:09.29378Z",
          "iopub.status.idle": "2023-12-06T17:50:09.300315Z",
          "shell.execute_reply": "2023-12-06T17:50:09.299085Z",
          "shell.execute_reply.started": "2023-12-06T17:50:09.294069Z"
        },
        "id": "VeEvkrpRnDzB",
        "trusted": true
      },
      "outputs": [],
      "source": [
        "print(arr[1:3, 4:6])"
      ]
    },
    {
      "cell_type": "markdown",
      "metadata": {
        "id": "-YkPwDP3nDzB"
      },
      "source": [
        "### 利用 bool 選取"
      ]
    },
    {
      "cell_type": "code",
      "execution_count": null,
      "metadata": {
        "execution": {
          "iopub.execute_input": "2023-12-06T17:50:09.439203Z",
          "iopub.status.busy": "2023-12-06T17:50:09.438859Z",
          "iopub.status.idle": "2023-12-06T17:50:09.445965Z",
          "shell.execute_reply": "2023-12-06T17:50:09.444496Z",
          "shell.execute_reply.started": "2023-12-06T17:50:09.439175Z"
        },
        "id": "6Gs4m3EjnDzB",
        "trusted": true
      },
      "outputs": [],
      "source": [
        "arr1 = np.arange(25).reshape((5,5))\n",
        "bools = np.array([True, True, False, True, False])\n",
        "print(arr1)\n",
        "print()\n",
        "print(arr1[bools])"
      ]
    },
    {
      "cell_type": "code",
      "execution_count": null,
      "metadata": {
        "execution": {
          "iopub.execute_input": "2023-12-06T17:50:09.50358Z",
          "iopub.status.busy": "2023-12-06T17:50:09.503291Z",
          "iopub.status.idle": "2023-12-06T17:50:09.507778Z",
          "shell.execute_reply": "2023-12-06T17:50:09.50717Z",
          "shell.execute_reply.started": "2023-12-06T17:50:09.503554Z"
        },
        "id": "XMMUc1O3nDzB",
        "trusted": true
      },
      "outputs": [],
      "source": [
        "# negate the condition\n",
        "print(arr1[~bools])"
      ]
    },
    {
      "cell_type": "markdown",
      "metadata": {
        "id": "lic4L0e6nDzC"
      },
      "source": [
        "# 6. 陣列排序"
      ]
    },
    {
      "cell_type": "code",
      "execution_count": null,
      "metadata": {
        "execution": {
          "iopub.execute_input": "2023-12-06T17:50:09.911499Z",
          "iopub.status.busy": "2023-12-06T17:50:09.91115Z",
          "iopub.status.idle": "2023-12-06T17:50:09.915811Z",
          "shell.execute_reply": "2023-12-06T17:50:09.914798Z",
          "shell.execute_reply.started": "2023-12-06T17:50:09.911469Z"
        },
        "id": "znC70HSDnDzC",
        "trusted": true
      },
      "outputs": [],
      "source": [
        "arr = np.random.rand(5,5)"
      ]
    },
    {
      "cell_type": "markdown",
      "metadata": {
        "id": "bezFVmAXnDzC"
      },
      "source": [
        "### 依行/列排序"
      ]
    },
    {
      "cell_type": "code",
      "execution_count": null,
      "metadata": {
        "execution": {
          "iopub.execute_input": "2023-12-06T17:50:09.960971Z",
          "iopub.status.busy": "2023-12-06T17:50:09.960643Z",
          "iopub.status.idle": "2023-12-06T17:50:09.966279Z",
          "shell.execute_reply": "2023-12-06T17:50:09.965498Z",
          "shell.execute_reply.started": "2023-12-06T17:50:09.960949Z"
        },
        "id": "bbhaeWmQnDzC",
        "trusted": true
      },
      "outputs": [],
      "source": [
        "# sort along the row and return a copy\n",
        "print(np.sort(arr, axis=0))"
      ]
    },
    {
      "cell_type": "code",
      "execution_count": null,
      "metadata": {
        "execution": {
          "iopub.execute_input": "2023-12-06T17:50:09.980499Z",
          "iopub.status.busy": "2023-12-06T17:50:09.980147Z",
          "iopub.status.idle": "2023-12-06T17:50:09.986217Z",
          "shell.execute_reply": "2023-12-06T17:50:09.985346Z",
          "shell.execute_reply.started": "2023-12-06T17:50:09.980469Z"
        },
        "id": "aWWaMRx9nDzC",
        "trusted": true
      },
      "outputs": [],
      "source": [
        "# sort along the row in place\n",
        "arr.sort(axis=0)\n",
        "print(arr)"
      ]
    },
    {
      "cell_type": "code",
      "execution_count": null,
      "metadata": {
        "execution": {
          "iopub.execute_input": "2023-12-06T17:50:10.026958Z",
          "iopub.status.busy": "2023-12-06T17:50:10.025582Z",
          "iopub.status.idle": "2023-12-06T17:50:10.032638Z",
          "shell.execute_reply": "2023-12-06T17:50:10.031553Z",
          "shell.execute_reply.started": "2023-12-06T17:50:10.026915Z"
        },
        "id": "IiD9rmuAnDzD",
        "trusted": true
      },
      "outputs": [],
      "source": [
        "# sort along the column and return a copy\n",
        "print(np.sort(arr, axis=1))"
      ]
    },
    {
      "cell_type": "code",
      "execution_count": null,
      "metadata": {
        "execution": {
          "iopub.execute_input": "2023-12-06T17:50:10.042174Z",
          "iopub.status.busy": "2023-12-06T17:50:10.041836Z",
          "iopub.status.idle": "2023-12-06T17:50:10.047847Z",
          "shell.execute_reply": "2023-12-06T17:50:10.046652Z",
          "shell.execute_reply.started": "2023-12-06T17:50:10.042148Z"
        },
        "id": "B6XYO6ernDzD",
        "trusted": true
      },
      "outputs": [],
      "source": [
        "# sort along the column in place\n",
        "arr.sort(axis=1)\n",
        "print(arr)"
      ]
    },
    {
      "cell_type": "markdown",
      "metadata": {
        "id": "pzNcUn0HnDzD"
      },
      "source": [
        "# 7. 矩陣運算\n",
        "\n"
      ]
    },
    {
      "cell_type": "markdown",
      "metadata": {
        "id": "TGKuaj_wnDzD"
      },
      "source": [
        "### 轉置矩陣"
      ]
    },
    {
      "cell_type": "code",
      "execution_count": null,
      "metadata": {
        "execution": {
          "iopub.execute_input": "2023-12-06T17:50:11.392831Z",
          "iopub.status.busy": "2023-12-06T17:50:11.391729Z",
          "iopub.status.idle": "2023-12-06T17:50:11.398545Z",
          "shell.execute_reply": "2023-12-06T17:50:11.397674Z",
          "shell.execute_reply.started": "2023-12-06T17:50:11.3928Z"
        },
        "id": "c2QTwDULnDzD",
        "trusted": true
      },
      "outputs": [],
      "source": [
        "# the following methods return a copy\n",
        "print(arr.T)\n",
        "# or\n",
        "print(np.transpose(arr))\n",
        "# or\n",
        "print(arr.transpose())"
      ]
    },
    {
      "cell_type": "markdown",
      "metadata": {
        "id": "O5Oiy1eWnDzE"
      },
      "source": [
        "### 附加矩陣元素"
      ]
    },
    {
      "cell_type": "code",
      "execution_count": null,
      "metadata": {
        "execution": {
          "iopub.execute_input": "2023-12-06T17:50:12.980523Z",
          "iopub.status.busy": "2023-12-06T17:50:12.980175Z",
          "iopub.status.idle": "2023-12-06T17:50:12.984494Z",
          "shell.execute_reply": "2023-12-06T17:50:12.983903Z",
          "shell.execute_reply.started": "2023-12-06T17:50:12.980498Z"
        },
        "id": "a6gD8xGbnDzE",
        "trusted": true
      },
      "outputs": [],
      "source": [
        "arr = np.array([1,2,3])"
      ]
    },
    {
      "cell_type": "code",
      "execution_count": null,
      "metadata": {
        "execution": {
          "iopub.execute_input": "2023-12-06T17:50:13.010423Z",
          "iopub.status.busy": "2023-12-06T17:50:13.009446Z",
          "iopub.status.idle": "2023-12-06T17:50:13.01585Z",
          "shell.execute_reply": "2023-12-06T17:50:13.014085Z",
          "shell.execute_reply.started": "2023-12-06T17:50:13.010387Z"
        },
        "id": "exxEtDoenDzF",
        "trusted": true
      },
      "outputs": [],
      "source": [
        "# append a scalar and return a copy\n",
        "arr1 = np.append(arr, 4)\n",
        "print(arr1)"
      ]
    },
    {
      "cell_type": "code",
      "execution_count": null,
      "metadata": {
        "execution": {
          "iopub.execute_input": "2023-12-06T17:50:13.036625Z",
          "iopub.status.busy": "2023-12-06T17:50:13.035482Z",
          "iopub.status.idle": "2023-12-06T17:50:13.041891Z",
          "shell.execute_reply": "2023-12-06T17:50:13.040641Z",
          "shell.execute_reply.started": "2023-12-06T17:50:13.036573Z"
        },
        "id": "NlPN7sNwnDzF",
        "trusted": true
      },
      "outputs": [],
      "source": [
        "# append an array and return a copy\n",
        "arr2 = np.append(arr, [4,5,6])\n",
        "print(arr2)"
      ]
    },
    {
      "cell_type": "markdown",
      "metadata": {
        "id": "mb_ApJOKnDzF"
      },
      "source": [
        "### 插入矩陣元素"
      ]
    },
    {
      "cell_type": "code",
      "execution_count": null,
      "metadata": {
        "execution": {
          "iopub.execute_input": "2023-12-06T17:50:13.083Z",
          "iopub.status.busy": "2023-12-06T17:50:13.082681Z",
          "iopub.status.idle": "2023-12-06T17:50:13.089379Z",
          "shell.execute_reply": "2023-12-06T17:50:13.088174Z",
          "shell.execute_reply.started": "2023-12-06T17:50:13.082976Z"
        },
        "id": "vQWTLr-5nDzF",
        "trusted": true
      },
      "outputs": [],
      "source": [
        "# np.insert(array, position, element)\n",
        "\n",
        "# insert a scalar at a certain position\n",
        "arr3 = np.insert(arr, 0, 100)\n",
        "print(arr3)"
      ]
    },
    {
      "cell_type": "code",
      "execution_count": null,
      "metadata": {
        "execution": {
          "iopub.execute_input": "2023-12-06T17:50:13.122422Z",
          "iopub.status.busy": "2023-12-06T17:50:13.121688Z",
          "iopub.status.idle": "2023-12-06T17:50:13.128009Z",
          "shell.execute_reply": "2023-12-06T17:50:13.126878Z",
          "shell.execute_reply.started": "2023-12-06T17:50:13.122372Z"
        },
        "id": "cE3k_WSUnDzF",
        "trusted": true
      },
      "outputs": [],
      "source": [
        "# insert multiple values at a certain position\n",
        "arr3 = np.insert(arr, 0, [1,2,3])\n",
        "print(arr3)"
      ]
    },
    {
      "cell_type": "markdown",
      "metadata": {
        "id": "m4m2gL05nDzF"
      },
      "source": [
        "### 刪除矩陣元素"
      ]
    },
    {
      "cell_type": "code",
      "execution_count": null,
      "metadata": {
        "execution": {
          "iopub.execute_input": "2023-12-06T17:50:13.173039Z",
          "iopub.status.busy": "2023-12-06T17:50:13.172725Z",
          "iopub.status.idle": "2023-12-06T17:50:13.17976Z",
          "shell.execute_reply": "2023-12-06T17:50:13.178376Z",
          "shell.execute_reply.started": "2023-12-06T17:50:13.173018Z"
        },
        "id": "8hbVdaTknDzF",
        "trusted": true
      },
      "outputs": [],
      "source": [
        "# remove the element at position 0\n",
        "arr4 = np.delete(arr, 0)\n",
        "print(arr4)"
      ]
    },
    {
      "cell_type": "code",
      "execution_count": null,
      "metadata": {
        "execution": {
          "iopub.execute_input": "2023-12-06T17:50:13.215701Z",
          "iopub.status.busy": "2023-12-06T17:50:13.215349Z",
          "iopub.status.idle": "2023-12-06T17:50:13.220849Z",
          "shell.execute_reply": "2023-12-06T17:50:13.220136Z",
          "shell.execute_reply.started": "2023-12-06T17:50:13.215663Z"
        },
        "id": "dJADFx1FnDzF",
        "trusted": true
      },
      "outputs": [],
      "source": [
        "# remove the element at multiple positions\n",
        "arr4 = np.delete(arr, [0,2])\n",
        "print(arr4)"
      ]
    },
    {
      "cell_type": "markdown",
      "metadata": {
        "id": "fKn_cfyInDzF"
      },
      "source": [
        "### 拷貝矩陣"
      ]
    },
    {
      "cell_type": "code",
      "execution_count": null,
      "metadata": {
        "execution": {
          "iopub.execute_input": "2023-12-06T17:50:13.26389Z",
          "iopub.status.busy": "2023-12-06T17:50:13.263492Z",
          "iopub.status.idle": "2023-12-06T17:50:13.269085Z",
          "shell.execute_reply": "2023-12-06T17:50:13.267759Z",
          "shell.execute_reply.started": "2023-12-06T17:50:13.263862Z"
        },
        "id": "BLqqWmi-nDzF",
        "trusted": true
      },
      "outputs": [],
      "source": [
        "arr = np.array([1,2,3])"
      ]
    },
    {
      "cell_type": "code",
      "execution_count": null,
      "metadata": {
        "execution": {
          "iopub.execute_input": "2023-12-06T17:50:13.310265Z",
          "iopub.status.busy": "2023-12-06T17:50:13.309926Z",
          "iopub.status.idle": "2023-12-06T17:50:13.314877Z",
          "shell.execute_reply": "2023-12-06T17:50:13.314055Z",
          "shell.execute_reply.started": "2023-12-06T17:50:13.31024Z"
        },
        "id": "kS05giuNnDzF",
        "trusted": true
      },
      "outputs": [],
      "source": [
        "# the following methods are all deep copy\n",
        "arr1 = np.copy(arr)\n",
        "# or\n",
        "arr1 = arr.copy()\n",
        "# or\n",
        "arr1 = np.array(arr, copy=True)"
      ]
    },
    {
      "cell_type": "markdown",
      "metadata": {
        "id": "tc-8lCXanDzF"
      },
      "source": [
        "# 8. 矩陣合併"
      ]
    },
    {
      "cell_type": "code",
      "execution_count": null,
      "metadata": {
        "execution": {
          "iopub.execute_input": "2023-12-06T17:50:13.366025Z",
          "iopub.status.busy": "2023-12-06T17:50:13.365622Z",
          "iopub.status.idle": "2023-12-06T17:50:13.371508Z",
          "shell.execute_reply": "2023-12-06T17:50:13.370572Z",
          "shell.execute_reply.started": "2023-12-06T17:50:13.365992Z"
        },
        "id": "BeGrboSbnDzG",
        "trusted": true
      },
      "outputs": [],
      "source": [
        "arr1 = np.array([[1,2,3,4], [1,2,3,4]])\n",
        "arr2 = np.array([[5,6,7,8], [5,6,7,8]])"
      ]
    },
    {
      "cell_type": "markdown",
      "metadata": {
        "id": "EdNbR0_KnDzG"
      },
      "source": [
        "### ```np.concatenate((a, b), axis=0)```"
      ]
    },
    {
      "cell_type": "code",
      "execution_count": null,
      "metadata": {
        "execution": {
          "iopub.execute_input": "2023-12-06T17:50:14.254535Z",
          "iopub.status.busy": "2023-12-06T17:50:14.254189Z",
          "iopub.status.idle": "2023-12-06T17:50:14.260091Z",
          "shell.execute_reply": "2023-12-06T17:50:14.259471Z",
          "shell.execute_reply.started": "2023-12-06T17:50:14.254509Z"
        },
        "id": "MubeulHMnDzG",
        "trusted": true
      },
      "outputs": [],
      "source": [
        "# concat along the row\n",
        "cat = np.concatenate((arr1, arr2), axis=0)\n",
        "print(cat)"
      ]
    },
    {
      "cell_type": "code",
      "execution_count": null,
      "metadata": {
        "execution": {
          "iopub.execute_input": "2023-12-06T17:50:14.315569Z",
          "iopub.status.busy": "2023-12-06T17:50:14.314875Z",
          "iopub.status.idle": "2023-12-06T17:50:14.32042Z",
          "shell.execute_reply": "2023-12-06T17:50:14.319357Z",
          "shell.execute_reply.started": "2023-12-06T17:50:14.315539Z"
        },
        "id": "jDvn4Xp3nDzG",
        "trusted": true
      },
      "outputs": [],
      "source": [
        "# concat along the column\n",
        "cat = np.concatenate((arr1, arr2), axis=1)\n",
        "print(cat)"
      ]
    },
    {
      "cell_type": "markdown",
      "metadata": {
        "id": "MgwfxiTinDzH"
      },
      "source": [
        "# 9. 矩陣集合運作"
      ]
    },
    {
      "cell_type": "markdown",
      "metadata": {
        "id": "SjEcIvF3nDzH"
      },
      "source": [
        "### 唯一值"
      ]
    },
    {
      "cell_type": "code",
      "execution_count": null,
      "metadata": {
        "execution": {
          "iopub.execute_input": "2023-12-06T17:50:14.694786Z",
          "iopub.status.busy": "2023-12-06T17:50:14.694265Z",
          "iopub.status.idle": "2023-12-06T17:50:14.699736Z",
          "shell.execute_reply": "2023-12-06T17:50:14.6989Z",
          "shell.execute_reply.started": "2023-12-06T17:50:14.694758Z"
        },
        "id": "481LOgxQnDzH",
        "trusted": true
      },
      "outputs": [],
      "source": [
        "arr = np.array([1,1,2,2,3,3,4,5,6])\n",
        "print(np.unique(arr))"
      ]
    },
    {
      "cell_type": "code",
      "execution_count": null,
      "metadata": {
        "execution": {
          "iopub.execute_input": "2023-12-06T17:50:14.701305Z",
          "iopub.status.busy": "2023-12-06T17:50:14.70105Z",
          "iopub.status.idle": "2023-12-06T17:50:14.711955Z",
          "shell.execute_reply": "2023-12-06T17:50:14.710864Z",
          "shell.execute_reply.started": "2023-12-06T17:50:14.701284Z"
        },
        "id": "heoyqVGYnDzH",
        "trusted": true
      },
      "outputs": [],
      "source": [
        "# return the number of times each unique item appears\n",
        "arr = np.array([1,1,2,2,3,3,4,5,6])\n",
        "uniques, counts = np.unique(arr, return_counts=True)\n",
        "print(uniques)\n",
        "print(counts)"
      ]
    },
    {
      "cell_type": "markdown",
      "metadata": {
        "id": "lU-tR1dcnDzH"
      },
      "source": [
        "### 兩陣列的交集與聯集"
      ]
    },
    {
      "cell_type": "code",
      "execution_count": null,
      "metadata": {
        "execution": {
          "iopub.execute_input": "2023-12-06T17:50:14.81081Z",
          "iopub.status.busy": "2023-12-06T17:50:14.809786Z",
          "iopub.status.idle": "2023-12-06T17:50:14.814982Z",
          "shell.execute_reply": "2023-12-06T17:50:14.814106Z",
          "shell.execute_reply.started": "2023-12-06T17:50:14.810781Z"
        },
        "id": "ohPGMfPMnDzH",
        "trusted": true
      },
      "outputs": [],
      "source": [
        "arr1 = np.array([1,2,3,4,5])\n",
        "arr2 = np.array([3,4,5,6,7])"
      ]
    },
    {
      "cell_type": "code",
      "execution_count": null,
      "metadata": {
        "execution": {
          "iopub.execute_input": "2023-12-06T17:50:15.222198Z",
          "iopub.status.busy": "2023-12-06T17:50:15.221641Z",
          "iopub.status.idle": "2023-12-06T17:50:15.227429Z",
          "shell.execute_reply": "2023-12-06T17:50:15.226707Z",
          "shell.execute_reply.started": "2023-12-06T17:50:15.222157Z"
        },
        "id": "pogYvg4LnDzH",
        "trusted": true
      },
      "outputs": [],
      "source": [
        "# intersection\n",
        "print(np.intersect1d(arr1, arr2))"
      ]
    },
    {
      "cell_type": "code",
      "execution_count": null,
      "metadata": {
        "execution": {
          "iopub.execute_input": "2023-12-06T17:50:15.707741Z",
          "iopub.status.busy": "2023-12-06T17:50:15.70689Z",
          "iopub.status.idle": "2023-12-06T17:50:15.71262Z",
          "shell.execute_reply": "2023-12-06T17:50:15.711325Z",
          "shell.execute_reply.started": "2023-12-06T17:50:15.707707Z"
        },
        "id": "iothT6FJnDzH",
        "trusted": true
      },
      "outputs": [],
      "source": [
        "# union\n",
        "print(np.union1d(arr1, arr2))"
      ]
    },
    {
      "cell_type": "markdown",
      "metadata": {
        "id": "saWPuKnKnDzI"
      },
      "source": [
        "# 10. 線性代數"
      ]
    },
    {
      "cell_type": "code",
      "execution_count": null,
      "metadata": {
        "execution": {
          "iopub.execute_input": "2023-12-06T17:50:16.018952Z",
          "iopub.status.busy": "2023-12-06T17:50:16.018005Z",
          "iopub.status.idle": "2023-12-06T17:50:16.024713Z",
          "shell.execute_reply": "2023-12-06T17:50:16.023949Z",
          "shell.execute_reply.started": "2023-12-06T17:50:16.018928Z"
        },
        "id": "LxVSN_p9nDzI",
        "trusted": true
      },
      "outputs": [],
      "source": [
        "arr1 = np.random.rand(5,5)\n",
        "arr2 = np.random.rand(5,5)"
      ]
    },
    {
      "cell_type": "markdown",
      "metadata": {
        "id": "SMTH6xmvnDzI"
      },
      "source": [
        "### 矩陣乘積"
      ]
    },
    {
      "cell_type": "code",
      "execution_count": null,
      "metadata": {
        "execution": {
          "iopub.execute_input": "2023-12-06T17:50:16.055162Z",
          "iopub.status.busy": "2023-12-06T17:50:16.054642Z",
          "iopub.status.idle": "2023-12-06T17:50:16.063514Z",
          "shell.execute_reply": "2023-12-06T17:50:16.062761Z",
          "shell.execute_reply.started": "2023-12-06T17:50:16.055137Z"
        },
        "id": "7Rb7k-qFnDzI",
        "trusted": true
      },
      "outputs": [],
      "source": [
        "print(arr1.dot(arr2))\n",
        "# or\n",
        "print(np.dot(arr1, arr2))\n",
        "# or\n",
        "print(arr1 @ arr2)"
      ]
    },
    {
      "cell_type": "markdown",
      "metadata": {
        "id": "6Wt1pyg_nDzI"
      },
      "source": [
        "### QR factorization"
      ]
    },
    {
      "cell_type": "code",
      "execution_count": null,
      "metadata": {
        "execution": {
          "iopub.execute_input": "2023-12-06T17:50:16.10908Z",
          "iopub.status.busy": "2023-12-06T17:50:16.108415Z",
          "iopub.status.idle": "2023-12-06T17:50:16.123478Z",
          "shell.execute_reply": "2023-12-06T17:50:16.122168Z",
          "shell.execute_reply.started": "2023-12-06T17:50:16.109048Z"
        },
        "id": "l6-0lK8DnDzI",
        "trusted": true
      },
      "outputs": [],
      "source": [
        "arr = np.random.rand(5,5)\n",
        "\n",
        "q, r = np.linalg.qr(arr)\n",
        "print(q)\n",
        "print(r)"
      ]
    },
    {
      "cell_type": "markdown",
      "metadata": {
        "id": "Py7AGtMonDzI"
      },
      "source": [
        "### singular value decomposition (SVD)"
      ]
    },
    {
      "cell_type": "code",
      "execution_count": null,
      "metadata": {
        "execution": {
          "iopub.execute_input": "2023-12-06T17:50:16.165546Z",
          "iopub.status.busy": "2023-12-06T17:50:16.164496Z",
          "iopub.status.idle": "2023-12-06T17:50:16.172319Z",
          "shell.execute_reply": "2023-12-06T17:50:16.171696Z",
          "shell.execute_reply.started": "2023-12-06T17:50:16.165505Z"
        },
        "id": "5xFlOvtwnDzJ",
        "trusted": true
      },
      "outputs": [],
      "source": [
        "arr = np.random.rand(5,5)\n",
        "\n",
        "u, s, v = np.linalg.svd(arr)\n",
        "print(u)\n",
        "print(s)\n",
        "print(v)"
      ]
    },
    {
      "cell_type": "markdown",
      "metadata": {
        "id": "PqgSSrwjnDzJ"
      },
      "source": [
        "### compute eigen values"
      ]
    },
    {
      "cell_type": "code",
      "execution_count": null,
      "metadata": {
        "execution": {
          "iopub.execute_input": "2023-12-06T17:50:17.136054Z",
          "iopub.status.busy": "2023-12-06T17:50:17.135558Z",
          "iopub.status.idle": "2023-12-06T17:50:17.144039Z",
          "shell.execute_reply": "2023-12-06T17:50:17.142831Z",
          "shell.execute_reply.started": "2023-12-06T17:50:17.136028Z"
        },
        "id": "rXnC8gHWnDzJ",
        "trusted": true
      },
      "outputs": [],
      "source": [
        "arr = np.random.rand(5,5)\n",
        "print(np.linalg.eigvals(arr))"
      ]
    },
    {
      "cell_type": "markdown",
      "metadata": {
        "id": "m99PhJiYnDzJ"
      },
      "source": [
        "### eigen value decomposition"
      ]
    },
    {
      "cell_type": "code",
      "execution_count": null,
      "metadata": {
        "execution": {
          "iopub.execute_input": "2023-12-06T17:50:17.627047Z",
          "iopub.status.busy": "2023-12-06T17:50:17.626713Z",
          "iopub.status.idle": "2023-12-06T17:50:17.63753Z",
          "shell.execute_reply": "2023-12-06T17:50:17.635631Z",
          "shell.execute_reply.started": "2023-12-06T17:50:17.627017Z"
        },
        "id": "WwjU6bAGnDzJ",
        "trusted": true
      },
      "outputs": [],
      "source": [
        "arr = np.random.rand(5,5)\n",
        "\n",
        "w, v = np.linalg.eig(arr)\n",
        "print(w)    # eigen values\n",
        "print(v)    # eigen vectors"
      ]
    },
    {
      "cell_type": "markdown",
      "metadata": {
        "id": "4lsi7S6lnDzJ"
      },
      "source": [
        "### compute the trace & determinant"
      ]
    },
    {
      "cell_type": "code",
      "execution_count": null,
      "metadata": {
        "execution": {
          "iopub.execute_input": "2023-12-06T17:50:18.192299Z",
          "iopub.status.busy": "2023-12-06T17:50:18.191234Z",
          "iopub.status.idle": "2023-12-06T17:50:18.197696Z",
          "shell.execute_reply": "2023-12-06T17:50:18.196653Z",
          "shell.execute_reply.started": "2023-12-06T17:50:18.192248Z"
        },
        "id": "XnSmH5gknDzJ",
        "trusted": true
      },
      "outputs": [],
      "source": [
        "# nxn矩陣對角線上元素總合\n",
        "print(np.trace(arr))"
      ]
    },
    {
      "cell_type": "code",
      "execution_count": null,
      "metadata": {
        "execution": {
          "iopub.execute_input": "2023-12-06T17:50:18.200638Z",
          "iopub.status.busy": "2023-12-06T17:50:18.200122Z",
          "iopub.status.idle": "2023-12-06T17:50:18.210816Z",
          "shell.execute_reply": "2023-12-06T17:50:18.209449Z",
          "shell.execute_reply.started": "2023-12-06T17:50:18.200567Z"
        },
        "id": "MJnh-yl9nDzJ",
        "trusted": true
      },
      "outputs": [],
      "source": [
        "# 行列式值\n",
        "print(np.linalg.det(arr))"
      ]
    },
    {
      "cell_type": "markdown",
      "metadata": {
        "id": "N7ANsEzjnDzJ"
      },
      "source": [
        "### 反矩陣"
      ]
    },
    {
      "cell_type": "code",
      "execution_count": null,
      "metadata": {
        "execution": {
          "iopub.execute_input": "2023-12-06T17:50:18.238472Z",
          "iopub.status.busy": "2023-12-06T17:50:18.237649Z",
          "iopub.status.idle": "2023-12-06T17:50:18.247298Z",
          "shell.execute_reply": "2023-12-06T17:50:18.246407Z",
          "shell.execute_reply.started": "2023-12-06T17:50:18.238444Z"
        },
        "id": "mHiTSd70nDzJ",
        "trusted": true
      },
      "outputs": [],
      "source": [
        "arr = np.random.rand(5,5)"
      ]
    },
    {
      "cell_type": "code",
      "execution_count": null,
      "metadata": {
        "execution": {
          "iopub.execute_input": "2023-12-06T17:50:18.297271Z",
          "iopub.status.busy": "2023-12-06T17:50:18.296243Z",
          "iopub.status.idle": "2023-12-06T17:50:18.307373Z",
          "shell.execute_reply": "2023-12-06T17:50:18.306225Z",
          "shell.execute_reply.started": "2023-12-06T17:50:18.297243Z"
        },
        "id": "Lw5koUGonDzJ",
        "trusted": true
      },
      "outputs": [],
      "source": [
        "# compute the inverse of a matrix\n",
        "print(np.linalg.inv(arr))"
      ]
    },
    {
      "cell_type": "markdown",
      "metadata": {
        "id": "oWDAKwtHnDzK"
      },
      "source": [
        "### 解聯立方程"
      ]
    },
    {
      "cell_type": "code",
      "execution_count": null,
      "metadata": {
        "execution": {
          "iopub.execute_input": "2023-12-06T17:50:18.371883Z",
          "iopub.status.busy": "2023-12-06T17:50:18.371499Z",
          "iopub.status.idle": "2023-12-06T17:50:18.379111Z",
          "shell.execute_reply": "2023-12-06T17:50:18.378343Z",
          "shell.execute_reply.started": "2023-12-06T17:50:18.371851Z"
        },
        "id": "l9u0C6-JnDzK",
        "trusted": true
      },
      "outputs": [],
      "source": [
        "# solve a linear system in closed form\n",
        "y = [1,2,3,4,5]\n",
        "print(np.linalg.solve(arr, y))"
      ]
    }
  ],
  "metadata": {
    "colab": {
      "provenance": [],
      "toc_visible": true
    },
    "kaggle": {
      "accelerator": "none",
      "dataSources": [],
      "dockerImageVersionId": 30587,
      "isGpuEnabled": false,
      "isInternetEnabled": false,
      "language": "python",
      "sourceType": "notebook"
    },
    "kernelspec": {
      "display_name": "base",
      "language": "python",
      "name": "python3"
    },
    "language_info": {
      "codemirror_mode": {
        "name": "ipython",
        "version": 3
      },
      "file_extension": ".py",
      "mimetype": "text/x-python",
      "name": "python",
      "nbconvert_exporter": "python",
      "pygments_lexer": "ipython3",
      "version": "3.11.3"
    },
    "toc": {
      "base_numbering": 1,
      "nav_menu": {},
      "number_sections": true,
      "sideBar": true,
      "skip_h1_title": false,
      "title_cell": "Table of Contents",
      "title_sidebar": "Contents",
      "toc_cell": false,
      "toc_position": {},
      "toc_section_display": true,
      "toc_window_display": false
    },
    "varInspector": {
      "cols": {
        "lenName": 16,
        "lenType": 16,
        "lenVar": 40
      },
      "kernels_config": {
        "python": {
          "delete_cmd_postfix": "",
          "delete_cmd_prefix": "del ",
          "library": "var_list.py",
          "varRefreshCmd": "print(var_dic_list())"
        },
        "r": {
          "delete_cmd_postfix": ") ",
          "delete_cmd_prefix": "rm(",
          "library": "var_list.r",
          "varRefreshCmd": "cat(var_dic_list()) "
        }
      },
      "types_to_exclude": [
        "module",
        "function",
        "builtin_function_or_method",
        "instance",
        "_Feature"
      ],
      "window_display": false
    }
  },
  "nbformat": 4,
  "nbformat_minor": 0
}
