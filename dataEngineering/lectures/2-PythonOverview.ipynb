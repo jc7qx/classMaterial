{
 "cells": [
  {
   "cell_type": "markdown",
   "metadata": {
    "id": "NSXsYoDzT2o_"
   },
   "source": [
    "### Jupyter Notebook/ Colab Notebooks\n",
    "\n",
    "- Jupyter Notebook 提供網頁式程式編輯與執行環境\n",
    "- Colab Notebook 由 Google 伺服器提供如Jupyter 的程式編輯與執行環境"
   ]
  },
  {
   "cell_type": "markdown",
   "metadata": {
    "id": "LlxTIijcVrPj"
   },
   "source": [
    "## Python\n",
    "\n",
    "Pyhton程式語言是一種高階程式語言，適合各種應用程式的開發。Python可以開發程序式應用程式，也提供開發物件導向式程式設計(Object Oriented Programming)。近年成為最熱門的程式語言之一，可以用於各種不同的應用領域，如科學計算、機器學習、資料庫應用介面、網頁後端程式控制、...等。大數據資料分析上，Python可以提供重要的應用，包括 Pandas, NumPy, SciPy, Matplotlib，scikit learn 等套件讓 Python 程式設計師編寫科學計算程式。Python社群提供了大量的第三方模組，使用方式與標準庫類似。它們的功能覆蓋科學計算、Web開發、資料庫介面、圖形系統多個領域。第三方模組可以使用Python或者C語言編寫。\n",
    "\n",
    "Python是一種直譯語言，強調程式碼的可讀性和簡潔的語法（使用空格縮排來區分程式區塊）。不管是小型還是大型程式，該語言都試圖讓程式的結構清晰明瞭。直譯式程式語言：將程式碼一句一句直接執行，需要利用直譯器，在執行期，動態將程式碼逐句直譯（interpret）為機器碼，或是已經預先編譯為機器碼的的子程式，之後再執行。Python擁有動態型別系統和垃圾回收功能，能夠自動管理記憶體使用，動態語言的變數只用來參考資料，本身不帶有型態資訊。是在執行期間檢查資料的型別。"
   ]
  },
  {
   "cell_type": "markdown",
   "metadata": {
    "id": "ek3n9kKTYYfJ"
   },
   "source": [
    "### 基本資料型別\n",
    "\n",
    "- 數值: int, real, complex\n",
    "- 字串: string\n",
    "- 布林: bool (True/False)\n",
    "- none"
   ]
  },
  {
   "cell_type": "markdown",
   "metadata": {
    "id": "QfOzvnOKadxG"
   },
   "source": [
    "#### Numerical 數值"
   ]
  },
  {
   "cell_type": "markdown",
   "metadata": {},
   "source": [
    "**整數 integer**"
   ]
  },
  {
   "cell_type": "code",
   "execution_count": 1,
   "metadata": {
    "colab": {
     "base_uri": "https://localhost:8080/"
    },
    "id": "RxGcReqlVt60",
    "outputId": "0c13a824-5a17-448a-b778-1bf1294a81d5"
   },
   "outputs": [
    {
     "name": "stdout",
     "output_type": "stream",
     "text": [
      "123 <class 'int'>\n"
     ]
    }
   ],
   "source": [
    "# int\n",
    "# type(x) return type of x\n",
    "x: int = 123\n",
    "print(x, type(x))"
   ]
  },
  {
   "cell_type": "markdown",
   "metadata": {},
   "source": [
    "`type()`內建函式用來顯示資料、變數、運算式的資料型別 (Data Type)"
   ]
  },
  {
   "cell_type": "markdown",
   "metadata": {},
   "source": [
    "#### 浮點數 float"
   ]
  },
  {
   "cell_type": "code",
   "execution_count": 2,
   "metadata": {
    "colab": {
     "base_uri": "https://localhost:8080/"
    },
    "id": "UEtz1d93ZPdx",
    "outputId": "7467046b-2c3f-47ba-ac78-3ed158e803a1"
   },
   "outputs": [
    {
     "name": "stdout",
     "output_type": "stream",
     "text": [
      "3.14 <class 'float'>\n",
      "3.14 4.140000000000001 6.28 9.8596\n"
     ]
    }
   ],
   "source": [
    "# real\n",
    "y: float = 3.14\n",
    "print(y, type(y))\n",
    "print(y, y+1, y*2, y**2)"
   ]
  },
  {
   "cell_type": "markdown",
   "metadata": {
    "id": "lVWzmDeiZzRz"
   },
   "source": [
    "#### 布林 Booleans "
   ]
  },
  {
   "cell_type": "code",
   "execution_count": 150,
   "metadata": {
    "colab": {
     "base_uri": "https://localhost:8080/"
    },
    "id": "YUZOyqpQZg5g",
    "outputId": "8c4eba94-2e56-4314-d73d-9f41e70ea0d9"
   },
   "outputs": [
    {
     "name": "stdout",
     "output_type": "stream",
     "text": [
      "<class 'bool'>\n",
      "False\n",
      "True\n",
      "False\n",
      "True\n",
      "False\n"
     ]
    }
   ],
   "source": [
    "t = True\n",
    "f = False\n",
    "print(type(t))\n",
    "print(t and f)\n",
    "print(t or f)\n",
    "print(not t)\n",
    "print(t != f)\n",
    "print(3>5)"
   ]
  },
  {
   "cell_type": "markdown",
   "metadata": {
    "id": "PGbrvOECcOBn"
   },
   "source": [
    "#### 字串String"
   ]
  },
  {
   "cell_type": "code",
   "execution_count": 3,
   "metadata": {
    "colab": {
     "base_uri": "https://localhost:8080/"
    },
    "id": "zG7itXjnaN2t",
    "outputId": "baa16292-acdc-42d7-b76b-2d205d94ee6b"
   },
   "outputs": [
    {
     "name": "stdout",
     "output_type": "stream",
     "text": [
      "hello 5\n",
      "world 5\n",
      "hello world\n",
      "hello world 5\n"
     ]
    }
   ],
   "source": [
    "hello: str = 'hello'\n",
    "world = \"world\"\n",
    "print(hello, len(hello))\n",
    "print(world, len(world))\n",
    "hw = hello + ' ' + world\n",
    "print(hw)\n",
    "hw2 = \"%s %s %d\" % (hello, world, len(hello))\n",
    "print(hw2)"
   ]
  },
  {
   "cell_type": "code",
   "execution_count": null,
   "metadata": {
    "colab": {
     "base_uri": "https://localhost:8080/"
    },
    "id": "79cj-prxa2U0",
    "outputId": "a1697722-a351-4da6-844f-dc18767f6270"
   },
   "outputs": [
    {
     "name": "stdout",
     "output_type": "stream",
     "text": [
      "Hello\n",
      "HELLO\n",
      "  hello\n",
      " hello \n",
      "he(ell)(ell)o\n",
      "world\n"
     ]
    }
   ],
   "source": [
    "str = 'hello'\n",
    "print(str.capitalize())\n",
    "print(str.upper())\n",
    "print(str.rjust(7))\n",
    "print(str.center(7))\n",
    "print(str.replace('l', '(ell)'))\n",
    "print('   world '.strip())"
   ]
  },
  {
   "cell_type": "markdown",
   "metadata": {},
   "source": [
    "### 運算式\n",
    "利用加減乘除...邏輯運算式建立運算式，例如**求解一元二次方程式**，**計算人體BMI指數**，...。"
   ]
  },
  {
   "cell_type": "markdown",
   "metadata": {},
   "source": [
    "#### 簡單數值計算"
   ]
  },
  {
   "cell_type": "code",
   "execution_count": null,
   "metadata": {
    "colab": {
     "base_uri": "https://localhost:8080/"
    },
    "id": "offXSnSLYwc3",
    "outputId": "c137924a-43d1-4a11-90e0-088a62d6635a"
   },
   "outputs": [
    {
     "name": "stdout",
     "output_type": "stream",
     "text": [
      "124\n",
      "122\n",
      "246\n",
      "15129\n",
      "124\n",
      "248\n"
     ]
    }
   ],
   "source": [
    "# simple arithmetics\n",
    "print(x+1)\n",
    "print(x-1)\n",
    "print(x*2)\n",
    "print(x**2)\n",
    "x += 1 # no x++/x-- in Python\n",
    "print(x)\n",
    "x *= 2\n",
    "print(x)"
   ]
  },
  {
   "cell_type": "markdown",
   "metadata": {},
   "source": [
    "### 計算人體 BMI 指數 $\\rightarrow BMI = \\frac{體重/公斤}{身高/公尺^2} $"
   ]
  },
  {
   "cell_type": "code",
   "execution_count": 15,
   "metadata": {},
   "outputs": [
    {
     "name": "stdout",
     "output_type": "stream",
     "text": [
      "體重(公斤): \n",
      "身高(公分): \n"
     ]
    },
    {
     "ename": "ValueError",
     "evalue": "could not convert string to float: ''",
     "output_type": "error",
     "traceback": [
      "\u001b[1;31m---------------------------------------------------------------------------\u001b[0m",
      "\u001b[1;31mValueError\u001b[0m                                Traceback (most recent call last)",
      "Cell \u001b[1;32mIn[15], line 6\u001b[0m\n\u001b[0;32m      3\u001b[0m ht \u001b[38;5;241m=\u001b[39m \u001b[38;5;28minput\u001b[39m(\u001b[38;5;124m\"\u001b[39m\u001b[38;5;124m身高(公分): \u001b[39m\u001b[38;5;124m\"\u001b[39m)\n\u001b[0;32m      5\u001b[0m \u001b[38;5;66;03m# input()函式輸入結果為字串，需要轉換為數值型別\u001b[39;00m\n\u001b[1;32m----> 6\u001b[0m wt \u001b[38;5;241m=\u001b[39m \u001b[38;5;28mfloat\u001b[39m(wt)\n\u001b[0;32m      7\u001b[0m ht \u001b[38;5;241m=\u001b[39m \u001b[38;5;28mfloat\u001b[39m(ht)\u001b[38;5;241m/\u001b[39m\u001b[38;5;241m100\u001b[39m\n\u001b[0;32m      9\u001b[0m \u001b[38;5;66;03m# 計算 BMI\u001b[39;00m\n",
      "\u001b[1;31mValueError\u001b[0m: could not convert string to float: ''"
     ]
    }
   ],
   "source": [
    "# 輸入體重(公斤)，身高(公分)\n",
    "wt = input(\"體重(公斤): \")\n",
    "ht = input(\"身高(公分): \")\n",
    "\n",
    "# input()函式輸入結果為字串，需要轉換為數值型別\n",
    "wt = float(wt)\n",
    "ht = float(ht)/100\n",
    "\n",
    "# 計算 BMI\n",
    "\n",
    "BMI = wt/(ht**2)\n",
    "\n",
    "# 列印結果\n",
    "\n",
    "print(\"BMI = \", BMI)"
   ]
  },
  {
   "cell_type": "markdown",
   "metadata": {},
   "source": [
    "### 求解一元二次方程式 $ ax^2+bx+c=0 $\n",
    "\n",
    "一元二次方程式解的公式為 $\\rightarrow x = {-b \\pm \\sqrt{b^2-4ac} \\over 2a} $ <br>\n",
    "其中，$d=\\sqrt{b^2-4ac}$ 是一個檢查式，d 的值決定解為一個或二個，甚至無解 <br>\n",
    "- d > 0 : 有二個實數解\n",
    "- d = 0 : 有一個實數解\n",
    "- d < 0 : 無解\n",
    "\n",
    "例如， 求解 $ x^2-x-6=0 $"
   ]
  },
  {
   "cell_type": "code",
   "execution_count": 16,
   "metadata": {},
   "outputs": [
    {
     "name": "stdout",
     "output_type": "stream",
     "text": [
      "d =  5.0\n",
      "x1 = 3.000000, x2 = -2.000000\n",
      "x1 = 3.00, x2 = -2.00\n"
     ]
    }
   ],
   "source": [
    "# 設定 a, b, c 方程式係數\n",
    "a, b, c = 1, -1, -6\n",
    "\n",
    "# 計算檢查式 d\n",
    "d = (b**2-4*a*c)**0.5\n",
    "\n",
    "# 列印 d\n",
    "print(\"d = \", d)\n",
    "\n",
    "# 計算解\n",
    "x1 = (-b+d)/(2*a)\n",
    "x2 = (-b-d)/(2*a)\n",
    "\n",
    "# 列印解\n",
    "print(\"x1 = %f, x2 = %f\" % (x1, x2))\n",
    "\n",
    "# 調整解的列印格式為小數點後 2 位\n",
    "print(\"x1 = %.2f, x2 = %.2f\" % (x1, x2))"
   ]
  },
  {
   "cell_type": "markdown",
   "metadata": {},
   "source": [
    "## 程式結構\n",
    "\n",
    "- 選擇性結構\n",
    "    - IF\n",
    "    - IF..ELSE\n",
    "    - IF..ELIF..ELSE\n",
    "- 迴圈結構\n",
    "    - 計數型迴圈 (for)\n",
    "    - 條件型迴圈 (while)\n",
    "    - break/continue"
   ]
  },
  {
   "cell_type": "markdown",
   "metadata": {},
   "source": [
    "### 選擇結構\n",
    "\n",
    "**一元二次方程式求解案例**\n",
    "```python\n",
    "#簡單if\n",
    "if d<0:\n",
    "    print(\"無解\")\n",
    "if d==0:\n",
    "    x = -b/(2*a)\n",
    "if d>0:\n",
    "    x1, x2 = [(-b-d)/(2*a), (-b+d)/(2*a)]   \n",
    "```\n",
    "**合併以上過程**\n",
    "```python\n",
    "#巢狀if\n",
    "if d<0:\n",
    "    print(\"無解\")\n",
    "else:\n",
    "    if d==0:\n",
    "        print(\"有一個解\")\n",
    "    else:\n",
    "        print(\"有二個解\")\n",
    "```\n",
    "**再進化**\n",
    "```python\n",
    "#if..elif..else\n",
    "if d<0:\n",
    "    print(\"無解\")\n",
    "elif d==0:\n",
    "    print(\"有一個解\")\n",
    "else:\n",
    "    print(\"有二個解\")\n",
    "```"
   ]
  },
  {
   "cell_type": "markdown",
   "metadata": {},
   "source": [
    "### 迴圈結構\n",
    "\n",
    "回圈內的程式碼會重複執行，分為二種執行方式，計數型迴圈重複執行固定次數，條件型迴圈依條件判斷執行重複的程式碼。\n",
    "\n",
    "```python\n",
    "#計數型迴圈\n",
    "for 計數變數 in [計數容器]:\n",
    "    重複執行程式碼\n",
    "```\n",
    "計數容器可以利用容器中的資料來設定每次回圈的執行，計數容器的資料長度就是迴圈執行的次數，例如以列表(list)做為一個計數容器 \\[1, 2, 3, 4, 5\\]，迴圈每次執行時將會取出一個計數容器中的資料值，因此依序取出 1, 2, 3, 4, 5 個值，共計執行5次。dictionary, tuple都可以做為計數容器，惟如果以集合(set)做為計數容器時，要以 enumerate() 函數輔助獲得「次序」。"
   ]
  },
  {
   "cell_type": "code",
   "execution_count": 136,
   "metadata": {},
   "outputs": [
    {
     "name": "stdout",
     "output_type": "stream",
     "text": [
      "1 1 1\n",
      "2 4 8\n",
      "3 9 27\n",
      "4 16 64\n",
      "5 25 125\n"
     ]
    }
   ],
   "source": [
    "for i in [1,2,3,4,5]:\n",
    "    print(i, i**2, i**3)"
   ]
  },
  {
   "cell_type": "markdown",
   "metadata": {},
   "source": [
    "一般會利用 range() 內件函數產生一個範圍，如 range(5) 產生 0, 1, 2, 3, 5 的值，配合「計數容器」使用。"
   ]
  },
  {
   "cell_type": "code",
   "execution_count": 141,
   "metadata": {},
   "outputs": [
    {
     "name": "stdout",
     "output_type": "stream",
     "text": [
      "0 0 0\n",
      "1 1 1\n",
      "2 4 8\n",
      "3 9 27\n",
      "4 16 64\n"
     ]
    }
   ],
   "source": [
    "for j in range(5): #注意索引值的起始值為 0\n",
    "    print(j, j**2, j**3)"
   ]
  },
  {
   "cell_type": "markdown",
   "metadata": {},
   "source": [
    "**找出1到100數字中的質數**"
   ]
  },
  {
   "cell_type": "code",
   "execution_count": 144,
   "metadata": {},
   "outputs": [
    {
     "name": "stdout",
     "output_type": "stream",
     "text": [
      "2 3 5 7 11 13 17 19 23 29 31 37 41 43 47 53 59 61 67 71 73 79 83 89 97 \n",
      "\n"
     ]
    }
   ],
   "source": [
    "def checkPrime(n):\n",
    "    check=1\n",
    "    for i in range(2, n//2+1):\n",
    "        if (n%i==0):\n",
    "            check=0\n",
    "    if check==1:\n",
    "        return True\n",
    "    else:\n",
    "        return False\n",
    "\n",
    "for n in range(2, 101):\n",
    "    if checkPrime(n)==True:\n",
    "        print(n, end=\" \")\n",
    "print(\"\\n\")"
   ]
  },
  {
   "cell_type": "markdown",
   "metadata": {},
   "source": [
    "```python\n",
    "#條件型迴圈\n",
    "while (布林運算式):\n",
    "    重複執行程式碼\n",
    "```"
   ]
  },
  {
   "cell_type": "markdown",
   "metadata": {},
   "source": [
    "**計算1到100數字中能被7整除但不能被3整除的數字和**"
   ]
  },
  {
   "cell_type": "code",
   "execution_count": 149,
   "metadata": {},
   "outputs": [
    {
     "name": "stdout",
     "output_type": "stream",
     "text": [
      "7+14+28+35+49+56+70+77+91+98+= 525\n"
     ]
    }
   ],
   "source": [
    "sum=0\n",
    "n=1\n",
    "while (n<=100):\n",
    "    if (n%7==0):\n",
    "        if (n%3!=0):\n",
    "            sum = sum + n\n",
    "            print(n, end=\"+\")\n",
    "    n = n+1\n",
    "print(\"=\", sum)\n",
    "        "
   ]
  },
  {
   "cell_type": "markdown",
   "metadata": {},
   "source": [
    "**break指令可以跳離迴圈 (for 或 while)，通常需要使用 if 條件式判斷<br>\n",
    "Continue指令可以跳到迴圈下一回合 (for 或 while)，通常需要使用 if 條件式判斷**"
   ]
  },
  {
   "cell_type": "markdown",
   "metadata": {
    "id": "ZqtIbtNubsWI"
   },
   "source": [
    "## 資料結構\n",
    "\n",
    "可以將資料結構視為一種裝資料的容器(container)，包括列表(list), 字典(dictionary), 元組(tuple), 集合(set), 字串(string)..."
   ]
  },
  {
   "cell_type": "markdown",
   "metadata": {
    "id": "8eA79C0OchHd"
   },
   "source": [
    "#### List \\[x1, x1, ...\\]\n",
    "python的列表(list)的資料型別可以不一樣"
   ]
  },
  {
   "cell_type": "code",
   "execution_count": 17,
   "metadata": {
    "colab": {
     "base_uri": "https://localhost:8080/"
    },
    "id": "9od9uMSwbmT-",
    "outputId": "2e2341a9-5ab8-465e-de2a-2374f9a32a65"
   },
   "outputs": [
    {
     "name": "stdout",
     "output_type": "stream",
     "text": [
      "[3, 1, 2] 2\n",
      "2\n",
      "[3, 1, 'foo']\n",
      "[3, 1, 'foo', 'bar']\n",
      "bar\n",
      "[3, 1, 'foo']\n"
     ]
    }
   ],
   "source": [
    "ll = [3, 1, 2]   #建立串列\n",
    "print(ll, ll[2]) #ll[2]=串列的第三個元素\n",
    "print(ll[-1])    #ll[-1]=串列的最後元素\n",
    "ll[2] = 'foo'    #設定ll[2]的內容為'foo'字串\n",
    "print(ll)\n",
    "ll.append('bar') #在ll最後新增一個元素，內容設定為'bar'字串\n",
    "print(ll)\n",
    "print(ll.pop())  #刪除串列最後元素並回傳\n",
    "print(ll)"
   ]
  },
  {
   "cell_type": "markdown",
   "metadata": {},
   "source": [
    "切割列表"
   ]
  },
  {
   "cell_type": "code",
   "execution_count": 18,
   "metadata": {
    "colab": {
     "base_uri": "https://localhost:8080/"
    },
    "id": "erel-Z81dLbK",
    "outputId": "4363b1d3-fb03-481c-9650-99e196fb0d90"
   },
   "outputs": [
    {
     "name": "stdout",
     "output_type": "stream",
     "text": [
      "[0, 1, 2, 3, 4]\n",
      "[2, 3]\n",
      "[2, 3, 4]\n",
      "[0, 1]\n",
      "[0, 1, 2, 3, 4]\n",
      "[0, 1, 2, 3]\n",
      "[0, 1, 8, 9, 4]\n"
     ]
    }
   ],
   "source": [
    "# slicing\n",
    "nums = list(range(5)) #建立一個0~4的串列，range()為一個內建函數\n",
    "print(nums)\n",
    "print(nums[2:4])   #擷取串列位置2-3內容\n",
    "print(nums[2:])    #擷取串列位置2-最後內容\n",
    "print(nums[:2])    #擷取串列位置0-1內容\n",
    "print(nums[:])     #擷取串所有內容\n",
    "print(nums[:-1])   #擷取串列位置0-最後內容\n",
    "nums[2:4] = [8, 9] #將串列2-3位置設定為[8,9]\n",
    "print(nums)\n"
   ]
  },
  {
   "cell_type": "markdown",
   "metadata": {},
   "source": [
    "走訪列表"
   ]
  },
  {
   "cell_type": "code",
   "execution_count": null,
   "metadata": {
    "colab": {
     "base_uri": "https://localhost:8080/"
    },
    "id": "3IYMECL0dc_i",
    "outputId": "c23a6c09-56bc-4f93-f1f7-91d5d3d408b9"
   },
   "outputs": [
    {
     "name": "stdout",
     "output_type": "stream",
     "text": [
      "cat\n",
      "dog\n",
      "monkey\n"
     ]
    }
   ],
   "source": [
    "# for loop\n",
    "animals = ['cat', 'dog', 'monkey']\n",
    "for animal in animals:\n",
    "    print(animal)\n",
    "#如何將結果印在一列？"
   ]
  },
  {
   "cell_type": "markdown",
   "metadata": {},
   "source": [
    "`.append()`方法新增列表元素(加在最後位置)"
   ]
  },
  {
   "cell_type": "code",
   "execution_count": 19,
   "metadata": {
    "colab": {
     "base_uri": "https://localhost:8080/"
    },
    "id": "3WdiEVcOgq6c",
    "outputId": "32f9661f-2802-4728-87c6-b51b551dbbb5"
   },
   "outputs": [
    {
     "name": "stdout",
     "output_type": "stream",
     "text": [
      "[0, 1, 4, 9, 16]\n"
     ]
    }
   ],
   "source": [
    "nums = [0, 1, 2, 3, 4]\n",
    "squares = []\n",
    "for x in nums:\n",
    "    squares.append(x ** 2)\n",
    "print(squares)"
   ]
  },
  {
   "cell_type": "markdown",
   "metadata": {},
   "source": [
    "在list中新增資料"
   ]
  },
  {
   "cell_type": "code",
   "execution_count": null,
   "metadata": {
    "colab": {
     "base_uri": "https://localhost:8080/"
    },
    "id": "SWbV8LaVhCfA",
    "outputId": "6a1a44e4-5d45-4c77-b616-b59d1e4d4310"
   },
   "outputs": [
    {
     "name": "stdout",
     "output_type": "stream",
     "text": [
      "[0, 1, 4, 9, 16]\n"
     ]
    }
   ],
   "source": [
    "nums = [0, 1, 2, 3, 4]\n",
    "squares = [x ** 2 for x in nums]\n",
    "print(squares)"
   ]
  },
  {
   "cell_type": "code",
   "execution_count": null,
   "metadata": {
    "colab": {
     "base_uri": "https://localhost:8080/"
    },
    "id": "1-xgpJXxhKc_",
    "outputId": "6c6ce28c-4fb2-4246-8c8d-020106bdd08f"
   },
   "outputs": [
    {
     "name": "stdout",
     "output_type": "stream",
     "text": [
      "[0, 4, 16]\n"
     ]
    }
   ],
   "source": [
    "nums = [0, 1, 2, 3, 4]\n",
    "even_squares = [x ** 2 for x in nums if x % 2 == 0]\n",
    "print(even_squares)\n"
   ]
  },
  {
   "cell_type": "markdown",
   "metadata": {
    "id": "aYwaWfWcho5c"
   },
   "source": [
    "### 字典 (Dictionaries) {x1:y1, x2:y2, ...}"
   ]
  },
  {
   "cell_type": "markdown",
   "metadata": {
    "id": "g7gnwXfdinTE"
   },
   "source": [
    "dictionary為一種 key:value 的 mapping(映射) 資料結構"
   ]
  },
  {
   "cell_type": "code",
   "execution_count": 20,
   "metadata": {
    "colab": {
     "base_uri": "https://localhost:8080/"
    },
    "id": "Duy6Z47zhS1g",
    "outputId": "e3b46089-4367-4e54-9b3a-caf8725d84be"
   },
   "outputs": [
    {
     "name": "stdout",
     "output_type": "stream",
     "text": [
      "cute\n",
      "True\n",
      "wet\n"
     ]
    }
   ],
   "source": [
    "#建立字典資料 key:value\n",
    "d = {'cat': 'cute', 'dog': 'furry'}        \n",
    "\n",
    "#由 key 查詢 value\n",
    "print(d['cat'])                     \n",
    "\n",
    "#檢查'cat'是否在字典中的key中 (true/false)\n",
    "print('cat' in d)                 \n",
    "\n",
    "#新增'fish'的對應為'wet'\n",
    "d['fish'] = 'wet'                  \n",
    "\n",
    "print(d['fish'])\n"
   ]
  },
  {
   "cell_type": "code",
   "execution_count": 21,
   "metadata": {},
   "outputs": [
    {
     "name": "stdout",
     "output_type": "stream",
     "text": [
      "N/A\n",
      "wet\n"
     ]
    }
   ],
   "source": [
    "# .get() 檢查'monkey'，若無則顯示'N/A'\n",
    "print(d.get('monkey', 'N/A'))             \n",
    "print(d.get('fish', 'N/A'))\n"
   ]
  },
  {
   "cell_type": "code",
   "execution_count": 22,
   "metadata": {},
   "outputs": [
    {
     "name": "stdout",
     "output_type": "stream",
     "text": [
      "N/A\n"
     ]
    }
   ],
   "source": [
    "#刪除key為'fish'的資料\n",
    "del d['fish']                     \n",
    "print(d.get('fish', 'N/A'))"
   ]
  },
  {
   "cell_type": "code",
   "execution_count": 23,
   "metadata": {
    "colab": {
     "base_uri": "https://localhost:8080/"
    },
    "id": "l8XpdivgjPIo",
    "outputId": "227cfdb5-fde7-417e-c102-d3cc8d14cf83"
   },
   "outputs": [
    {
     "name": "stdout",
     "output_type": "stream",
     "text": [
      "A person has 2 legs\n",
      "A cat has 4 legs\n",
      "A spider has 8 legs\n"
     ]
    }
   ],
   "source": [
    "d = {'person': 2, 'cat': 4, 'spider': 8}  \n",
    "\n",
    "#利用 for loop 走訪字典\n",
    "for animal in d:                                     #設定animal為key\n",
    "    legs = d[animal]                                 #d[animal]對應值value\n",
    "    print('A %s has %d legs' % (animal, legs))       #animal=key, legs=values"
   ]
  },
  {
   "cell_type": "code",
   "execution_count": null,
   "metadata": {
    "colab": {
     "base_uri": "https://localhost:8080/"
    },
    "id": "zVM6z5tWjZYs",
    "outputId": "322797b1-fbb0-4c49-b7ba-b75313a0fc05"
   },
   "outputs": [
    {
     "name": "stdout",
     "output_type": "stream",
     "text": [
      "A person has 2 legs\n",
      "A cat has 4 legs\n",
      "A spider has 8 legs\n"
     ]
    }
   ],
   "source": [
    "#d.items()方法回傳 key, values\n",
    "d = {'person': 2, 'cat': 4, 'spider': 8}\n",
    "for animal, legs in d.items():     \n",
    "    print('A %s has %d legs' % (animal, legs))"
   ]
  },
  {
   "cell_type": "code",
   "execution_count": null,
   "metadata": {
    "colab": {
     "base_uri": "https://localhost:8080/"
    },
    "id": "p9l5XBDvjl9e",
    "outputId": "92e40133-955d-466f-c6d9-5f313bbf6afb"
   },
   "outputs": [
    {
     "name": "stdout",
     "output_type": "stream",
     "text": [
      "{0: 0, 1: 1, 2: 4, 3: 9, 4: 16}\n"
     ]
    }
   ],
   "source": [
    "nums = [0, 1, 2, 3, 4]\n",
    "even_num_to_square = {x: x ** 2 for x in nums}\n",
    "print(even_num_to_square)"
   ]
  },
  {
   "cell_type": "code",
   "execution_count": null,
   "metadata": {
    "colab": {
     "base_uri": "https://localhost:8080/"
    },
    "id": "L4TvwuUujrqi",
    "outputId": "bd6e0d86-a208-450a-f1eb-3109f4110dca"
   },
   "outputs": [
    {
     "name": "stdout",
     "output_type": "stream",
     "text": [
      "{0: 0, 2: 4, 4: 16}\n"
     ]
    }
   ],
   "source": [
    "nums = [0, 1, 2, 3, 4]\n",
    "even_num_to_square = {x: x ** 2 for x in nums if x % 2 == 0}\n",
    "print(even_num_to_square)"
   ]
  },
  {
   "cell_type": "markdown",
   "metadata": {},
   "source": [
    "字典中 value 可以是列表結構"
   ]
  },
  {
   "cell_type": "code",
   "execution_count": 4,
   "metadata": {},
   "outputs": [],
   "source": [
    "stu = {'name':['json','joy', 'daniel'], 'age':[44, 34, 22]}"
   ]
  },
  {
   "cell_type": "code",
   "execution_count": 9,
   "metadata": {},
   "outputs": [
    {
     "name": "stdout",
     "output_type": "stream",
     "text": [
      "2\n",
      "['json', 'joy', 'daniel']\n",
      "44\n"
     ]
    }
   ],
   "source": [
    "print(len(stu))\n",
    "print(stu['name'])\n",
    "print(stu['age'][0])"
   ]
  },
  {
   "cell_type": "markdown",
   "metadata": {
    "id": "ou_7kLOquk-7"
   },
   "source": [
    "### Sets 集合 {x1, x2, ...}"
   ]
  },
  {
   "cell_type": "code",
   "execution_count": 25,
   "metadata": {
    "colab": {
     "base_uri": "https://localhost:8080/"
    },
    "id": "QXcTfg9vuiHe",
    "outputId": "ab3790b6-1324-4e32-db39-05428666ed5a"
   },
   "outputs": [
    {
     "name": "stdout",
     "output_type": "stream",
     "text": [
      "True\n",
      "False\n"
     ]
    }
   ],
   "source": [
    "animals = {'cat', 'dog'}  #建立集合，{...}\n",
    "print('cat' in animals)   #檢查資料是否在集合中\n",
    "print('fish' in animals)\n"
   ]
  },
  {
   "cell_type": "code",
   "execution_count": 26,
   "metadata": {},
   "outputs": [
    {
     "name": "stdout",
     "output_type": "stream",
     "text": [
      "True\n",
      "3\n"
     ]
    }
   ],
   "source": [
    "#集合新增元素\n",
    "animals.add('fish')      \n",
    "print('fish' in animals)\n",
    "\n",
    "#顯示資料長度\n",
    "print(len(animals))\n"
   ]
  },
  {
   "cell_type": "markdown",
   "metadata": {},
   "source": [
    "集合運作排除相同資料元素"
   ]
  },
  {
   "cell_type": "code",
   "execution_count": 27,
   "metadata": {},
   "outputs": [
    {
     "name": "stdout",
     "output_type": "stream",
     "text": [
      "3\n"
     ]
    }
   ],
   "source": [
    "animals.add('cat')\n",
    "print(len(animals))"
   ]
  },
  {
   "cell_type": "markdown",
   "metadata": {},
   "source": [
    "集合中資料走訪，集合中的資料元素並無位置概念，走訪之前先以 enumerate() 內建函數設定其先後次序"
   ]
  },
  {
   "cell_type": "code",
   "execution_count": 29,
   "metadata": {
    "colab": {
     "base_uri": "https://localhost:8080/"
    },
    "id": "cFN5NfXLuzQZ",
    "outputId": "f44d5fac-eb87-44f9-d0cb-f905b41c7e89"
   },
   "outputs": [
    {
     "name": "stdout",
     "output_type": "stream",
     "text": [
      "#1: dog\n",
      "#2: cat\n",
      "#3: fish\n"
     ]
    }
   ],
   "source": [
    "animals= {'cat', 'dog', 'fish'}\n",
    "for idx, animal in enumerate(animals):\n",
    "    print('#%d: %s' % (idx + 1, animal))"
   ]
  },
  {
   "cell_type": "markdown",
   "metadata": {
    "id": "67jgwoi18tnf"
   },
   "source": [
    "### Tuple (x1, x2, ...)\n",
    "\n",
    "Tuple與List類似，但與list最大不同，tuple的**內容不能更改(immutable)**，tuple結構一般可用來做為「不會變動的表格資」。\n",
    "改變 tuple 的內容發生錯誤訊息 `TypeError: 'tuple' object does not support item assignment`"
   ]
  },
  {
   "cell_type": "code",
   "execution_count": 32,
   "metadata": {
    "colab": {
     "base_uri": "https://localhost:8080/",
     "height": 176
    },
    "id": "XvPvL9Qo9ROe",
    "outputId": "9c1fd2a3-6464-4026-afe7-9fc3242c3547"
   },
   "outputs": [
    {
     "ename": "TypeError",
     "evalue": "'tuple' object does not support item assignment",
     "output_type": "error",
     "traceback": [
      "\u001b[1;31m---------------------------------------------------------------------------\u001b[0m",
      "\u001b[1;31mTypeError\u001b[0m                                 Traceback (most recent call last)",
      "Cell \u001b[1;32mIn[32], line 3\u001b[0m\n\u001b[0;32m      1\u001b[0m \u001b[38;5;66;03m#'tuple' object does not support item assignment\u001b[39;00m\n\u001b[0;32m      2\u001b[0m t \u001b[38;5;241m=\u001b[39m (\u001b[38;5;241m5\u001b[39m, \u001b[38;5;241m6\u001b[39m, \u001b[38;5;241m4\u001b[39m, \u001b[38;5;241m3\u001b[39m, \u001b[38;5;241m2\u001b[39m)\n\u001b[1;32m----> 3\u001b[0m t[\u001b[38;5;241m2\u001b[39m] \u001b[38;5;241m=\u001b[39m \u001b[38;5;241m10\u001b[39m\n",
      "\u001b[1;31mTypeError\u001b[0m: 'tuple' object does not support item assignment"
     ]
    }
   ],
   "source": [
    "#'tuple' object does not support item assignment\n",
    "t = (5, 6, 4, 3, 2)\n",
    "t[2] = 10"
   ]
  },
  {
   "cell_type": "markdown",
   "metadata": {
    "id": "D33Ia9Nc9_m_"
   },
   "source": [
    "## 函式\n",
    "Python 中函式 (Function) 可以讓我們撰寫的程式碼更有結構。將程式碼打包成一個 Function，當需要使用到這一個功能時，就只需要呼叫這一個 Function，而不需要重複撰寫程式碼。許多人已經將各種不同功能的 Python 程式碼寫好，當我們想要用某一個功能時，就只需要「引入」(Import) 相對應的「模組」(Module) 即可。\n",
    "\n",
    "- 內建函式\n",
    "- 自訂函式"
   ]
  },
  {
   "cell_type": "markdown",
   "metadata": {
    "id": "apMTaRwM-Ql6"
   },
   "source": [
    "### 內建函式"
   ]
  },
  {
   "cell_type": "markdown",
   "metadata": {
    "id": "XxhAnEpI9wcF"
   },
   "source": [
    "`type()` 顯示資料型別 "
   ]
  },
  {
   "cell_type": "code",
   "execution_count": 7,
   "metadata": {
    "colab": {
     "base_uri": "https://localhost:8080/"
    },
    "id": "30pPn9-Y-s_e",
    "outputId": "ca4626f7-740e-4fbc-c1f1-6272a555a6f7"
   },
   "outputs": [
    {
     "name": "stdout",
     "output_type": "stream",
     "text": [
      "<class 'int'>\n",
      "<class 'float'>\n",
      "<class 'str'>\n"
     ]
    }
   ],
   "source": [
    "x = 123\n",
    "print(type(x))\n",
    "y = 12.3\n",
    "print(type(y))\n",
    "z = \"hello\"\n",
    "print(type(z))"
   ]
  },
  {
   "cell_type": "markdown",
   "metadata": {},
   "source": [
    "`len()` 資料容器中資料元素長度"
   ]
  },
  {
   "cell_type": "code",
   "execution_count": 8,
   "metadata": {
    "colab": {
     "base_uri": "https://localhost:8080/"
    },
    "id": "vJVrhW2j-cRm",
    "outputId": "3bf6213e-2995-490f-9526-286b0a459645"
   },
   "outputs": [
    {
     "name": "stdout",
     "output_type": "stream",
     "text": [
      "3\n"
     ]
    }
   ],
   "source": [
    "a = [1, 12.3, 'hello']\n",
    "print(len(a))"
   ]
  },
  {
   "cell_type": "markdown",
   "metadata": {},
   "source": [
    "型別轉換 `int()`, `float()`, `str()`"
   ]
  },
  {
   "cell_type": "code",
   "execution_count": 10,
   "metadata": {
    "colab": {
     "base_uri": "https://localhost:8080/"
    },
    "id": "kZolAaMN-jsM",
    "outputId": "aa20e62f-1427-4705-8d76-feb14cf92266"
   },
   "outputs": [
    {
     "name": "stdout",
     "output_type": "stream",
     "text": [
      "<class 'int'>\n",
      "<class 'str'>\n",
      "<class 'float'>\n"
     ]
    }
   ],
   "source": [
    "x = 123\n",
    "print(type(x))\n",
    "\n",
    "x = str(x)\n",
    "print(type(x))\n",
    "\n",
    "x = float(x)\n",
    "print(type(x))"
   ]
  },
  {
   "cell_type": "markdown",
   "metadata": {},
   "source": [
    "輸出、輸入函式"
   ]
  },
  {
   "cell_type": "code",
   "execution_count": 14,
   "metadata": {
    "colab": {
     "base_uri": "https://localhost:8080/"
    },
    "id": "Ajv-lB2j_U9w",
    "outputId": "2499d496-5180-4b89-8b8c-a53af22041c7"
   },
   "outputs": [
    {
     "name": "stdout",
     "output_type": "stream",
     "text": [
      "123\n",
      "pi is    3.14\n"
     ]
    }
   ],
   "source": [
    "print(123) \n",
    "\n",
    "#格式化輸出\n",
    "print(\"pi is %7.2f\" % (3.14159)) "
   ]
  },
  {
   "cell_type": "markdown",
   "metadata": {},
   "source": [
    "input() 函式允許使用者由鍵盤輸入資料"
   ]
  },
  {
   "cell_type": "code",
   "execution_count": 33,
   "metadata": {
    "colab": {
     "base_uri": "https://localhost:8080/"
    },
    "id": "36B9QXhy_jkl",
    "outputId": "d922b466-c946-49f2-bf4d-0406bc11a075"
   },
   "outputs": [
    {
     "name": "stdout",
     "output_type": "stream",
     "text": [
      "How old are you? 60\n",
      "I am 60 years old.\n"
     ]
    }
   ],
   "source": [
    "x = input('How old are you? ') #注意: input() 的結果是一個字串\n",
    "x = int(x)                     #輸入數值資料需要轉換\n",
    "print(\"I am %d years old.\" % x)"
   ]
  },
  {
   "cell_type": "markdown",
   "metadata": {
    "id": "0WgmTwtVA_VS"
   },
   "source": [
    "### 自訂函數\n",
    "- 無輸入參數，無回傳值\n",
    "- 有輸入參數，無回傳值\n",
    "- 有輸入參數，有回傳值"
   ]
  },
  {
   "cell_type": "markdown",
   "metadata": {},
   "source": [
    "```python\n",
    "def 函數名稱(p1, [p2, ..]) -> 回傳值型別:\n",
    "    程式區塊\n",
    "```"
   ]
  },
  {
   "cell_type": "code",
   "execution_count": 10,
   "metadata": {
    "colab": {
     "base_uri": "https://localhost:8080/"
    },
    "id": "fhS9EPUuAogz",
    "outputId": "3e201ff3-8260-4224-b19b-0a01547b4098"
   },
   "outputs": [
    {
     "name": "stdout",
     "output_type": "stream",
     "text": [
      "How are you today!\n",
      "How are you today!\n",
      "How are you today!\n"
     ]
    }
   ],
   "source": [
    "# 無輸入參數，無回傳值 subroutines\n",
    "\n",
    "def hello() -> None:\n",
    "  print('How are you today!')\n",
    "\n",
    "for i in range(3):\n",
    "  hello()"
   ]
  },
  {
   "cell_type": "code",
   "execution_count": 11,
   "metadata": {
    "colab": {
     "base_uri": "https://localhost:8080/"
    },
    "id": "roRiCs-dCOR8",
    "outputId": "6d3f8241-5d91-456a-f8cf-648d626e3765"
   },
   "outputs": [
    {
     "name": "stdout",
     "output_type": "stream",
     "text": [
      "Hello!\n",
      "Hello!\n",
      "Hello!\n",
      "Hello!\n",
      "Hello!\n"
     ]
    }
   ],
   "source": [
    "# 有輸入參數，無回傳值\n",
    "\n",
    "def hello(num: int):\n",
    "  for i in range(num):\n",
    "    print('Hello!')\n",
    "\n",
    "hello(5)"
   ]
  },
  {
   "cell_type": "code",
   "execution_count": 34,
   "metadata": {
    "colab": {
     "base_uri": "https://localhost:8080/"
    },
    "id": "2BTxySCzCSr5",
    "outputId": "1fcfc812-7868-4e80-f85c-5c9e39e500b0"
   },
   "outputs": [
    {
     "name": "stdout",
     "output_type": "stream",
     "text": [
      "12\n",
      "10\n"
     ]
    }
   ],
   "source": [
    "# 有輸入參數，有回傳值\n",
    "# 絕對值函數\n",
    "\n",
    "def abs(num: int) -> int:\n",
    "  if num >= 0:\n",
    "    return num\n",
    "  else:\n",
    "    return -num\n",
    "\n",
    "print(abs(12))\n",
    "print(abs(-10))"
   ]
  },
  {
   "cell_type": "code",
   "execution_count": 37,
   "metadata": {
    "colab": {
     "base_uri": "https://localhost:8080/"
    },
    "id": "G9fl4aBrDwY8",
    "outputId": "f0f81e60-6fe0-44ba-d02e-4db16e10c061"
   },
   "outputs": [
    {
     "name": "stdout",
     "output_type": "stream",
     "text": [
      "temperature: 15\n",
      "攝氏 15.0 度 = 華氏 59.0 度\n"
     ]
    }
   ],
   "source": [
    "# 溫度轉換函數: 輸入攝氏溫度，輸出華氏溫度\n",
    "# 輸入參數 c, 輸出結果 f\n",
    "\n",
    "def CtoF(c:int = 0) -> float:\n",
    "  f = c*9/5+32\n",
    "  return f\n",
    "\n",
    "t = input('temperature: ')\n",
    "t = float(int(t))\n",
    "\n",
    "print(\"攝氏 %.1f 度 = 華氏 %.1f 度\" % (t, CtoF(t)))"
   ]
  },
  {
   "cell_type": "code",
   "execution_count": 39,
   "metadata": {
    "colab": {
     "base_uri": "https://localhost:8080/"
    },
    "id": "DyV7_EZoElPe",
    "outputId": "41d0d285-0601-4c6e-803d-16169d61dda1"
   },
   "outputs": [
    {
     "name": "stdout",
     "output_type": "stream",
     "text": [
      "華氏 32.0\n"
     ]
    }
   ],
   "source": [
    "#預設輸入值為 0 CtoF(c=0)\n",
    "print(\"華氏\", CtoF())"
   ]
  },
  {
   "cell_type": "markdown",
   "metadata": {
    "id": "CY-O8fUBFz9W"
   },
   "source": [
    "## 建立模組\n",
    "Python程式語言有強大的第三方將許多有用的功能寫成程式碼，當我們需要執行某個功能時，只需要「引入」(Import) 相對應的「模組」(Module) 即可。**Python 中的 Module 指的就是一個包含 Python 程式碼的檔案**。Module 裡面的程式碼通常具有一個特性：「可重複使用」。可以將常用到的功能寫成 function 放在一個 Python 檔案中，在其他程式如要使用到相關的 function 時，可以 import 檔案(module)。"
   ]
  },
  {
   "cell_type": "code",
   "execution_count": null,
   "metadata": {},
   "outputs": [],
   "source": [
    "# mymodule.py\n",
    "def compBMI(wt, ht) -> float:\n",
    "    wt = float(wt)\n",
    "    ht = float(ht)/100\n",
    "    return wt/(ht**2)\n",
    "\n",
    "def CtoF(c:int = 0) -> float:\n",
    "  f = c*9/5+32\n",
    "  return f\n",
    "\n",
    "def myabs(num: int) -> int:\n",
    "  if num >= 0:\n",
    "    return num\n",
    "  else:\n",
    "    return -num\n",
    "\n",
    "def findSolution(a, b, c):\n",
    "    d = (b**2-4*a*c)\n",
    "    if d < 0:\n",
    "        return \"無解\"\n",
    "    elif d == 0:\n",
    "        return \"有一解 = %f\" % (-b/(2*a))\n",
    "    else:\n",
    "        d = d**0.5\n",
    "        return \"有二解 (%f, %f)\" % ((-b-d)/(2*a), (-b+d)/(2*a))"
   ]
  },
  {
   "cell_type": "markdown",
   "metadata": {},
   "source": [
    "導入 module 的方式\n",
    "- import mymodule\n",
    "- import mymodule as mm\n",
    "- from mymodule import *\n",
    "- from mymodule import CtoF"
   ]
  },
  {
   "cell_type": "code",
   "execution_count": 44,
   "metadata": {},
   "outputs": [
    {
     "name": "stdout",
     "output_type": "stream",
     "text": [
      "20.70081674131507\n"
     ]
    }
   ],
   "source": [
    "import mymodule\n",
    "\n",
    "b = mymodule.compBMI(55, 163)\n",
    "\n",
    "print(b)\n",
    "\n"
   ]
  },
  {
   "cell_type": "code",
   "execution_count": 48,
   "metadata": {},
   "outputs": [
    {
     "name": "stdout",
     "output_type": "stream",
     "text": [
      "有二解 (-6.122200, -0.544467)\n",
      "48.2\n"
     ]
    }
   ],
   "source": [
    "import mymodule\n",
    "print(mymodule.findSolution(3,20,10))\n",
    "\n",
    "print(C2F(9))"
   ]
  },
  {
   "cell_type": "code",
   "execution_count": 52,
   "metadata": {},
   "outputs": [
    {
     "ename": "AttributeError",
     "evalue": "module 'mymodule' has no attribute 'C2F'",
     "output_type": "error",
     "traceback": [
      "\u001b[1;31m---------------------------------------------------------------------------\u001b[0m",
      "\u001b[1;31mAttributeError\u001b[0m                            Traceback (most recent call last)",
      "Cell \u001b[1;32mIn[52], line 3\u001b[0m\n\u001b[0;32m      1\u001b[0m \u001b[38;5;28;01mimport\u001b[39;00m \u001b[38;5;21;01mmymodule\u001b[39;00m \u001b[38;5;28;01mas\u001b[39;00m \u001b[38;5;21;01mmm\u001b[39;00m\n\u001b[1;32m----> 3\u001b[0m y \u001b[38;5;241m=\u001b[39m mm\u001b[38;5;241m.\u001b[39mC2F(\u001b[38;5;241m15\u001b[39m)\n\u001b[0;32m      5\u001b[0m \u001b[38;5;28mprint\u001b[39m(y)\n",
      "\u001b[1;31mAttributeError\u001b[0m: module 'mymodule' has no attribute 'C2F'"
     ]
    }
   ],
   "source": [
    "import mymodule as mm\n",
    "\n",
    "y = mm.C2F(15)\n",
    "\n",
    "print(y)"
   ]
  },
  {
   "cell_type": "code",
   "execution_count": 47,
   "metadata": {},
   "outputs": [
    {
     "ename": "ImportError",
     "evalue": "cannot import name 'C2F' from 'mymodule' (e:\\teaching\\classMaterial\\dataEngineering\\lectures\\mymodule.py)",
     "output_type": "error",
     "traceback": [
      "\u001b[1;31m---------------------------------------------------------------------------\u001b[0m",
      "\u001b[1;31mImportError\u001b[0m                               Traceback (most recent call last)",
      "Cell \u001b[1;32mIn[47], line 1\u001b[0m\n\u001b[1;32m----> 1\u001b[0m \u001b[38;5;28;01mfrom\u001b[39;00m \u001b[38;5;21;01mmymodule\u001b[39;00m \u001b[38;5;28;01mimport\u001b[39;00m C2F\n\u001b[0;32m      2\u001b[0m \u001b[38;5;28mprint\u001b[39m(C2F(\u001b[38;5;241m10\u001b[39m))\n",
      "\u001b[1;31mImportError\u001b[0m: cannot import name 'C2F' from 'mymodule' (e:\\teaching\\classMaterial\\dataEngineering\\lectures\\mymodule.py)"
     ]
    }
   ],
   "source": [
    "from mymodule import C2F\n",
    "print(C2F(10))"
   ]
  },
  {
   "cell_type": "markdown",
   "metadata": {},
   "source": [
    "## if __name__ == \"__main__\":"
   ]
  },
  {
   "cell_type": "markdown",
   "metadata": {},
   "source": [
    "## 檔案處理\n",
    "\n",
    "### 開啟與關閉檔案\n",
    "檔案運作第一步驟要在「實體檔案」與「檔案物件」之間建立一個連結，再藉由檔案物件所提供的方法來處理檔案。\n",
    "```python\n",
    "f = open(filename, mode)\n",
    "```\n",
    "變數 f 被 assign 的是一個 file object，`open()`函數建立兩者間的連結，它需要**檔案名稱**及**模式**二個參數。此處檔案名稱需要包含**檔案路徑**，模式有三，一是「唯讀模式」**r**， 一是「寫入模式」**w**，另一是「附加資料餘黨案最後」**a**。\n",
    "\n",
    "開啟了檔案以後，如果要停止對於這個檔案的更動或寫入，可以將檔案關閉。\n",
    "```python\n",
    "f.close()\n",
    "```\n",
    "\n",
    "### 讀取檔案資料\n",
    "- `f.read()` / `f.read([size])`\n",
    "- `f.readline()` / `f.readlines()`"
   ]
  },
  {
   "cell_type": "code",
   "execution_count": 121,
   "metadata": {},
   "outputs": [
    {
     "name": "stdout",
     "output_type": "stream",
     "text": [
      "It's happy in spring days.\n"
     ]
    }
   ],
   "source": [
    "f = open(\"mytext.txt\", \"r\")\n",
    "words = f.read()\n",
    "print(words)\n",
    "f.close()"
   ]
  },
  {
   "cell_type": "code",
   "execution_count": 120,
   "metadata": {},
   "outputs": [
    {
     "name": "stdout",
     "output_type": "stream",
     "text": [
      "It's h\n"
     ]
    }
   ],
   "source": [
    "f = open(\"mytext.txt\", \"r\")\n",
    "words6 = f.read(6)\n",
    "print(words6)\n",
    "f.close()"
   ]
  },
  {
   "cell_type": "code",
   "execution_count": 123,
   "metadata": {},
   "outputs": [
    {
     "name": "stdout",
     "output_type": "stream",
     "text": [
      "It's happy in spring days.\n",
      "\n"
     ]
    }
   ],
   "source": [
    "f = open(\"mytext.txt\", \"r\")\n",
    "ll = f.readline()\n",
    "print(ll)\n",
    "f.close()"
   ]
  },
  {
   "cell_type": "code",
   "execution_count": 124,
   "metadata": {},
   "outputs": [
    {
     "name": "stdout",
     "output_type": "stream",
     "text": [
      "[\"It's happy in spring days.\\n\", 'But why the temperature is so low.']\n"
     ]
    }
   ],
   "source": [
    "f = open(\"mytext.txt\", \"r\")\n",
    "ll = f.readlines()\n",
    "print(ll)\n",
    "f.close()"
   ]
  },
  {
   "cell_type": "markdown",
   "metadata": {},
   "source": [
    "f.readlines() 會將檔案當中的所有資料都逐行讀取進來，然後會將其回傳成為一個 list "
   ]
  },
  {
   "cell_type": "code",
   "execution_count": 128,
   "metadata": {},
   "outputs": [
    {
     "name": "stdout",
     "output_type": "stream",
     "text": [
      "It's happy in spring days.\n",
      "But why the temperature is so low.\n"
     ]
    }
   ],
   "source": [
    "for s in ll:\n",
    "    print(s) # try end=\"\" and s.strip()"
   ]
  },
  {
   "cell_type": "markdown",
   "metadata": {},
   "source": [
    "當 f.readlines() 將每一行的文字讀取進來時，會連換行符號的 \\n 一起讀進來，因此，在使用 print() 將其印出時，會有原本字串當中的 \\n 以及 print() 本身預設的 end 字元 \\n ，所以中間會出現空行"
   ]
  },
  {
   "cell_type": "markdown",
   "metadata": {},
   "source": [
    "### 寫入檔案\n",
    "\n",
    "寫入檔案時先將檔案連結模式設為 **w**\n",
    "```python\n",
    "f = open(\"myout.txt\", \"w\")\n",
    "```"
   ]
  },
  {
   "cell_type": "code",
   "execution_count": 129,
   "metadata": {},
   "outputs": [],
   "source": [
    "f = open(\"myout.txt\", \"w\")\n",
    "f.write(\"今天是星期四\\n下雨天\")\n",
    "f.close()"
   ]
  },
  {
   "cell_type": "markdown",
   "metadata": {},
   "source": [
    "```python\n",
    "f.writelines(seq)\n",
    "```\n",
    " seq 指的是 f.writelines() 的參數必須是一個序列，也就是 list 或是 tuple 資料型態。"
   ]
  },
  {
   "cell_type": "code",
   "execution_count": 130,
   "metadata": {},
   "outputs": [],
   "source": [
    "f = open(\"names.txt\", \"w\")\n",
    "names = ['王大明', '陳浩傑', '徐若曦']\n",
    "f.writelines(names) # 資料連在一起\n",
    "f.close()"
   ]
  },
  {
   "cell_type": "markdown",
   "metadata": {},
   "source": [
    "也可以使用 print 函數將列印結果存於檔案中"
   ]
  },
  {
   "cell_type": "code",
   "execution_count": 131,
   "metadata": {},
   "outputs": [],
   "source": [
    "f = open(\"teams.txt\", 'w')\n",
    "teams = ['尼加拉瓜','中華台北', '西班牙', '南非']\n",
    "print(teams, file=f)\n",
    "f.close()"
   ]
  },
  {
   "cell_type": "code",
   "execution_count": 133,
   "metadata": {},
   "outputs": [],
   "source": [
    "f = open(\"teams.txt\", 'w')\n",
    "teams = ['尼加拉瓜','中華台北', '西班牙', '南非']\n",
    "for tt in teams:\n",
    "    print(tt, file=f)\n",
    "f.close()"
   ]
  },
  {
   "cell_type": "code",
   "execution_count": 134,
   "metadata": {},
   "outputs": [],
   "source": [
    "f = open(\"numbers.txt\", 'a')\n",
    "for i in range(5):\n",
    "    print(i, file=f)\n",
    "f.close()"
   ]
  },
  {
   "cell_type": "markdown",
   "metadata": {},
   "source": [
    "## 正規表示式 Regular expression\n",
    "\n",
    "正則表達式（Regular Expression 、regex、regexp or Re）透過我們自行定義的比對樣式(字符串)規則，幫助我們從文本中找尋對應規則的字符串，是一個非常強大且實用的字串處理方法，它幫助我們從擁有大量字符的文本中，取得我們所需的資訊，過濾出我們所需的資料後，幫助我們將這些資料組成串列。Python引入re模組就能使用這個強大的字符串處理語言。\n",
    "\n",
    "### Regex 工具\n",
    "[Regex Cheat Sheet](https://www.debuggex.com/cheatsheet/regex/python)<br>\n",
    "[線上正則表示式測試平台](https://pythex.org)<br>\n",
    "[Regular Expression in Python](https://medium.com/analytics-vidhya/regular-expression-in-python-5ab2e8b707f1)"
   ]
  },
  {
   "cell_type": "code",
   "execution_count": 1,
   "metadata": {},
   "outputs": [],
   "source": [
    "#導入 re 模組\n",
    "import re"
   ]
  },
  {
   "cell_type": "markdown",
   "metadata": {},
   "source": [
    "### 比對功能\n",
    "- `compile(pat)`: 建立比對規則，利用特殊字元定義比對樣式\n",
    "- `re.match(pat, str)`: 從開頭開始，尋找第一個匹配的字元\n",
    "- `re.search(pat, str)`: 尋找第一個匹配的字元，如果沒有匹配，回傳 None\n",
    "- `re.findall(pat, str)`: 找出全部匹配的字串，回傳為一個串列\n",
    "- `re.finditer(pat, str)`: 找出全部匹配的字串，回傳為一個迭代器物件\n",
    "- `re.sub(pat, 新字串, string, count)`: 從 string 找出全部匹配的字串，並使用 repl 的字串取代，count 預設 0 表示全部取代，設定次數可指定取代的個數\n",
    "- `re.split(pat, str)`: 使用匹配的字串，將原始字串分割為串列"
   ]
  },
  {
   "cell_type": "code",
   "execution_count": null,
   "metadata": {},
   "outputs": [
    {
     "name": "stdout",
     "output_type": "stream",
     "text": [
      "<re.Match object; span=(0, 3), match='123'>\n",
      "Matched: 123\n"
     ]
    }
   ],
   "source": [
    "import re\n",
    "pattern = r'\\d+' #找出所有數字串\n",
    "text = \"123abc456\"\n",
    "match = re.match(pattern, text) #從開頭開始，尋找第一個匹配的字元\n",
    "print(match)\n",
    "if match:\n",
    "    print(f\"Matched: {match.group()}\")\n",
    "else:\n",
    "    print(\"No match\")"
   ]
  },
  {
   "cell_type": "code",
   "execution_count": null,
   "metadata": {},
   "outputs": [
    {
     "name": "stdout",
     "output_type": "stream",
     "text": [
      "<re.Match object; span=(3, 6), match='123'>\n",
      "Found: 123\n"
     ]
    }
   ],
   "source": [
    "import re\n",
    "pattern = r'\\d+'\n",
    "text = \"abc123xyz\"\n",
    "search = re.search(pattern, text) #尋找第一個匹配的字元，如果沒有匹配，回傳 None\n",
    "print(search)\n",
    "if search:\n",
    "    print(f\"Found: {search.group()}\")\n",
    "else:\n",
    "    print(\"Not found\")"
   ]
  },
  {
   "cell_type": "code",
   "execution_count": null,
   "metadata": {},
   "outputs": [
    {
     "name": "stdout",
     "output_type": "stream",
     "text": [
      "<re.Match object; span=(0, 3), match='123'>\n",
      "Matches: ['123', '456']\n"
     ]
    }
   ],
   "source": [
    "import re\n",
    "pattern = r'\\d+'\n",
    "text = \"abc123xyz456\"\n",
    "matches = re.findall(pattern, text) #找出全部匹配的字串，回傳為一個串列\n",
    "print(match)\n",
    "print(f\"Matches: {matches}\")"
   ]
  },
  {
   "cell_type": "code",
   "execution_count": null,
   "metadata": {},
   "outputs": [
    {
     "name": "stdout",
     "output_type": "stream",
     "text": [
      "<re.Match object; span=(9, 12), match='456'>\n",
      "Match: 123\n",
      "Match: 456\n"
     ]
    }
   ],
   "source": [
    "import re\n",
    "pattern = r'\\d+'\n",
    "text = \"abc123xyz456\"\n",
    "matches = re.finditer(pattern, text) #找出全部匹配的字串，回傳為一個迭代器物件\n",
    "print(match)\n",
    "for match in matches:\n",
    "    print(f\"Match: {match.group()}\")"
   ]
  },
  {
   "cell_type": "code",
   "execution_count": null,
   "metadata": {},
   "outputs": [
    {
     "name": "stdout",
     "output_type": "stream",
     "text": [
      "Result: abc#xyz#\n"
     ]
    }
   ],
   "source": [
    "import re\n",
    "pattern = r'\\d+'\n",
    "replacement = '#'\n",
    "text = \"abc123xyz456\"\n",
    "result = re.sub(pattern, replacement, text) #將字串pattern找出後以replacement置換\n",
    "print(f\"Result: {result}\")"
   ]
  },
  {
   "cell_type": "code",
   "execution_count": 25,
   "metadata": {},
   "outputs": [
    {
     "name": "stdout",
     "output_type": "stream",
     "text": [
      "Split result: ['abc', 'xyz', '']\n"
     ]
    }
   ],
   "source": [
    "import re\n",
    "pattern = r'\\d+'\n",
    "text = \"abc123xyz456\"\n",
    "split_result = re.split(pattern, text)\n",
    "print(f\"Split result: {split_result}\")"
   ]
  },
  {
   "cell_type": "markdown",
   "metadata": {},
   "source": [
    "### 特定順序及字元\n",
    "\n",
    "順序 | 功能說明\n",
    "----|:-------\n",
    "\\d | 比對數字 \\[\\]\n",
    " \\D | 比對非數字字元\n",
    " \\w | 比對文、數字元\n",
    " \\W | 比對非文、數字元\n",
    " \\s | 比對空白字元\n",
    " \\S | 比對非空白字元\n",
    " \\[abc\\] | 比對括號內的字元\n",
    " \\[^abc\\] | 比對非括號內的字元\n",
    " a\\|b | 比對 a 或 b 字元\n",
    "\n"
   ]
  },
  {
   "cell_type": "markdown",
   "metadata": {},
   "source": [
    "| 符號 | 功能說明       |\n",
    "|---|:-------------------------|\n",
    "| ^ | 比對字串頭 |\n",
    "| $ | 比對字串尾 |\n",
    "| . | 比對任何字元不含換行符號 |\n",
    "| ? | 重複一個字元 0 或 1 次 |\n",
    "| + | 匹配前一個項目出現1次或多次|\n",
    "| +? | Matches one or more repetitions of the preceding RE(non-greedy) |\n",
    "| * | 匹配前一個項目出現0次或多次 |\n",
    "| *? | Matches zero or more repetitions of the preceding RE(non-greedy) |\n",
    "| \\ | 將下一個字元標記為或特殊字元、或原義字元、或向後引用、或八進位轉義符 |\n",
    "| \\| | Used for alternation |\n",
    "| [] | Used to indicate a set of characters |\n",
    "| () | Matches whatever regular expression is inside the parentheses, and indicates the start and end of a group |\n",
    "| {m} | 匹配前一個項目重複符合n次 |\n",
    "| {m,n} | 匹配前一個項目重複至少n次且不多於m次 |"
   ]
  },
  {
   "cell_type": "markdown",
   "metadata": {},
   "source": [
    "### `()` : 將比對結果分群"
   ]
  },
  {
   "cell_type": "code",
   "execution_count": 31,
   "metadata": {},
   "outputs": [
    {
     "name": "stdout",
     "output_type": "stream",
     "text": [
      "Group 1: 123\n",
      "Group 2: abc\n"
     ]
    }
   ],
   "source": [
    "import re\n",
    "pattern = r'(\\d+)-(\\w+)'\n",
    "text = \"123-abc\"\n",
    "match = re.search(pattern, text)\n",
    "if match:\n",
    "    print(f\"Group 1: {match.group(1)}\")\n",
    "    print(f\"Group 2: {match.group(2)}\")"
   ]
  },
  {
   "cell_type": "markdown",
   "metadata": {},
   "source": [
    "**Lookahead** `(?=...)` : 代表字串中的一個位置，緊接該位置之後的字元序列能夠匹配 pattern"
   ]
  },
  {
   "cell_type": "code",
   "execution_count": 27,
   "metadata": {},
   "outputs": [
    {
     "name": "stdout",
     "output_type": "stream",
     "text": [
      "Lookahead match: 123\n"
     ]
    }
   ],
   "source": [
    "import re\n",
    "pattern = r'\\d+(?=abc)' #與abc字元連接前的數字\n",
    "text = \"123abc456\"\n",
    "match = re.search(pattern, text)\n",
    "if match:\n",
    "    print(f\"Lookahead match: {match.group()}\")"
   ]
  },
  {
   "cell_type": "markdown",
   "metadata": {},
   "source": [
    "**Negative Lookahead** `(?!=...)` : 代表字串中的一個位置，緊接該位置之後的字元序列不能匹配 pattern"
   ]
  },
  {
   "cell_type": "code",
   "execution_count": 28,
   "metadata": {},
   "outputs": [
    {
     "name": "stdout",
     "output_type": "stream",
     "text": [
      "Negative lookahead matches: ['123', '45']\n"
     ]
    }
   ],
   "source": [
    "import re\n",
    "pattern = r'\\d+(?!abc)' #不與abc連接之前的數字\n",
    "text = \"123def456abc\"\n",
    "matches = re.findall(pattern, text)\n",
    "print(f\"Negative lookahead matches: {matches}\")"
   ]
  },
  {
   "cell_type": "markdown",
   "metadata": {},
   "source": [
    "**Lookbehind** `(?<=...)` : 代表字串中的一個位置，緊接該位置之前的字元序列能夠匹配 pattern"
   ]
  },
  {
   "cell_type": "code",
   "execution_count": 29,
   "metadata": {},
   "outputs": [
    {
     "name": "stdout",
     "output_type": "stream",
     "text": [
      "Lookbehind match: 123\n"
     ]
    }
   ],
   "source": [
    "import re\n",
    "pattern = r'(?<=abc)\\d+' #與abc連接之後的數字\n",
    "text = \"abc123def456\"\n",
    "match = re.search(pattern, text)\n",
    "if match:\n",
    "    print(f\"Lookbehind match: {match.group()}\")"
   ]
  },
  {
   "cell_type": "markdown",
   "metadata": {},
   "source": [
    "**Negative Lookbehind** `(?<!...)` : 代表字串中的一個位置，緊接該位置之前的字元序列不能匹配 pattern"
   ]
  },
  {
   "cell_type": "code",
   "execution_count": 30,
   "metadata": {},
   "outputs": [
    {
     "name": "stdout",
     "output_type": "stream",
     "text": [
      "Negative lookbehind matches: ['23', '456']\n"
     ]
    }
   ],
   "source": [
    "import re\n",
    "pattern = r'(?<!abc)\\d+' #不與abc連接之後的數字\n",
    "text = \"abc123def456\"\n",
    "matches = re.findall(pattern, text)\n",
    "print(f\"Negative lookbehind matches: {matches}\")"
   ]
  },
  {
   "cell_type": "code",
   "execution_count": 36,
   "metadata": {},
   "outputs": [
    {
     "name": "stdout",
     "output_type": "stream",
     "text": [
      "Valid email\n"
     ]
    }
   ],
   "source": [
    "#檢查 email 地址\n",
    "import re\n",
    "pattern = r'^[a-zA-Z0-9_.+-]+@[a-zA-Z0-9-]+\\.[a-zA-Z0-9-.]+$'\n",
    "text = \"example@example.com\"\n",
    "match = re.match(pattern, text)\n",
    "if match:\n",
    "    print(\"Valid email\")\n",
    "else:\n",
    "    print(\"Invalid email\")"
   ]
  },
  {
   "cell_type": "code",
   "execution_count": 37,
   "metadata": {},
   "outputs": [
    {
     "name": "stdout",
     "output_type": "stream",
     "text": [
      "Phone numbers: ['123-456-7890', '987.654.3210']\n"
     ]
    }
   ],
   "source": [
    "#萃取店號號碼中的數字\n",
    "import re\n",
    "pattern = r'\\b\\d{3}[-.]?\\d{3}[-.]?\\d{4}\\b'\n",
    "text = \"Contact me at 123-456-7890 or 987.654.3210\"\n",
    "matches = re.findall(pattern, text)\n",
    "print(f\"Phone numbers: {matches}\")"
   ]
  },
  {
   "cell_type": "code",
   "execution_count": null,
   "metadata": {},
   "outputs": [],
   "source": [
    "#萃取 log 中的資訊\n",
    "import re\n",
    "pattern = r'(\\d{4}-\\d{2}-\\d{2}) (\\d{2}:\\d{2}:\\d{2}),(\\d+) - (\\w+) - (.*)'\n",
    "log_entry = \"2024-06-03 12:34:56,789 - INFO - This is a log message\"\n",
    "match = re.match(pattern, log_entry)\n",
    "if match:\n",
    "    print(f\"Date: {match.group(1)}\")\n",
    "    print(f\"Time: {match.group(2)}\")\n",
    "    print(f\"Milliseconds: {match.group(3)}\")\n",
    "    print(f\"Level: {match.group(4)}\")\n",
    "    print(f\"Message: {match.group(5)}\")"
   ]
  }
 ],
 "metadata": {
  "colab": {
   "provenance": [],
   "toc_visible": true
  },
  "kernelspec": {
   "display_name": "base",
   "language": "python",
   "name": "python3"
  },
  "language_info": {
   "codemirror_mode": {
    "name": "ipython",
    "version": 3
   },
   "file_extension": ".py",
   "mimetype": "text/x-python",
   "name": "python",
   "nbconvert_exporter": "python",
   "pygments_lexer": "ipython3",
   "version": "3.11.3"
  }
 },
 "nbformat": 4,
 "nbformat_minor": 1
}
