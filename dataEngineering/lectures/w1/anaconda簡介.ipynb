{
 "cells": [
  {
   "cell_type": "markdown",
   "id": "f6581b40-a227-4224-a81c-32daf44abce9",
   "metadata": {},
   "source": [
    "## Anaconda"
   ]
  },
  {
   "cell_type": "markdown",
   "id": "d7bdd48c-b6c9-4f8a-97b8-6119b4a18b4a",
   "metadata": {},
   "source": [
    "### anaconda 是甚麼? 如何安裝?"
   ]
  },
  {
   "cell_type": "markdown",
   "id": "e7446ced-5cbb-4fc0-b243-bd13a82c87bc",
   "metadata": {},
   "source": [
    "* **Anaconda**是一個開源的軟體套件管理工具，以Python和R語言為核心，用於計算科學（資料科學、機器學習、巨量資料處理和預測分析），致力於簡化軟體套件管理系統和部署。透過Conda進行軟體套件管理，並擁有許多適用於Windows、Linux和MacOS的資料科學軟體套件。擁有超過1400個軟體套件。其中包含Conda和虛擬環境管理。**Anaconda Navigator**是包含在Anaconda中的圖形化使用者介面，使用者可以通過Anaconda Navigator啟動應用，在不使用命令列的情況下管理軟體套件、建立虛擬環境和管理路徑\n",
    "- 下載 anaconda 可以到 https://www.anaconda.com/download"
   ]
  },
  {
   "cell_type": "markdown",
   "id": "acb99962-c0f7-4f79-8877-d96db5daeee3",
   "metadata": {},
   "source": [
    "### 虛擬環境設定"
   ]
  },
  {
   "cell_type": "markdown",
   "id": "839ef7c8-81ff-44e6-9b17-956ed68d2ed7",
   "metadata": {},
   "source": [
    "虛擬環境可以讓使用者在同一台電腦上管理多個Python專案，每個專案都可以擁有獨立的套件和dependencies，避免不同專案之間的衝突。conda 是一個開源的套件及執行環境管理系統，可以在 windows, macOS, 及 Linux 上安裝、執行、及更新套件及其相關配件。"
   ]
  },
  {
   "cell_type": "markdown",
   "id": "82bd59cb-400c-4f82-9be1-00ce7f8329ba",
   "metadata": {},
   "source": [
    "**利用 conda 建立虛擬環境步驟**\n",
    "1. 安裝及更新 conda\n",
    "   - 檢查目前版本: `conda -V`\n",
    "   - 更新版本: `conda update conda`\n",
    "2. 建立虛擬環境\n",
    "   - 查詢目前系統已經安裝虛擬環境: `conda env list`\n",
    "   - 建立一個叫做myenv的虛擬環境，並且是安裝python 3.5的版本: `conda create --name myenv python=3.5`\n",
    "3. 啟動虛擬環境\n",
    "   - `conda activate myenv` (在 Linux 或 mac 執行 `source activate myenv`)\n",
    "   - 查詢虛擬環境中安裝了那些東西: `conda list`\n",
    "   - 安裝所需套件: `conda install packagename`\n",
    "4. 離開虛擬環境\n",
    "   - `deactivate` (在 Linux 或 mac 執行 `source deactivate`)\n",
    "5. 刪除虛擬環境或package\n",
    "   - 刪除虛擬環境中某個package (ex, numpy): `conda remove --name myenv numpy`\n",
    "   - 刪除整個虛擬環境: `conda env remove --name myenv`"
   ]
  },
  {
   "cell_type": "markdown",
   "id": "d197a07c-3b8a-4953-b6f8-fce79648d484",
   "metadata": {},
   "source": [
    "## Jupyter Lab\n",
    "\n",
    "Jupyter Notebook 是一個開源的網頁應用程式，允許你建立和分享包含程式碼、方程式、視覺化和敘述文字的文件。它廣泛應用於數據清理和轉換、數據視覺化、機器學習和數據科學等領域。"
   ]
  },
  {
   "attachments": {
    "90b1caa2-eea4-4425-afb4-ced6099c97e6.png": {
     "image/png": "[encoded data removed]"
    }
   },
   "cell_type": "markdown",
   "id": "650adadb-0b4e-442e-8e27-9e0eff00cde2",
   "metadata": {},
   "source": [
    "1. 操作模式\n",
    "   - command, edit\n",
    "     - `ESC-m` : markdown mode\n",
    "     - `ESC-y` : code mode\n",
    "2. 執行框 (cell)\n",
    "   - 用於編寫及執行程式碼\n",
    "   - 可利用 markdown 編寫文字、標題、列表\n",
    "4. 操作介面\n",
    "   \n",
    "   ![image.png](attachment:90b1caa2-eea4-4425-afb4-ced6099c97e6.png)\n",
    "   - 儲存及建立檢查點 (CTRL-S)\n",
    "   - 新增下方執行框\n",
    "   - 刪除目前執行框\n",
    "   - 拷貝目前執行框內容\n",
    "   - 貼上目前執行框內容\n",
    "   - 執行目前執行框程式\n",
    "   - 停止目前執行框的執行\n",
    "   - 重新啟動執行核心\n",
    "   - 重新啟動執行核心並執行現有所有執行框內容\n",
    "   - 指定執行框內容為 code, markdown, 或 raw"
   ]
  },
  {
   "cell_type": "markdown",
   "id": "af6633e4-e8ee-4df3-8a14-7e11dccd7a04",
   "metadata": {},
   "source": [
    "## 導入套件"
   ]
  },
  {
   "cell_type": "markdown",
   "id": "cc862921-c581-4862-9055-9904872e4231",
   "metadata": {},
   "source": [
    "```python\n",
    "import pandas as pd\n",
    "```"
   ]
  },
  {
   "cell_type": "code",
   "execution_count": null,
   "id": "ea21ea56-56d5-4867-8895-e7d903f99498",
   "metadata": {},
   "outputs": [],
   "source": []
  }
 ],
 "metadata": {
  "kernelspec": {
   "display_name": "Python 3 (ipykernel)",
   "language": "python",
   "name": "python3"
  },
  "language_info": {
   "codemirror_mode": {
    "name": "ipython",
    "version": 3
   },
   "file_extension": ".py",
   "mimetype": "text/x-python",
   "name": "python",
   "nbconvert_exporter": "python",
   "pygments_lexer": "ipython3",
   "version": "3.11.11"
  }
 },
 "nbformat": 4,
 "nbformat_minor": 5
}
