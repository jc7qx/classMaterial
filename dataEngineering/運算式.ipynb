{
  "nbformat": 4,
  "nbformat_minor": 0,
  "metadata": {
    "colab": {
      "provenance": [],
      "toc_visible": true
    },
    "kernelspec": {
      "name": "python3",
      "display_name": "Python 3"
    },
    "language_info": {
      "name": "python"
    }
  },
  "cells": [
    {
      "cell_type": "markdown",
      "source": [
        "### Jupyter Notebook/ Colab Notebooks\n",
        "\n",
        "- Jupyter Notebook 提供網頁式程式編輯與執行環境\n",
        "- Colab Notebook 由 Google 伺服器提供如Jupyter 的程式編輯與執行環境"
      ],
      "metadata": {
        "id": "NSXsYoDzT2o_"
      }
    },
    {
      "cell_type": "markdown",
      "source": [
        "## Python\n",
        "\n",
        "Pyhton程式語言是一種高階程式語言，適合各種應用程式的開發。Python可以開發程序式應用程式，也提供開發物件導向式程式設計(Object Oriented Programming)。近年成為最熱門的程式語言之一，可以用於各種不同的應用領域，如科學計算、機器學習、資料庫應用介面、網頁後端程式控制、...等。"
      ],
      "metadata": {
        "id": "LlxTIijcVrPj"
      }
    },
    {
      "cell_type": "markdown",
      "source": [
        "### 基本資料型別\n",
        "\n",
        "- 數值: int, real, complex\n",
        "- 字串: string\n",
        "- 布林: bool (True/False)\n",
        "- none"
      ],
      "metadata": {
        "id": "ek3n9kKTYYfJ"
      }
    },
    {
      "cell_type": "markdown",
      "source": [
        "#### Numerical 數值"
      ],
      "metadata": {
        "id": "QfOzvnOKadxG"
      }
    },
    {
      "cell_type": "code",
      "source": [
        "# int\n",
        "# type(x)return type of x\n",
        "x = 123\n",
        "print(x, type(x))"
      ],
      "metadata": {
        "colab": {
          "base_uri": "https://localhost:8080/"
        },
        "id": "RxGcReqlVt60",
        "outputId": "0c13a824-5a17-448a-b778-1bf1294a81d5"
      },
      "execution_count": null,
      "outputs": [
        {
          "output_type": "stream",
          "name": "stdout",
          "text": [
            "123 <class 'int'>\n"
          ]
        }
      ]
    },
    {
      "cell_type": "code",
      "source": [
        "# simple arithmetics\n",
        "print(x+1)\n",
        "print(x-1)\n",
        "print(x*2)\n",
        "print(x**2)\n",
        "x += 1 # no x++/x-- in Python\n",
        "print(x)\n",
        "x *= 2\n",
        "print(x)"
      ],
      "metadata": {
        "colab": {
          "base_uri": "https://localhost:8080/"
        },
        "id": "offXSnSLYwc3",
        "outputId": "c137924a-43d1-4a11-90e0-088a62d6635a"
      },
      "execution_count": null,
      "outputs": [
        {
          "output_type": "stream",
          "name": "stdout",
          "text": [
            "124\n",
            "122\n",
            "246\n",
            "15129\n",
            "124\n",
            "248\n"
          ]
        }
      ]
    },
    {
      "cell_type": "code",
      "source": [
        "# real\n",
        "y = 3.14\n",
        "print(y, type(y))\n",
        "print(y, y+1, y*2, y**2)"
      ],
      "metadata": {
        "colab": {
          "base_uri": "https://localhost:8080/"
        },
        "id": "UEtz1d93ZPdx",
        "outputId": "7467046b-2c3f-47ba-ac78-3ed158e803a1"
      },
      "execution_count": null,
      "outputs": [
        {
          "output_type": "stream",
          "name": "stdout",
          "text": [
            "3.14 <class 'float'>\n",
            "3.14 4.140000000000001 6.28 9.8596\n"
          ]
        }
      ]
    },
    {
      "cell_type": "markdown",
      "source": [
        "#### Booleans 布林"
      ],
      "metadata": {
        "id": "lVWzmDeiZzRz"
      }
    },
    {
      "cell_type": "code",
      "source": [
        "t = True\n",
        "f = False\n",
        "print(type(t))\n",
        "print(t and f)\n",
        "print(t or f)\n",
        "print(not t)\n",
        "print(t != f)"
      ],
      "metadata": {
        "colab": {
          "base_uri": "https://localhost:8080/"
        },
        "id": "YUZOyqpQZg5g",
        "outputId": "8c4eba94-2e56-4314-d73d-9f41e70ea0d9"
      },
      "execution_count": null,
      "outputs": [
        {
          "output_type": "stream",
          "name": "stdout",
          "text": [
            "<class 'bool'>\n",
            "False\n",
            "True\n",
            "False\n",
            "True\n"
          ]
        }
      ]
    },
    {
      "cell_type": "markdown",
      "source": [
        "#### String"
      ],
      "metadata": {
        "id": "PGbrvOECcOBn"
      }
    },
    {
      "cell_type": "code",
      "source": [
        "hello = 'hello'\n",
        "world = \"world\"\n",
        "print(hello, len(hello))\n",
        "print(world, len(world))\n",
        "hw = hello + ' ' + world\n",
        "print(hw)\n",
        "hw2 = \"%s %s %d\" % (hello, world, len(hello))\n",
        "print(hw2)"
      ],
      "metadata": {
        "colab": {
          "base_uri": "https://localhost:8080/"
        },
        "id": "zG7itXjnaN2t",
        "outputId": "baa16292-acdc-42d7-b76b-2d205d94ee6b"
      },
      "execution_count": null,
      "outputs": [
        {
          "output_type": "stream",
          "name": "stdout",
          "text": [
            "hello 5\n",
            "world 5\n",
            "hello world\n",
            "hello world 5\n"
          ]
        }
      ]
    },
    {
      "cell_type": "code",
      "source": [
        "str = 'hello'\n",
        "print(str.capitalize())\n",
        "print(str.upper())\n",
        "print(str.rjust(7))\n",
        "print(str.center(7))\n",
        "print(str.replace('l', '(ell)'))\n",
        "print('   world '.strip())"
      ],
      "metadata": {
        "colab": {
          "base_uri": "https://localhost:8080/"
        },
        "id": "79cj-prxa2U0",
        "outputId": "a1697722-a351-4da6-844f-dc18767f6270"
      },
      "execution_count": null,
      "outputs": [
        {
          "output_type": "stream",
          "name": "stdout",
          "text": [
            "Hello\n",
            "HELLO\n",
            "  hello\n",
            " hello \n",
            "he(ell)(ell)o\n",
            "world\n"
          ]
        }
      ]
    },
    {
      "cell_type": "markdown",
      "source": [
        "### Contrainer 資料結構"
      ],
      "metadata": {
        "id": "ZqtIbtNubsWI"
      }
    },
    {
      "cell_type": "markdown",
      "source": [
        "#### List"
      ],
      "metadata": {
        "id": "8eA79C0OchHd"
      }
    },
    {
      "cell_type": "code",
      "source": [
        "ll = [3, 1, 2]   #建立串列\n",
        "print(ll, ll[2]) #ll[2]=串列的第三個元素\n",
        "print(ll[-1])    #ll[-1]=串列的最後元素\n",
        "ll[2] = 'foo'    #設定ll[2]的內容為'foo'字串\n",
        "print(ll)\n",
        "ll.append('bar') #在ll最後新增一個元素，內容設定為'bar'字串\n",
        "print(ll)\n",
        "print(ll.pop())  #刪除串列最後元素並回傳\n",
        "print(ll)"
      ],
      "metadata": {
        "colab": {
          "base_uri": "https://localhost:8080/"
        },
        "id": "9od9uMSwbmT-",
        "outputId": "2e2341a9-5ab8-465e-de2a-2374f9a32a65"
      },
      "execution_count": null,
      "outputs": [
        {
          "output_type": "stream",
          "name": "stdout",
          "text": [
            "[3, 1, 2] 2\n",
            "2\n",
            "[3, 1, 'foo']\n",
            "[3, 1, 'foo', 'bar']\n",
            "bar\n",
            "[3, 1, 'foo']\n"
          ]
        }
      ]
    },
    {
      "cell_type": "code",
      "source": [
        "# slicing\n",
        "nums = list(range(5)) #建立一個0~4的串列，range()為一個內建函數\n",
        "print(nums)\n",
        "print(nums[2:4])   #擷取串列位置2-3內容\n",
        "print(nums[2:])    #擷取串列位置2-最後內容\n",
        "print(nums[:2])    #擷取串列位置0-1內容\n",
        "print(nums[:])     #擷取串所有內容\n",
        "print(nums[:-1])   #擷取串列位置0-最後內容\n",
        "nums[2:4] = [8, 9] #將串列2-3位置設定為[8,9]\n",
        "print(nums)\n"
      ],
      "metadata": {
        "colab": {
          "base_uri": "https://localhost:8080/"
        },
        "id": "erel-Z81dLbK",
        "outputId": "4363b1d3-fb03-481c-9650-99e196fb0d90"
      },
      "execution_count": null,
      "outputs": [
        {
          "output_type": "stream",
          "name": "stdout",
          "text": [
            "[0, 1, 2, 3, 4]\n",
            "[2, 3]\n",
            "[2, 3, 4]\n",
            "[0, 1]\n",
            "[0, 1, 2, 3, 4]\n",
            "[0, 1, 2, 3]\n",
            "[0, 1, 8, 9, 4]\n"
          ]
        }
      ]
    },
    {
      "cell_type": "code",
      "source": [
        "#loops\n",
        "animals = ['cat', 'dog', 'monkey']\n",
        "for animal in animals:\n",
        "    print(animal)\n",
        "#如何將結果印在一列？"
      ],
      "metadata": {
        "colab": {
          "base_uri": "https://localhost:8080/"
        },
        "id": "3IYMECL0dc_i",
        "outputId": "c23a6c09-56bc-4f93-f1f7-91d5d3d408b9"
      },
      "execution_count": null,
      "outputs": [
        {
          "output_type": "stream",
          "name": "stdout",
          "text": [
            "cat\n",
            "dog\n",
            "monkey\n"
          ]
        }
      ]
    },
    {
      "cell_type": "code",
      "source": [
        "nums = [0, 1, 2, 3, 4]\n",
        "squares = []\n",
        "for x in nums:\n",
        "    squares.append(x ** 2)\n",
        "print(squares)"
      ],
      "metadata": {
        "colab": {
          "base_uri": "https://localhost:8080/"
        },
        "id": "3WdiEVcOgq6c",
        "outputId": "32f9661f-2802-4728-87c6-b51b551dbbb5"
      },
      "execution_count": null,
      "outputs": [
        {
          "output_type": "stream",
          "name": "stdout",
          "text": [
            "[0, 1, 4, 9, 16]\n"
          ]
        }
      ]
    },
    {
      "cell_type": "code",
      "source": [
        "nums = [0, 1, 2, 3, 4]\n",
        "squares = [x ** 2 for x in nums]\n",
        "print(squares)"
      ],
      "metadata": {
        "colab": {
          "base_uri": "https://localhost:8080/"
        },
        "id": "SWbV8LaVhCfA",
        "outputId": "6a1a44e4-5d45-4c77-b616-b59d1e4d4310"
      },
      "execution_count": null,
      "outputs": [
        {
          "output_type": "stream",
          "name": "stdout",
          "text": [
            "[0, 1, 4, 9, 16]\n"
          ]
        }
      ]
    },
    {
      "cell_type": "code",
      "source": [
        "nums = [0, 1, 2, 3, 4]\n",
        "even_squares = [x ** 2 for x in nums if x % 2 == 0]\n",
        "print(even_squares)\n"
      ],
      "metadata": {
        "colab": {
          "base_uri": "https://localhost:8080/"
        },
        "id": "1-xgpJXxhKc_",
        "outputId": "6c6ce28c-4fb2-4246-8c8d-020106bdd08f"
      },
      "execution_count": null,
      "outputs": [
        {
          "output_type": "stream",
          "name": "stdout",
          "text": [
            "[0, 4, 16]\n"
          ]
        }
      ]
    },
    {
      "cell_type": "markdown",
      "source": [
        "#### Dictionaries"
      ],
      "metadata": {
        "id": "aYwaWfWcho5c"
      }
    },
    {
      "cell_type": "markdown",
      "source": [
        "dictionary為一種 key:value 的 mapping(映射) 資料結構"
      ],
      "metadata": {
        "id": "g7gnwXfdinTE"
      }
    },
    {
      "cell_type": "code",
      "source": [
        "d = {'cat': 'cute', 'dog': 'furry'}        #建立字典資料key:value\n",
        "print(d['cat'])                     #由key查詢value\n",
        "print('cat' in d)                   #檢查'cat'是否在字典中的key中\n",
        "d['fish'] = 'wet'                   #新增'fish'的對應為'wet'\n",
        "print(d['fish'])\n",
        "print(d.get('monkey', 'N/A'))             #檢查'monkey'，若無則顯示'N/A'\n",
        "print(d.get('fish', 'N/A'))\n",
        "del d['fish']                     #刪除key為'fish'的資料\n",
        "print(d.get('fish', 'N/A'))"
      ],
      "metadata": {
        "colab": {
          "base_uri": "https://localhost:8080/"
        },
        "id": "Duy6Z47zhS1g",
        "outputId": "e3b46089-4367-4e54-9b3a-caf8725d84be"
      },
      "execution_count": null,
      "outputs": [
        {
          "output_type": "stream",
          "name": "stdout",
          "text": [
            "cute\n",
            "True\n",
            "wet\n",
            "N/A\n",
            "wet\n",
            "N/A\n"
          ]
        }
      ]
    },
    {
      "cell_type": "code",
      "source": [
        "d = {'person': 2, 'cat': 4, 'spider': 8}            #建立字典\n",
        "for animal in d:                          #animal為key\n",
        "    legs = d[animal]                      #d[animal]對應值value\n",
        "    print('A %s has %d legs' % (animal, legs))       #animal=key, legs=values"
      ],
      "metadata": {
        "colab": {
          "base_uri": "https://localhost:8080/"
        },
        "id": "l8XpdivgjPIo",
        "outputId": "227cfdb5-fde7-417e-c102-d3cc8d14cf83"
      },
      "execution_count": null,
      "outputs": [
        {
          "output_type": "stream",
          "name": "stdout",
          "text": [
            "A person has 2 legs\n",
            "A cat has 4 legs\n",
            "A spider has 8 legs\n"
          ]
        }
      ]
    },
    {
      "cell_type": "code",
      "source": [
        "d = {'person': 2, 'cat': 4, 'spider': 8}\n",
        "for animal, legs in d.items():     #d.items()方法回傳 key, values\n",
        "    print('A %s has %d legs' % (animal, legs))"
      ],
      "metadata": {
        "colab": {
          "base_uri": "https://localhost:8080/"
        },
        "id": "zVM6z5tWjZYs",
        "outputId": "322797b1-fbb0-4c49-b7ba-b75313a0fc05"
      },
      "execution_count": null,
      "outputs": [
        {
          "output_type": "stream",
          "name": "stdout",
          "text": [
            "A person has 2 legs\n",
            "A cat has 4 legs\n",
            "A spider has 8 legs\n"
          ]
        }
      ]
    },
    {
      "cell_type": "code",
      "source": [
        "nums = [0, 1, 2, 3, 4]\n",
        "even_num_to_square = {x: x ** 2 for x in nums}\n",
        "print(even_num_to_square)"
      ],
      "metadata": {
        "colab": {
          "base_uri": "https://localhost:8080/"
        },
        "id": "p9l5XBDvjl9e",
        "outputId": "92e40133-955d-466f-c6d9-5f313bbf6afb"
      },
      "execution_count": null,
      "outputs": [
        {
          "output_type": "stream",
          "name": "stdout",
          "text": [
            "{0: 0, 1: 1, 2: 4, 3: 9, 4: 16}\n"
          ]
        }
      ]
    },
    {
      "cell_type": "code",
      "source": [
        "nums = [0, 1, 2, 3, 4]\n",
        "even_num_to_square = {x: x ** 2 for x in nums if x % 2 == 0}\n",
        "print(even_num_to_square)"
      ],
      "metadata": {
        "colab": {
          "base_uri": "https://localhost:8080/"
        },
        "id": "L4TvwuUujrqi",
        "outputId": "bd6e0d86-a208-450a-f1eb-3109f4110dca"
      },
      "execution_count": null,
      "outputs": [
        {
          "output_type": "stream",
          "name": "stdout",
          "text": [
            "{0: 0, 2: 4, 4: 16}\n"
          ]
        }
      ]
    },
    {
      "cell_type": "markdown",
      "source": [
        "#### Sets 集合"
      ],
      "metadata": {
        "id": "ou_7kLOquk-7"
      }
    },
    {
      "cell_type": "code",
      "source": [
        "animals = {'cat', 'dog'}  #建立集合，{...}\n",
        "print('cat' in animals)\n",
        "print('fish' in animals)\n",
        "animals.add('fish')      #集合新增元素\n",
        "print('fish' in animals)\n",
        "print(len(animals))\n",
        "animals.add('cat')\n",
        "print(len(animals))"
      ],
      "metadata": {
        "colab": {
          "base_uri": "https://localhost:8080/"
        },
        "id": "QXcTfg9vuiHe",
        "outputId": "ab3790b6-1324-4e32-db39-05428666ed5a"
      },
      "execution_count": null,
      "outputs": [
        {
          "output_type": "stream",
          "name": "stdout",
          "text": [
            "True\n",
            "False\n",
            "True\n",
            "3\n",
            "3\n"
          ]
        }
      ]
    },
    {
      "cell_type": "code",
      "source": [
        "animals= {'cat', 'dog', 'fish'}\n",
        "for idx, animal in enumerate(animals):\n",
        "    print('#%d: %s' % (idx + 1, animal))"
      ],
      "metadata": {
        "colab": {
          "base_uri": "https://localhost:8080/"
        },
        "id": "cFN5NfXLuzQZ",
        "outputId": "f44d5fac-eb87-44f9-d0cb-f905b41c7e89"
      },
      "execution_count": null,
      "outputs": [
        {
          "output_type": "stream",
          "name": "stdout",
          "text": [
            "#1: fish\n",
            "#2: cat\n",
            "#3: dog\n"
          ]
        }
      ]
    },
    {
      "cell_type": "markdown",
      "source": [
        "#### Tuple\n",
        "\n",
        "Tuple與List類似，但與list最大不同，tuple的內容不能更改(immutable)"
      ],
      "metadata": {
        "id": "67jgwoi18tnf"
      }
    },
    {
      "cell_type": "code",
      "source": [
        "#建立一個以tuple為key的dictionary\n",
        "d = {(x, x+1): x for x in range(10)}\n",
        "print(type(d))\n",
        "print(d)"
      ],
      "metadata": {
        "id": "_rS7Xwx0vWvg",
        "colab": {
          "base_uri": "https://localhost:8080/"
        },
        "outputId": "bc3fb54b-91ea-488a-bb87-64222daecacd"
      },
      "execution_count": 1,
      "outputs": [
        {
          "output_type": "stream",
          "name": "stdout",
          "text": [
            "<class 'dict'>\n",
            "{(0, 1): 0, (1, 2): 1, (2, 3): 2, (3, 4): 3, (4, 5): 4, (5, 6): 5, (6, 7): 6, (7, 8): 7, (8, 9): 8, (9, 10): 9}\n"
          ]
        }
      ]
    },
    {
      "cell_type": "code",
      "source": [
        "#'tuple' object does not support item assignment\n",
        "t = (5,6)\n",
        "t[1] = 10"
      ],
      "metadata": {
        "colab": {
          "base_uri": "https://localhost:8080/",
          "height": 176
        },
        "id": "XvPvL9Qo9ROe",
        "outputId": "9c1fd2a3-6464-4026-afe7-9fc3242c3547"
      },
      "execution_count": 3,
      "outputs": [
        {
          "output_type": "error",
          "ename": "TypeError",
          "evalue": "'tuple' object does not support item assignment",
          "traceback": [
            "\u001b[0;31m---------------------------------------------------------------------------\u001b[0m",
            "\u001b[0;31mTypeError\u001b[0m                                 Traceback (most recent call last)",
            "\u001b[0;32m<ipython-input-3-d7c55fa22269>\u001b[0m in \u001b[0;36m<cell line: 0>\u001b[0;34m()\u001b[0m\n\u001b[1;32m      1\u001b[0m \u001b[0;31m#'tuple' object does not support item assignment\u001b[0m\u001b[0;34m\u001b[0m\u001b[0;34m\u001b[0m\u001b[0m\n\u001b[1;32m      2\u001b[0m \u001b[0mt\u001b[0m \u001b[0;34m=\u001b[0m \u001b[0;34m(\u001b[0m\u001b[0;36m5\u001b[0m\u001b[0;34m,\u001b[0m\u001b[0;36m6\u001b[0m\u001b[0;34m)\u001b[0m\u001b[0;34m\u001b[0m\u001b[0;34m\u001b[0m\u001b[0m\n\u001b[0;32m----> 3\u001b[0;31m \u001b[0mt\u001b[0m\u001b[0;34m[\u001b[0m\u001b[0;36m1\u001b[0m\u001b[0;34m]\u001b[0m \u001b[0;34m=\u001b[0m \u001b[0;36m10\u001b[0m\u001b[0;34m\u001b[0m\u001b[0;34m\u001b[0m\u001b[0m\n\u001b[0m",
            "\u001b[0;31mTypeError\u001b[0m: 'tuple' object does not support item assignment"
          ]
        }
      ]
    },
    {
      "cell_type": "markdown",
      "source": [
        "### 函式\n",
        "- 內建函式\n",
        "- 自訂函式"
      ],
      "metadata": {
        "id": "D33Ia9Nc9_m_"
      }
    },
    {
      "cell_type": "markdown",
      "source": [
        "#### 內建函式"
      ],
      "metadata": {
        "id": "apMTaRwM-Ql6"
      }
    },
    {
      "cell_type": "code",
      "source": [
        "# 顯示資料型別 type()"
      ],
      "metadata": {
        "id": "XxhAnEpI9wcF"
      },
      "execution_count": 4,
      "outputs": []
    },
    {
      "cell_type": "code",
      "source": [
        "x = 123\n",
        "print(type(x))\n",
        "y = 12.3\n",
        "print(type(y))\n",
        "z = \"hello\"\n",
        "print(type(z))"
      ],
      "metadata": {
        "colab": {
          "base_uri": "https://localhost:8080/"
        },
        "id": "30pPn9-Y-s_e",
        "outputId": "ca4626f7-740e-4fbc-c1f1-6272a555a6f7"
      },
      "execution_count": 7,
      "outputs": [
        {
          "output_type": "stream",
          "name": "stdout",
          "text": [
            "<class 'int'>\n",
            "<class 'float'>\n",
            "<class 'str'>\n"
          ]
        }
      ]
    },
    {
      "cell_type": "code",
      "source": [
        "# 顯示資料容器長度 len()\n",
        "a = [1, 12.3, 'hello']\n",
        "print(len(a))"
      ],
      "metadata": {
        "colab": {
          "base_uri": "https://localhost:8080/"
        },
        "id": "vJVrhW2j-cRm",
        "outputId": "3bf6213e-2995-490f-9526-286b0a459645"
      },
      "execution_count": 8,
      "outputs": [
        {
          "output_type": "stream",
          "name": "stdout",
          "text": [
            "3\n"
          ]
        }
      ]
    },
    {
      "cell_type": "code",
      "source": [
        "# 型別轉換 int(), float(), str()\n",
        "x = 123\n",
        "print(type(x))\n",
        "x = str(x)\n",
        "print(type(x))\n",
        "x = float(x)\n",
        "print(type(x))"
      ],
      "metadata": {
        "colab": {
          "base_uri": "https://localhost:8080/"
        },
        "id": "kZolAaMN-jsM",
        "outputId": "aa20e62f-1427-4705-8d76-feb14cf92266"
      },
      "execution_count": 10,
      "outputs": [
        {
          "output_type": "stream",
          "name": "stdout",
          "text": [
            "<class 'int'>\n",
            "<class 'str'>\n",
            "<class 'float'>\n"
          ]
        }
      ]
    },
    {
      "cell_type": "code",
      "source": [
        "# print() adn input() 函式\n",
        "\n",
        "print(123) #print() 輸出'123'\n",
        "\n",
        "print(\"pi is %7.2f\" % (3.14159)) #格式化輸出"
      ],
      "metadata": {
        "colab": {
          "base_uri": "https://localhost:8080/"
        },
        "id": "Ajv-lB2j_U9w",
        "outputId": "2499d496-5180-4b89-8b8c-a53af22041c7"
      },
      "execution_count": 14,
      "outputs": [
        {
          "output_type": "stream",
          "name": "stdout",
          "text": [
            "123\n",
            "pi is    3.14\n"
          ]
        }
      ]
    },
    {
      "cell_type": "code",
      "source": [
        "# input() 函式允許使用者由鍵盤輸入資料\n",
        "\n",
        "x = input('how old are you? ') #input() return sting\n",
        "x = int(x) #transform to int\n",
        "print(\"my age is %d.\" % x)"
      ],
      "metadata": {
        "colab": {
          "base_uri": "https://localhost:8080/"
        },
        "id": "36B9QXhy_jkl",
        "outputId": "d922b466-c946-49f2-bf4d-0406bc11a075"
      },
      "execution_count": 17,
      "outputs": [
        {
          "output_type": "stream",
          "name": "stdout",
          "text": [
            "how old are you? 100\n",
            "my age is 100.\n"
          ]
        }
      ]
    },
    {
      "cell_type": "markdown",
      "source": [
        "#### 自訂函數"
      ],
      "metadata": {
        "id": "0WgmTwtVA_VS"
      }
    },
    {
      "cell_type": "code",
      "source": [
        "# functions without parameters like subroutines\n",
        "\n",
        "def hello():\n",
        "  print('How are you today!')\n",
        "\n",
        "for i in range(3):\n",
        "  hello()"
      ],
      "metadata": {
        "colab": {
          "base_uri": "https://localhost:8080/"
        },
        "id": "fhS9EPUuAogz",
        "outputId": "3e201ff3-8260-4224-b19b-0a01547b4098"
      },
      "execution_count": 20,
      "outputs": [
        {
          "output_type": "stream",
          "name": "stdout",
          "text": [
            "How are you today!\n",
            "How are you today!\n",
            "How are you today!\n"
          ]
        }
      ]
    },
    {
      "cell_type": "code",
      "source": [
        "# functions with parameters\n",
        "\n",
        "def hello(num):\n",
        "  for i in range(num):\n",
        "    print('Hello!')\n",
        "\n",
        "hello(5)"
      ],
      "metadata": {
        "colab": {
          "base_uri": "https://localhost:8080/"
        },
        "id": "roRiCs-dCOR8",
        "outputId": "6d3f8241-5d91-456a-f8cf-648d626e3765"
      },
      "execution_count": 21,
      "outputs": [
        {
          "output_type": "stream",
          "name": "stdout",
          "text": [
            "Hello!\n",
            "Hello!\n",
            "Hello!\n",
            "Hello!\n",
            "Hello!\n"
          ]
        }
      ]
    },
    {
      "cell_type": "code",
      "source": [
        "# functions with parameter and output\n",
        "\n",
        "def abs(no):\n",
        "  if no >= 0:\n",
        "    return no\n",
        "  else:\n",
        "    return -no\n",
        "\n",
        "print(abs(12))\n",
        "print(abs(-10))"
      ],
      "metadata": {
        "colab": {
          "base_uri": "https://localhost:8080/"
        },
        "id": "2BTxySCzCSr5",
        "outputId": "1fcfc812-7868-4e80-f85c-5c9e39e500b0"
      },
      "execution_count": 23,
      "outputs": [
        {
          "output_type": "stream",
          "name": "stdout",
          "text": [
            "12\n",
            "10\n"
          ]
        }
      ]
    },
    {
      "cell_type": "code",
      "source": [
        "def CtoF(c=0):\n",
        "  f = c*9/5+32\n",
        "  return f\n",
        "\n",
        "t = input('temperature: ')\n",
        "t = float(t)\n",
        "\n",
        "print(\"%.1f (C) => %.1f (F)\" % (t, CtoF(t)))"
      ],
      "metadata": {
        "colab": {
          "base_uri": "https://localhost:8080/"
        },
        "id": "G9fl4aBrDwY8",
        "outputId": "f0f81e60-6fe0-44ba-d02e-4db16e10c061"
      },
      "execution_count": 34,
      "outputs": [
        {
          "output_type": "stream",
          "name": "stdout",
          "text": [
            "temperature: 20\n",
            "20.0 (C) => 68.0 (F)\n"
          ]
        }
      ]
    },
    {
      "cell_type": "code",
      "source": [
        "# default value setup for CtoF(c=0)\n",
        "print(CtoF())"
      ],
      "metadata": {
        "colab": {
          "base_uri": "https://localhost:8080/"
        },
        "id": "DyV7_EZoElPe",
        "outputId": "41d0d285-0601-4c6e-803d-16169d61dda1"
      },
      "execution_count": 35,
      "outputs": [
        {
          "output_type": "stream",
          "name": "stdout",
          "text": [
            "32.0\n"
          ]
        }
      ]
    },
    {
      "cell_type": "code",
      "source": [],
      "metadata": {
        "id": "CY-O8fUBFz9W"
      },
      "execution_count": null,
      "outputs": []
    }
  ]
}