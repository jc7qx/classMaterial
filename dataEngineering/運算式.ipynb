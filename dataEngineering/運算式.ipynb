{
  "nbformat": 4,
  "nbformat_minor": 0,
  "metadata": {
    "colab": {
      "provenance": []
    },
    "kernelspec": {
      "name": "python3",
      "display_name": "Python 3"
    },
    "language_info": {
      "name": "python"
    }
  },
  "cells": [
    {
      "cell_type": "markdown",
      "source": [
        "### Jupyter Notebook/ Colab Notebooks\n",
        "\n",
        "- Jupyter Notebook 提供網頁式程式編輯與執行環境\n",
        "- Colab Notebook 由 Google 伺服器提供如Jupyter 的程式編輯與執行環境"
      ],
      "metadata": {
        "id": "NSXsYoDzT2o_"
      }
    },
    {
      "cell_type": "markdown",
      "source": [
        "## Python\n",
        "\n",
        "Pyhton程式語言是一種高階程式語言，適合各種應用程式的開發。Python可以開發程序式應用程式，也提供開發物件導向式程式設計(Object Oriented Programming)。近年成為最熱門的程式語言之一，可以用於各種不同的應用領域，如科學計算、機器學習、資料庫應用介面、網頁後端程式控制、...等。"
      ],
      "metadata": {
        "id": "LlxTIijcVrPj"
      }
    },
    {
      "cell_type": "markdown",
      "source": [
        "### 基本資料型別"
      ],
      "metadata": {
        "id": "ek3n9kKTYYfJ"
      }
    },
    {
      "cell_type": "markdown",
      "source": [
        "#### Numerical 數值"
      ],
      "metadata": {
        "id": "QfOzvnOKadxG"
      }
    },
    {
      "cell_type": "code",
      "source": [
        "# Numbers int\n",
        "x = 123\n",
        "print(x, type(x)) #type(x)return type of x"
      ],
      "metadata": {
        "colab": {
          "base_uri": "https://localhost:8080/"
        },
        "id": "RxGcReqlVt60",
        "outputId": "0c13a824-5a17-448a-b778-1bf1294a81d5"
      },
      "execution_count": 1,
      "outputs": [
        {
          "output_type": "stream",
          "name": "stdout",
          "text": [
            "123 <class 'int'>\n"
          ]
        }
      ]
    },
    {
      "cell_type": "code",
      "source": [
        "print(x+1)\n",
        "print(x-1)\n",
        "print(x*2)\n",
        "print(x**2)\n",
        "x += 1 # no x++/x-- in Python\n",
        "print(x)\n",
        "x *= 2\n",
        "print(x)"
      ],
      "metadata": {
        "colab": {
          "base_uri": "https://localhost:8080/"
        },
        "id": "offXSnSLYwc3",
        "outputId": "c137924a-43d1-4a11-90e0-088a62d6635a"
      },
      "execution_count": 2,
      "outputs": [
        {
          "output_type": "stream",
          "name": "stdout",
          "text": [
            "124\n",
            "122\n",
            "246\n",
            "15129\n",
            "124\n",
            "248\n"
          ]
        }
      ]
    },
    {
      "cell_type": "code",
      "source": [
        "# real\n",
        "y = 3.14\n",
        "print(y, type(y))\n",
        "print(y, y+1, y*2, y**2)"
      ],
      "metadata": {
        "colab": {
          "base_uri": "https://localhost:8080/"
        },
        "id": "UEtz1d93ZPdx",
        "outputId": "7467046b-2c3f-47ba-ac78-3ed158e803a1"
      },
      "execution_count": 5,
      "outputs": [
        {
          "output_type": "stream",
          "name": "stdout",
          "text": [
            "3.14 <class 'float'>\n",
            "3.14 4.140000000000001 6.28 9.8596\n"
          ]
        }
      ]
    },
    {
      "cell_type": "markdown",
      "source": [
        "#### Booleans 布林"
      ],
      "metadata": {
        "id": "lVWzmDeiZzRz"
      }
    },
    {
      "cell_type": "code",
      "source": [
        "t = True\n",
        "f = False\n",
        "print(type(t))\n",
        "print(t and f)\n",
        "print(t or f)\n",
        "print(not t)\n",
        "print(t != f)"
      ],
      "metadata": {
        "colab": {
          "base_uri": "https://localhost:8080/"
        },
        "id": "YUZOyqpQZg5g",
        "outputId": "8c4eba94-2e56-4314-d73d-9f41e70ea0d9"
      },
      "execution_count": 6,
      "outputs": [
        {
          "output_type": "stream",
          "name": "stdout",
          "text": [
            "<class 'bool'>\n",
            "False\n",
            "True\n",
            "False\n",
            "True\n"
          ]
        }
      ]
    },
    {
      "cell_type": "markdown",
      "source": [
        "#### String"
      ],
      "metadata": {
        "id": "PGbrvOECcOBn"
      }
    },
    {
      "cell_type": "code",
      "source": [
        "hello = 'hello'\n",
        "world = \"world\"\n",
        "print(hello, len(hello))\n",
        "print(world, len(world))\n",
        "hw = hello + ' ' + world\n",
        "print(hw)\n",
        "hw2 = \"%s %s %d\" % (hello, world, len(hello))\n",
        "print(hw2)"
      ],
      "metadata": {
        "colab": {
          "base_uri": "https://localhost:8080/"
        },
        "id": "zG7itXjnaN2t",
        "outputId": "baa16292-acdc-42d7-b76b-2d205d94ee6b"
      },
      "execution_count": 8,
      "outputs": [
        {
          "output_type": "stream",
          "name": "stdout",
          "text": [
            "hello 5\n",
            "world 5\n",
            "hello world\n",
            "hello world 5\n"
          ]
        }
      ]
    },
    {
      "cell_type": "code",
      "source": [
        "str = 'hello'\n",
        "print(str.capitalize())\n",
        "print(str.upper())\n",
        "print(str.rjust(7))\n",
        "print(str.center(7))\n",
        "print(str.replace('l', '(ell)'))\n",
        "print('   world '.strip())"
      ],
      "metadata": {
        "colab": {
          "base_uri": "https://localhost:8080/"
        },
        "id": "79cj-prxa2U0",
        "outputId": "a1697722-a351-4da6-844f-dc18767f6270"
      },
      "execution_count": 9,
      "outputs": [
        {
          "output_type": "stream",
          "name": "stdout",
          "text": [
            "Hello\n",
            "HELLO\n",
            "  hello\n",
            " hello \n",
            "he(ell)(ell)o\n",
            "world\n"
          ]
        }
      ]
    },
    {
      "cell_type": "markdown",
      "source": [
        "### Contrainer 資料結構"
      ],
      "metadata": {
        "id": "ZqtIbtNubsWI"
      }
    },
    {
      "cell_type": "markdown",
      "source": [
        "#### List"
      ],
      "metadata": {
        "id": "8eA79C0OchHd"
      }
    },
    {
      "cell_type": "code",
      "source": [
        "ll = [3, 1, 2]   #建立串列\n",
        "print(ll, ll[2]) #ll[2]=串列的第三個元素\n",
        "print(ll[-1])    #ll[-1]=串列的最後元素\n",
        "ll[2] = 'foo'    #設定ll[2]的內容為'foo'字串\n",
        "print(ll)\n",
        "ll.append('bar') #在ll最後新增一個元素，內容設定為'bar'字串\n",
        "print(ll)\n",
        "print(ll.pop())  #刪除串列最後元素並回傳\n",
        "print(ll)"
      ],
      "metadata": {
        "colab": {
          "base_uri": "https://localhost:8080/"
        },
        "id": "9od9uMSwbmT-",
        "outputId": "2e2341a9-5ab8-465e-de2a-2374f9a32a65"
      },
      "execution_count": 10,
      "outputs": [
        {
          "output_type": "stream",
          "name": "stdout",
          "text": [
            "[3, 1, 2] 2\n",
            "2\n",
            "[3, 1, 'foo']\n",
            "[3, 1, 'foo', 'bar']\n",
            "bar\n",
            "[3, 1, 'foo']\n"
          ]
        }
      ]
    },
    {
      "cell_type": "code",
      "source": [
        "# slicing\n",
        "nums = list(range(5)) #建立一個0~4的串列，range()為一個內建函數\n",
        "print(nums)\n",
        "print(nums[2:4])   #擷取串列位置2-3內容\n",
        "print(nums[2:])    #擷取串列位置2-最後內容\n",
        "print(nums[:2])    #擷取串列位置0-1內容\n",
        "print(nums[:])     #擷取串所有內容\n",
        "print(nums[:-1])   #擷取串列位置0-最後內容\n",
        "nums[2:4] = [8, 9] #將串列2-3位置設定為[8,9]\n",
        "print(nums)\n"
      ],
      "metadata": {
        "colab": {
          "base_uri": "https://localhost:8080/"
        },
        "id": "erel-Z81dLbK",
        "outputId": "4363b1d3-fb03-481c-9650-99e196fb0d90"
      },
      "execution_count": 12,
      "outputs": [
        {
          "output_type": "stream",
          "name": "stdout",
          "text": [
            "[0, 1, 2, 3, 4]\n",
            "[2, 3]\n",
            "[2, 3, 4]\n",
            "[0, 1]\n",
            "[0, 1, 2, 3, 4]\n",
            "[0, 1, 2, 3]\n",
            "[0, 1, 8, 9, 4]\n"
          ]
        }
      ]
    },
    {
      "cell_type": "code",
      "source": [
        "#loops\n",
        "animals = ['cat', 'dog', 'monkey']\n",
        "for animal in animals:\n",
        "    print(animal)\n",
        "#如何將結果印在一列？"
      ],
      "metadata": {
        "colab": {
          "base_uri": "https://localhost:8080/"
        },
        "id": "3IYMECL0dc_i",
        "outputId": "c23a6c09-56bc-4f93-f1f7-91d5d3d408b9"
      },
      "execution_count": 13,
      "outputs": [
        {
          "output_type": "stream",
          "name": "stdout",
          "text": [
            "cat\n",
            "dog\n",
            "monkey\n"
          ]
        }
      ]
    },
    {
      "cell_type": "code",
      "source": [
        "nums = [0, 1, 2, 3, 4]\n",
        "squares = []\n",
        "for x in nums:\n",
        "    squares.append(x ** 2)\n",
        "print(squares)"
      ],
      "metadata": {
        "colab": {
          "base_uri": "https://localhost:8080/"
        },
        "id": "3WdiEVcOgq6c",
        "outputId": "32f9661f-2802-4728-87c6-b51b551dbbb5"
      },
      "execution_count": 14,
      "outputs": [
        {
          "output_type": "stream",
          "name": "stdout",
          "text": [
            "[0, 1, 4, 9, 16]\n"
          ]
        }
      ]
    },
    {
      "cell_type": "code",
      "source": [
        "nums = [0, 1, 2, 3, 4]\n",
        "squares = [x ** 2 for x in nums]\n",
        "print(squares)"
      ],
      "metadata": {
        "colab": {
          "base_uri": "https://localhost:8080/"
        },
        "id": "SWbV8LaVhCfA",
        "outputId": "6a1a44e4-5d45-4c77-b616-b59d1e4d4310"
      },
      "execution_count": 15,
      "outputs": [
        {
          "output_type": "stream",
          "name": "stdout",
          "text": [
            "[0, 1, 4, 9, 16]\n"
          ]
        }
      ]
    },
    {
      "cell_type": "code",
      "source": [
        "nums = [0, 1, 2, 3, 4]\n",
        "even_squares = [x ** 2 for x in nums if x % 2 == 0]\n",
        "print(even_squares)\n"
      ],
      "metadata": {
        "colab": {
          "base_uri": "https://localhost:8080/"
        },
        "id": "1-xgpJXxhKc_",
        "outputId": "6c6ce28c-4fb2-4246-8c8d-020106bdd08f"
      },
      "execution_count": 16,
      "outputs": [
        {
          "output_type": "stream",
          "name": "stdout",
          "text": [
            "[0, 4, 16]\n"
          ]
        }
      ]
    },
    {
      "cell_type": "markdown",
      "source": [
        "#### Dictionaries"
      ],
      "metadata": {
        "id": "aYwaWfWcho5c"
      }
    },
    {
      "cell_type": "markdown",
      "source": [
        "dictionary為一種key:value的結構，類似映射概念(mapping)"
      ],
      "metadata": {
        "id": "g7gnwXfdinTE"
      }
    },
    {
      "cell_type": "code",
      "source": [
        "d = {'cat': 'cute', 'dog': 'furry'} #建立字典資料key:value\n",
        "print(d['cat'])                     #由key查詢value\n",
        "print('cat' in d)                   #檢查'cat'是否在字典中的key中\n",
        "d['fish'] = 'wet'                   #新增'fish'的對應為'wet'\n",
        "print(d['fish'])\n",
        "print(d.get('monkey', 'N/A'))       #檢查'monkey'，若無則顯示'N/A'\n",
        "print(d.get('fish', 'N/A'))\n",
        "del d['fish']                       #刪除key為'fish'的資料\n",
        "print(d.get('fish', 'N/A'))"
      ],
      "metadata": {
        "colab": {
          "base_uri": "https://localhost:8080/"
        },
        "id": "Duy6Z47zhS1g",
        "outputId": "e3b46089-4367-4e54-9b3a-caf8725d84be"
      },
      "execution_count": 17,
      "outputs": [
        {
          "output_type": "stream",
          "name": "stdout",
          "text": [
            "cute\n",
            "True\n",
            "wet\n",
            "N/A\n",
            "wet\n",
            "N/A\n"
          ]
        }
      ]
    },
    {
      "cell_type": "code",
      "source": [
        "d = {'person': 2, 'cat': 4, 'spider': 8}  #建立字典\n",
        "for animal in d:                          #animal為key\n",
        "    legs = d[animal]                      #d[animal]對應值value\n",
        "    print('A %s has %d legs' % (animal, legs)) #animal=key, legs=values"
      ],
      "metadata": {
        "colab": {
          "base_uri": "https://localhost:8080/"
        },
        "id": "l8XpdivgjPIo",
        "outputId": "227cfdb5-fde7-417e-c102-d3cc8d14cf83"
      },
      "execution_count": 18,
      "outputs": [
        {
          "output_type": "stream",
          "name": "stdout",
          "text": [
            "A person has 2 legs\n",
            "A cat has 4 legs\n",
            "A spider has 8 legs\n"
          ]
        }
      ]
    },
    {
      "cell_type": "code",
      "source": [
        "d = {'person': 2, 'cat': 4, 'spider': 8}\n",
        "for animal, legs in d.items():     #d.items()方法回傳 key, values\n",
        "    print('A %s has %d legs' % (animal, legs))"
      ],
      "metadata": {
        "colab": {
          "base_uri": "https://localhost:8080/"
        },
        "id": "zVM6z5tWjZYs",
        "outputId": "322797b1-fbb0-4c49-b7ba-b75313a0fc05"
      },
      "execution_count": 19,
      "outputs": [
        {
          "output_type": "stream",
          "name": "stdout",
          "text": [
            "A person has 2 legs\n",
            "A cat has 4 legs\n",
            "A spider has 8 legs\n"
          ]
        }
      ]
    },
    {
      "cell_type": "code",
      "source": [
        "nums = [0, 1, 2, 3, 4]\n",
        "even_num_to_square = {x: x ** 2 for x in nums}\n",
        "print(even_num_to_square)"
      ],
      "metadata": {
        "colab": {
          "base_uri": "https://localhost:8080/"
        },
        "id": "p9l5XBDvjl9e",
        "outputId": "92e40133-955d-466f-c6d9-5f313bbf6afb"
      },
      "execution_count": 21,
      "outputs": [
        {
          "output_type": "stream",
          "name": "stdout",
          "text": [
            "{0: 0, 1: 1, 2: 4, 3: 9, 4: 16}\n"
          ]
        }
      ]
    },
    {
      "cell_type": "code",
      "source": [
        "nums = [0, 1, 2, 3, 4]\n",
        "even_num_to_square = {x: x ** 2 for x in nums if x % 2 == 0}\n",
        "print(even_num_to_square)"
      ],
      "metadata": {
        "colab": {
          "base_uri": "https://localhost:8080/"
        },
        "id": "L4TvwuUujrqi",
        "outputId": "bd6e0d86-a208-450a-f1eb-3109f4110dca"
      },
      "execution_count": 22,
      "outputs": [
        {
          "output_type": "stream",
          "name": "stdout",
          "text": [
            "{0: 0, 2: 4, 4: 16}\n"
          ]
        }
      ]
    },
    {
      "cell_type": "markdown",
      "source": [
        "#### Sets 集合"
      ],
      "metadata": {
        "id": "ou_7kLOquk-7"
      }
    },
    {
      "cell_type": "code",
      "source": [
        "animals = {'cat', 'dog'} #建立集合，{...}\n",
        "print('cat' in animals)\n",
        "print('fish' in animals)\n",
        "animals.add('fish')      #集合新增元素\n",
        "print('fish' in animals)\n",
        "print(len(animals))\n",
        "animals.add('cat')\n",
        "print(len(animals))"
      ],
      "metadata": {
        "colab": {
          "base_uri": "https://localhost:8080/"
        },
        "id": "QXcTfg9vuiHe",
        "outputId": "ab3790b6-1324-4e32-db39-05428666ed5a"
      },
      "execution_count": 23,
      "outputs": [
        {
          "output_type": "stream",
          "name": "stdout",
          "text": [
            "True\n",
            "False\n",
            "True\n",
            "3\n",
            "3\n"
          ]
        }
      ]
    },
    {
      "cell_type": "code",
      "source": [
        "animals= {'cat', 'dog', 'fish'}\n",
        "for idx, animal in enumerate(animals):\n",
        "    print('#%d: %s' % (idx + 1, animal))"
      ],
      "metadata": {
        "colab": {
          "base_uri": "https://localhost:8080/"
        },
        "id": "cFN5NfXLuzQZ",
        "outputId": "f44d5fac-eb87-44f9-d0cb-f905b41c7e89"
      },
      "execution_count": 24,
      "outputs": [
        {
          "output_type": "stream",
          "name": "stdout",
          "text": [
            "#1: fish\n",
            "#2: cat\n",
            "#3: dog\n"
          ]
        }
      ]
    },
    {
      "cell_type": "code",
      "source": [],
      "metadata": {
        "id": "_rS7Xwx0vWvg"
      },
      "execution_count": null,
      "outputs": []
    }
  ]
}