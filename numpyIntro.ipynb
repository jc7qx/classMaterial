{
  "nbformat": 4,
  "nbformat_minor": 0,
  "metadata": {
    "colab": {
      "provenance": [],
      "authorship_tag": "ABX9TyPH5S8WAqXPiKoMCaUhYQuY",
      "include_colab_link": true
    },
    "kernelspec": {
      "name": "python3",
      "display_name": "Python 3"
    },
    "language_info": {
      "name": "python"
    }
  },
  "cells": [
    {
      "cell_type": "markdown",
      "metadata": {
        "id": "view-in-github",
        "colab_type": "text"
      },
      "source": [
        "<a href=\"https://colab.research.google.com/github/jc7qx/classMaterial/blob/master/numpyIntro.ipynb\" target=\"_parent\"><img src=\"https://colab.research.google.com/assets/colab-badge.svg\" alt=\"Open In Colab\"/></a>"
      ]
    },
    {
      "cell_type": "markdown",
      "source": [
        "## Numpy\n",
        "\n",
        "Numpy是一個python數值計算套件，提供向量、矩陣計算，包括多維矩陣。並能處理大型資料集。主要的特點如下\n",
        "- N 維陣列資料結構核心 ndarray\n",
        "- 陣列儲存於連續記憶體具快速計算效能\n",
        "- 針對不同型態陣列矩陣提供基礎計算能力\n",
        "- 利用python語言特性使計算資料向量化\n",
        "- 提供線性代數各項計算函數"
      ],
      "metadata": {
        "id": "qJKcdQBPIjrx"
      }
    },
    {
      "cell_type": "markdown",
      "source": [
        "#### 建立陣列矩陣"
      ],
      "metadata": {
        "id": "CpRiM4N6QmkR"
      }
    },
    {
      "cell_type": "code",
      "execution_count": 1,
      "metadata": {
        "id": "W0oSplRdIiio"
      },
      "outputs": [],
      "source": [
        "# pip install numpy"
      ]
    },
    {
      "cell_type": "code",
      "source": [
        "import numpy as np\n",
        "x = np.array([1, 2, 3])\n",
        "y = np.array([[1,2], [3,4]])\n",
        "z = np.array([[[1,2],[3,4]],[[5,6],[7,8]]])\n",
        "print(x)\n",
        "print(y)\n",
        "print(z)"
      ],
      "metadata": {
        "colab": {
          "base_uri": "https://localhost:8080/"
        },
        "id": "68lRdB3rMz8e",
        "outputId": "fcf34ecd-6e6d-48db-da9e-464a98bc02a6"
      },
      "execution_count": 3,
      "outputs": [
        {
          "output_type": "stream",
          "name": "stdout",
          "text": [
            "[1 2 3]\n",
            "[[1 2]\n",
            " [3 4]]\n",
            "[[[1 2]\n",
            "  [3 4]]\n",
            "\n",
            " [[5 6]\n",
            "  [7 8]]]\n"
          ]
        }
      ]
    },
    {
      "cell_type": "code",
      "source": [
        "a1_zeros = np.zeros((3,3))\n",
        "a2_ones = np.ones((2,2))\n",
        "a3_range = np.arange(0, 10, 2)\n",
        "print(a1_zeros)\n",
        "print(a2_ones)\n",
        "print(a3_range)"
      ],
      "metadata": {
        "colab": {
          "base_uri": "https://localhost:8080/"
        },
        "id": "zyCxXi5GNZSE",
        "outputId": "29bdcfe6-3e9e-4c91-a5e2-6ec7ac5ce476"
      },
      "execution_count": 4,
      "outputs": [
        {
          "output_type": "stream",
          "name": "stdout",
          "text": [
            "[[0. 0. 0.]\n",
            " [0. 0. 0.]\n",
            " [0. 0. 0.]]\n",
            "[[1. 1.]\n",
            " [1. 1.]]\n",
            "[0 2 4 6 8]\n"
          ]
        }
      ]
    },
    {
      "cell_type": "markdown",
      "source": [
        "#### numpy資料存取"
      ],
      "metadata": {
        "id": "ZM6jOaReSbZB"
      }
    },
    {
      "cell_type": "code",
      "source": [
        "arr1d = np.array([10, 20, 30, 40, 50])\n",
        "arr1d[2]"
      ],
      "metadata": {
        "colab": {
          "base_uri": "https://localhost:8080/"
        },
        "id": "azjHEyiLPs5a",
        "outputId": "c7bcfdba-db50-410d-9e60-0b7e87b2cd86"
      },
      "execution_count": 5,
      "outputs": [
        {
          "output_type": "execute_result",
          "data": {
            "text/plain": [
              "30"
            ]
          },
          "metadata": {},
          "execution_count": 5
        }
      ]
    },
    {
      "cell_type": "code",
      "source": [
        "arr1d[-1]"
      ],
      "metadata": {
        "colab": {
          "base_uri": "https://localhost:8080/"
        },
        "id": "4lE0W6eVSkHR",
        "outputId": "b91b36b8-d40a-4591-bdb6-a47e829d426d"
      },
      "execution_count": 6,
      "outputs": [
        {
          "output_type": "execute_result",
          "data": {
            "text/plain": [
              "50"
            ]
          },
          "metadata": {},
          "execution_count": 6
        }
      ]
    },
    {
      "cell_type": "code",
      "source": [
        "arr2d = np.array([[1, 2, 3], [4, 5, 6], [7, 8, 9]])\n",
        "arr2d"
      ],
      "metadata": {
        "colab": {
          "base_uri": "https://localhost:8080/"
        },
        "id": "9eWLH4fHSn79",
        "outputId": "3bac77ad-f0c7-4353-a339-0f1746a85721"
      },
      "execution_count": 7,
      "outputs": [
        {
          "output_type": "execute_result",
          "data": {
            "text/plain": [
              "array([[1, 2, 3],\n",
              "       [4, 5, 6],\n",
              "       [7, 8, 9]])"
            ]
          },
          "metadata": {},
          "execution_count": 7
        }
      ]
    },
    {
      "cell_type": "code",
      "source": [
        "arr2d[1,1]"
      ],
      "metadata": {
        "colab": {
          "base_uri": "https://localhost:8080/"
        },
        "id": "pW9DfUMvSsuK",
        "outputId": "29b300f7-281c-4c1f-ee1f-f5e48a425f46"
      },
      "execution_count": 9,
      "outputs": [
        {
          "output_type": "execute_result",
          "data": {
            "text/plain": [
              "5"
            ]
          },
          "metadata": {},
          "execution_count": 9
        }
      ]
    },
    {
      "cell_type": "code",
      "source": [
        "arr = np.array([[1, 2, 3], [4, 5, 6]])\n",
        "arr[1:4] #elements from index 1 to 3"
      ],
      "metadata": {
        "colab": {
          "base_uri": "https://localhost:8080/"
        },
        "id": "xqtEwqX-SzcI",
        "outputId": "c273612f-6bd5-4f8c-d9f5-f4d2068b2be8"
      },
      "execution_count": 11,
      "outputs": [
        {
          "output_type": "execute_result",
          "data": {
            "text/plain": [
              "array([[4, 5, 6]])"
            ]
          },
          "metadata": {},
          "execution_count": 11
        }
      ]
    },
    {
      "cell_type": "code",
      "source": [
        "arr[:, 1]"
      ],
      "metadata": {
        "colab": {
          "base_uri": "https://localhost:8080/"
        },
        "id": "LBqPo9zmS_Me",
        "outputId": "33414542-10fa-4b51-8bcf-ee2065847001"
      },
      "execution_count": 12,
      "outputs": [
        {
          "output_type": "execute_result",
          "data": {
            "text/plain": [
              "array([2, 5])"
            ]
          },
          "metadata": {},
          "execution_count": 12
        }
      ]
    },
    {
      "cell_type": "code",
      "source": [
        "arr = np.array([10, 20, 30, 40, 50, 60, 70, 80, 90, 100])"
      ],
      "metadata": {
        "id": "9hGOu7aJTY-C"
      },
      "execution_count": 13,
      "outputs": []
    },
    {
      "cell_type": "code",
      "source": [
        "np.array([1,3,5])"
      ],
      "metadata": {
        "colab": {
          "base_uri": "https://localhost:8080/"
        },
        "id": "DBcrDB6RTt-G",
        "outputId": "c2769488-7d0d-48f1-fb04-2eb3f6e5fc89"
      },
      "execution_count": 14,
      "outputs": [
        {
          "output_type": "execute_result",
          "data": {
            "text/plain": [
              "array([1, 3, 5])"
            ]
          },
          "metadata": {},
          "execution_count": 14
        }
      ]
    },
    {
      "cell_type": "code",
      "source": [
        "arr[np.array([1,3,5])]"
      ],
      "metadata": {
        "colab": {
          "base_uri": "https://localhost:8080/"
        },
        "id": "UqV4fWyaTzwS",
        "outputId": "75c77871-e101-49cc-eb60-a8e8ab27cdff"
      },
      "execution_count": 17,
      "outputs": [
        {
          "output_type": "execute_result",
          "data": {
            "text/plain": [
              "array([20, 40, 60])"
            ]
          },
          "metadata": {},
          "execution_count": 17
        }
      ]
    },
    {
      "cell_type": "code",
      "source": [
        "arr[arr%3==0]"
      ],
      "metadata": {
        "colab": {
          "base_uri": "https://localhost:8080/"
        },
        "id": "ZXzaqOLtUQYT",
        "outputId": "5c9594e9-70ec-4c32-a3f9-297a84ba3b8c"
      },
      "execution_count": 20,
      "outputs": [
        {
          "output_type": "execute_result",
          "data": {
            "text/plain": [
              "array([30, 60, 90])"
            ]
          },
          "metadata": {},
          "execution_count": 20
        }
      ]
    },
    {
      "cell_type": "markdown",
      "source": [
        "#### numpy 基本函數"
      ],
      "metadata": {
        "id": "bb1idduZlLRu"
      }
    },
    {
      "cell_type": "code",
      "source": [
        "a = np.array([0, np.pi/2, np.pi])\n",
        "print (\"Sine values of array elements:\", np.sin(a))"
      ],
      "metadata": {
        "colab": {
          "base_uri": "https://localhost:8080/"
        },
        "id": "vd3ErrAGUWWG",
        "outputId": "4ceb76f8-10e1-4bb1-f626-f193518aa04d"
      },
      "execution_count": 21,
      "outputs": [
        {
          "output_type": "stream",
          "name": "stdout",
          "text": [
            "Sine values of array elements: [0.0000000e+00 1.0000000e+00 1.2246468e-16]\n"
          ]
        }
      ]
    },
    {
      "cell_type": "code",
      "source": [
        "a = np.array([0, 1, 2, 3])\n",
        "print (\"Exponent of array elements:\", np.exp(a))"
      ],
      "metadata": {
        "colab": {
          "base_uri": "https://localhost:8080/"
        },
        "id": "8kx_gahek4r5",
        "outputId": "39a68aa6-d24b-4fed-f873-afc6f0156b69"
      },
      "execution_count": 22,
      "outputs": [
        {
          "output_type": "stream",
          "name": "stdout",
          "text": [
            "Exponent of array elements: [ 1.          2.71828183  7.3890561  20.08553692]\n"
          ]
        }
      ]
    },
    {
      "cell_type": "code",
      "source": [
        "print (\"Square root of array elements:\", np.sqrt(a))"
      ],
      "metadata": {
        "colab": {
          "base_uri": "https://localhost:8080/"
        },
        "id": "o2hnyPUAk7Yh",
        "outputId": "f7a6ed4a-8588-4230-ed0c-6db490a74307"
      },
      "execution_count": 23,
      "outputs": [
        {
          "output_type": "stream",
          "name": "stdout",
          "text": [
            "Square root of array elements: [0.         1.         1.41421356 1.73205081]\n"
          ]
        }
      ]
    },
    {
      "cell_type": "markdown",
      "source": [
        "#### 線性代數運算"
      ],
      "metadata": {
        "id": "TO5DPgT1l6sH"
      }
    },
    {
      "cell_type": "code",
      "source": [
        "#向量相加\n",
        "a = np.array([1,2])\n",
        "b = np.array([3,0])\n",
        "a+b"
      ],
      "metadata": {
        "colab": {
          "base_uri": "https://localhost:8080/"
        },
        "id": "IecYhvwLk9u_",
        "outputId": "651a5039-cce7-41a8-b7f4-5a32a925d574"
      },
      "execution_count": 25,
      "outputs": [
        {
          "output_type": "execute_result",
          "data": {
            "text/plain": [
              "array([4, 2])"
            ]
          },
          "metadata": {},
          "execution_count": 25
        }
      ]
    },
    {
      "cell_type": "code",
      "source": [
        "#建立矩陣\n",
        "A = np.array([[6,1,1],[4,-2,5],[2,8,7]])\n",
        "A"
      ],
      "metadata": {
        "colab": {
          "base_uri": "https://localhost:8080/"
        },
        "id": "lfuByhLgmNA1",
        "outputId": "1e05ec81-3477-4e45-c32a-8b4574a54b9a"
      },
      "execution_count": 28,
      "outputs": [
        {
          "output_type": "execute_result",
          "data": {
            "text/plain": [
              "array([[ 6,  1,  1],\n",
              "       [ 4, -2,  5],\n",
              "       [ 2,  8,  7]])"
            ]
          },
          "metadata": {},
          "execution_count": 28
        }
      ]
    },
    {
      "cell_type": "code",
      "source": [
        "#矩陣rank\n",
        "np.linalg.matrix_rank(A)"
      ],
      "metadata": {
        "colab": {
          "base_uri": "https://localhost:8080/"
        },
        "id": "GLJCTqzwmeDx",
        "outputId": "a1f2c9f6-dce7-40cf-90ed-8bd00d829dc7"
      },
      "execution_count": 29,
      "outputs": [
        {
          "output_type": "execute_result",
          "data": {
            "text/plain": [
              "3"
            ]
          },
          "metadata": {},
          "execution_count": 29
        }
      ]
    },
    {
      "cell_type": "code",
      "source": [
        "#trace\n",
        "np.trace(A)"
      ],
      "metadata": {
        "colab": {
          "base_uri": "https://localhost:8080/"
        },
        "id": "7QXN7Q1ImpJM",
        "outputId": "a9c18d09-2d6f-49eb-a882-3a4d37ff79ba"
      },
      "execution_count": 30,
      "outputs": [
        {
          "output_type": "execute_result",
          "data": {
            "text/plain": [
              "11"
            ]
          },
          "metadata": {},
          "execution_count": 30
        }
      ]
    },
    {
      "cell_type": "code",
      "source": [
        "#矩陣determinant\n",
        "np.linalg.det(A)"
      ],
      "metadata": {
        "colab": {
          "base_uri": "https://localhost:8080/"
        },
        "id": "h32y5gPVmsig",
        "outputId": "7d850581-e6f8-43e9-a574-73ab3fefd383"
      },
      "execution_count": 31,
      "outputs": [
        {
          "output_type": "execute_result",
          "data": {
            "text/plain": [
              "-306.0"
            ]
          },
          "metadata": {},
          "execution_count": 31
        }
      ]
    },
    {
      "cell_type": "code",
      "source": [
        "#反矩陣\n",
        "np.linalg.inv(A)"
      ],
      "metadata": {
        "colab": {
          "base_uri": "https://localhost:8080/"
        },
        "id": "J4o-WRTEmyX2",
        "outputId": "53d74a5b-38a7-46c4-e55b-6d1fe8f92aec"
      },
      "execution_count": 32,
      "outputs": [
        {
          "output_type": "execute_result",
          "data": {
            "text/plain": [
              "array([[ 0.17647059, -0.00326797, -0.02287582],\n",
              "       [ 0.05882353, -0.13071895,  0.08496732],\n",
              "       [-0.11764706,  0.1503268 ,  0.05228758]])"
            ]
          },
          "metadata": {},
          "execution_count": 32
        }
      ]
    },
    {
      "cell_type": "code",
      "source": [
        "# eigh values and vectors\n",
        "B = np.array([[1, 2j],[2j, 5]])\n",
        "a, v = np.linalg.eigh(B)\n",
        "print(a,\"\\n\", v)"
      ],
      "metadata": {
        "colab": {
          "base_uri": "https://localhost:8080/"
        },
        "id": "oWV9Ajrzm3u-",
        "outputId": "fe5555a1-605e-4f6e-985b-f89e1b019a2d"
      },
      "execution_count": 35,
      "outputs": [
        {
          "output_type": "stream",
          "name": "stdout",
          "text": [
            "[0.17157288 5.82842712] \n",
            " [[-0.92387953+0.j         -0.38268343+0.j        ]\n",
            " [ 0.        +0.38268343j  0.        -0.92387953j]]\n"
          ]
        }
      ]
    },
    {
      "cell_type": "code",
      "source": [
        "#對角矩陣\n",
        "a = np.diag((1,2,3))"
      ],
      "metadata": {
        "id": "3RWMzmQ8nPOS"
      },
      "execution_count": 36,
      "outputs": []
    },
    {
      "cell_type": "code",
      "source": [
        "a"
      ],
      "metadata": {
        "colab": {
          "base_uri": "https://localhost:8080/"
        },
        "id": "J-52PRe1nrpp",
        "outputId": "1ecdd576-fd12-478f-987b-c157424547b2"
      },
      "execution_count": 37,
      "outputs": [
        {
          "output_type": "execute_result",
          "data": {
            "text/plain": [
              "array([[1, 0, 0],\n",
              "       [0, 2, 0],\n",
              "       [0, 0, 3]])"
            ]
          },
          "metadata": {},
          "execution_count": 37
        }
      ]
    },
    {
      "cell_type": "code",
      "source": [
        "a, v = np.linalg.eig(a)"
      ],
      "metadata": {
        "id": "LtmgphX-nsW-"
      },
      "execution_count": 38,
      "outputs": []
    },
    {
      "cell_type": "code",
      "source": [
        "print(a, \"\\n\", v)"
      ],
      "metadata": {
        "colab": {
          "base_uri": "https://localhost:8080/"
        },
        "id": "GL1OycEZn0Lo",
        "outputId": "a2a83528-c747-4957-a77a-9eada8dd8156"
      },
      "execution_count": 39,
      "outputs": [
        {
          "output_type": "stream",
          "name": "stdout",
          "text": [
            "[1. 2. 3.] \n",
            " [[1. 0. 0.]\n",
            " [0. 1. 0.]\n",
            " [0. 0. 1.]]\n"
          ]
        }
      ]
    },
    {
      "cell_type": "markdown",
      "source": [
        "#### 統計函數"
      ],
      "metadata": {
        "id": "U5p3qxw29twp"
      }
    },
    {
      "cell_type": "code",
      "source": [
        "data = [5, 6, 7, 8, 9, 10, 11, 20, 30]\n",
        "mean_estimate = np.mean(data)\n",
        "median_estimate = np.median(data)\n",
        "population_variance = np.var(data, ddof=0)\n",
        "sample_variance = np.var(data, ddof=1)\n",
        "population_std_dev = np.std(data, ddof=0)\n",
        "sample_std_dev = np.std(data, ddof=1)"
      ],
      "metadata": {
        "id": "weQpJbhsn5UW"
      },
      "execution_count": 5,
      "outputs": []
    },
    {
      "cell_type": "code",
      "source": [
        "print(sample_std_dev)"
      ],
      "metadata": {
        "colab": {
          "base_uri": "https://localhost:8080/"
        },
        "id": "whw8aaoj9sjC",
        "outputId": "b38bd7b3-2c9d-4a5d-afe3-0bc5399685ef"
      },
      "execution_count": 8,
      "outputs": [
        {
          "output_type": "stream",
          "name": "stdout",
          "text": [
            "8.120618476719889\n"
          ]
        }
      ]
    },
    {
      "cell_type": "code",
      "source": [
        "cv = sample_std_dev/mean_estimate\n",
        "signal_noise_ratio = 1/cv"
      ],
      "metadata": {
        "id": "CsULYPlQ-z5i"
      },
      "execution_count": 9,
      "outputs": []
    },
    {
      "cell_type": "code",
      "source": [
        "print(signal_noise_ratio)"
      ],
      "metadata": {
        "colab": {
          "base_uri": "https://localhost:8080/"
        },
        "id": "0SBScs9v_emq",
        "outputId": "3125e87c-e1a7-4690-8cde-a93cf796a6f6"
      },
      "execution_count": 10,
      "outputs": [
        {
          "output_type": "stream",
          "name": "stdout",
          "text": [
            "1.4503547742751612\n"
          ]
        }
      ]
    },
    {
      "cell_type": "code",
      "source": [
        "p75_w_percentile = np.percentile(list(np.arange(7, 35, 1)), q=75, interpolation='linear')\n",
        "p75_w_quantile = np.quantile(list(np.arange(7, 35, 1)), q=0.75, interpolation='linear')"
      ],
      "metadata": {
        "id": "dcO_wEhU_glj"
      },
      "execution_count": 12,
      "outputs": []
    },
    {
      "cell_type": "code",
      "source": [
        "even_sample=list(np.arange(7, 35, 1))"
      ],
      "metadata": {
        "id": "Rd6pRipjAAy0"
      },
      "execution_count": 14,
      "outputs": []
    },
    {
      "cell_type": "code",
      "source": [
        "p25 = np.percentile(data_sample_even, q=25, interpolation='linear')\n",
        "p75 = np.percentile(data_sample_even, q=75, interpolation='linear')\n",
        "iqr = p75 - p25"
      ],
      "metadata": {
        "id": "s9v2H8M8AOLk"
      },
      "execution_count": null,
      "outputs": []
    },
    {
      "cell_type": "code",
      "source": [
        "min_value = np.min(data)\n",
        "max_value = np.max(data)"
      ],
      "metadata": {
        "id": "IFX9X0AuBYYt"
      },
      "execution_count": null,
      "outputs": []
    }
  ]
}